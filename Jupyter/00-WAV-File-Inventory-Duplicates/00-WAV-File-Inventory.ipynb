{
 "cells": [
  {
   "cell_type": "markdown",
   "metadata": {},
   "source": [
    "# Inventory of Kaggle TensorFlow Speech Recognition Files\n",
    "\n",
    "Files from [Kaggle Site](https://www.kaggle.com/c/tensorflow-speech-recognition-challenge)\n",
    "\n",
    "Verify properties of all files are as expected.\n",
    "\n",
    "Find duplicate files in the train and test sets.\n",
    "\n",
    "Earl F Glynn\n",
    "\n",
    "* 2017-12-04.  Initial version\n",
    "\n",
    "* 2017-07-07.  Updated to include wave amplitude quantiles, mean, sd, range; test inventory file.\n",
    "\n",
    "\n",
    "## Setup"
   ]
  },
  {
   "cell_type": "code",
   "execution_count": 1,
   "metadata": {},
   "outputs": [
    {
     "name": "stderr",
     "output_type": "stream",
     "text": [
      "\n",
      "Attaching package: 'dplyr'\n",
      "\n",
      "The following objects are masked from 'package:stats':\n",
      "\n",
      "    filter, lag\n",
      "\n",
      "The following objects are masked from 'package:base':\n",
      "\n",
      "    intersect, setdiff, setequal, union\n",
      "\n",
      "Warning message:\n",
      "\"package 'tibble' was built under R version 3.4.1\"Warning message:\n",
      "\"package 'stringr' was built under R version 3.4.1\"Warning message:\n",
      "\"package 'tuneR' was built under R version 3.4.2\"Warning message:\n",
      "\"package 'doParallel' was built under R version 3.4.2\"Warning message:\n",
      "\"package 'foreach' was built under R version 3.4.1\"Warning message:\n",
      "\"package 'iterators' was built under R version 3.4.1\""
     ]
    }
   ],
   "source": [
    "options(width=130)\n",
    "\n",
    "suppressWarnings( library(dplyr) )\n",
    "library(tibble)     # rownames_to_column\n",
    "library(stringr)    # word\n",
    "library(tools)      # md5sum\n",
    "library(tuneR)      # readWave\n",
    "suppressMessages( library(doParallel) )  # foreach \n",
    "\n",
    "dataDir <- \"../../input/\"   "
   ]
  },
  {
   "cell_type": "markdown",
   "metadata": {},
   "source": [
    "# Train Files\n",
    "\n",
    "## Get names of all train files\n",
    "\n",
    "Ignore _background\\_noise_ directory here.  Only ask for .wav files"
   ]
  },
  {
   "cell_type": "code",
   "execution_count": 2,
   "metadata": {},
   "outputs": [
    {
     "data": {
      "text/html": [
       "64721"
      ],
      "text/latex": [
       "64721"
      ],
      "text/markdown": [
       "64721"
      ],
      "text/plain": [
       "[1] 64721"
      ]
     },
     "metadata": {},
     "output_type": "display_data"
    },
    {
     "data": {
      "text/html": [
       "<ol class=list-inline>\n",
       "\t<li>'../../input/train/audio/bed/00176480_nohash_0.wav'</li>\n",
       "\t<li>'../../input/train/audio/bed/004ae714_nohash_0.wav'</li>\n",
       "\t<li>'../../input/train/audio/bed/004ae714_nohash_1.wav'</li>\n",
       "\t<li>'../../input/train/audio/bed/00f0204f_nohash_0.wav'</li>\n",
       "\t<li>'../../input/train/audio/bed/00f0204f_nohash_1.wav'</li>\n",
       "\t<li>'../../input/train/audio/bed/012c8314_nohash_0.wav'</li>\n",
       "</ol>\n"
      ],
      "text/latex": [
       "\\begin{enumerate*}\n",
       "\\item '../../input/train/audio/bed/00176480\\_nohash\\_0.wav'\n",
       "\\item '../../input/train/audio/bed/004ae714\\_nohash\\_0.wav'\n",
       "\\item '../../input/train/audio/bed/004ae714\\_nohash\\_1.wav'\n",
       "\\item '../../input/train/audio/bed/00f0204f\\_nohash\\_0.wav'\n",
       "\\item '../../input/train/audio/bed/00f0204f\\_nohash\\_1.wav'\n",
       "\\item '../../input/train/audio/bed/012c8314\\_nohash\\_0.wav'\n",
       "\\end{enumerate*}\n"
      ],
      "text/markdown": [
       "1. '../../input/train/audio/bed/00176480_nohash_0.wav'\n",
       "2. '../../input/train/audio/bed/004ae714_nohash_0.wav'\n",
       "3. '../../input/train/audio/bed/004ae714_nohash_1.wav'\n",
       "4. '../../input/train/audio/bed/00f0204f_nohash_0.wav'\n",
       "5. '../../input/train/audio/bed/00f0204f_nohash_1.wav'\n",
       "6. '../../input/train/audio/bed/012c8314_nohash_0.wav'\n",
       "\n",
       "\n"
      ],
      "text/plain": [
       "[1] \"../../input/train/audio/bed/00176480_nohash_0.wav\" \"../../input/train/audio/bed/004ae714_nohash_0.wav\"\n",
       "[3] \"../../input/train/audio/bed/004ae714_nohash_1.wav\" \"../../input/train/audio/bed/00f0204f_nohash_0.wav\"\n",
       "[5] \"../../input/train/audio/bed/00f0204f_nohash_1.wav\" \"../../input/train/audio/bed/012c8314_nohash_0.wav\""
      ]
     },
     "metadata": {},
     "output_type": "display_data"
    }
   ],
   "source": [
    "trainFilenames <- list.files(path=paste0(dataDir, \"train\"), \n",
    "                             pattern=\"^.*\\\\.wav$\",\n",
    "                             recursive=TRUE, full.names=TRUE)\n",
    "\n",
    "length(trainFilenames)\n",
    "head(trainFilenames )"
   ]
  },
  {
   "cell_type": "markdown",
   "metadata": {},
   "source": [
    "## Create md5sum and collect sound properties for each file\n",
    "\n",
    "Use parallel processing to speed up md5sum computations. Let's use all but 2 cores for md5sums.\n",
    "\n",
    "trainSoundInfo will be written to a file for easy selection of wav files later based on various properties."
   ]
  },
  {
   "cell_type": "code",
   "execution_count": 3,
   "metadata": {
    "collapsed": true
   },
   "outputs": [],
   "source": [
    "cluster <- makePSOCKcluster(detectCores() - 2)\n",
    "registerDoParallel(cluster)   \n",
    "\n",
    "trainSoundInfo <- foreach(i = 1:length(trainFilenames), .combine=rbind) %dopar%\n",
    "{    \n",
    "    soundWave <- tuneR::readWave(trainFilenames[i])\n",
    "    \n",
    "    q <- quantile(soundWave@left, c(0.0, 0.10, 0.25, 0.50, 0.75, 0.90, 1.0))\n",
    "    \n",
    "    data.frame(\n",
    "           filename          = trainFilenames[i],          \n",
    "           samples           = length(soundWave@left),\n",
    "           durationSeconds   = length(soundWave@left) / soundWave@samp.rate,\n",
    "           samplingRateHertz = soundWave@samp.rate,\n",
    "           channels          = ifelse(soundWave@stereo, \"Stero\", \"Mono\"),\n",
    "           pcmIntFormat      = soundWave@pcm,\n",
    "           bitsPerSample     = soundWave@bit,\n",
    "        \n",
    "           # Waveform stats\n",
    "           min               = q[1],   # Quantiles\n",
    "           Q10               = q[2],\n",
    "           Q25               = q[3],\n",
    "           median            = q[4],\n",
    "           Q75               = q[5],\n",
    "           Q90               = q[6],        \n",
    "           max               = q[7],\n",
    "        \n",
    "           range             = q[7] - q[1],\n",
    "        \n",
    "           mean              = mean(soundWave@left),\n",
    "           sd                = sd(soundWave@left),\n",
    "        \n",
    "           md5sum            = tools::md5sum(trainFilenames[i]),\n",
    "        \n",
    "           row.names         = NULL,\n",
    "           stringsAsFactors  = FALSE)\n",
    "}\n",
    "\n",
    "stopCluster(cluster)"
   ]
  },
  {
   "cell_type": "code",
   "execution_count": 4,
   "metadata": {},
   "outputs": [
    {
     "data": {
      "text/html": [
       "<ol class=list-inline>\n",
       "\t<li>64721</li>\n",
       "\t<li>18</li>\n",
       "</ol>\n"
      ],
      "text/latex": [
       "\\begin{enumerate*}\n",
       "\\item 64721\n",
       "\\item 18\n",
       "\\end{enumerate*}\n"
      ],
      "text/markdown": [
       "1. 64721\n",
       "2. 18\n",
       "\n",
       "\n"
      ],
      "text/plain": [
       "[1] 64721    18"
      ]
     },
     "metadata": {},
     "output_type": "display_data"
    }
   ],
   "source": [
    "dim(trainSoundInfo)"
   ]
  },
  {
   "cell_type": "code",
   "execution_count": 5,
   "metadata": {},
   "outputs": [
    {
     "data": {
      "text/html": [
       "<table>\n",
       "<thead><tr><th scope=col>filename</th><th scope=col>samples</th><th scope=col>durationSeconds</th><th scope=col>samplingRateHertz</th><th scope=col>channels</th><th scope=col>pcmIntFormat</th><th scope=col>bitsPerSample</th><th scope=col>min</th><th scope=col>Q10</th><th scope=col>Q25</th><th scope=col>median</th><th scope=col>Q75</th><th scope=col>Q90</th><th scope=col>max</th><th scope=col>range</th><th scope=col>mean</th><th scope=col>sd</th><th scope=col>md5sum</th></tr></thead>\n",
       "<tbody>\n",
       "\t<tr><td>../../input/train/audio/bed/00176480_nohash_0.wav</td><td>16000                                            </td><td>1.0000000                                        </td><td>16000                                            </td><td>Mono                                             </td><td>TRUE                                             </td><td>16                                               </td><td>-16039                                           </td><td>-1767.4                                          </td><td> -18                                             </td><td>   0                                             </td><td> 11                                              </td><td>337.0                                            </td><td>24735                                            </td><td>40774                                            </td><td> -1.0628750                                      </td><td>3043.4817                                        </td><td>3336677cade31ae52d0f9e6288ad679d                 </td></tr>\n",
       "\t<tr><td>../../input/train/audio/bed/004ae714_nohash_0.wav</td><td>16000                                            </td><td>1.0000000                                        </td><td>16000                                            </td><td>Mono                                             </td><td>TRUE                                             </td><td>16                                               </td><td>-11421                                           </td><td> -558.0                                          </td><td>-149                                             </td><td>-100                                             </td><td>-50                                              </td><td>285.1                                            </td><td>12740                                            </td><td>24161                                            </td><td>-95.1914375                                      </td><td>1220.9112                                        </td><td>6ea166114fb6b1466c06e6cf0d88aa8d                 </td></tr>\n",
       "\t<tr><td>../../input/train/audio/bed/004ae714_nohash_1.wav</td><td>14861                                            </td><td>0.9288125                                        </td><td>16000                                            </td><td>Mono                                             </td><td>TRUE                                             </td><td>16                                               </td><td> -5797                                           </td><td> -368.0                                          </td><td>-143                                             </td><td> -99                                             </td><td>-53                                              </td><td>136.0                                            </td><td> 7021                                            </td><td>12818                                            </td><td>-95.1184981                                      </td><td> 601.7973                                        </td><td>1f68560e13cc793a24b7534c13c1f7e9                 </td></tr>\n",
       "\t<tr><td>../../input/train/audio/bed/00f0204f_nohash_0.wav</td><td>16000                                            </td><td>1.0000000                                        </td><td>16000                                            </td><td>Mono                                             </td><td>TRUE                                             </td><td>16                                               </td><td> -2474                                           </td><td> -322.1                                          </td><td> -43                                             </td><td>  -1                                             </td><td> 34                                              </td><td>218.1                                            </td><td> 2327                                            </td><td> 4801                                            </td><td>  0.0856875                                      </td><td> 373.0592                                        </td><td>fac98e7ea4e2f6f71814410d05d717cd                 </td></tr>\n",
       "\t<tr><td>../../input/train/audio/bed/00f0204f_nohash_1.wav</td><td>16000                                            </td><td>1.0000000                                        </td><td>16000                                            </td><td>Mono                                             </td><td>TRUE                                             </td><td>16                                               </td><td> -2527                                           </td><td> -243.0                                          </td><td> -38                                             </td><td>   0                                             </td><td> 33                                              </td><td>166.1                                            </td><td> 2537                                            </td><td> 5064                                            </td><td>  0.0897500                                      </td><td> 396.6656                                        </td><td>9460317598ff20131007088e4d2d1a8f                 </td></tr>\n",
       "\t<tr><td>../../input/train/audio/bed/012c8314_nohash_0.wav</td><td>16000                                            </td><td>1.0000000                                        </td><td>16000                                            </td><td>Mono                                             </td><td>TRUE                                             </td><td>16                                               </td><td> -3268                                           </td><td>   45.0                                          </td><td> 170                                             </td><td> 249                                             </td><td>336                                              </td><td>439.0                                            </td><td> 2887                                            </td><td> 6155                                            </td><td>242.9836250                                      </td><td> 375.1439                                        </td><td>8e9b5701dafd8d2d79f6b8062b7a11d0                 </td></tr>\n",
       "</tbody>\n",
       "</table>\n"
      ],
      "text/latex": [
       "\\begin{tabular}{r|llllllllllllllllll}\n",
       " filename & samples & durationSeconds & samplingRateHertz & channels & pcmIntFormat & bitsPerSample & min & Q10 & Q25 & median & Q75 & Q90 & max & range & mean & sd & md5sum\\\\\n",
       "\\hline\n",
       "\t ../../input/train/audio/bed/00176480\\_nohash\\_0.wav & 16000                                                 & 1.0000000                                             & 16000                                                 & Mono                                                  & TRUE                                                  & 16                                                    & -16039                                                & -1767.4                                               &  -18                                                  &    0                                                  &  11                                                   & 337.0                                                 & 24735                                                 & 40774                                                 &  -1.0628750                                           & 3043.4817                                             & 3336677cade31ae52d0f9e6288ad679d                     \\\\\n",
       "\t ../../input/train/audio/bed/004ae714\\_nohash\\_0.wav & 16000                                                 & 1.0000000                                             & 16000                                                 & Mono                                                  & TRUE                                                  & 16                                                    & -11421                                                &  -558.0                                               & -149                                                  & -100                                                  & -50                                                   & 285.1                                                 & 12740                                                 & 24161                                                 & -95.1914375                                           & 1220.9112                                             & 6ea166114fb6b1466c06e6cf0d88aa8d                     \\\\\n",
       "\t ../../input/train/audio/bed/004ae714\\_nohash\\_1.wav & 14861                                                 & 0.9288125                                             & 16000                                                 & Mono                                                  & TRUE                                                  & 16                                                    &  -5797                                                &  -368.0                                               & -143                                                  &  -99                                                  & -53                                                   & 136.0                                                 &  7021                                                 & 12818                                                 & -95.1184981                                           &  601.7973                                             & 1f68560e13cc793a24b7534c13c1f7e9                     \\\\\n",
       "\t ../../input/train/audio/bed/00f0204f\\_nohash\\_0.wav & 16000                                                 & 1.0000000                                             & 16000                                                 & Mono                                                  & TRUE                                                  & 16                                                    &  -2474                                                &  -322.1                                               &  -43                                                  &   -1                                                  &  34                                                   & 218.1                                                 &  2327                                                 &  4801                                                 &   0.0856875                                           &  373.0592                                             & fac98e7ea4e2f6f71814410d05d717cd                     \\\\\n",
       "\t ../../input/train/audio/bed/00f0204f\\_nohash\\_1.wav & 16000                                                 & 1.0000000                                             & 16000                                                 & Mono                                                  & TRUE                                                  & 16                                                    &  -2527                                                &  -243.0                                               &  -38                                                  &    0                                                  &  33                                                   & 166.1                                                 &  2537                                                 &  5064                                                 &   0.0897500                                           &  396.6656                                             & 9460317598ff20131007088e4d2d1a8f                     \\\\\n",
       "\t ../../input/train/audio/bed/012c8314\\_nohash\\_0.wav & 16000                                                 & 1.0000000                                             & 16000                                                 & Mono                                                  & TRUE                                                  & 16                                                    &  -3268                                                &    45.0                                               &  170                                                  &  249                                                  & 336                                                   & 439.0                                                 &  2887                                                 &  6155                                                 & 242.9836250                                           &  375.1439                                             & 8e9b5701dafd8d2d79f6b8062b7a11d0                     \\\\\n",
       "\\end{tabular}\n"
      ],
      "text/markdown": [
       "\n",
       "filename | samples | durationSeconds | samplingRateHertz | channels | pcmIntFormat | bitsPerSample | min | Q10 | Q25 | median | Q75 | Q90 | max | range | mean | sd | md5sum | \n",
       "|---|---|---|---|---|---|\n",
       "| ../../input/train/audio/bed/00176480_nohash_0.wav | 16000                                             | 1.0000000                                         | 16000                                             | Mono                                              | TRUE                                              | 16                                                | -16039                                            | -1767.4                                           |  -18                                              |    0                                              |  11                                               | 337.0                                             | 24735                                             | 40774                                             |  -1.0628750                                       | 3043.4817                                         | 3336677cade31ae52d0f9e6288ad679d                  | \n",
       "| ../../input/train/audio/bed/004ae714_nohash_0.wav | 16000                                             | 1.0000000                                         | 16000                                             | Mono                                              | TRUE                                              | 16                                                | -11421                                            |  -558.0                                           | -149                                              | -100                                              | -50                                               | 285.1                                             | 12740                                             | 24161                                             | -95.1914375                                       | 1220.9112                                         | 6ea166114fb6b1466c06e6cf0d88aa8d                  | \n",
       "| ../../input/train/audio/bed/004ae714_nohash_1.wav | 14861                                             | 0.9288125                                         | 16000                                             | Mono                                              | TRUE                                              | 16                                                |  -5797                                            |  -368.0                                           | -143                                              |  -99                                              | -53                                               | 136.0                                             |  7021                                             | 12818                                             | -95.1184981                                       |  601.7973                                         | 1f68560e13cc793a24b7534c13c1f7e9                  | \n",
       "| ../../input/train/audio/bed/00f0204f_nohash_0.wav | 16000                                             | 1.0000000                                         | 16000                                             | Mono                                              | TRUE                                              | 16                                                |  -2474                                            |  -322.1                                           |  -43                                              |   -1                                              |  34                                               | 218.1                                             |  2327                                             |  4801                                             |   0.0856875                                       |  373.0592                                         | fac98e7ea4e2f6f71814410d05d717cd                  | \n",
       "| ../../input/train/audio/bed/00f0204f_nohash_1.wav | 16000                                             | 1.0000000                                         | 16000                                             | Mono                                              | TRUE                                              | 16                                                |  -2527                                            |  -243.0                                           |  -38                                              |    0                                              |  33                                               | 166.1                                             |  2537                                             |  5064                                             |   0.0897500                                       |  396.6656                                         | 9460317598ff20131007088e4d2d1a8f                  | \n",
       "| ../../input/train/audio/bed/012c8314_nohash_0.wav | 16000                                             | 1.0000000                                         | 16000                                             | Mono                                              | TRUE                                              | 16                                                |  -3268                                            |    45.0                                           |  170                                              |  249                                              | 336                                               | 439.0                                             |  2887                                             |  6155                                             | 242.9836250                                       |  375.1439                                         | 8e9b5701dafd8d2d79f6b8062b7a11d0                  | \n",
       "\n",
       "\n"
      ],
      "text/plain": [
       "  filename                                          samples durationSeconds samplingRateHertz channels pcmIntFormat bitsPerSample\n",
       "1 ../../input/train/audio/bed/00176480_nohash_0.wav 16000   1.0000000       16000             Mono     TRUE         16           \n",
       "2 ../../input/train/audio/bed/004ae714_nohash_0.wav 16000   1.0000000       16000             Mono     TRUE         16           \n",
       "3 ../../input/train/audio/bed/004ae714_nohash_1.wav 14861   0.9288125       16000             Mono     TRUE         16           \n",
       "4 ../../input/train/audio/bed/00f0204f_nohash_0.wav 16000   1.0000000       16000             Mono     TRUE         16           \n",
       "5 ../../input/train/audio/bed/00f0204f_nohash_1.wav 16000   1.0000000       16000             Mono     TRUE         16           \n",
       "6 ../../input/train/audio/bed/012c8314_nohash_0.wav 16000   1.0000000       16000             Mono     TRUE         16           \n",
       "  min    Q10     Q25  median Q75 Q90   max   range mean        sd        md5sum                          \n",
       "1 -16039 -1767.4  -18    0    11 337.0 24735 40774  -1.0628750 3043.4817 3336677cade31ae52d0f9e6288ad679d\n",
       "2 -11421  -558.0 -149 -100   -50 285.1 12740 24161 -95.1914375 1220.9112 6ea166114fb6b1466c06e6cf0d88aa8d\n",
       "3  -5797  -368.0 -143  -99   -53 136.0  7021 12818 -95.1184981  601.7973 1f68560e13cc793a24b7534c13c1f7e9\n",
       "4  -2474  -322.1  -43   -1    34 218.1  2327  4801   0.0856875  373.0592 fac98e7ea4e2f6f71814410d05d717cd\n",
       "5  -2527  -243.0  -38    0    33 166.1  2537  5064   0.0897500  396.6656 9460317598ff20131007088e4d2d1a8f\n",
       "6  -3268    45.0  170  249   336 439.0  2887  6155 242.9836250  375.1439 8e9b5701dafd8d2d79f6b8062b7a11d0"
      ]
     },
     "metadata": {},
     "output_type": "display_data"
    }
   ],
   "source": [
    "head(trainSoundInfo)"
   ]
  },
  {
   "cell_type": "markdown",
   "metadata": {},
   "source": [
    "## Verify sound properties common for all train files"
   ]
  },
  {
   "cell_type": "code",
   "execution_count": 6,
   "metadata": {},
   "outputs": [
    {
     "data": {
      "text/plain": [
       "\n",
       "16000 \n",
       "64721 "
      ]
     },
     "metadata": {},
     "output_type": "display_data"
    }
   ],
   "source": [
    "table(trainSoundInfo$samplingRateHertz)"
   ]
  },
  {
   "cell_type": "code",
   "execution_count": 7,
   "metadata": {},
   "outputs": [
    {
     "data": {
      "text/plain": [
       "\n",
       " Mono \n",
       "64721 "
      ]
     },
     "metadata": {},
     "output_type": "display_data"
    }
   ],
   "source": [
    "table(trainSoundInfo$channels)"
   ]
  },
  {
   "cell_type": "code",
   "execution_count": 8,
   "metadata": {},
   "outputs": [
    {
     "data": {
      "text/plain": [
       "\n",
       " TRUE \n",
       "64721 "
      ]
     },
     "metadata": {},
     "output_type": "display_data"
    }
   ],
   "source": [
    "table(trainSoundInfo$pcmIntFormat)"
   ]
  },
  {
   "cell_type": "code",
   "execution_count": 9,
   "metadata": {},
   "outputs": [
    {
     "data": {
      "text/plain": [
       "\n",
       "   16 \n",
       "64721 "
      ]
     },
     "metadata": {},
     "output_type": "display_data"
    }
   ],
   "source": [
    "table(trainSoundInfo$bitsPerSample)"
   ]
  },
  {
   "cell_type": "markdown",
   "metadata": {},
   "source": [
    "Since the above sound properties were verified to be constants, let's not bother with them.\n"
   ]
  },
  {
   "cell_type": "code",
   "execution_count": 10,
   "metadata": {},
   "outputs": [
    {
     "data": {
      "text/html": [
       "<table>\n",
       "<thead><tr><th scope=col>filename</th><th scope=col>samples</th><th scope=col>min</th><th scope=col>Q10</th><th scope=col>Q25</th><th scope=col>median</th><th scope=col>Q75</th><th scope=col>Q90</th><th scope=col>max</th><th scope=col>range</th><th scope=col>mean</th><th scope=col>sd</th><th scope=col>md5sum</th></tr></thead>\n",
       "<tbody>\n",
       "\t<tr><td>../../input/train/audio/bed/00176480_nohash_0.wav</td><td>16000                                            </td><td>-16039                                           </td><td>-1767.4                                          </td><td> -18                                             </td><td>   0                                             </td><td> 11                                              </td><td>337.0                                            </td><td>24735                                            </td><td>40774                                            </td><td> -1.0628750                                      </td><td>3043.4817                                        </td><td>3336677cade31ae52d0f9e6288ad679d                 </td></tr>\n",
       "\t<tr><td>../../input/train/audio/bed/004ae714_nohash_0.wav</td><td>16000                                            </td><td>-11421                                           </td><td> -558.0                                          </td><td>-149                                             </td><td>-100                                             </td><td>-50                                              </td><td>285.1                                            </td><td>12740                                            </td><td>24161                                            </td><td>-95.1914375                                      </td><td>1220.9112                                        </td><td>6ea166114fb6b1466c06e6cf0d88aa8d                 </td></tr>\n",
       "\t<tr><td>../../input/train/audio/bed/004ae714_nohash_1.wav</td><td>14861                                            </td><td> -5797                                           </td><td> -368.0                                          </td><td>-143                                             </td><td> -99                                             </td><td>-53                                              </td><td>136.0                                            </td><td> 7021                                            </td><td>12818                                            </td><td>-95.1184981                                      </td><td> 601.7973                                        </td><td>1f68560e13cc793a24b7534c13c1f7e9                 </td></tr>\n",
       "\t<tr><td>../../input/train/audio/bed/00f0204f_nohash_0.wav</td><td>16000                                            </td><td> -2474                                           </td><td> -322.1                                          </td><td> -43                                             </td><td>  -1                                             </td><td> 34                                              </td><td>218.1                                            </td><td> 2327                                            </td><td> 4801                                            </td><td>  0.0856875                                      </td><td> 373.0592                                        </td><td>fac98e7ea4e2f6f71814410d05d717cd                 </td></tr>\n",
       "\t<tr><td>../../input/train/audio/bed/00f0204f_nohash_1.wav</td><td>16000                                            </td><td> -2527                                           </td><td> -243.0                                          </td><td> -38                                             </td><td>   0                                             </td><td> 33                                              </td><td>166.1                                            </td><td> 2537                                            </td><td> 5064                                            </td><td>  0.0897500                                      </td><td> 396.6656                                        </td><td>9460317598ff20131007088e4d2d1a8f                 </td></tr>\n",
       "\t<tr><td>../../input/train/audio/bed/012c8314_nohash_0.wav</td><td>16000                                            </td><td> -3268                                           </td><td>   45.0                                          </td><td> 170                                             </td><td> 249                                             </td><td>336                                              </td><td>439.0                                            </td><td> 2887                                            </td><td> 6155                                            </td><td>242.9836250                                      </td><td> 375.1439                                        </td><td>8e9b5701dafd8d2d79f6b8062b7a11d0                 </td></tr>\n",
       "</tbody>\n",
       "</table>\n"
      ],
      "text/latex": [
       "\\begin{tabular}{r|lllllllllllll}\n",
       " filename & samples & min & Q10 & Q25 & median & Q75 & Q90 & max & range & mean & sd & md5sum\\\\\n",
       "\\hline\n",
       "\t ../../input/train/audio/bed/00176480\\_nohash\\_0.wav & 16000                                                 & -16039                                                & -1767.4                                               &  -18                                                  &    0                                                  &  11                                                   & 337.0                                                 & 24735                                                 & 40774                                                 &  -1.0628750                                           & 3043.4817                                             & 3336677cade31ae52d0f9e6288ad679d                     \\\\\n",
       "\t ../../input/train/audio/bed/004ae714\\_nohash\\_0.wav & 16000                                                 & -11421                                                &  -558.0                                               & -149                                                  & -100                                                  & -50                                                   & 285.1                                                 & 12740                                                 & 24161                                                 & -95.1914375                                           & 1220.9112                                             & 6ea166114fb6b1466c06e6cf0d88aa8d                     \\\\\n",
       "\t ../../input/train/audio/bed/004ae714\\_nohash\\_1.wav & 14861                                                 &  -5797                                                &  -368.0                                               & -143                                                  &  -99                                                  & -53                                                   & 136.0                                                 &  7021                                                 & 12818                                                 & -95.1184981                                           &  601.7973                                             & 1f68560e13cc793a24b7534c13c1f7e9                     \\\\\n",
       "\t ../../input/train/audio/bed/00f0204f\\_nohash\\_0.wav & 16000                                                 &  -2474                                                &  -322.1                                               &  -43                                                  &   -1                                                  &  34                                                   & 218.1                                                 &  2327                                                 &  4801                                                 &   0.0856875                                           &  373.0592                                             & fac98e7ea4e2f6f71814410d05d717cd                     \\\\\n",
       "\t ../../input/train/audio/bed/00f0204f\\_nohash\\_1.wav & 16000                                                 &  -2527                                                &  -243.0                                               &  -38                                                  &    0                                                  &  33                                                   & 166.1                                                 &  2537                                                 &  5064                                                 &   0.0897500                                           &  396.6656                                             & 9460317598ff20131007088e4d2d1a8f                     \\\\\n",
       "\t ../../input/train/audio/bed/012c8314\\_nohash\\_0.wav & 16000                                                 &  -3268                                                &    45.0                                               &  170                                                  &  249                                                  & 336                                                   & 439.0                                                 &  2887                                                 &  6155                                                 & 242.9836250                                           &  375.1439                                             & 8e9b5701dafd8d2d79f6b8062b7a11d0                     \\\\\n",
       "\\end{tabular}\n"
      ],
      "text/markdown": [
       "\n",
       "filename | samples | min | Q10 | Q25 | median | Q75 | Q90 | max | range | mean | sd | md5sum | \n",
       "|---|---|---|---|---|---|\n",
       "| ../../input/train/audio/bed/00176480_nohash_0.wav | 16000                                             | -16039                                            | -1767.4                                           |  -18                                              |    0                                              |  11                                               | 337.0                                             | 24735                                             | 40774                                             |  -1.0628750                                       | 3043.4817                                         | 3336677cade31ae52d0f9e6288ad679d                  | \n",
       "| ../../input/train/audio/bed/004ae714_nohash_0.wav | 16000                                             | -11421                                            |  -558.0                                           | -149                                              | -100                                              | -50                                               | 285.1                                             | 12740                                             | 24161                                             | -95.1914375                                       | 1220.9112                                         | 6ea166114fb6b1466c06e6cf0d88aa8d                  | \n",
       "| ../../input/train/audio/bed/004ae714_nohash_1.wav | 14861                                             |  -5797                                            |  -368.0                                           | -143                                              |  -99                                              | -53                                               | 136.0                                             |  7021                                             | 12818                                             | -95.1184981                                       |  601.7973                                         | 1f68560e13cc793a24b7534c13c1f7e9                  | \n",
       "| ../../input/train/audio/bed/00f0204f_nohash_0.wav | 16000                                             |  -2474                                            |  -322.1                                           |  -43                                              |   -1                                              |  34                                               | 218.1                                             |  2327                                             |  4801                                             |   0.0856875                                       |  373.0592                                         | fac98e7ea4e2f6f71814410d05d717cd                  | \n",
       "| ../../input/train/audio/bed/00f0204f_nohash_1.wav | 16000                                             |  -2527                                            |  -243.0                                           |  -38                                              |    0                                              |  33                                               | 166.1                                             |  2537                                             |  5064                                             |   0.0897500                                       |  396.6656                                         | 9460317598ff20131007088e4d2d1a8f                  | \n",
       "| ../../input/train/audio/bed/012c8314_nohash_0.wav | 16000                                             |  -3268                                            |    45.0                                           |  170                                              |  249                                              | 336                                               | 439.0                                             |  2887                                             |  6155                                             | 242.9836250                                       |  375.1439                                         | 8e9b5701dafd8d2d79f6b8062b7a11d0                  | \n",
       "\n",
       "\n"
      ],
      "text/plain": [
       "  filename                                          samples min    Q10     Q25  median Q75 Q90   max   range mean       \n",
       "1 ../../input/train/audio/bed/00176480_nohash_0.wav 16000   -16039 -1767.4  -18    0    11 337.0 24735 40774  -1.0628750\n",
       "2 ../../input/train/audio/bed/004ae714_nohash_0.wav 16000   -11421  -558.0 -149 -100   -50 285.1 12740 24161 -95.1914375\n",
       "3 ../../input/train/audio/bed/004ae714_nohash_1.wav 14861    -5797  -368.0 -143  -99   -53 136.0  7021 12818 -95.1184981\n",
       "4 ../../input/train/audio/bed/00f0204f_nohash_0.wav 16000    -2474  -322.1  -43   -1    34 218.1  2327  4801   0.0856875\n",
       "5 ../../input/train/audio/bed/00f0204f_nohash_1.wav 16000    -2527  -243.0  -38    0    33 166.1  2537  5064   0.0897500\n",
       "6 ../../input/train/audio/bed/012c8314_nohash_0.wav 16000    -3268    45.0  170  249   336 439.0  2887  6155 242.9836250\n",
       "  sd        md5sum                          \n",
       "1 3043.4817 3336677cade31ae52d0f9e6288ad679d\n",
       "2 1220.9112 6ea166114fb6b1466c06e6cf0d88aa8d\n",
       "3  601.7973 1f68560e13cc793a24b7534c13c1f7e9\n",
       "4  373.0592 fac98e7ea4e2f6f71814410d05d717cd\n",
       "5  396.6656 9460317598ff20131007088e4d2d1a8f\n",
       "6  375.1439 8e9b5701dafd8d2d79f6b8062b7a11d0"
      ]
     },
     "metadata": {},
     "output_type": "display_data"
    }
   ],
   "source": [
    "trainSoundInfo <- trainSoundInfo %>% select(filename, samples, \n",
    "                                            min, Q10, Q25, median, Q75, Q90, max, range,\n",
    "                                            mean, sd,\n",
    "                                            md5sum)\n",
    "head(trainSoundInfo)"
   ]
  },
  {
   "cell_type": "markdown",
   "metadata": {},
   "source": [
    "## Look at sample size differences"
   ]
  },
  {
   "cell_type": "code",
   "execution_count": 11,
   "metadata": {},
   "outputs": [
    {
     "data": {
      "text/html": [
       "<ol class=list-inline>\n",
       "\t<li>5945</li>\n",
       "\t<li>16000</li>\n",
       "\t<li>16000</li>\n",
       "\t<li>16000</li>\n",
       "\t<li>16000</li>\n",
       "</ol>\n"
      ],
      "text/latex": [
       "\\begin{enumerate*}\n",
       "\\item 5945\n",
       "\\item 16000\n",
       "\\item 16000\n",
       "\\item 16000\n",
       "\\item 16000\n",
       "\\end{enumerate*}\n"
      ],
      "text/markdown": [
       "1. 5945\n",
       "2. 16000\n",
       "3. 16000\n",
       "4. 16000\n",
       "5. 16000\n",
       "\n",
       "\n"
      ],
      "text/plain": [
       "[1]  5945 16000 16000 16000 16000"
      ]
     },
     "metadata": {},
     "output_type": "display_data"
    }
   ],
   "source": [
    "fivenum(trainSoundInfo$samples)"
   ]
  },
  {
   "cell_type": "markdown",
   "metadata": {},
   "source": [
    "Number of files with exactly 16000 samples (1 second duration):"
   ]
  },
  {
   "cell_type": "code",
   "execution_count": 12,
   "metadata": {},
   "outputs": [
    {
     "data": {
      "text/html": [
       "58252"
      ],
      "text/latex": [
       "58252"
      ],
      "text/markdown": [
       "58252"
      ],
      "text/plain": [
       "[1] 58252"
      ]
     },
     "metadata": {},
     "output_type": "display_data"
    }
   ],
   "source": [
    "sum(trainSoundInfo$samples == 16000)"
   ]
  },
  {
   "cell_type": "markdown",
   "metadata": {},
   "source": [
    "Fraction that are exactly 16000 samples (1 second):"
   ]
  },
  {
   "cell_type": "code",
   "execution_count": 13,
   "metadata": {},
   "outputs": [
    {
     "data": {
      "text/html": [
       "0.900047897900218"
      ],
      "text/latex": [
       "0.900047897900218"
      ],
      "text/markdown": [
       "0.900047897900218"
      ],
      "text/plain": [
       "[1] 0.9000479"
      ]
     },
     "metadata": {},
     "output_type": "display_data"
    }
   ],
   "source": [
    "sum(trainSoundInfo$samples == 16000) / nrow(trainSoundInfo)"
   ]
  },
  {
   "cell_type": "markdown",
   "metadata": {},
   "source": [
    "Look at variation in files with fewer than 16000 samples:"
   ]
  },
  {
   "cell_type": "code",
   "execution_count": 14,
   "metadata": {},
   "outputs": [
    {
     "data": {
      "image/png": "[encoded data removed]",
      "text/plain": [
       "Plot with title \"Training Set:  Sample Size < 16000\""
      ]
     },
     "metadata": {},
     "output_type": "display_data"
    }
   ],
   "source": [
    "notOneSecond <- trainSoundInfo$samples[trainSoundInfo$samples != 16000]\n",
    "plot(density(notOneSecond, from=min(notOneSecond), to=max(notOneSecond)),     \n",
    "    col=\"skyblue\", lwd=3,\n",
    "    main=\"Training Set:  Sample Size < 16000\")\n",
    "grid()"
   ]
  },
  {
   "cell_type": "markdown",
   "metadata": {},
   "source": [
    "As shown below, all of the test files have exactly 16000 samples.  None have fewer."
   ]
  },
  {
   "cell_type": "markdown",
   "metadata": {},
   "source": [
    "## Find size of each file"
   ]
  },
  {
   "cell_type": "code",
   "execution_count": 15,
   "metadata": {},
   "outputs": [
    {
     "data": {
      "text/html": [
       "<table>\n",
       "<thead><tr><th scope=col>filename</th><th scope=col>sizeBytes</th></tr></thead>\n",
       "<tbody>\n",
       "\t<tr><td>../../input/train/audio/bed/00176480_nohash_0.wav</td><td>32044                                            </td></tr>\n",
       "\t<tr><td>../../input/train/audio/bed/004ae714_nohash_0.wav</td><td>32044                                            </td></tr>\n",
       "\t<tr><td>../../input/train/audio/bed/004ae714_nohash_1.wav</td><td>29766                                            </td></tr>\n",
       "\t<tr><td>../../input/train/audio/bed/00f0204f_nohash_0.wav</td><td>32044                                            </td></tr>\n",
       "\t<tr><td>../../input/train/audio/bed/00f0204f_nohash_1.wav</td><td>32044                                            </td></tr>\n",
       "\t<tr><td>../../input/train/audio/bed/012c8314_nohash_0.wav</td><td>32044                                            </td></tr>\n",
       "</tbody>\n",
       "</table>\n"
      ],
      "text/latex": [
       "\\begin{tabular}{r|ll}\n",
       " filename & sizeBytes\\\\\n",
       "\\hline\n",
       "\t ../../input/train/audio/bed/00176480\\_nohash\\_0.wav & 32044                                                \\\\\n",
       "\t ../../input/train/audio/bed/004ae714\\_nohash\\_0.wav & 32044                                                \\\\\n",
       "\t ../../input/train/audio/bed/004ae714\\_nohash\\_1.wav & 29766                                                \\\\\n",
       "\t ../../input/train/audio/bed/00f0204f\\_nohash\\_0.wav & 32044                                                \\\\\n",
       "\t ../../input/train/audio/bed/00f0204f\\_nohash\\_1.wav & 32044                                                \\\\\n",
       "\t ../../input/train/audio/bed/012c8314\\_nohash\\_0.wav & 32044                                                \\\\\n",
       "\\end{tabular}\n"
      ],
      "text/markdown": [
       "\n",
       "filename | sizeBytes | \n",
       "|---|---|---|---|---|---|\n",
       "| ../../input/train/audio/bed/00176480_nohash_0.wav | 32044                                             | \n",
       "| ../../input/train/audio/bed/004ae714_nohash_0.wav | 32044                                             | \n",
       "| ../../input/train/audio/bed/004ae714_nohash_1.wav | 29766                                             | \n",
       "| ../../input/train/audio/bed/00f0204f_nohash_0.wav | 32044                                             | \n",
       "| ../../input/train/audio/bed/00f0204f_nohash_1.wav | 32044                                             | \n",
       "| ../../input/train/audio/bed/012c8314_nohash_0.wav | 32044                                             | \n",
       "\n",
       "\n"
      ],
      "text/plain": [
       "  filename                                          sizeBytes\n",
       "1 ../../input/train/audio/bed/00176480_nohash_0.wav 32044    \n",
       "2 ../../input/train/audio/bed/004ae714_nohash_0.wav 32044    \n",
       "3 ../../input/train/audio/bed/004ae714_nohash_1.wav 29766    \n",
       "4 ../../input/train/audio/bed/00f0204f_nohash_0.wav 32044    \n",
       "5 ../../input/train/audio/bed/00f0204f_nohash_1.wav 32044    \n",
       "6 ../../input/train/audio/bed/012c8314_nohash_0.wav 32044    "
      ]
     },
     "metadata": {},
     "output_type": "display_data"
    }
   ],
   "source": [
    "trainFileInfo <- file.info(trainFilenames, extra_cols=FALSE) %>%\n",
    "                 rownames_to_column(var=\"filename\")          %>%\n",
    "                 select(filename, size)                      %>%\n",
    "                 rename(sizeBytes=size)\n",
    "head(trainFileInfo)"
   ]
  },
  {
   "cell_type": "markdown",
   "metadata": {},
   "source": [
    "## Combine data.frames"
   ]
  },
  {
   "cell_type": "code",
   "execution_count": 16,
   "metadata": {
    "collapsed": true
   },
   "outputs": [],
   "source": [
    "trainInfo <- inner_join(trainFileInfo, trainSoundInfo, by=\"filename\")"
   ]
  },
  {
   "cell_type": "code",
   "execution_count": 17,
   "metadata": {},
   "outputs": [
    {
     "data": {
      "text/html": [
       "<table>\n",
       "<thead><tr><th scope=col>filename</th><th scope=col>sizeBytes</th><th scope=col>samples</th><th scope=col>min</th><th scope=col>Q10</th><th scope=col>Q25</th><th scope=col>median</th><th scope=col>Q75</th><th scope=col>Q90</th><th scope=col>max</th><th scope=col>range</th><th scope=col>mean</th><th scope=col>sd</th><th scope=col>md5sum</th></tr></thead>\n",
       "<tbody>\n",
       "\t<tr><td>../../input/train/audio/bed/00176480_nohash_0.wav</td><td>32044                                            </td><td>16000                                            </td><td>-16039                                           </td><td>-1767.4                                          </td><td> -18                                             </td><td>   0                                             </td><td> 11                                              </td><td>337.0                                            </td><td>24735                                            </td><td>40774                                            </td><td> -1.0628750                                      </td><td>3043.4817                                        </td><td>3336677cade31ae52d0f9e6288ad679d                 </td></tr>\n",
       "\t<tr><td>../../input/train/audio/bed/004ae714_nohash_0.wav</td><td>32044                                            </td><td>16000                                            </td><td>-11421                                           </td><td> -558.0                                          </td><td>-149                                             </td><td>-100                                             </td><td>-50                                              </td><td>285.1                                            </td><td>12740                                            </td><td>24161                                            </td><td>-95.1914375                                      </td><td>1220.9112                                        </td><td>6ea166114fb6b1466c06e6cf0d88aa8d                 </td></tr>\n",
       "\t<tr><td>../../input/train/audio/bed/004ae714_nohash_1.wav</td><td>29766                                            </td><td>14861                                            </td><td> -5797                                           </td><td> -368.0                                          </td><td>-143                                             </td><td> -99                                             </td><td>-53                                              </td><td>136.0                                            </td><td> 7021                                            </td><td>12818                                            </td><td>-95.1184981                                      </td><td> 601.7973                                        </td><td>1f68560e13cc793a24b7534c13c1f7e9                 </td></tr>\n",
       "\t<tr><td>../../input/train/audio/bed/00f0204f_nohash_0.wav</td><td>32044                                            </td><td>16000                                            </td><td> -2474                                           </td><td> -322.1                                          </td><td> -43                                             </td><td>  -1                                             </td><td> 34                                              </td><td>218.1                                            </td><td> 2327                                            </td><td> 4801                                            </td><td>  0.0856875                                      </td><td> 373.0592                                        </td><td>fac98e7ea4e2f6f71814410d05d717cd                 </td></tr>\n",
       "\t<tr><td>../../input/train/audio/bed/00f0204f_nohash_1.wav</td><td>32044                                            </td><td>16000                                            </td><td> -2527                                           </td><td> -243.0                                          </td><td> -38                                             </td><td>   0                                             </td><td> 33                                              </td><td>166.1                                            </td><td> 2537                                            </td><td> 5064                                            </td><td>  0.0897500                                      </td><td> 396.6656                                        </td><td>9460317598ff20131007088e4d2d1a8f                 </td></tr>\n",
       "\t<tr><td>../../input/train/audio/bed/012c8314_nohash_0.wav</td><td>32044                                            </td><td>16000                                            </td><td> -3268                                           </td><td>   45.0                                          </td><td> 170                                             </td><td> 249                                             </td><td>336                                              </td><td>439.0                                            </td><td> 2887                                            </td><td> 6155                                            </td><td>242.9836250                                      </td><td> 375.1439                                        </td><td>8e9b5701dafd8d2d79f6b8062b7a11d0                 </td></tr>\n",
       "</tbody>\n",
       "</table>\n"
      ],
      "text/latex": [
       "\\begin{tabular}{r|llllllllllllll}\n",
       " filename & sizeBytes & samples & min & Q10 & Q25 & median & Q75 & Q90 & max & range & mean & sd & md5sum\\\\\n",
       "\\hline\n",
       "\t ../../input/train/audio/bed/00176480\\_nohash\\_0.wav & 32044                                                 & 16000                                                 & -16039                                                & -1767.4                                               &  -18                                                  &    0                                                  &  11                                                   & 337.0                                                 & 24735                                                 & 40774                                                 &  -1.0628750                                           & 3043.4817                                             & 3336677cade31ae52d0f9e6288ad679d                     \\\\\n",
       "\t ../../input/train/audio/bed/004ae714\\_nohash\\_0.wav & 32044                                                 & 16000                                                 & -11421                                                &  -558.0                                               & -149                                                  & -100                                                  & -50                                                   & 285.1                                                 & 12740                                                 & 24161                                                 & -95.1914375                                           & 1220.9112                                             & 6ea166114fb6b1466c06e6cf0d88aa8d                     \\\\\n",
       "\t ../../input/train/audio/bed/004ae714\\_nohash\\_1.wav & 29766                                                 & 14861                                                 &  -5797                                                &  -368.0                                               & -143                                                  &  -99                                                  & -53                                                   & 136.0                                                 &  7021                                                 & 12818                                                 & -95.1184981                                           &  601.7973                                             & 1f68560e13cc793a24b7534c13c1f7e9                     \\\\\n",
       "\t ../../input/train/audio/bed/00f0204f\\_nohash\\_0.wav & 32044                                                 & 16000                                                 &  -2474                                                &  -322.1                                               &  -43                                                  &   -1                                                  &  34                                                   & 218.1                                                 &  2327                                                 &  4801                                                 &   0.0856875                                           &  373.0592                                             & fac98e7ea4e2f6f71814410d05d717cd                     \\\\\n",
       "\t ../../input/train/audio/bed/00f0204f\\_nohash\\_1.wav & 32044                                                 & 16000                                                 &  -2527                                                &  -243.0                                               &  -38                                                  &    0                                                  &  33                                                   & 166.1                                                 &  2537                                                 &  5064                                                 &   0.0897500                                           &  396.6656                                             & 9460317598ff20131007088e4d2d1a8f                     \\\\\n",
       "\t ../../input/train/audio/bed/012c8314\\_nohash\\_0.wav & 32044                                                 & 16000                                                 &  -3268                                                &    45.0                                               &  170                                                  &  249                                                  & 336                                                   & 439.0                                                 &  2887                                                 &  6155                                                 & 242.9836250                                           &  375.1439                                             & 8e9b5701dafd8d2d79f6b8062b7a11d0                     \\\\\n",
       "\\end{tabular}\n"
      ],
      "text/markdown": [
       "\n",
       "filename | sizeBytes | samples | min | Q10 | Q25 | median | Q75 | Q90 | max | range | mean | sd | md5sum | \n",
       "|---|---|---|---|---|---|\n",
       "| ../../input/train/audio/bed/00176480_nohash_0.wav | 32044                                             | 16000                                             | -16039                                            | -1767.4                                           |  -18                                              |    0                                              |  11                                               | 337.0                                             | 24735                                             | 40774                                             |  -1.0628750                                       | 3043.4817                                         | 3336677cade31ae52d0f9e6288ad679d                  | \n",
       "| ../../input/train/audio/bed/004ae714_nohash_0.wav | 32044                                             | 16000                                             | -11421                                            |  -558.0                                           | -149                                              | -100                                              | -50                                               | 285.1                                             | 12740                                             | 24161                                             | -95.1914375                                       | 1220.9112                                         | 6ea166114fb6b1466c06e6cf0d88aa8d                  | \n",
       "| ../../input/train/audio/bed/004ae714_nohash_1.wav | 29766                                             | 14861                                             |  -5797                                            |  -368.0                                           | -143                                              |  -99                                              | -53                                               | 136.0                                             |  7021                                             | 12818                                             | -95.1184981                                       |  601.7973                                         | 1f68560e13cc793a24b7534c13c1f7e9                  | \n",
       "| ../../input/train/audio/bed/00f0204f_nohash_0.wav | 32044                                             | 16000                                             |  -2474                                            |  -322.1                                           |  -43                                              |   -1                                              |  34                                               | 218.1                                             |  2327                                             |  4801                                             |   0.0856875                                       |  373.0592                                         | fac98e7ea4e2f6f71814410d05d717cd                  | \n",
       "| ../../input/train/audio/bed/00f0204f_nohash_1.wav | 32044                                             | 16000                                             |  -2527                                            |  -243.0                                           |  -38                                              |    0                                              |  33                                               | 166.1                                             |  2537                                             |  5064                                             |   0.0897500                                       |  396.6656                                         | 9460317598ff20131007088e4d2d1a8f                  | \n",
       "| ../../input/train/audio/bed/012c8314_nohash_0.wav | 32044                                             | 16000                                             |  -3268                                            |    45.0                                           |  170                                              |  249                                              | 336                                               | 439.0                                             |  2887                                             |  6155                                             | 242.9836250                                       |  375.1439                                         | 8e9b5701dafd8d2d79f6b8062b7a11d0                  | \n",
       "\n",
       "\n"
      ],
      "text/plain": [
       "  filename                                          sizeBytes samples min    Q10     Q25  median Q75 Q90   max   range\n",
       "1 ../../input/train/audio/bed/00176480_nohash_0.wav 32044     16000   -16039 -1767.4  -18    0    11 337.0 24735 40774\n",
       "2 ../../input/train/audio/bed/004ae714_nohash_0.wav 32044     16000   -11421  -558.0 -149 -100   -50 285.1 12740 24161\n",
       "3 ../../input/train/audio/bed/004ae714_nohash_1.wav 29766     14861    -5797  -368.0 -143  -99   -53 136.0  7021 12818\n",
       "4 ../../input/train/audio/bed/00f0204f_nohash_0.wav 32044     16000    -2474  -322.1  -43   -1    34 218.1  2327  4801\n",
       "5 ../../input/train/audio/bed/00f0204f_nohash_1.wav 32044     16000    -2527  -243.0  -38    0    33 166.1  2537  5064\n",
       "6 ../../input/train/audio/bed/012c8314_nohash_0.wav 32044     16000    -3268    45.0  170  249   336 439.0  2887  6155\n",
       "  mean        sd        md5sum                          \n",
       "1  -1.0628750 3043.4817 3336677cade31ae52d0f9e6288ad679d\n",
       "2 -95.1914375 1220.9112 6ea166114fb6b1466c06e6cf0d88aa8d\n",
       "3 -95.1184981  601.7973 1f68560e13cc793a24b7534c13c1f7e9\n",
       "4   0.0856875  373.0592 fac98e7ea4e2f6f71814410d05d717cd\n",
       "5   0.0897500  396.6656 9460317598ff20131007088e4d2d1a8f\n",
       "6 242.9836250  375.1439 8e9b5701dafd8d2d79f6b8062b7a11d0"
      ]
     },
     "metadata": {},
     "output_type": "display_data"
    }
   ],
   "source": [
    "head(trainInfo)"
   ]
  },
  {
   "cell_type": "markdown",
   "metadata": {},
   "source": [
    "Observation:  **sizeBytes = 2 bytes/sample * samples + 44 byte header**\n",
    "\n",
    "Matches [Wave PCM soundfile format](http://soundfile.sapp.org/doc/WaveFormat/) specification."
   ]
  },
  {
   "cell_type": "code",
   "execution_count": 18,
   "metadata": {
    "collapsed": true
   },
   "outputs": [],
   "source": [
    "stopifnot(trainInfo$sizeBytes == 2 * trainInfo$samples + 44)"
   ]
  },
  {
   "cell_type": "markdown",
   "metadata": {},
   "source": [
    "Drop *sizeBytes* since that could be computed from *samples*.\n",
    "\n",
    "Remove *dataDir* string from filenames."
   ]
  },
  {
   "cell_type": "code",
   "execution_count": 19,
   "metadata": {
    "collapsed": true
   },
   "outputs": [],
   "source": [
    "trainInfo$filename <- substr(trainInfo$filename, nchar(dataDir)+1, nchar(trainInfo$filename))"
   ]
  },
  {
   "cell_type": "markdown",
   "metadata": {},
   "source": [
    "## Split filenames into useful attributes\n",
    "\n",
    "So what's a simple \"tidy\" version of the following?\n",
    "\n",
    "Split filenames on any of three characters:  / _ ."
   ]
  },
  {
   "cell_type": "code",
   "execution_count": 20,
   "metadata": {},
   "outputs": [
    {
     "data": {
      "text/html": [
       "64721"
      ],
      "text/latex": [
       "64721"
      ],
      "text/markdown": [
       "64721"
      ],
      "text/plain": [
       "[1] 64721"
      ]
     },
     "metadata": {},
     "output_type": "display_data"
    }
   ],
   "source": [
    "splits <- strsplit(trainInfo$filename, \"/|_|\\\\.\")\n",
    "length(splits)"
   ]
  },
  {
   "cell_type": "markdown",
   "metadata": {},
   "source": [
    "Show example of a split filename:"
   ]
  },
  {
   "cell_type": "code",
   "execution_count": 21,
   "metadata": {},
   "outputs": [
    {
     "data": {
      "text/html": [
       "<ol class=list-inline>\n",
       "\t<li>'train'</li>\n",
       "\t<li>'audio'</li>\n",
       "\t<li>'bed'</li>\n",
       "\t<li>'00176480'</li>\n",
       "\t<li>'nohash'</li>\n",
       "\t<li>'0'</li>\n",
       "\t<li>'wav'</li>\n",
       "</ol>\n"
      ],
      "text/latex": [
       "\\begin{enumerate*}\n",
       "\\item 'train'\n",
       "\\item 'audio'\n",
       "\\item 'bed'\n",
       "\\item '00176480'\n",
       "\\item 'nohash'\n",
       "\\item '0'\n",
       "\\item 'wav'\n",
       "\\end{enumerate*}\n"
      ],
      "text/markdown": [
       "1. 'train'\n",
       "2. 'audio'\n",
       "3. 'bed'\n",
       "4. '00176480'\n",
       "5. 'nohash'\n",
       "6. '0'\n",
       "7. 'wav'\n",
       "\n",
       "\n"
      ],
      "text/plain": [
       "[1] \"train\"    \"audio\"    \"bed\"      \"00176480\" \"nohash\"   \"0\"        \"wav\"     "
      ]
     },
     "metadata": {},
     "output_type": "display_data"
    }
   ],
   "source": [
    "x = splits[[1]]\n",
    "x"
   ]
  },
  {
   "cell_type": "markdown",
   "metadata": {},
   "source": [
    "Example of data.frame to be created below:"
   ]
  },
  {
   "cell_type": "code",
   "execution_count": 22,
   "metadata": {},
   "outputs": [
    {
     "data": {
      "text/html": [
       "<table>\n",
       "<thead><tr><th scope=col>dataset</th><th scope=col>word</th><th scope=col>speakerID</th><th scope=col>utteranceIndex</th><th scope=col>extension</th></tr></thead>\n",
       "<tbody>\n",
       "\t<tr><td>train   </td><td>bed     </td><td>00176480</td><td>0       </td><td>wav     </td></tr>\n",
       "</tbody>\n",
       "</table>\n"
      ],
      "text/latex": [
       "\\begin{tabular}{r|lllll}\n",
       " dataset & word & speakerID & utteranceIndex & extension\\\\\n",
       "\\hline\n",
       "\t train    & bed      & 00176480 & 0        & wav     \\\\\n",
       "\\end{tabular}\n"
      ],
      "text/markdown": [
       "\n",
       "dataset | word | speakerID | utteranceIndex | extension | \n",
       "|---|\n",
       "| train    | bed      | 00176480 | 0        | wav      | \n",
       "\n",
       "\n"
      ],
      "text/plain": [
       "  dataset word speakerID utteranceIndex extension\n",
       "1 train   bed  00176480  0              wav      "
      ]
     },
     "metadata": {},
     "output_type": "display_data"
    }
   ],
   "source": [
    "data.frame(dataset=x[1], word=x[3], speakerID=x[4], utteranceIndex=x[6], extension=x[7], stringsAsFactors=FALSE)"
   ]
  },
  {
   "cell_type": "code",
   "execution_count": 23,
   "metadata": {},
   "outputs": [
    {
     "data": {
      "text/html": [
       "<table>\n",
       "<thead><tr><th scope=col>dataset</th><th scope=col>word</th><th scope=col>speakerID</th><th scope=col>utteranceIndex</th><th scope=col>extension</th></tr></thead>\n",
       "<tbody>\n",
       "\t<tr><td>train   </td><td>bed     </td><td>00176480</td><td>0       </td><td>wav     </td></tr>\n",
       "\t<tr><td>train   </td><td>bed     </td><td>004ae714</td><td>0       </td><td>wav     </td></tr>\n",
       "\t<tr><td>train   </td><td>bed     </td><td>004ae714</td><td>1       </td><td>wav     </td></tr>\n",
       "\t<tr><td>train   </td><td>bed     </td><td>00f0204f</td><td>0       </td><td>wav     </td></tr>\n",
       "\t<tr><td>train   </td><td>bed     </td><td>00f0204f</td><td>1       </td><td>wav     </td></tr>\n",
       "\t<tr><td>train   </td><td>bed     </td><td>012c8314</td><td>0       </td><td>wav     </td></tr>\n",
       "</tbody>\n",
       "</table>\n"
      ],
      "text/latex": [
       "\\begin{tabular}{r|lllll}\n",
       " dataset & word & speakerID & utteranceIndex & extension\\\\\n",
       "\\hline\n",
       "\t train    & bed      & 00176480 & 0        & wav     \\\\\n",
       "\t train    & bed      & 004ae714 & 0        & wav     \\\\\n",
       "\t train    & bed      & 004ae714 & 1        & wav     \\\\\n",
       "\t train    & bed      & 00f0204f & 0        & wav     \\\\\n",
       "\t train    & bed      & 00f0204f & 1        & wav     \\\\\n",
       "\t train    & bed      & 012c8314 & 0        & wav     \\\\\n",
       "\\end{tabular}\n"
      ],
      "text/markdown": [
       "\n",
       "dataset | word | speakerID | utteranceIndex | extension | \n",
       "|---|---|---|---|---|---|\n",
       "| train    | bed      | 00176480 | 0        | wav      | \n",
       "| train    | bed      | 004ae714 | 0        | wav      | \n",
       "| train    | bed      | 004ae714 | 1        | wav      | \n",
       "| train    | bed      | 00f0204f | 0        | wav      | \n",
       "| train    | bed      | 00f0204f | 1        | wav      | \n",
       "| train    | bed      | 012c8314 | 0        | wav      | \n",
       "\n",
       "\n"
      ],
      "text/plain": [
       "  dataset word speakerID utteranceIndex extension\n",
       "1 train   bed  00176480  0              wav      \n",
       "2 train   bed  004ae714  0              wav      \n",
       "3 train   bed  004ae714  1              wav      \n",
       "4 train   bed  00f0204f  0              wav      \n",
       "5 train   bed  00f0204f  1              wav      \n",
       "6 train   bed  012c8314  0              wav      "
      ]
     },
     "metadata": {},
     "output_type": "display_data"
    }
   ],
   "source": [
    "fileAttributes <- do.call(rbind, \n",
    "                          lapply(splits, function(x){\n",
    "                                 data.frame(dataset=x[1], \n",
    "                                 word=x[3], \n",
    "                                 speakerID=x[4], \n",
    "                                 utteranceIndex=x[6], \n",
    "                                 extension=x[7], \n",
    "                                 stringsAsFactors=FALSE)\n",
    "                 }))\n",
    "head(fileAttributes)"
   ]
  },
  {
   "cell_type": "markdown",
   "metadata": {},
   "source": [
    "## Final trainInfo\n",
    "\n",
    "Combine separate file attribute fields with *samples* and *md5sum*."
   ]
  },
  {
   "cell_type": "code",
   "execution_count": 24,
   "metadata": {
    "collapsed": true
   },
   "outputs": [],
   "source": [
    "trainInfo <- cbind(trainInfo, fileAttributes) %>% \n",
    "    select(filename, dataset, word, speakerID, utteranceIndex, extension, samples, \n",
    "           min, Q10, Q25, median, Q75, Q90, max, range, mean, sd,\n",
    "           md5sum)"
   ]
  },
  {
   "cell_type": "code",
   "execution_count": 25,
   "metadata": {},
   "outputs": [
    {
     "data": {
      "text/html": [
       "<ol class=list-inline>\n",
       "\t<li>64721</li>\n",
       "\t<li>18</li>\n",
       "</ol>\n"
      ],
      "text/latex": [
       "\\begin{enumerate*}\n",
       "\\item 64721\n",
       "\\item 18\n",
       "\\end{enumerate*}\n"
      ],
      "text/markdown": [
       "1. 64721\n",
       "2. 18\n",
       "\n",
       "\n"
      ],
      "text/plain": [
       "[1] 64721    18"
      ]
     },
     "metadata": {},
     "output_type": "display_data"
    }
   ],
   "source": [
    "dim(trainInfo)"
   ]
  },
  {
   "cell_type": "code",
   "execution_count": 26,
   "metadata": {},
   "outputs": [
    {
     "data": {
      "text/html": [
       "<table>\n",
       "<thead><tr><th scope=col>filename</th><th scope=col>dataset</th><th scope=col>word</th><th scope=col>speakerID</th><th scope=col>utteranceIndex</th><th scope=col>extension</th><th scope=col>samples</th><th scope=col>min</th><th scope=col>Q10</th><th scope=col>Q25</th><th scope=col>median</th><th scope=col>Q75</th><th scope=col>Q90</th><th scope=col>max</th><th scope=col>range</th><th scope=col>mean</th><th scope=col>sd</th><th scope=col>md5sum</th></tr></thead>\n",
       "<tbody>\n",
       "\t<tr><td>train/audio/bed/00176480_nohash_0.wav</td><td>train                                </td><td>bed                                  </td><td>00176480                             </td><td>0                                    </td><td>wav                                  </td><td>16000                                </td><td>-16039                               </td><td>-1767.4                              </td><td> -18                                 </td><td>   0                                 </td><td> 11                                  </td><td>337.0                                </td><td>24735                                </td><td>40774                                </td><td> -1.0628750                          </td><td>3043.4817                            </td><td>3336677cade31ae52d0f9e6288ad679d     </td></tr>\n",
       "\t<tr><td>train/audio/bed/004ae714_nohash_0.wav</td><td>train                                </td><td>bed                                  </td><td>004ae714                             </td><td>0                                    </td><td>wav                                  </td><td>16000                                </td><td>-11421                               </td><td> -558.0                              </td><td>-149                                 </td><td>-100                                 </td><td>-50                                  </td><td>285.1                                </td><td>12740                                </td><td>24161                                </td><td>-95.1914375                          </td><td>1220.9112                            </td><td>6ea166114fb6b1466c06e6cf0d88aa8d     </td></tr>\n",
       "\t<tr><td>train/audio/bed/004ae714_nohash_1.wav</td><td>train                                </td><td>bed                                  </td><td>004ae714                             </td><td>1                                    </td><td>wav                                  </td><td>14861                                </td><td> -5797                               </td><td> -368.0                              </td><td>-143                                 </td><td> -99                                 </td><td>-53                                  </td><td>136.0                                </td><td> 7021                                </td><td>12818                                </td><td>-95.1184981                          </td><td> 601.7973                            </td><td>1f68560e13cc793a24b7534c13c1f7e9     </td></tr>\n",
       "\t<tr><td>train/audio/bed/00f0204f_nohash_0.wav</td><td>train                                </td><td>bed                                  </td><td>00f0204f                             </td><td>0                                    </td><td>wav                                  </td><td>16000                                </td><td> -2474                               </td><td> -322.1                              </td><td> -43                                 </td><td>  -1                                 </td><td> 34                                  </td><td>218.1                                </td><td> 2327                                </td><td> 4801                                </td><td>  0.0856875                          </td><td> 373.0592                            </td><td>fac98e7ea4e2f6f71814410d05d717cd     </td></tr>\n",
       "\t<tr><td>train/audio/bed/00f0204f_nohash_1.wav</td><td>train                                </td><td>bed                                  </td><td>00f0204f                             </td><td>1                                    </td><td>wav                                  </td><td>16000                                </td><td> -2527                               </td><td> -243.0                              </td><td> -38                                 </td><td>   0                                 </td><td> 33                                  </td><td>166.1                                </td><td> 2537                                </td><td> 5064                                </td><td>  0.0897500                          </td><td> 396.6656                            </td><td>9460317598ff20131007088e4d2d1a8f     </td></tr>\n",
       "\t<tr><td>train/audio/bed/012c8314_nohash_0.wav</td><td>train                                </td><td>bed                                  </td><td>012c8314                             </td><td>0                                    </td><td>wav                                  </td><td>16000                                </td><td> -3268                               </td><td>   45.0                              </td><td> 170                                 </td><td> 249                                 </td><td>336                                  </td><td>439.0                                </td><td> 2887                                </td><td> 6155                                </td><td>242.9836250                          </td><td> 375.1439                            </td><td>8e9b5701dafd8d2d79f6b8062b7a11d0     </td></tr>\n",
       "</tbody>\n",
       "</table>\n"
      ],
      "text/latex": [
       "\\begin{tabular}{r|llllllllllllllllll}\n",
       " filename & dataset & word & speakerID & utteranceIndex & extension & samples & min & Q10 & Q25 & median & Q75 & Q90 & max & range & mean & sd & md5sum\\\\\n",
       "\\hline\n",
       "\t train/audio/bed/00176480\\_nohash\\_0.wav & train                                     & bed                                       & 00176480                                  & 0                                         & wav                                       & 16000                                     & -16039                                    & -1767.4                                   &  -18                                      &    0                                      &  11                                       & 337.0                                     & 24735                                     & 40774                                     &  -1.0628750                               & 3043.4817                                 & 3336677cade31ae52d0f9e6288ad679d         \\\\\n",
       "\t train/audio/bed/004ae714\\_nohash\\_0.wav & train                                     & bed                                       & 004ae714                                  & 0                                         & wav                                       & 16000                                     & -11421                                    &  -558.0                                   & -149                                      & -100                                      & -50                                       & 285.1                                     & 12740                                     & 24161                                     & -95.1914375                               & 1220.9112                                 & 6ea166114fb6b1466c06e6cf0d88aa8d         \\\\\n",
       "\t train/audio/bed/004ae714\\_nohash\\_1.wav & train                                     & bed                                       & 004ae714                                  & 1                                         & wav                                       & 14861                                     &  -5797                                    &  -368.0                                   & -143                                      &  -99                                      & -53                                       & 136.0                                     &  7021                                     & 12818                                     & -95.1184981                               &  601.7973                                 & 1f68560e13cc793a24b7534c13c1f7e9         \\\\\n",
       "\t train/audio/bed/00f0204f\\_nohash\\_0.wav & train                                     & bed                                       & 00f0204f                                  & 0                                         & wav                                       & 16000                                     &  -2474                                    &  -322.1                                   &  -43                                      &   -1                                      &  34                                       & 218.1                                     &  2327                                     &  4801                                     &   0.0856875                               &  373.0592                                 & fac98e7ea4e2f6f71814410d05d717cd         \\\\\n",
       "\t train/audio/bed/00f0204f\\_nohash\\_1.wav & train                                     & bed                                       & 00f0204f                                  & 1                                         & wav                                       & 16000                                     &  -2527                                    &  -243.0                                   &  -38                                      &    0                                      &  33                                       & 166.1                                     &  2537                                     &  5064                                     &   0.0897500                               &  396.6656                                 & 9460317598ff20131007088e4d2d1a8f         \\\\\n",
       "\t train/audio/bed/012c8314\\_nohash\\_0.wav & train                                     & bed                                       & 012c8314                                  & 0                                         & wav                                       & 16000                                     &  -3268                                    &    45.0                                   &  170                                      &  249                                      & 336                                       & 439.0                                     &  2887                                     &  6155                                     & 242.9836250                               &  375.1439                                 & 8e9b5701dafd8d2d79f6b8062b7a11d0         \\\\\n",
       "\\end{tabular}\n"
      ],
      "text/markdown": [
       "\n",
       "filename | dataset | word | speakerID | utteranceIndex | extension | samples | min | Q10 | Q25 | median | Q75 | Q90 | max | range | mean | sd | md5sum | \n",
       "|---|---|---|---|---|---|\n",
       "| train/audio/bed/00176480_nohash_0.wav | train                                 | bed                                   | 00176480                              | 0                                     | wav                                   | 16000                                 | -16039                                | -1767.4                               |  -18                                  |    0                                  |  11                                   | 337.0                                 | 24735                                 | 40774                                 |  -1.0628750                           | 3043.4817                             | 3336677cade31ae52d0f9e6288ad679d      | \n",
       "| train/audio/bed/004ae714_nohash_0.wav | train                                 | bed                                   | 004ae714                              | 0                                     | wav                                   | 16000                                 | -11421                                |  -558.0                               | -149                                  | -100                                  | -50                                   | 285.1                                 | 12740                                 | 24161                                 | -95.1914375                           | 1220.9112                             | 6ea166114fb6b1466c06e6cf0d88aa8d      | \n",
       "| train/audio/bed/004ae714_nohash_1.wav | train                                 | bed                                   | 004ae714                              | 1                                     | wav                                   | 14861                                 |  -5797                                |  -368.0                               | -143                                  |  -99                                  | -53                                   | 136.0                                 |  7021                                 | 12818                                 | -95.1184981                           |  601.7973                             | 1f68560e13cc793a24b7534c13c1f7e9      | \n",
       "| train/audio/bed/00f0204f_nohash_0.wav | train                                 | bed                                   | 00f0204f                              | 0                                     | wav                                   | 16000                                 |  -2474                                |  -322.1                               |  -43                                  |   -1                                  |  34                                   | 218.1                                 |  2327                                 |  4801                                 |   0.0856875                           |  373.0592                             | fac98e7ea4e2f6f71814410d05d717cd      | \n",
       "| train/audio/bed/00f0204f_nohash_1.wav | train                                 | bed                                   | 00f0204f                              | 1                                     | wav                                   | 16000                                 |  -2527                                |  -243.0                               |  -38                                  |    0                                  |  33                                   | 166.1                                 |  2537                                 |  5064                                 |   0.0897500                           |  396.6656                             | 9460317598ff20131007088e4d2d1a8f      | \n",
       "| train/audio/bed/012c8314_nohash_0.wav | train                                 | bed                                   | 012c8314                              | 0                                     | wav                                   | 16000                                 |  -3268                                |    45.0                               |  170                                  |  249                                  | 336                                   | 439.0                                 |  2887                                 |  6155                                 | 242.9836250                           |  375.1439                             | 8e9b5701dafd8d2d79f6b8062b7a11d0      | \n",
       "\n",
       "\n"
      ],
      "text/plain": [
       "  filename                              dataset word speakerID utteranceIndex extension samples min    Q10     Q25  median Q75\n",
       "1 train/audio/bed/00176480_nohash_0.wav train   bed  00176480  0              wav       16000   -16039 -1767.4  -18    0    11\n",
       "2 train/audio/bed/004ae714_nohash_0.wav train   bed  004ae714  0              wav       16000   -11421  -558.0 -149 -100   -50\n",
       "3 train/audio/bed/004ae714_nohash_1.wav train   bed  004ae714  1              wav       14861    -5797  -368.0 -143  -99   -53\n",
       "4 train/audio/bed/00f0204f_nohash_0.wav train   bed  00f0204f  0              wav       16000    -2474  -322.1  -43   -1    34\n",
       "5 train/audio/bed/00f0204f_nohash_1.wav train   bed  00f0204f  1              wav       16000    -2527  -243.0  -38    0    33\n",
       "6 train/audio/bed/012c8314_nohash_0.wav train   bed  012c8314  0              wav       16000    -3268    45.0  170  249   336\n",
       "  Q90   max   range mean        sd        md5sum                          \n",
       "1 337.0 24735 40774  -1.0628750 3043.4817 3336677cade31ae52d0f9e6288ad679d\n",
       "2 285.1 12740 24161 -95.1914375 1220.9112 6ea166114fb6b1466c06e6cf0d88aa8d\n",
       "3 136.0  7021 12818 -95.1184981  601.7973 1f68560e13cc793a24b7534c13c1f7e9\n",
       "4 218.1  2327  4801   0.0856875  373.0592 fac98e7ea4e2f6f71814410d05d717cd\n",
       "5 166.1  2537  5064   0.0897500  396.6656 9460317598ff20131007088e4d2d1a8f\n",
       "6 439.0  2887  6155 242.9836250  375.1439 8e9b5701dafd8d2d79f6b8062b7a11d0"
      ]
     },
     "metadata": {},
     "output_type": "display_data"
    }
   ],
   "source": [
    "head(trainInfo)"
   ]
  },
  {
   "cell_type": "code",
   "execution_count": 27,
   "metadata": {
    "collapsed": true
   },
   "outputs": [],
   "source": [
    "write.csv(trainInfo, \"train-Kaggle-Speech-Recognition-File-Inventory.csv\", row.names=FALSE)"
   ]
  },
  {
   "cell_type": "markdown",
   "metadata": {},
   "source": [
    "## Number of unique train speakers"
   ]
  },
  {
   "cell_type": "code",
   "execution_count": 28,
   "metadata": {},
   "outputs": [
    {
     "data": {
      "text/html": [
       "1881"
      ],
      "text/latex": [
       "1881"
      ],
      "text/markdown": [
       "1881"
      ],
      "text/plain": [
       "[1] 1881"
      ]
     },
     "metadata": {},
     "output_type": "display_data"
    }
   ],
   "source": [
    "length(unique(trainInfo$speakerID))"
   ]
  },
  {
   "cell_type": "markdown",
   "metadata": {},
   "source": [
    "## Number of train utterances by word\n",
    "\n",
    "(zero-based indexing here)"
   ]
  },
  {
   "cell_type": "code",
   "execution_count": 29,
   "metadata": {},
   "outputs": [
    {
     "data": {
      "text/html": [
       "<table>\n",
       "<thead><tr><th></th><th scope=col>0</th><th scope=col>1</th><th scope=col>2</th><th scope=col>3</th><th scope=col>4</th><th scope=col>5</th><th scope=col>6</th><th scope=col>7</th><th scope=col>8</th><th scope=col>9</th><th scope=col>10</th><th scope=col>11</th><th scope=col>Total</th></tr></thead>\n",
       "<tbody>\n",
       "\t<tr><th scope=row>bed</th><td>1177</td><td>411 </td><td> 99 </td><td> 21 </td><td>  4 </td><td> 1  </td><td>0   </td><td>0   </td><td>0   </td><td>0   </td><td>0   </td><td>0   </td><td>1713</td></tr>\n",
       "\t<tr><th scope=row>bird</th><td>1194</td><td>410 </td><td>109 </td><td> 17 </td><td>  1 </td><td> 0  </td><td>0   </td><td>0   </td><td>0   </td><td>0   </td><td>0   </td><td>0   </td><td>1731</td></tr>\n",
       "\t<tr><th scope=row>cat</th><td>1180</td><td>413 </td><td>111 </td><td> 27 </td><td>  2 </td><td> 0  </td><td>0   </td><td>0   </td><td>0   </td><td>0   </td><td>0   </td><td>0   </td><td>1733</td></tr>\n",
       "\t<tr><th scope=row>dog</th><td>1209</td><td>417 </td><td>101 </td><td> 15 </td><td>  4 </td><td> 0  </td><td>0   </td><td>0   </td><td>0   </td><td>0   </td><td>0   </td><td>0   </td><td>1746</td></tr>\n",
       "\t<tr><th scope=row>down</th><td>1206</td><td>567 </td><td>257 </td><td>168 </td><td>149 </td><td> 5  </td><td>3   </td><td>3   </td><td>1   </td><td>0   </td><td>0   </td><td>0   </td><td>2359</td></tr>\n",
       "\t<tr><th scope=row>eight</th><td>1179</td><td>561 </td><td>276 </td><td>173 </td><td>150 </td><td> 8  </td><td>3   </td><td>1   </td><td>1   </td><td>0   </td><td>0   </td><td>0   </td><td>2352</td></tr>\n",
       "\t<tr><th scope=row>five</th><td>1181</td><td>571 </td><td>272 </td><td>173 </td><td>149 </td><td> 6  </td><td>4   </td><td>1   </td><td>0   </td><td>0   </td><td>0   </td><td>0   </td><td>2357</td></tr>\n",
       "\t<tr><th scope=row>four</th><td>1194</td><td>586 </td><td>260 </td><td>169 </td><td>148 </td><td> 8  </td><td>3   </td><td>2   </td><td>1   </td><td>1   </td><td>0   </td><td>0   </td><td>2372</td></tr>\n",
       "\t<tr><th scope=row>go</th><td>1182</td><td>574 </td><td>271 </td><td>170 </td><td>152 </td><td>10  </td><td>7   </td><td>4   </td><td>1   </td><td>1   </td><td>0   </td><td>0   </td><td>2372</td></tr>\n",
       "\t<tr><th scope=row>happy</th><td>1178</td><td>415 </td><td>124 </td><td> 22 </td><td>  2 </td><td> 1  </td><td>0   </td><td>0   </td><td>0   </td><td>0   </td><td>0   </td><td>0   </td><td>1742</td></tr>\n",
       "\t<tr><th scope=row>house</th><td>1165</td><td>439 </td><td>111 </td><td> 29 </td><td>  6 </td><td> 0  </td><td>0   </td><td>0   </td><td>0   </td><td>0   </td><td>0   </td><td>0   </td><td>1750</td></tr>\n",
       "\t<tr><th scope=row>left</th><td>1180</td><td>557 </td><td>274 </td><td>178 </td><td>149 </td><td>10  </td><td>3   </td><td>2   </td><td>0   </td><td>0   </td><td>0   </td><td>0   </td><td>2353</td></tr>\n",
       "\t<tr><th scope=row>marvin</th><td>1191</td><td>430 </td><td>102 </td><td> 21 </td><td>  1 </td><td> 1  </td><td>0   </td><td>0   </td><td>0   </td><td>0   </td><td>0   </td><td>0   </td><td>1746</td></tr>\n",
       "\t<tr><th scope=row>nine</th><td>1182</td><td>560 </td><td>269 </td><td>178 </td><td>155 </td><td> 8  </td><td>4   </td><td>3   </td><td>3   </td><td>2   </td><td>0   </td><td>0   </td><td>2364</td></tr>\n",
       "\t<tr><th scope=row>no</th><td>1203</td><td>572 </td><td>259 </td><td>176 </td><td>150 </td><td> 8  </td><td>3   </td><td>2   </td><td>1   </td><td>1   </td><td>0   </td><td>0   </td><td>2375</td></tr>\n",
       "\t<tr><th scope=row>off</th><td>1170</td><td>565 </td><td>273 </td><td>178 </td><td>152 </td><td> 8  </td><td>5   </td><td>3   </td><td>2   </td><td>1   </td><td>0   </td><td>0   </td><td>2357</td></tr>\n",
       "\t<tr><th scope=row>on</th><td>1198</td><td>571 </td><td>259 </td><td>170 </td><td>150 </td><td> 9  </td><td>5   </td><td>3   </td><td>1   </td><td>1   </td><td>0   </td><td>0   </td><td>2367</td></tr>\n",
       "\t<tr><th scope=row>one</th><td>1179</td><td>568 </td><td>274 </td><td>183 </td><td>154 </td><td> 5  </td><td>3   </td><td>2   </td><td>1   </td><td>1   </td><td>0   </td><td>0   </td><td>2370</td></tr>\n",
       "\t<tr><th scope=row>right</th><td>1194</td><td>562 </td><td>273 </td><td>169 </td><td>150 </td><td>10  </td><td>5   </td><td>3   </td><td>1   </td><td>0   </td><td>0   </td><td>0   </td><td>2367</td></tr>\n",
       "\t<tr><th scope=row>seven</th><td>1192</td><td>583 </td><td>257 </td><td>180 </td><td>151 </td><td> 7  </td><td>4   </td><td>3   </td><td>0   </td><td>0   </td><td>0   </td><td>0   </td><td>2377</td></tr>\n",
       "\t<tr><th scope=row>sheila</th><td>1178</td><td>420 </td><td>103 </td><td> 24 </td><td>  8 </td><td> 1  </td><td>0   </td><td>0   </td><td>0   </td><td>0   </td><td>0   </td><td>0   </td><td>1734</td></tr>\n",
       "\t<tr><th scope=row>six</th><td>1197</td><td>554 </td><td>265 </td><td>180 </td><td>153 </td><td> 9  </td><td>4   </td><td>2   </td><td>2   </td><td>1   </td><td>1   </td><td>1   </td><td>2369</td></tr>\n",
       "\t<tr><th scope=row>stop</th><td>1191</td><td>577 </td><td>275 </td><td>172 </td><td>151 </td><td> 7  </td><td>4   </td><td>1   </td><td>1   </td><td>1   </td><td>0   </td><td>0   </td><td>2380</td></tr>\n",
       "\t<tr><th scope=row>three</th><td>1202</td><td>562 </td><td>260 </td><td>170 </td><td>149 </td><td> 6  </td><td>3   </td><td>2   </td><td>1   </td><td>1   </td><td>0   </td><td>0   </td><td>2356</td></tr>\n",
       "\t<tr><th scope=row>tree</th><td>1173</td><td>401 </td><td>127 </td><td> 23 </td><td>  7 </td><td> 1  </td><td>1   </td><td>0   </td><td>0   </td><td>0   </td><td>0   </td><td>0   </td><td>1733</td></tr>\n",
       "\t<tr><th scope=row>two</th><td>1175</td><td>570 </td><td>286 </td><td>176 </td><td>150 </td><td> 5  </td><td>4   </td><td>3   </td><td>2   </td><td>2   </td><td>0   </td><td>0   </td><td>2373</td></tr>\n",
       "\t<tr><th scope=row>up</th><td>1186</td><td>569 </td><td>269 </td><td>181 </td><td>153 </td><td> 8  </td><td>4   </td><td>2   </td><td>2   </td><td>1   </td><td>0   </td><td>0   </td><td>2375</td></tr>\n",
       "\t<tr><th scope=row>wow</th><td>1181</td><td>418 </td><td>110 </td><td> 33 </td><td>  3 </td><td> 0  </td><td>0   </td><td>0   </td><td>0   </td><td>0   </td><td>0   </td><td>0   </td><td>1745</td></tr>\n",
       "\t<tr><th scope=row>yes</th><td>1200</td><td>559 </td><td>264 </td><td>176 </td><td>154 </td><td> 9  </td><td>5   </td><td>5   </td><td>2   </td><td>2   </td><td>1   </td><td>0   </td><td>2377</td></tr>\n",
       "\t<tr><th scope=row>zero</th><td>1186</td><td>574 </td><td>266 </td><td>178 </td><td>155 </td><td> 9  </td><td>3   </td><td>2   </td><td>2   </td><td>1   </td><td>0   </td><td>0   </td><td>2376</td></tr>\n",
       "</tbody>\n",
       "</table>\n"
      ],
      "text/latex": [
       "\\begin{tabular}{r|lllllllllllll}\n",
       "  & 0 & 1 & 2 & 3 & 4 & 5 & 6 & 7 & 8 & 9 & 10 & 11 & Total\\\\\n",
       "\\hline\n",
       "\tbed & 1177 & 411  &  99  &  21  &   4  &  1   & 0    & 0    & 0    & 0    & 0    & 0    & 1713\\\\\n",
       "\tbird & 1194 & 410  & 109  &  17  &   1  &  0   & 0    & 0    & 0    & 0    & 0    & 0    & 1731\\\\\n",
       "\tcat & 1180 & 413  & 111  &  27  &   2  &  0   & 0    & 0    & 0    & 0    & 0    & 0    & 1733\\\\\n",
       "\tdog & 1209 & 417  & 101  &  15  &   4  &  0   & 0    & 0    & 0    & 0    & 0    & 0    & 1746\\\\\n",
       "\tdown & 1206 & 567  & 257  & 168  & 149  &  5   & 3    & 3    & 1    & 0    & 0    & 0    & 2359\\\\\n",
       "\teight & 1179 & 561  & 276  & 173  & 150  &  8   & 3    & 1    & 1    & 0    & 0    & 0    & 2352\\\\\n",
       "\tfive & 1181 & 571  & 272  & 173  & 149  &  6   & 4    & 1    & 0    & 0    & 0    & 0    & 2357\\\\\n",
       "\tfour & 1194 & 586  & 260  & 169  & 148  &  8   & 3    & 2    & 1    & 1    & 0    & 0    & 2372\\\\\n",
       "\tgo & 1182 & 574  & 271  & 170  & 152  & 10   & 7    & 4    & 1    & 1    & 0    & 0    & 2372\\\\\n",
       "\thappy & 1178 & 415  & 124  &  22  &   2  &  1   & 0    & 0    & 0    & 0    & 0    & 0    & 1742\\\\\n",
       "\thouse & 1165 & 439  & 111  &  29  &   6  &  0   & 0    & 0    & 0    & 0    & 0    & 0    & 1750\\\\\n",
       "\tleft & 1180 & 557  & 274  & 178  & 149  & 10   & 3    & 2    & 0    & 0    & 0    & 0    & 2353\\\\\n",
       "\tmarvin & 1191 & 430  & 102  &  21  &   1  &  1   & 0    & 0    & 0    & 0    & 0    & 0    & 1746\\\\\n",
       "\tnine & 1182 & 560  & 269  & 178  & 155  &  8   & 4    & 3    & 3    & 2    & 0    & 0    & 2364\\\\\n",
       "\tno & 1203 & 572  & 259  & 176  & 150  &  8   & 3    & 2    & 1    & 1    & 0    & 0    & 2375\\\\\n",
       "\toff & 1170 & 565  & 273  & 178  & 152  &  8   & 5    & 3    & 2    & 1    & 0    & 0    & 2357\\\\\n",
       "\ton & 1198 & 571  & 259  & 170  & 150  &  9   & 5    & 3    & 1    & 1    & 0    & 0    & 2367\\\\\n",
       "\tone & 1179 & 568  & 274  & 183  & 154  &  5   & 3    & 2    & 1    & 1    & 0    & 0    & 2370\\\\\n",
       "\tright & 1194 & 562  & 273  & 169  & 150  & 10   & 5    & 3    & 1    & 0    & 0    & 0    & 2367\\\\\n",
       "\tseven & 1192 & 583  & 257  & 180  & 151  &  7   & 4    & 3    & 0    & 0    & 0    & 0    & 2377\\\\\n",
       "\tsheila & 1178 & 420  & 103  &  24  &   8  &  1   & 0    & 0    & 0    & 0    & 0    & 0    & 1734\\\\\n",
       "\tsix & 1197 & 554  & 265  & 180  & 153  &  9   & 4    & 2    & 2    & 1    & 1    & 1    & 2369\\\\\n",
       "\tstop & 1191 & 577  & 275  & 172  & 151  &  7   & 4    & 1    & 1    & 1    & 0    & 0    & 2380\\\\\n",
       "\tthree & 1202 & 562  & 260  & 170  & 149  &  6   & 3    & 2    & 1    & 1    & 0    & 0    & 2356\\\\\n",
       "\ttree & 1173 & 401  & 127  &  23  &   7  &  1   & 1    & 0    & 0    & 0    & 0    & 0    & 1733\\\\\n",
       "\ttwo & 1175 & 570  & 286  & 176  & 150  &  5   & 4    & 3    & 2    & 2    & 0    & 0    & 2373\\\\\n",
       "\tup & 1186 & 569  & 269  & 181  & 153  &  8   & 4    & 2    & 2    & 1    & 0    & 0    & 2375\\\\\n",
       "\twow & 1181 & 418  & 110  &  33  &   3  &  0   & 0    & 0    & 0    & 0    & 0    & 0    & 1745\\\\\n",
       "\tyes & 1200 & 559  & 264  & 176  & 154  &  9   & 5    & 5    & 2    & 2    & 1    & 0    & 2377\\\\\n",
       "\tzero & 1186 & 574  & 266  & 178  & 155  &  9   & 3    & 2    & 2    & 1    & 0    & 0    & 2376\\\\\n",
       "\\end{tabular}\n"
      ],
      "text/markdown": [
       "\n",
       "| <!--/--> | 0 | 1 | 2 | 3 | 4 | 5 | 6 | 7 | 8 | 9 | 10 | 11 | Total | \n",
       "|---|---|---|---|---|---|---|---|---|---|---|---|---|---|---|---|---|---|---|---|---|---|---|---|---|---|---|---|---|---|\n",
       "| bed | 1177 | 411  |  99  |  21  |   4  |  1   | 0    | 0    | 0    | 0    | 0    | 0    | 1713 | \n",
       "| bird | 1194 | 410  | 109  |  17  |   1  |  0   | 0    | 0    | 0    | 0    | 0    | 0    | 1731 | \n",
       "| cat | 1180 | 413  | 111  |  27  |   2  |  0   | 0    | 0    | 0    | 0    | 0    | 0    | 1733 | \n",
       "| dog | 1209 | 417  | 101  |  15  |   4  |  0   | 0    | 0    | 0    | 0    | 0    | 0    | 1746 | \n",
       "| down | 1206 | 567  | 257  | 168  | 149  |  5   | 3    | 3    | 1    | 0    | 0    | 0    | 2359 | \n",
       "| eight | 1179 | 561  | 276  | 173  | 150  |  8   | 3    | 1    | 1    | 0    | 0    | 0    | 2352 | \n",
       "| five | 1181 | 571  | 272  | 173  | 149  |  6   | 4    | 1    | 0    | 0    | 0    | 0    | 2357 | \n",
       "| four | 1194 | 586  | 260  | 169  | 148  |  8   | 3    | 2    | 1    | 1    | 0    | 0    | 2372 | \n",
       "| go | 1182 | 574  | 271  | 170  | 152  | 10   | 7    | 4    | 1    | 1    | 0    | 0    | 2372 | \n",
       "| happy | 1178 | 415  | 124  |  22  |   2  |  1   | 0    | 0    | 0    | 0    | 0    | 0    | 1742 | \n",
       "| house | 1165 | 439  | 111  |  29  |   6  |  0   | 0    | 0    | 0    | 0    | 0    | 0    | 1750 | \n",
       "| left | 1180 | 557  | 274  | 178  | 149  | 10   | 3    | 2    | 0    | 0    | 0    | 0    | 2353 | \n",
       "| marvin | 1191 | 430  | 102  |  21  |   1  |  1   | 0    | 0    | 0    | 0    | 0    | 0    | 1746 | \n",
       "| nine | 1182 | 560  | 269  | 178  | 155  |  8   | 4    | 3    | 3    | 2    | 0    | 0    | 2364 | \n",
       "| no | 1203 | 572  | 259  | 176  | 150  |  8   | 3    | 2    | 1    | 1    | 0    | 0    | 2375 | \n",
       "| off | 1170 | 565  | 273  | 178  | 152  |  8   | 5    | 3    | 2    | 1    | 0    | 0    | 2357 | \n",
       "| on | 1198 | 571  | 259  | 170  | 150  |  9   | 5    | 3    | 1    | 1    | 0    | 0    | 2367 | \n",
       "| one | 1179 | 568  | 274  | 183  | 154  |  5   | 3    | 2    | 1    | 1    | 0    | 0    | 2370 | \n",
       "| right | 1194 | 562  | 273  | 169  | 150  | 10   | 5    | 3    | 1    | 0    | 0    | 0    | 2367 | \n",
       "| seven | 1192 | 583  | 257  | 180  | 151  |  7   | 4    | 3    | 0    | 0    | 0    | 0    | 2377 | \n",
       "| sheila | 1178 | 420  | 103  |  24  |   8  |  1   | 0    | 0    | 0    | 0    | 0    | 0    | 1734 | \n",
       "| six | 1197 | 554  | 265  | 180  | 153  |  9   | 4    | 2    | 2    | 1    | 1    | 1    | 2369 | \n",
       "| stop | 1191 | 577  | 275  | 172  | 151  |  7   | 4    | 1    | 1    | 1    | 0    | 0    | 2380 | \n",
       "| three | 1202 | 562  | 260  | 170  | 149  |  6   | 3    | 2    | 1    | 1    | 0    | 0    | 2356 | \n",
       "| tree | 1173 | 401  | 127  |  23  |   7  |  1   | 1    | 0    | 0    | 0    | 0    | 0    | 1733 | \n",
       "| two | 1175 | 570  | 286  | 176  | 150  |  5   | 4    | 3    | 2    | 2    | 0    | 0    | 2373 | \n",
       "| up | 1186 | 569  | 269  | 181  | 153  |  8   | 4    | 2    | 2    | 1    | 0    | 0    | 2375 | \n",
       "| wow | 1181 | 418  | 110  |  33  |   3  |  0   | 0    | 0    | 0    | 0    | 0    | 0    | 1745 | \n",
       "| yes | 1200 | 559  | 264  | 176  | 154  |  9   | 5    | 5    | 2    | 2    | 1    | 0    | 2377 | \n",
       "| zero | 1186 | 574  | 266  | 178  | 155  |  9   | 3    | 2    | 2    | 1    | 0    | 0    | 2376 | \n",
       "\n",
       "\n"
      ],
      "text/plain": [
       "       0    1   2   3   4   5  6 7 8 9 10 11 Total\n",
       "bed    1177 411  99  21   4  1 0 0 0 0 0  0  1713 \n",
       "bird   1194 410 109  17   1  0 0 0 0 0 0  0  1731 \n",
       "cat    1180 413 111  27   2  0 0 0 0 0 0  0  1733 \n",
       "dog    1209 417 101  15   4  0 0 0 0 0 0  0  1746 \n",
       "down   1206 567 257 168 149  5 3 3 1 0 0  0  2359 \n",
       "eight  1179 561 276 173 150  8 3 1 1 0 0  0  2352 \n",
       "five   1181 571 272 173 149  6 4 1 0 0 0  0  2357 \n",
       "four   1194 586 260 169 148  8 3 2 1 1 0  0  2372 \n",
       "go     1182 574 271 170 152 10 7 4 1 1 0  0  2372 \n",
       "happy  1178 415 124  22   2  1 0 0 0 0 0  0  1742 \n",
       "house  1165 439 111  29   6  0 0 0 0 0 0  0  1750 \n",
       "left   1180 557 274 178 149 10 3 2 0 0 0  0  2353 \n",
       "marvin 1191 430 102  21   1  1 0 0 0 0 0  0  1746 \n",
       "nine   1182 560 269 178 155  8 4 3 3 2 0  0  2364 \n",
       "no     1203 572 259 176 150  8 3 2 1 1 0  0  2375 \n",
       "off    1170 565 273 178 152  8 5 3 2 1 0  0  2357 \n",
       "on     1198 571 259 170 150  9 5 3 1 1 0  0  2367 \n",
       "one    1179 568 274 183 154  5 3 2 1 1 0  0  2370 \n",
       "right  1194 562 273 169 150 10 5 3 1 0 0  0  2367 \n",
       "seven  1192 583 257 180 151  7 4 3 0 0 0  0  2377 \n",
       "sheila 1178 420 103  24   8  1 0 0 0 0 0  0  1734 \n",
       "six    1197 554 265 180 153  9 4 2 2 1 1  1  2369 \n",
       "stop   1191 577 275 172 151  7 4 1 1 1 0  0  2380 \n",
       "three  1202 562 260 170 149  6 3 2 1 1 0  0  2356 \n",
       "tree   1173 401 127  23   7  1 1 0 0 0 0  0  1733 \n",
       "two    1175 570 286 176 150  5 4 3 2 2 0  0  2373 \n",
       "up     1186 569 269 181 153  8 4 2 2 1 0  0  2375 \n",
       "wow    1181 418 110  33   3  0 0 0 0 0 0  0  1745 \n",
       "yes    1200 559 264 176 154  9 5 5 2 2 1  0  2377 \n",
       "zero   1186 574 266 178 155  9 3 2 2 1 0  0  2376 "
      ]
     },
     "metadata": {},
     "output_type": "display_data"
    }
   ],
   "source": [
    "wordUtteranceCounts <- as.data.frame.matrix( table(trainInfo$word, as.numeric(trainInfo$utteranceIndex)) )\n",
    "wordUtteranceCounts <- cbind(wordUtteranceCounts, Total=apply(wordUtteranceCounts, 1, sum))\n",
    "wordUtteranceCounts"
   ]
  },
  {
   "cell_type": "markdown",
   "metadata": {},
   "source": [
    "# Test Files\n",
    "\n",
    "## Get names of all test files"
   ]
  },
  {
   "cell_type": "code",
   "execution_count": 30,
   "metadata": {},
   "outputs": [
    {
     "data": {
      "text/html": [
       "158538"
      ],
      "text/latex": [
       "158538"
      ],
      "text/markdown": [
       "158538"
      ],
      "text/plain": [
       "[1] 158538"
      ]
     },
     "metadata": {},
     "output_type": "display_data"
    },
    {
     "data": {
      "text/html": [
       "<ol class=list-inline>\n",
       "\t<li>'../../input/test/audio/clip_000044442.wav'</li>\n",
       "\t<li>'../../input/test/audio/clip_0000adecb.wav'</li>\n",
       "\t<li>'../../input/test/audio/clip_0000d4322.wav'</li>\n",
       "\t<li>'../../input/test/audio/clip_0000fb6fe.wav'</li>\n",
       "\t<li>'../../input/test/audio/clip_0001d1559.wav'</li>\n",
       "\t<li>'../../input/test/audio/clip_0002256ed.wav'</li>\n",
       "</ol>\n"
      ],
      "text/latex": [
       "\\begin{enumerate*}\n",
       "\\item '../../input/test/audio/clip\\_000044442.wav'\n",
       "\\item '../../input/test/audio/clip\\_0000adecb.wav'\n",
       "\\item '../../input/test/audio/clip\\_0000d4322.wav'\n",
       "\\item '../../input/test/audio/clip\\_0000fb6fe.wav'\n",
       "\\item '../../input/test/audio/clip\\_0001d1559.wav'\n",
       "\\item '../../input/test/audio/clip\\_0002256ed.wav'\n",
       "\\end{enumerate*}\n"
      ],
      "text/markdown": [
       "1. '../../input/test/audio/clip_000044442.wav'\n",
       "2. '../../input/test/audio/clip_0000adecb.wav'\n",
       "3. '../../input/test/audio/clip_0000d4322.wav'\n",
       "4. '../../input/test/audio/clip_0000fb6fe.wav'\n",
       "5. '../../input/test/audio/clip_0001d1559.wav'\n",
       "6. '../../input/test/audio/clip_0002256ed.wav'\n",
       "\n",
       "\n"
      ],
      "text/plain": [
       "[1] \"../../input/test/audio/clip_000044442.wav\" \"../../input/test/audio/clip_0000adecb.wav\"\n",
       "[3] \"../../input/test/audio/clip_0000d4322.wav\" \"../../input/test/audio/clip_0000fb6fe.wav\"\n",
       "[5] \"../../input/test/audio/clip_0001d1559.wav\" \"../../input/test/audio/clip_0002256ed.wav\""
      ]
     },
     "metadata": {},
     "output_type": "display_data"
    }
   ],
   "source": [
    "testFilenames <- list.files(path=paste0(dataDir, \"test\"), \n",
    "                            pattern=\"^.*\\\\.wav$\",\n",
    "                            recursive=TRUE, full.names=TRUE)\n",
    "\n",
    "length(testFilenames)\n",
    "head(testFilenames)"
   ]
  },
  {
   "cell_type": "markdown",
   "metadata": {},
   "source": [
    "## Create md5sum and collect sound properties for each file"
   ]
  },
  {
   "cell_type": "code",
   "execution_count": 31,
   "metadata": {
    "collapsed": true
   },
   "outputs": [],
   "source": [
    "cluster <- makePSOCKcluster(detectCores() - 2)\n",
    "registerDoParallel(cluster)   \n",
    "\n",
    "testSoundInfo <- foreach(i = 1:length(testFilenames), .combine=rbind) %dopar%\n",
    "{    \n",
    "    soundWave <- tuneR::readWave(testFilenames[i])\n",
    "    \n",
    "    q <- quantile(soundWave@left, c(0.0, 0.10, 0.25, 0.50, 0.75, 0.90, 1.0))  \n",
    "    \n",
    "    data.frame(\n",
    "           filename          = testFilenames[i],          \n",
    "           samples           = length(soundWave@left),\n",
    "           durationSeconds   = length(soundWave@left) / soundWave@samp.rate,\n",
    "           samplingRateHertz = soundWave@samp.rate,\n",
    "           channels          = ifelse(soundWave@stereo, \"Stero\", \"Mono\"),\n",
    "           pcmIntFormat      = soundWave@pcm,\n",
    "           bitsPerSample     = soundWave@bit,\n",
    "        \n",
    "           # Waveform stats\n",
    "           min               = q[1],   # Quantiles\n",
    "           Q10               = q[2],\n",
    "           Q25               = q[3],\n",
    "           median            = q[4],\n",
    "           Q75               = q[5],\n",
    "           Q90               = q[6],\n",
    "           max               = q[7],\n",
    "\n",
    "           range             = q[7] - q[1],\n",
    "\n",
    "           mean              = mean(soundWave@left),\n",
    "           sd                = sd(soundWave@left),                                                     \n",
    "        \n",
    "           md5sum            = tools::md5sum(testFilenames[i]),\n",
    "        \n",
    "           row.names         = NULL,\n",
    "           stringsAsFactors  = FALSE)\n",
    "}\n",
    "\n",
    "stopCluster(cluster)"
   ]
  },
  {
   "cell_type": "markdown",
   "metadata": {},
   "source": [
    "## Verify sound properties common for all test files"
   ]
  },
  {
   "cell_type": "code",
   "execution_count": 32,
   "metadata": {
    "scrolled": false
   },
   "outputs": [
    {
     "data": {
      "text/html": [
       "<ol class=list-inline>\n",
       "\t<li>158538</li>\n",
       "\t<li>18</li>\n",
       "</ol>\n"
      ],
      "text/latex": [
       "\\begin{enumerate*}\n",
       "\\item 158538\n",
       "\\item 18\n",
       "\\end{enumerate*}\n"
      ],
      "text/markdown": [
       "1. 158538\n",
       "2. 18\n",
       "\n",
       "\n"
      ],
      "text/plain": [
       "[1] 158538     18"
      ]
     },
     "metadata": {},
     "output_type": "display_data"
    }
   ],
   "source": [
    "dim(testSoundInfo)"
   ]
  },
  {
   "cell_type": "code",
   "execution_count": 33,
   "metadata": {},
   "outputs": [
    {
     "data": {
      "text/html": [
       "<table>\n",
       "<thead><tr><th scope=col>filename</th><th scope=col>samples</th><th scope=col>durationSeconds</th><th scope=col>samplingRateHertz</th><th scope=col>channels</th><th scope=col>pcmIntFormat</th><th scope=col>bitsPerSample</th><th scope=col>min</th><th scope=col>Q10</th><th scope=col>Q25</th><th scope=col>median</th><th scope=col>Q75</th><th scope=col>Q90</th><th scope=col>max</th><th scope=col>range</th><th scope=col>mean</th><th scope=col>sd</th><th scope=col>md5sum</th></tr></thead>\n",
       "<tbody>\n",
       "\t<tr><td>../../input/test/audio/clip_000044442.wav</td><td>16000                                    </td><td>1                                        </td><td>16000                                    </td><td>Mono                                     </td><td>TRUE                                     </td><td>16                                       </td><td>-19364                                   </td><td>-1187.6                                  </td><td>-113.00                                  </td><td> 6                                       </td><td>128                                      </td><td>2612.6                                   </td><td>11836                                    </td><td>31200                                    </td><td>-11.9253750                              </td><td>3110.6630                                </td><td>2fdd0b20ce292dd241731997644480f3         </td></tr>\n",
       "\t<tr><td>../../input/test/audio/clip_0000adecb.wav</td><td>16000                                    </td><td>1                                        </td><td>16000                                    </td><td>Mono                                     </td><td>TRUE                                     </td><td>16                                       </td><td> -7783                                   </td><td> -492.1                                  </td><td> -29.00                                  </td><td> 0                                       </td><td> 26                                      </td><td> 390.0                                   </td><td>11594                                    </td><td>19377                                    </td><td> -0.2610625                              </td><td> 885.3153                                </td><td>d950098ef59227be68c5168fb116c401         </td></tr>\n",
       "\t<tr><td>../../input/test/audio/clip_0000d4322.wav</td><td>16000                                    </td><td>1                                        </td><td>16000                                    </td><td>Mono                                     </td><td>TRUE                                     </td><td>16                                       </td><td>-10175                                   </td><td>-2030.2                                  </td><td>-569.25                                  </td><td>-3                                       </td><td>118                                      </td><td>1983.2                                   </td><td>14092                                    </td><td>24267                                    </td><td>  0.0138125                              </td><td>2052.8181                                </td><td>6df124df1eaa7f24cd76d30c80190c38         </td></tr>\n",
       "\t<tr><td>../../input/test/audio/clip_0000fb6fe.wav</td><td>16000                                    </td><td>1                                        </td><td>16000                                    </td><td>Mono                                     </td><td>TRUE                                     </td><td>16                                       </td><td> -2748                                   </td><td>  -96.0                                  </td><td> -45.00                                  </td><td> 2                                       </td><td> 46                                      </td><td>  92.0                                   </td><td> 2775                                    </td><td> 5523                                    </td><td> -0.6893750                              </td><td> 193.1339                                </td><td>dc6083b93c227585a531d2414c42cd84         </td></tr>\n",
       "\t<tr><td>../../input/test/audio/clip_0001d1559.wav</td><td>16000                                    </td><td>1                                        </td><td>16000                                    </td><td>Mono                                     </td><td>TRUE                                     </td><td>16                                       </td><td>-20120                                   </td><td>-4109.2                                  </td><td>-256.00                                  </td><td>-1                                       </td><td>217                                      </td><td>4175.0                                   </td><td>21861                                    </td><td>41981                                    </td><td> -4.1986250                              </td><td>4206.9926                                </td><td>eb966b44bf6cde8b8f31156900cb22a7         </td></tr>\n",
       "\t<tr><td>../../input/test/audio/clip_0002256ed.wav</td><td>16000                                    </td><td>1                                        </td><td>16000                                    </td><td>Mono                                     </td><td>TRUE                                     </td><td>16                                       </td><td> -5786                                   </td><td>-1182.1                                  </td><td> -53.00                                  </td><td> 2                                       </td><td>252                                      </td><td>1163.1                                   </td><td> 4440                                    </td><td>10226                                    </td><td>  2.3092500                              </td><td>1124.2620                                </td><td>3e1c2b8e9d8e9f24d26e6b1a82b8b634         </td></tr>\n",
       "</tbody>\n",
       "</table>\n"
      ],
      "text/latex": [
       "\\begin{tabular}{r|llllllllllllllllll}\n",
       " filename & samples & durationSeconds & samplingRateHertz & channels & pcmIntFormat & bitsPerSample & min & Q10 & Q25 & median & Q75 & Q90 & max & range & mean & sd & md5sum\\\\\n",
       "\\hline\n",
       "\t ../../input/test/audio/clip\\_000044442.wav & 16000                                       & 1                                           & 16000                                       & Mono                                        & TRUE                                        & 16                                          & -19364                                      & -1187.6                                     & -113.00                                     &  6                                          & 128                                         & 2612.6                                      & 11836                                       & 31200                                       & -11.9253750                                 & 3110.6630                                   & 2fdd0b20ce292dd241731997644480f3           \\\\\n",
       "\t ../../input/test/audio/clip\\_0000adecb.wav & 16000                                       & 1                                           & 16000                                       & Mono                                        & TRUE                                        & 16                                          &  -7783                                      &  -492.1                                     &  -29.00                                     &  0                                          &  26                                         &  390.0                                      & 11594                                       & 19377                                       &  -0.2610625                                 &  885.3153                                   & d950098ef59227be68c5168fb116c401           \\\\\n",
       "\t ../../input/test/audio/clip\\_0000d4322.wav & 16000                                       & 1                                           & 16000                                       & Mono                                        & TRUE                                        & 16                                          & -10175                                      & -2030.2                                     & -569.25                                     & -3                                          & 118                                         & 1983.2                                      & 14092                                       & 24267                                       &   0.0138125                                 & 2052.8181                                   & 6df124df1eaa7f24cd76d30c80190c38           \\\\\n",
       "\t ../../input/test/audio/clip\\_0000fb6fe.wav & 16000                                       & 1                                           & 16000                                       & Mono                                        & TRUE                                        & 16                                          &  -2748                                      &   -96.0                                     &  -45.00                                     &  2                                          &  46                                         &   92.0                                      &  2775                                       &  5523                                       &  -0.6893750                                 &  193.1339                                   & dc6083b93c227585a531d2414c42cd84           \\\\\n",
       "\t ../../input/test/audio/clip\\_0001d1559.wav & 16000                                       & 1                                           & 16000                                       & Mono                                        & TRUE                                        & 16                                          & -20120                                      & -4109.2                                     & -256.00                                     & -1                                          & 217                                         & 4175.0                                      & 21861                                       & 41981                                       &  -4.1986250                                 & 4206.9926                                   & eb966b44bf6cde8b8f31156900cb22a7           \\\\\n",
       "\t ../../input/test/audio/clip\\_0002256ed.wav & 16000                                       & 1                                           & 16000                                       & Mono                                        & TRUE                                        & 16                                          &  -5786                                      & -1182.1                                     &  -53.00                                     &  2                                          & 252                                         & 1163.1                                      &  4440                                       & 10226                                       &   2.3092500                                 & 1124.2620                                   & 3e1c2b8e9d8e9f24d26e6b1a82b8b634           \\\\\n",
       "\\end{tabular}\n"
      ],
      "text/markdown": [
       "\n",
       "filename | samples | durationSeconds | samplingRateHertz | channels | pcmIntFormat | bitsPerSample | min | Q10 | Q25 | median | Q75 | Q90 | max | range | mean | sd | md5sum | \n",
       "|---|---|---|---|---|---|\n",
       "| ../../input/test/audio/clip_000044442.wav | 16000                                     | 1                                         | 16000                                     | Mono                                      | TRUE                                      | 16                                        | -19364                                    | -1187.6                                   | -113.00                                   |  6                                        | 128                                       | 2612.6                                    | 11836                                     | 31200                                     | -11.9253750                               | 3110.6630                                 | 2fdd0b20ce292dd241731997644480f3          | \n",
       "| ../../input/test/audio/clip_0000adecb.wav | 16000                                     | 1                                         | 16000                                     | Mono                                      | TRUE                                      | 16                                        |  -7783                                    |  -492.1                                   |  -29.00                                   |  0                                        |  26                                       |  390.0                                    | 11594                                     | 19377                                     |  -0.2610625                               |  885.3153                                 | d950098ef59227be68c5168fb116c401          | \n",
       "| ../../input/test/audio/clip_0000d4322.wav | 16000                                     | 1                                         | 16000                                     | Mono                                      | TRUE                                      | 16                                        | -10175                                    | -2030.2                                   | -569.25                                   | -3                                        | 118                                       | 1983.2                                    | 14092                                     | 24267                                     |   0.0138125                               | 2052.8181                                 | 6df124df1eaa7f24cd76d30c80190c38          | \n",
       "| ../../input/test/audio/clip_0000fb6fe.wav | 16000                                     | 1                                         | 16000                                     | Mono                                      | TRUE                                      | 16                                        |  -2748                                    |   -96.0                                   |  -45.00                                   |  2                                        |  46                                       |   92.0                                    |  2775                                     |  5523                                     |  -0.6893750                               |  193.1339                                 | dc6083b93c227585a531d2414c42cd84          | \n",
       "| ../../input/test/audio/clip_0001d1559.wav | 16000                                     | 1                                         | 16000                                     | Mono                                      | TRUE                                      | 16                                        | -20120                                    | -4109.2                                   | -256.00                                   | -1                                        | 217                                       | 4175.0                                    | 21861                                     | 41981                                     |  -4.1986250                               | 4206.9926                                 | eb966b44bf6cde8b8f31156900cb22a7          | \n",
       "| ../../input/test/audio/clip_0002256ed.wav | 16000                                     | 1                                         | 16000                                     | Mono                                      | TRUE                                      | 16                                        |  -5786                                    | -1182.1                                   |  -53.00                                   |  2                                        | 252                                       | 1163.1                                    |  4440                                     | 10226                                     |   2.3092500                               | 1124.2620                                 | 3e1c2b8e9d8e9f24d26e6b1a82b8b634          | \n",
       "\n",
       "\n"
      ],
      "text/plain": [
       "  filename                                  samples durationSeconds samplingRateHertz channels pcmIntFormat bitsPerSample min   \n",
       "1 ../../input/test/audio/clip_000044442.wav 16000   1               16000             Mono     TRUE         16            -19364\n",
       "2 ../../input/test/audio/clip_0000adecb.wav 16000   1               16000             Mono     TRUE         16             -7783\n",
       "3 ../../input/test/audio/clip_0000d4322.wav 16000   1               16000             Mono     TRUE         16            -10175\n",
       "4 ../../input/test/audio/clip_0000fb6fe.wav 16000   1               16000             Mono     TRUE         16             -2748\n",
       "5 ../../input/test/audio/clip_0001d1559.wav 16000   1               16000             Mono     TRUE         16            -20120\n",
       "6 ../../input/test/audio/clip_0002256ed.wav 16000   1               16000             Mono     TRUE         16             -5786\n",
       "  Q10     Q25     median Q75 Q90    max   range mean        sd        md5sum                          \n",
       "1 -1187.6 -113.00  6     128 2612.6 11836 31200 -11.9253750 3110.6630 2fdd0b20ce292dd241731997644480f3\n",
       "2  -492.1  -29.00  0      26  390.0 11594 19377  -0.2610625  885.3153 d950098ef59227be68c5168fb116c401\n",
       "3 -2030.2 -569.25 -3     118 1983.2 14092 24267   0.0138125 2052.8181 6df124df1eaa7f24cd76d30c80190c38\n",
       "4   -96.0  -45.00  2      46   92.0  2775  5523  -0.6893750  193.1339 dc6083b93c227585a531d2414c42cd84\n",
       "5 -4109.2 -256.00 -1     217 4175.0 21861 41981  -4.1986250 4206.9926 eb966b44bf6cde8b8f31156900cb22a7\n",
       "6 -1182.1  -53.00  2     252 1163.1  4440 10226   2.3092500 1124.2620 3e1c2b8e9d8e9f24d26e6b1a82b8b634"
      ]
     },
     "metadata": {},
     "output_type": "display_data"
    }
   ],
   "source": [
    "head(testSoundInfo)"
   ]
  },
  {
   "cell_type": "code",
   "execution_count": 34,
   "metadata": {},
   "outputs": [
    {
     "data": {
      "text/plain": [
       "\n",
       " 16000 \n",
       "158538 "
      ]
     },
     "metadata": {},
     "output_type": "display_data"
    }
   ],
   "source": [
    "table(testSoundInfo$samplingRateHertz)"
   ]
  },
  {
   "cell_type": "code",
   "execution_count": 35,
   "metadata": {},
   "outputs": [
    {
     "data": {
      "text/plain": [
       "\n",
       "  Mono \n",
       "158538 "
      ]
     },
     "metadata": {},
     "output_type": "display_data"
    }
   ],
   "source": [
    "table(testSoundInfo$channels)"
   ]
  },
  {
   "cell_type": "code",
   "execution_count": 36,
   "metadata": {},
   "outputs": [
    {
     "data": {
      "text/plain": [
       "\n",
       "  TRUE \n",
       "158538 "
      ]
     },
     "metadata": {},
     "output_type": "display_data"
    }
   ],
   "source": [
    "table(testSoundInfo$pcmIntFormat)"
   ]
  },
  {
   "cell_type": "code",
   "execution_count": 37,
   "metadata": {},
   "outputs": [
    {
     "data": {
      "text/plain": [
       "\n",
       "    16 \n",
       "158538 "
      ]
     },
     "metadata": {},
     "output_type": "display_data"
    }
   ],
   "source": [
    "table(testSoundInfo$bitsPerSample)"
   ]
  },
  {
   "cell_type": "markdown",
   "metadata": {},
   "source": [
    "Since the above sound properties are verified to be constants, let's not bother with them"
   ]
  },
  {
   "cell_type": "code",
   "execution_count": 38,
   "metadata": {
    "collapsed": true
   },
   "outputs": [],
   "source": [
    "testSoundInfo <- testSoundInfo %>% select(-samplingRateHertz, -channels, -pcmIntFormat, -bitsPerSample)"
   ]
  },
  {
   "cell_type": "code",
   "execution_count": 39,
   "metadata": {},
   "outputs": [
    {
     "data": {
      "text/html": [
       "<table>\n",
       "<thead><tr><th scope=col>filename</th><th scope=col>samples</th><th scope=col>durationSeconds</th><th scope=col>min</th><th scope=col>Q10</th><th scope=col>Q25</th><th scope=col>median</th><th scope=col>Q75</th><th scope=col>Q90</th><th scope=col>max</th><th scope=col>range</th><th scope=col>mean</th><th scope=col>sd</th><th scope=col>md5sum</th></tr></thead>\n",
       "<tbody>\n",
       "\t<tr><td>../../input/test/audio/clip_000044442.wav</td><td>16000                                    </td><td>1                                        </td><td>-19364                                   </td><td>-1187.6                                  </td><td>-113.00                                  </td><td> 6                                       </td><td>128                                      </td><td>2612.6                                   </td><td>11836                                    </td><td>31200                                    </td><td>-11.9253750                              </td><td>3110.6630                                </td><td>2fdd0b20ce292dd241731997644480f3         </td></tr>\n",
       "\t<tr><td>../../input/test/audio/clip_0000adecb.wav</td><td>16000                                    </td><td>1                                        </td><td> -7783                                   </td><td> -492.1                                  </td><td> -29.00                                  </td><td> 0                                       </td><td> 26                                      </td><td> 390.0                                   </td><td>11594                                    </td><td>19377                                    </td><td> -0.2610625                              </td><td> 885.3153                                </td><td>d950098ef59227be68c5168fb116c401         </td></tr>\n",
       "\t<tr><td>../../input/test/audio/clip_0000d4322.wav</td><td>16000                                    </td><td>1                                        </td><td>-10175                                   </td><td>-2030.2                                  </td><td>-569.25                                  </td><td>-3                                       </td><td>118                                      </td><td>1983.2                                   </td><td>14092                                    </td><td>24267                                    </td><td>  0.0138125                              </td><td>2052.8181                                </td><td>6df124df1eaa7f24cd76d30c80190c38         </td></tr>\n",
       "\t<tr><td>../../input/test/audio/clip_0000fb6fe.wav</td><td>16000                                    </td><td>1                                        </td><td> -2748                                   </td><td>  -96.0                                  </td><td> -45.00                                  </td><td> 2                                       </td><td> 46                                      </td><td>  92.0                                   </td><td> 2775                                    </td><td> 5523                                    </td><td> -0.6893750                              </td><td> 193.1339                                </td><td>dc6083b93c227585a531d2414c42cd84         </td></tr>\n",
       "\t<tr><td>../../input/test/audio/clip_0001d1559.wav</td><td>16000                                    </td><td>1                                        </td><td>-20120                                   </td><td>-4109.2                                  </td><td>-256.00                                  </td><td>-1                                       </td><td>217                                      </td><td>4175.0                                   </td><td>21861                                    </td><td>41981                                    </td><td> -4.1986250                              </td><td>4206.9926                                </td><td>eb966b44bf6cde8b8f31156900cb22a7         </td></tr>\n",
       "\t<tr><td>../../input/test/audio/clip_0002256ed.wav</td><td>16000                                    </td><td>1                                        </td><td> -5786                                   </td><td>-1182.1                                  </td><td> -53.00                                  </td><td> 2                                       </td><td>252                                      </td><td>1163.1                                   </td><td> 4440                                    </td><td>10226                                    </td><td>  2.3092500                              </td><td>1124.2620                                </td><td>3e1c2b8e9d8e9f24d26e6b1a82b8b634         </td></tr>\n",
       "</tbody>\n",
       "</table>\n"
      ],
      "text/latex": [
       "\\begin{tabular}{r|llllllllllllll}\n",
       " filename & samples & durationSeconds & min & Q10 & Q25 & median & Q75 & Q90 & max & range & mean & sd & md5sum\\\\\n",
       "\\hline\n",
       "\t ../../input/test/audio/clip\\_000044442.wav & 16000                                       & 1                                           & -19364                                      & -1187.6                                     & -113.00                                     &  6                                          & 128                                         & 2612.6                                      & 11836                                       & 31200                                       & -11.9253750                                 & 3110.6630                                   & 2fdd0b20ce292dd241731997644480f3           \\\\\n",
       "\t ../../input/test/audio/clip\\_0000adecb.wav & 16000                                       & 1                                           &  -7783                                      &  -492.1                                     &  -29.00                                     &  0                                          &  26                                         &  390.0                                      & 11594                                       & 19377                                       &  -0.2610625                                 &  885.3153                                   & d950098ef59227be68c5168fb116c401           \\\\\n",
       "\t ../../input/test/audio/clip\\_0000d4322.wav & 16000                                       & 1                                           & -10175                                      & -2030.2                                     & -569.25                                     & -3                                          & 118                                         & 1983.2                                      & 14092                                       & 24267                                       &   0.0138125                                 & 2052.8181                                   & 6df124df1eaa7f24cd76d30c80190c38           \\\\\n",
       "\t ../../input/test/audio/clip\\_0000fb6fe.wav & 16000                                       & 1                                           &  -2748                                      &   -96.0                                     &  -45.00                                     &  2                                          &  46                                         &   92.0                                      &  2775                                       &  5523                                       &  -0.6893750                                 &  193.1339                                   & dc6083b93c227585a531d2414c42cd84           \\\\\n",
       "\t ../../input/test/audio/clip\\_0001d1559.wav & 16000                                       & 1                                           & -20120                                      & -4109.2                                     & -256.00                                     & -1                                          & 217                                         & 4175.0                                      & 21861                                       & 41981                                       &  -4.1986250                                 & 4206.9926                                   & eb966b44bf6cde8b8f31156900cb22a7           \\\\\n",
       "\t ../../input/test/audio/clip\\_0002256ed.wav & 16000                                       & 1                                           &  -5786                                      & -1182.1                                     &  -53.00                                     &  2                                          & 252                                         & 1163.1                                      &  4440                                       & 10226                                       &   2.3092500                                 & 1124.2620                                   & 3e1c2b8e9d8e9f24d26e6b1a82b8b634           \\\\\n",
       "\\end{tabular}\n"
      ],
      "text/markdown": [
       "\n",
       "filename | samples | durationSeconds | min | Q10 | Q25 | median | Q75 | Q90 | max | range | mean | sd | md5sum | \n",
       "|---|---|---|---|---|---|\n",
       "| ../../input/test/audio/clip_000044442.wav | 16000                                     | 1                                         | -19364                                    | -1187.6                                   | -113.00                                   |  6                                        | 128                                       | 2612.6                                    | 11836                                     | 31200                                     | -11.9253750                               | 3110.6630                                 | 2fdd0b20ce292dd241731997644480f3          | \n",
       "| ../../input/test/audio/clip_0000adecb.wav | 16000                                     | 1                                         |  -7783                                    |  -492.1                                   |  -29.00                                   |  0                                        |  26                                       |  390.0                                    | 11594                                     | 19377                                     |  -0.2610625                               |  885.3153                                 | d950098ef59227be68c5168fb116c401          | \n",
       "| ../../input/test/audio/clip_0000d4322.wav | 16000                                     | 1                                         | -10175                                    | -2030.2                                   | -569.25                                   | -3                                        | 118                                       | 1983.2                                    | 14092                                     | 24267                                     |   0.0138125                               | 2052.8181                                 | 6df124df1eaa7f24cd76d30c80190c38          | \n",
       "| ../../input/test/audio/clip_0000fb6fe.wav | 16000                                     | 1                                         |  -2748                                    |   -96.0                                   |  -45.00                                   |  2                                        |  46                                       |   92.0                                    |  2775                                     |  5523                                     |  -0.6893750                               |  193.1339                                 | dc6083b93c227585a531d2414c42cd84          | \n",
       "| ../../input/test/audio/clip_0001d1559.wav | 16000                                     | 1                                         | -20120                                    | -4109.2                                   | -256.00                                   | -1                                        | 217                                       | 4175.0                                    | 21861                                     | 41981                                     |  -4.1986250                               | 4206.9926                                 | eb966b44bf6cde8b8f31156900cb22a7          | \n",
       "| ../../input/test/audio/clip_0002256ed.wav | 16000                                     | 1                                         |  -5786                                    | -1182.1                                   |  -53.00                                   |  2                                        | 252                                       | 1163.1                                    |  4440                                     | 10226                                     |   2.3092500                               | 1124.2620                                 | 3e1c2b8e9d8e9f24d26e6b1a82b8b634          | \n",
       "\n",
       "\n"
      ],
      "text/plain": [
       "  filename                                  samples durationSeconds min    Q10     Q25     median Q75 Q90    max   range\n",
       "1 ../../input/test/audio/clip_000044442.wav 16000   1               -19364 -1187.6 -113.00  6     128 2612.6 11836 31200\n",
       "2 ../../input/test/audio/clip_0000adecb.wav 16000   1                -7783  -492.1  -29.00  0      26  390.0 11594 19377\n",
       "3 ../../input/test/audio/clip_0000d4322.wav 16000   1               -10175 -2030.2 -569.25 -3     118 1983.2 14092 24267\n",
       "4 ../../input/test/audio/clip_0000fb6fe.wav 16000   1                -2748   -96.0  -45.00  2      46   92.0  2775  5523\n",
       "5 ../../input/test/audio/clip_0001d1559.wav 16000   1               -20120 -4109.2 -256.00 -1     217 4175.0 21861 41981\n",
       "6 ../../input/test/audio/clip_0002256ed.wav 16000   1                -5786 -1182.1  -53.00  2     252 1163.1  4440 10226\n",
       "  mean        sd        md5sum                          \n",
       "1 -11.9253750 3110.6630 2fdd0b20ce292dd241731997644480f3\n",
       "2  -0.2610625  885.3153 d950098ef59227be68c5168fb116c401\n",
       "3   0.0138125 2052.8181 6df124df1eaa7f24cd76d30c80190c38\n",
       "4  -0.6893750  193.1339 dc6083b93c227585a531d2414c42cd84\n",
       "5  -4.1986250 4206.9926 eb966b44bf6cde8b8f31156900cb22a7\n",
       "6   2.3092500 1124.2620 3e1c2b8e9d8e9f24d26e6b1a82b8b634"
      ]
     },
     "metadata": {},
     "output_type": "display_data"
    }
   ],
   "source": [
    "head(testSoundInfo)"
   ]
  },
  {
   "cell_type": "markdown",
   "metadata": {},
   "source": [
    "## Look at sample size differences\n",
    "\n",
    "All test files are exactly 16000 samples (1 sec), and 32044 bytes."
   ]
  },
  {
   "cell_type": "code",
   "execution_count": 40,
   "metadata": {},
   "outputs": [
    {
     "data": {
      "text/html": [
       "<ol class=list-inline>\n",
       "\t<li>16000</li>\n",
       "\t<li>16000</li>\n",
       "\t<li>16000</li>\n",
       "\t<li>16000</li>\n",
       "\t<li>16000</li>\n",
       "</ol>\n"
      ],
      "text/latex": [
       "\\begin{enumerate*}\n",
       "\\item 16000\n",
       "\\item 16000\n",
       "\\item 16000\n",
       "\\item 16000\n",
       "\\item 16000\n",
       "\\end{enumerate*}\n"
      ],
      "text/markdown": [
       "1. 16000\n",
       "2. 16000\n",
       "3. 16000\n",
       "4. 16000\n",
       "5. 16000\n",
       "\n",
       "\n"
      ],
      "text/plain": [
       "[1] 16000 16000 16000 16000 16000"
      ]
     },
     "metadata": {},
     "output_type": "display_data"
    },
    {
     "data": {
      "text/plain": [
       "\n",
       " 16000 \n",
       "158538 "
      ]
     },
     "metadata": {},
     "output_type": "display_data"
    }
   ],
   "source": [
    "fivenum(testSoundInfo$samples)\n",
    "table(testSoundInfo$samples)"
   ]
  },
  {
   "cell_type": "markdown",
   "metadata": {},
   "source": [
    "Verify all test file sizes are the same"
   ]
  },
  {
   "cell_type": "code",
   "execution_count": 41,
   "metadata": {},
   "outputs": [
    {
     "data": {
      "text/html": [
       "<table>\n",
       "<thead><tr><th scope=col>filename</th><th scope=col>sizeBytes</th></tr></thead>\n",
       "<tbody>\n",
       "\t<tr><td>../../input/test/audio/clip_000044442.wav</td><td>32044                                    </td></tr>\n",
       "\t<tr><td>../../input/test/audio/clip_0000adecb.wav</td><td>32044                                    </td></tr>\n",
       "\t<tr><td>../../input/test/audio/clip_0000d4322.wav</td><td>32044                                    </td></tr>\n",
       "\t<tr><td>../../input/test/audio/clip_0000fb6fe.wav</td><td>32044                                    </td></tr>\n",
       "\t<tr><td>../../input/test/audio/clip_0001d1559.wav</td><td>32044                                    </td></tr>\n",
       "\t<tr><td>../../input/test/audio/clip_0002256ed.wav</td><td>32044                                    </td></tr>\n",
       "</tbody>\n",
       "</table>\n"
      ],
      "text/latex": [
       "\\begin{tabular}{r|ll}\n",
       " filename & sizeBytes\\\\\n",
       "\\hline\n",
       "\t ../../input/test/audio/clip\\_000044442.wav & 32044                                      \\\\\n",
       "\t ../../input/test/audio/clip\\_0000adecb.wav & 32044                                      \\\\\n",
       "\t ../../input/test/audio/clip\\_0000d4322.wav & 32044                                      \\\\\n",
       "\t ../../input/test/audio/clip\\_0000fb6fe.wav & 32044                                      \\\\\n",
       "\t ../../input/test/audio/clip\\_0001d1559.wav & 32044                                      \\\\\n",
       "\t ../../input/test/audio/clip\\_0002256ed.wav & 32044                                      \\\\\n",
       "\\end{tabular}\n"
      ],
      "text/markdown": [
       "\n",
       "filename | sizeBytes | \n",
       "|---|---|---|---|---|---|\n",
       "| ../../input/test/audio/clip_000044442.wav | 32044                                     | \n",
       "| ../../input/test/audio/clip_0000adecb.wav | 32044                                     | \n",
       "| ../../input/test/audio/clip_0000d4322.wav | 32044                                     | \n",
       "| ../../input/test/audio/clip_0000fb6fe.wav | 32044                                     | \n",
       "| ../../input/test/audio/clip_0001d1559.wav | 32044                                     | \n",
       "| ../../input/test/audio/clip_0002256ed.wav | 32044                                     | \n",
       "\n",
       "\n"
      ],
      "text/plain": [
       "  filename                                  sizeBytes\n",
       "1 ../../input/test/audio/clip_000044442.wav 32044    \n",
       "2 ../../input/test/audio/clip_0000adecb.wav 32044    \n",
       "3 ../../input/test/audio/clip_0000d4322.wav 32044    \n",
       "4 ../../input/test/audio/clip_0000fb6fe.wav 32044    \n",
       "5 ../../input/test/audio/clip_0001d1559.wav 32044    \n",
       "6 ../../input/test/audio/clip_0002256ed.wav 32044    "
      ]
     },
     "metadata": {},
     "output_type": "display_data"
    }
   ],
   "source": [
    "testFileInfo <- file.info(testFilenames, extra_cols=FALSE)     %>%\n",
    "                          rownames_to_column(var=\"filename\")   %>%\n",
    "                          select(filename, size)               %>%\n",
    "                          rename(sizeBytes=size)\n",
    "head(testFileInfo)"
   ]
  },
  {
   "cell_type": "code",
   "execution_count": 42,
   "metadata": {
    "collapsed": true
   },
   "outputs": [],
   "source": [
    "stopifnot( all(testFileInfo$sizeBytes == 32044) ) "
   ]
  },
  {
   "cell_type": "markdown",
   "metadata": {},
   "source": [
    "Remove *dataDir* string from filenames."
   ]
  },
  {
   "cell_type": "code",
   "execution_count": 43,
   "metadata": {
    "collapsed": true
   },
   "outputs": [],
   "source": [
    "testSoundInfo$filename <- substr(testSoundInfo$filename, nchar(dataDir)+1, nchar(testSoundInfo$filename))"
   ]
  },
  {
   "cell_type": "markdown",
   "metadata": {},
   "source": [
    "## Split filenames into useful attributes"
   ]
  },
  {
   "cell_type": "code",
   "execution_count": 44,
   "metadata": {},
   "outputs": [
    {
     "data": {
      "text/html": [
       "158538"
      ],
      "text/latex": [
       "158538"
      ],
      "text/markdown": [
       "158538"
      ],
      "text/plain": [
       "[1] 158538"
      ]
     },
     "metadata": {},
     "output_type": "display_data"
    }
   ],
   "source": [
    "splits <- strsplit(testSoundInfo$filename, \"/|_|\\\\.\")\n",
    "length(splits)"
   ]
  },
  {
   "cell_type": "code",
   "execution_count": 45,
   "metadata": {},
   "outputs": [
    {
     "data": {
      "text/html": [
       "<ol class=list-inline>\n",
       "\t<li>'test'</li>\n",
       "\t<li>'audio'</li>\n",
       "\t<li>'clip'</li>\n",
       "\t<li>'000044442'</li>\n",
       "\t<li>'wav'</li>\n",
       "</ol>\n"
      ],
      "text/latex": [
       "\\begin{enumerate*}\n",
       "\\item 'test'\n",
       "\\item 'audio'\n",
       "\\item 'clip'\n",
       "\\item '000044442'\n",
       "\\item 'wav'\n",
       "\\end{enumerate*}\n"
      ],
      "text/markdown": [
       "1. 'test'\n",
       "2. 'audio'\n",
       "3. 'clip'\n",
       "4. '000044442'\n",
       "5. 'wav'\n",
       "\n",
       "\n"
      ],
      "text/plain": [
       "[1] \"test\"      \"audio\"     \"clip\"      \"000044442\" \"wav\"      "
      ]
     },
     "metadata": {},
     "output_type": "display_data"
    }
   ],
   "source": [
    "splits[[1]]"
   ]
  },
  {
   "cell_type": "code",
   "execution_count": 46,
   "metadata": {},
   "outputs": [
    {
     "data": {
      "text/html": [
       "<table>\n",
       "<thead><tr><th scope=col>dataset</th><th scope=col>speakerID</th><th scope=col>extension</th></tr></thead>\n",
       "<tbody>\n",
       "\t<tr><td>test     </td><td>000044442</td><td>wav      </td></tr>\n",
       "\t<tr><td>test     </td><td>0000adecb</td><td>wav      </td></tr>\n",
       "\t<tr><td>test     </td><td>0000d4322</td><td>wav      </td></tr>\n",
       "\t<tr><td>test     </td><td>0000fb6fe</td><td>wav      </td></tr>\n",
       "\t<tr><td>test     </td><td>0001d1559</td><td>wav      </td></tr>\n",
       "\t<tr><td>test     </td><td>0002256ed</td><td>wav      </td></tr>\n",
       "</tbody>\n",
       "</table>\n"
      ],
      "text/latex": [
       "\\begin{tabular}{r|lll}\n",
       " dataset & speakerID & extension\\\\\n",
       "\\hline\n",
       "\t test      & 000044442 & wav      \\\\\n",
       "\t test      & 0000adecb & wav      \\\\\n",
       "\t test      & 0000d4322 & wav      \\\\\n",
       "\t test      & 0000fb6fe & wav      \\\\\n",
       "\t test      & 0001d1559 & wav      \\\\\n",
       "\t test      & 0002256ed & wav      \\\\\n",
       "\\end{tabular}\n"
      ],
      "text/markdown": [
       "\n",
       "dataset | speakerID | extension | \n",
       "|---|---|---|---|---|---|\n",
       "| test      | 000044442 | wav       | \n",
       "| test      | 0000adecb | wav       | \n",
       "| test      | 0000d4322 | wav       | \n",
       "| test      | 0000fb6fe | wav       | \n",
       "| test      | 0001d1559 | wav       | \n",
       "| test      | 0002256ed | wav       | \n",
       "\n",
       "\n"
      ],
      "text/plain": [
       "  dataset speakerID extension\n",
       "1 test    000044442 wav      \n",
       "2 test    0000adecb wav      \n",
       "3 test    0000d4322 wav      \n",
       "4 test    0000fb6fe wav      \n",
       "5 test    0001d1559 wav      \n",
       "6 test    0002256ed wav      "
      ]
     },
     "metadata": {},
     "output_type": "display_data"
    }
   ],
   "source": [
    "fileAttributes <- do.call(rbind, \n",
    "                          lapply(splits, function(x){\n",
    "                                 data.frame(dataset=x[1], \n",
    "                                 speakerID=x[4], \n",
    "                                 extension=x[5], \n",
    "                                 stringsAsFactors=FALSE)\n",
    "                 }))\n",
    "head(fileAttributes)"
   ]
  },
  {
   "cell_type": "markdown",
   "metadata": {},
   "source": [
    "## Final testInfo"
   ]
  },
  {
   "cell_type": "code",
   "execution_count": 47,
   "metadata": {
    "collapsed": true
   },
   "outputs": [],
   "source": [
    "testInfo <- cbind(testSoundInfo, fileAttributes) %>%\n",
    "            select(filename, dataset, speakerID, extension, samples, \n",
    "                   min, Q10, Q25, median, Q75, Q90, max, range, mean, sd,\n",
    "                   md5sum)"
   ]
  },
  {
   "cell_type": "code",
   "execution_count": 48,
   "metadata": {},
   "outputs": [
    {
     "data": {
      "text/html": [
       "<ol class=list-inline>\n",
       "\t<li>158538</li>\n",
       "\t<li>16</li>\n",
       "</ol>\n"
      ],
      "text/latex": [
       "\\begin{enumerate*}\n",
       "\\item 158538\n",
       "\\item 16\n",
       "\\end{enumerate*}\n"
      ],
      "text/markdown": [
       "1. 158538\n",
       "2. 16\n",
       "\n",
       "\n"
      ],
      "text/plain": [
       "[1] 158538     16"
      ]
     },
     "metadata": {},
     "output_type": "display_data"
    }
   ],
   "source": [
    "dim(testInfo)"
   ]
  },
  {
   "cell_type": "code",
   "execution_count": 49,
   "metadata": {},
   "outputs": [
    {
     "data": {
      "text/html": [
       "<table>\n",
       "<thead><tr><th scope=col>filename</th><th scope=col>dataset</th><th scope=col>speakerID</th><th scope=col>extension</th><th scope=col>samples</th><th scope=col>min</th><th scope=col>Q10</th><th scope=col>Q25</th><th scope=col>median</th><th scope=col>Q75</th><th scope=col>Q90</th><th scope=col>max</th><th scope=col>range</th><th scope=col>mean</th><th scope=col>sd</th><th scope=col>md5sum</th></tr></thead>\n",
       "<tbody>\n",
       "\t<tr><td>test/audio/clip_000044442.wav   </td><td>test                            </td><td>000044442                       </td><td>wav                             </td><td>16000                           </td><td>-19364                          </td><td>-1187.6                         </td><td>-113.00                         </td><td> 6                              </td><td>128                             </td><td>2612.6                          </td><td>11836                           </td><td>31200                           </td><td>-11.9253750                     </td><td>3110.6630                       </td><td>2fdd0b20ce292dd241731997644480f3</td></tr>\n",
       "\t<tr><td>test/audio/clip_0000adecb.wav   </td><td>test                            </td><td>0000adecb                       </td><td>wav                             </td><td>16000                           </td><td> -7783                          </td><td> -492.1                         </td><td> -29.00                         </td><td> 0                              </td><td> 26                             </td><td> 390.0                          </td><td>11594                           </td><td>19377                           </td><td> -0.2610625                     </td><td> 885.3153                       </td><td>d950098ef59227be68c5168fb116c401</td></tr>\n",
       "\t<tr><td>test/audio/clip_0000d4322.wav   </td><td>test                            </td><td>0000d4322                       </td><td>wav                             </td><td>16000                           </td><td>-10175                          </td><td>-2030.2                         </td><td>-569.25                         </td><td>-3                              </td><td>118                             </td><td>1983.2                          </td><td>14092                           </td><td>24267                           </td><td>  0.0138125                     </td><td>2052.8181                       </td><td>6df124df1eaa7f24cd76d30c80190c38</td></tr>\n",
       "\t<tr><td>test/audio/clip_0000fb6fe.wav   </td><td>test                            </td><td>0000fb6fe                       </td><td>wav                             </td><td>16000                           </td><td> -2748                          </td><td>  -96.0                         </td><td> -45.00                         </td><td> 2                              </td><td> 46                             </td><td>  92.0                          </td><td> 2775                           </td><td> 5523                           </td><td> -0.6893750                     </td><td> 193.1339                       </td><td>dc6083b93c227585a531d2414c42cd84</td></tr>\n",
       "\t<tr><td>test/audio/clip_0001d1559.wav   </td><td>test                            </td><td>0001d1559                       </td><td>wav                             </td><td>16000                           </td><td>-20120                          </td><td>-4109.2                         </td><td>-256.00                         </td><td>-1                              </td><td>217                             </td><td>4175.0                          </td><td>21861                           </td><td>41981                           </td><td> -4.1986250                     </td><td>4206.9926                       </td><td>eb966b44bf6cde8b8f31156900cb22a7</td></tr>\n",
       "\t<tr><td>test/audio/clip_0002256ed.wav   </td><td>test                            </td><td>0002256ed                       </td><td>wav                             </td><td>16000                           </td><td> -5786                          </td><td>-1182.1                         </td><td> -53.00                         </td><td> 2                              </td><td>252                             </td><td>1163.1                          </td><td> 4440                           </td><td>10226                           </td><td>  2.3092500                     </td><td>1124.2620                       </td><td>3e1c2b8e9d8e9f24d26e6b1a82b8b634</td></tr>\n",
       "</tbody>\n",
       "</table>\n"
      ],
      "text/latex": [
       "\\begin{tabular}{r|llllllllllllllll}\n",
       " filename & dataset & speakerID & extension & samples & min & Q10 & Q25 & median & Q75 & Q90 & max & range & mean & sd & md5sum\\\\\n",
       "\\hline\n",
       "\t test/audio/clip\\_000044442.wav  & test                             & 000044442                        & wav                              & 16000                            & -19364                           & -1187.6                          & -113.00                          &  6                               & 128                              & 2612.6                           & 11836                            & 31200                            & -11.9253750                      & 3110.6630                        & 2fdd0b20ce292dd241731997644480f3\\\\\n",
       "\t test/audio/clip\\_0000adecb.wav  & test                             & 0000adecb                        & wav                              & 16000                            &  -7783                           &  -492.1                          &  -29.00                          &  0                               &  26                              &  390.0                           & 11594                            & 19377                            &  -0.2610625                      &  885.3153                        & d950098ef59227be68c5168fb116c401\\\\\n",
       "\t test/audio/clip\\_0000d4322.wav  & test                             & 0000d4322                        & wav                              & 16000                            & -10175                           & -2030.2                          & -569.25                          & -3                               & 118                              & 1983.2                           & 14092                            & 24267                            &   0.0138125                      & 2052.8181                        & 6df124df1eaa7f24cd76d30c80190c38\\\\\n",
       "\t test/audio/clip\\_0000fb6fe.wav  & test                             & 0000fb6fe                        & wav                              & 16000                            &  -2748                           &   -96.0                          &  -45.00                          &  2                               &  46                              &   92.0                           &  2775                            &  5523                            &  -0.6893750                      &  193.1339                        & dc6083b93c227585a531d2414c42cd84\\\\\n",
       "\t test/audio/clip\\_0001d1559.wav  & test                             & 0001d1559                        & wav                              & 16000                            & -20120                           & -4109.2                          & -256.00                          & -1                               & 217                              & 4175.0                           & 21861                            & 41981                            &  -4.1986250                      & 4206.9926                        & eb966b44bf6cde8b8f31156900cb22a7\\\\\n",
       "\t test/audio/clip\\_0002256ed.wav  & test                             & 0002256ed                        & wav                              & 16000                            &  -5786                           & -1182.1                          &  -53.00                          &  2                               & 252                              & 1163.1                           &  4440                            & 10226                            &   2.3092500                      & 1124.2620                        & 3e1c2b8e9d8e9f24d26e6b1a82b8b634\\\\\n",
       "\\end{tabular}\n"
      ],
      "text/markdown": [
       "\n",
       "filename | dataset | speakerID | extension | samples | min | Q10 | Q25 | median | Q75 | Q90 | max | range | mean | sd | md5sum | \n",
       "|---|---|---|---|---|---|\n",
       "| test/audio/clip_000044442.wav    | test                             | 000044442                        | wav                              | 16000                            | -19364                           | -1187.6                          | -113.00                          |  6                               | 128                              | 2612.6                           | 11836                            | 31200                            | -11.9253750                      | 3110.6630                        | 2fdd0b20ce292dd241731997644480f3 | \n",
       "| test/audio/clip_0000adecb.wav    | test                             | 0000adecb                        | wav                              | 16000                            |  -7783                           |  -492.1                          |  -29.00                          |  0                               |  26                              |  390.0                           | 11594                            | 19377                            |  -0.2610625                      |  885.3153                        | d950098ef59227be68c5168fb116c401 | \n",
       "| test/audio/clip_0000d4322.wav    | test                             | 0000d4322                        | wav                              | 16000                            | -10175                           | -2030.2                          | -569.25                          | -3                               | 118                              | 1983.2                           | 14092                            | 24267                            |   0.0138125                      | 2052.8181                        | 6df124df1eaa7f24cd76d30c80190c38 | \n",
       "| test/audio/clip_0000fb6fe.wav    | test                             | 0000fb6fe                        | wav                              | 16000                            |  -2748                           |   -96.0                          |  -45.00                          |  2                               |  46                              |   92.0                           |  2775                            |  5523                            |  -0.6893750                      |  193.1339                        | dc6083b93c227585a531d2414c42cd84 | \n",
       "| test/audio/clip_0001d1559.wav    | test                             | 0001d1559                        | wav                              | 16000                            | -20120                           | -4109.2                          | -256.00                          | -1                               | 217                              | 4175.0                           | 21861                            | 41981                            |  -4.1986250                      | 4206.9926                        | eb966b44bf6cde8b8f31156900cb22a7 | \n",
       "| test/audio/clip_0002256ed.wav    | test                             | 0002256ed                        | wav                              | 16000                            |  -5786                           | -1182.1                          |  -53.00                          |  2                               | 252                              | 1163.1                           |  4440                            | 10226                            |   2.3092500                      | 1124.2620                        | 3e1c2b8e9d8e9f24d26e6b1a82b8b634 | \n",
       "\n",
       "\n"
      ],
      "text/plain": [
       "  filename                      dataset speakerID extension samples min    Q10     Q25     median Q75 Q90    max   range\n",
       "1 test/audio/clip_000044442.wav test    000044442 wav       16000   -19364 -1187.6 -113.00  6     128 2612.6 11836 31200\n",
       "2 test/audio/clip_0000adecb.wav test    0000adecb wav       16000    -7783  -492.1  -29.00  0      26  390.0 11594 19377\n",
       "3 test/audio/clip_0000d4322.wav test    0000d4322 wav       16000   -10175 -2030.2 -569.25 -3     118 1983.2 14092 24267\n",
       "4 test/audio/clip_0000fb6fe.wav test    0000fb6fe wav       16000    -2748   -96.0  -45.00  2      46   92.0  2775  5523\n",
       "5 test/audio/clip_0001d1559.wav test    0001d1559 wav       16000   -20120 -4109.2 -256.00 -1     217 4175.0 21861 41981\n",
       "6 test/audio/clip_0002256ed.wav test    0002256ed wav       16000    -5786 -1182.1  -53.00  2     252 1163.1  4440 10226\n",
       "  mean        sd        md5sum                          \n",
       "1 -11.9253750 3110.6630 2fdd0b20ce292dd241731997644480f3\n",
       "2  -0.2610625  885.3153 d950098ef59227be68c5168fb116c401\n",
       "3   0.0138125 2052.8181 6df124df1eaa7f24cd76d30c80190c38\n",
       "4  -0.6893750  193.1339 dc6083b93c227585a531d2414c42cd84\n",
       "5  -4.1986250 4206.9926 eb966b44bf6cde8b8f31156900cb22a7\n",
       "6   2.3092500 1124.2620 3e1c2b8e9d8e9f24d26e6b1a82b8b634"
      ]
     },
     "metadata": {},
     "output_type": "display_data"
    }
   ],
   "source": [
    "head(testInfo)"
   ]
  },
  {
   "cell_type": "markdown",
   "metadata": {},
   "source": [
    "Make sure ordered by filename"
   ]
  },
  {
   "cell_type": "code",
   "execution_count": 50,
   "metadata": {},
   "outputs": [
    {
     "name": "stderr",
     "output_type": "stream",
     "text": [
      "Warning message:\n",
      "\"package 'bindrcpp' was built under R version 3.4.1\""
     ]
    }
   ],
   "source": [
    "testInfo <- testInfo              %>% \n",
    "            arrange(filename)"
   ]
  },
  {
   "cell_type": "code",
   "execution_count": 51,
   "metadata": {
    "collapsed": true
   },
   "outputs": [],
   "source": [
    "write.csv(testInfo, \"test-Kaggle-Speech-Recognition-File-Inventory.csv\", row.names=FALSE)"
   ]
  },
  {
   "cell_type": "markdown",
   "metadata": {},
   "source": [
    "## Number of unique test speakers\n",
    "\n",
    "All test speakerIDs are unique"
   ]
  },
  {
   "cell_type": "code",
   "execution_count": 52,
   "metadata": {},
   "outputs": [
    {
     "data": {
      "text/html": [
       "158538"
      ],
      "text/latex": [
       "158538"
      ],
      "text/markdown": [
       "158538"
      ],
      "text/plain": [
       "[1] 158538"
      ]
     },
     "metadata": {},
     "output_type": "display_data"
    }
   ],
   "source": [
    "length(unique(testInfo$speakerID))"
   ]
  },
  {
   "cell_type": "markdown",
   "metadata": {},
   "source": [
    "# Duplicate Files"
   ]
  },
  {
   "cell_type": "code",
   "execution_count": 53,
   "metadata": {
    "collapsed": true
   },
   "outputs": [],
   "source": [
    "testInfo$word <- \"\"\n",
    "testInfo$utteranceIndex <- 0\n",
    "allInfo <- rbind(trainInfo, testInfo)"
   ]
  },
  {
   "cell_type": "code",
   "execution_count": 54,
   "metadata": {},
   "outputs": [
    {
     "data": {
      "text/html": [
       "<ol class=list-inline>\n",
       "\t<li>223259</li>\n",
       "\t<li>18</li>\n",
       "</ol>\n"
      ],
      "text/latex": [
       "\\begin{enumerate*}\n",
       "\\item 223259\n",
       "\\item 18\n",
       "\\end{enumerate*}\n"
      ],
      "text/markdown": [
       "1. 223259\n",
       "2. 18\n",
       "\n",
       "\n"
      ],
      "text/plain": [
       "[1] 223259     18"
      ]
     },
     "metadata": {},
     "output_type": "display_data"
    }
   ],
   "source": [
    "dim(allInfo)"
   ]
  },
  {
   "cell_type": "code",
   "execution_count": 55,
   "metadata": {
    "collapsed": true
   },
   "outputs": [],
   "source": [
    "counts <- table(md5sum=allInfo$md5sum)          %>% \n",
    "          as.data.frame(stringsAsFactors=FALSE)"
   ]
  },
  {
   "cell_type": "code",
   "execution_count": 56,
   "metadata": {},
   "outputs": [
    {
     "data": {
      "text/plain": [
       "\n",
       "     1      2      3      4      5      6   3710 \n",
       "215795   1557    172     27      2      1      1 "
      ]
     },
     "metadata": {},
     "output_type": "display_data"
    }
   ],
   "source": [
    "table(counts$Freq)"
   ]
  },
  {
   "cell_type": "code",
   "execution_count": 57,
   "metadata": {
    "collapsed": true
   },
   "outputs": [],
   "source": [
    "duplicates <- counts            %>% \n",
    "              filter(Freq > 1)  %>%\n",
    "              arrange(desc(Freq))"
   ]
  },
  {
   "cell_type": "code",
   "execution_count": 58,
   "metadata": {
    "collapsed": true
   },
   "outputs": [],
   "source": [
    "duplicateIds <- sort(unique(duplicates$md5sum))"
   ]
  },
  {
   "cell_type": "code",
   "execution_count": 59,
   "metadata": {},
   "outputs": [
    {
     "data": {
      "text/html": [
       "<ol class=list-inline>\n",
       "\t<li>7464</li>\n",
       "\t<li>18</li>\n",
       "</ol>\n"
      ],
      "text/latex": [
       "\\begin{enumerate*}\n",
       "\\item 7464\n",
       "\\item 18\n",
       "\\end{enumerate*}\n"
      ],
      "text/markdown": [
       "1. 7464\n",
       "2. 18\n",
       "\n",
       "\n"
      ],
      "text/plain": [
       "[1] 7464   18"
      ]
     },
     "metadata": {},
     "output_type": "display_data"
    }
   ],
   "source": [
    "select <- allInfo$md5sum %in% duplicateIds\n",
    "duplicates <- allInfo[select,] %>% arrange(md5sum)\n",
    "row.names(duplicates) <- NULL\n",
    "dim(duplicates)"
   ]
  },
  {
   "cell_type": "code",
   "execution_count": 60,
   "metadata": {},
   "outputs": [
    {
     "data": {
      "text/html": [
       "<table>\n",
       "<thead><tr><th scope=col>filename</th><th scope=col>dataset</th><th scope=col>word</th><th scope=col>speakerID</th><th scope=col>utteranceIndex</th><th scope=col>extension</th><th scope=col>samples</th><th scope=col>min</th><th scope=col>Q10</th><th scope=col>Q25</th><th scope=col>median</th><th scope=col>Q75</th><th scope=col>Q90</th><th scope=col>max</th><th scope=col>range</th><th scope=col>mean</th><th scope=col>sd</th><th scope=col>md5sum</th></tr></thead>\n",
       "<tbody>\n",
       "\t<tr><td>test/audio/clip_91cd9ccfc.wav       </td><td>test                                </td><td>                                    </td><td>91cd9ccfc                           </td><td>0                                   </td><td>wav                                 </td><td>16000                               </td><td> -2938                              </td><td> -195.0                             </td><td> -6.00                              </td><td> 1                                  </td><td> 9                                  </td><td> 245.0                              </td><td> 2318                               </td><td> 5256                               </td><td>-0.343875                           </td><td> 348.0375                           </td><td>001d47276ac8f75c8bb4dd0c3923c976    </td></tr>\n",
       "\t<tr><td>test/audio/clip_f29207b90.wav       </td><td>test                                </td><td>                                    </td><td>f29207b90                           </td><td>0                                   </td><td>wav                                 </td><td>16000                               </td><td> -2938                              </td><td> -195.0                             </td><td> -6.00                              </td><td> 1                                  </td><td> 9                                  </td><td> 245.0                              </td><td> 2318                               </td><td> 5256                               </td><td>-0.343875                           </td><td> 348.0375                           </td><td>001d47276ac8f75c8bb4dd0c3923c976    </td></tr>\n",
       "\t<tr><td>train/audio/no/cb8f8307_nohash_3.wav</td><td>train                               </td><td>no                                  </td><td>cb8f8307                            </td><td>3                                   </td><td>wav                                 </td><td>16000                               </td><td>-15248                              </td><td>-1400.0                             </td><td>-14.00                              </td><td> 0                                  </td><td>16                                  </td><td>1395.2                              </td><td>13291                               </td><td>28539                               </td><td> 2.388750                           </td><td>1901.1607                           </td><td>00f40d14e950f82ce35618e9912e7c23    </td></tr>\n",
       "\t<tr><td>train/audio/no/cb8f8307_nohash_5.wav</td><td>train                               </td><td>no                                  </td><td>cb8f8307                            </td><td>5                                   </td><td>wav                                 </td><td>16000                               </td><td>-15248                              </td><td>-1400.0                             </td><td>-14.00                              </td><td> 0                                  </td><td>16                                  </td><td>1395.2                              </td><td>13291                               </td><td>28539                               </td><td> 2.388750                           </td><td>1901.1607                           </td><td>00f40d14e950f82ce35618e9912e7c23    </td></tr>\n",
       "\t<tr><td>test/audio/clip_622472139.wav       </td><td>test                                </td><td>                                    </td><td>622472139                           </td><td>0                                   </td><td>wav                                 </td><td>16000                               </td><td> -9117                              </td><td>-1586.1                             </td><td>-60.25                              </td><td>-2                                  </td><td>21                                  </td><td>1457.1                              </td><td>11446                               </td><td>20563                               </td><td>-3.391188                           </td><td>1837.1585                           </td><td>0100a5817d788c73e3abea746ef82f7a    </td></tr>\n",
       "\t<tr><td>test/audio/clip_c89b44152.wav       </td><td>test                                </td><td>                                    </td><td>c89b44152                           </td><td>0                                   </td><td>wav                                 </td><td>16000                               </td><td> -9117                              </td><td>-1586.1                             </td><td>-60.25                              </td><td>-2                                  </td><td>21                                  </td><td>1457.1                              </td><td>11446                               </td><td>20563                               </td><td>-3.391188                           </td><td>1837.1585                           </td><td>0100a5817d788c73e3abea746ef82f7a    </td></tr>\n",
       "</tbody>\n",
       "</table>\n"
      ],
      "text/latex": [
       "\\begin{tabular}{r|llllllllllllllllll}\n",
       " filename & dataset & word & speakerID & utteranceIndex & extension & samples & min & Q10 & Q25 & median & Q75 & Q90 & max & range & mean & sd & md5sum\\\\\n",
       "\\hline\n",
       "\t test/audio/clip\\_91cd9ccfc.wav        & test                                   &                                        & 91cd9ccfc                              & 0                                      & wav                                    & 16000                                  &  -2938                                 &  -195.0                                &  -6.00                                 &  1                                     &  9                                     &  245.0                                 &  2318                                  &  5256                                  & -0.343875                              &  348.0375                              & 001d47276ac8f75c8bb4dd0c3923c976      \\\\\n",
       "\t test/audio/clip\\_f29207b90.wav        & test                                   &                                        & f29207b90                              & 0                                      & wav                                    & 16000                                  &  -2938                                 &  -195.0                                &  -6.00                                 &  1                                     &  9                                     &  245.0                                 &  2318                                  &  5256                                  & -0.343875                              &  348.0375                              & 001d47276ac8f75c8bb4dd0c3923c976      \\\\\n",
       "\t train/audio/no/cb8f8307\\_nohash\\_3.wav & train                                    & no                                       & cb8f8307                                 & 3                                        & wav                                      & 16000                                    & -15248                                   & -1400.0                                  & -14.00                                   &  0                                       & 16                                       & 1395.2                                   & 13291                                    & 28539                                    &  2.388750                                & 1901.1607                                & 00f40d14e950f82ce35618e9912e7c23        \\\\\n",
       "\t train/audio/no/cb8f8307\\_nohash\\_5.wav & train                                    & no                                       & cb8f8307                                 & 5                                        & wav                                      & 16000                                    & -15248                                   & -1400.0                                  & -14.00                                   &  0                                       & 16                                       & 1395.2                                   & 13291                                    & 28539                                    &  2.388750                                & 1901.1607                                & 00f40d14e950f82ce35618e9912e7c23        \\\\\n",
       "\t test/audio/clip\\_622472139.wav        & test                                   &                                        & 622472139                              & 0                                      & wav                                    & 16000                                  &  -9117                                 & -1586.1                                & -60.25                                 & -2                                     & 21                                     & 1457.1                                 & 11446                                  & 20563                                  & -3.391188                              & 1837.1585                              & 0100a5817d788c73e3abea746ef82f7a      \\\\\n",
       "\t test/audio/clip\\_c89b44152.wav        & test                                   &                                        & c89b44152                              & 0                                      & wav                                    & 16000                                  &  -9117                                 & -1586.1                                & -60.25                                 & -2                                     & 21                                     & 1457.1                                 & 11446                                  & 20563                                  & -3.391188                              & 1837.1585                              & 0100a5817d788c73e3abea746ef82f7a      \\\\\n",
       "\\end{tabular}\n"
      ],
      "text/markdown": [
       "\n",
       "filename | dataset | word | speakerID | utteranceIndex | extension | samples | min | Q10 | Q25 | median | Q75 | Q90 | max | range | mean | sd | md5sum | \n",
       "|---|---|---|---|---|---|\n",
       "| test/audio/clip_91cd9ccfc.wav        | test                                 |                                      | 91cd9ccfc                            | 0                                    | wav                                  | 16000                                |  -2938                               |  -195.0                              |  -6.00                               |  1                                   |  9                                   |  245.0                               |  2318                                |  5256                                | -0.343875                            |  348.0375                            | 001d47276ac8f75c8bb4dd0c3923c976     | \n",
       "| test/audio/clip_f29207b90.wav        | test                                 |                                      | f29207b90                            | 0                                    | wav                                  | 16000                                |  -2938                               |  -195.0                              |  -6.00                               |  1                                   |  9                                   |  245.0                               |  2318                                |  5256                                | -0.343875                            |  348.0375                            | 001d47276ac8f75c8bb4dd0c3923c976     | \n",
       "| train/audio/no/cb8f8307_nohash_3.wav | train                                | no                                   | cb8f8307                             | 3                                    | wav                                  | 16000                                | -15248                               | -1400.0                              | -14.00                               |  0                                   | 16                                   | 1395.2                               | 13291                                | 28539                                |  2.388750                            | 1901.1607                            | 00f40d14e950f82ce35618e9912e7c23     | \n",
       "| train/audio/no/cb8f8307_nohash_5.wav | train                                | no                                   | cb8f8307                             | 5                                    | wav                                  | 16000                                | -15248                               | -1400.0                              | -14.00                               |  0                                   | 16                                   | 1395.2                               | 13291                                | 28539                                |  2.388750                            | 1901.1607                            | 00f40d14e950f82ce35618e9912e7c23     | \n",
       "| test/audio/clip_622472139.wav        | test                                 |                                      | 622472139                            | 0                                    | wav                                  | 16000                                |  -9117                               | -1586.1                              | -60.25                               | -2                                   | 21                                   | 1457.1                               | 11446                                | 20563                                | -3.391188                            | 1837.1585                            | 0100a5817d788c73e3abea746ef82f7a     | \n",
       "| test/audio/clip_c89b44152.wav        | test                                 |                                      | c89b44152                            | 0                                    | wav                                  | 16000                                |  -9117                               | -1586.1                              | -60.25                               | -2                                   | 21                                   | 1457.1                               | 11446                                | 20563                                | -3.391188                            | 1837.1585                            | 0100a5817d788c73e3abea746ef82f7a     | \n",
       "\n",
       "\n"
      ],
      "text/plain": [
       "  filename                             dataset word speakerID utteranceIndex extension samples min    Q10     Q25    median Q75\n",
       "1 test/audio/clip_91cd9ccfc.wav        test         91cd9ccfc 0              wav       16000    -2938  -195.0  -6.00  1      9 \n",
       "2 test/audio/clip_f29207b90.wav        test         f29207b90 0              wav       16000    -2938  -195.0  -6.00  1      9 \n",
       "3 train/audio/no/cb8f8307_nohash_3.wav train   no   cb8f8307  3              wav       16000   -15248 -1400.0 -14.00  0     16 \n",
       "4 train/audio/no/cb8f8307_nohash_5.wav train   no   cb8f8307  5              wav       16000   -15248 -1400.0 -14.00  0     16 \n",
       "5 test/audio/clip_622472139.wav        test         622472139 0              wav       16000    -9117 -1586.1 -60.25 -2     21 \n",
       "6 test/audio/clip_c89b44152.wav        test         c89b44152 0              wav       16000    -9117 -1586.1 -60.25 -2     21 \n",
       "  Q90    max   range mean      sd        md5sum                          \n",
       "1  245.0  2318  5256 -0.343875  348.0375 001d47276ac8f75c8bb4dd0c3923c976\n",
       "2  245.0  2318  5256 -0.343875  348.0375 001d47276ac8f75c8bb4dd0c3923c976\n",
       "3 1395.2 13291 28539  2.388750 1901.1607 00f40d14e950f82ce35618e9912e7c23\n",
       "4 1395.2 13291 28539  2.388750 1901.1607 00f40d14e950f82ce35618e9912e7c23\n",
       "5 1457.1 11446 20563 -3.391188 1837.1585 0100a5817d788c73e3abea746ef82f7a\n",
       "6 1457.1 11446 20563 -3.391188 1837.1585 0100a5817d788c73e3abea746ef82f7a"
      ]
     },
     "metadata": {},
     "output_type": "display_data"
    }
   ],
   "source": [
    "head(duplicates)"
   ]
  },
  {
   "cell_type": "code",
   "execution_count": 61,
   "metadata": {
    "collapsed": true
   },
   "outputs": [],
   "source": [
    "duplicatesSummary <- as.data.frame.matrix( table(duplicates$md5sum, duplicates$dataset) )\n",
    "duplicatesSummary$Total <- duplicatesSummary$test + duplicatesSummary$train"
   ]
  },
  {
   "cell_type": "code",
   "execution_count": 62,
   "metadata": {
    "collapsed": true
   },
   "outputs": [],
   "source": [
    "duplicatesSummary <- duplicatesSummary                %>% \n",
    "                     rownames_to_column(var=\"md5sum\") %>%\n",
    "                     arrange(desc(Total))"
   ]
  },
  {
   "cell_type": "markdown",
   "metadata": {},
   "source": [
    "Highest frequency duplicates.  Find by md5sum in duplicates-Kaggle-Speech-Recognition-Inventory.csv."
   ]
  },
  {
   "cell_type": "code",
   "execution_count": 63,
   "metadata": {},
   "outputs": [
    {
     "data": {
      "text/html": [
       "<table>\n",
       "<thead><tr><th scope=col>md5sum</th><th scope=col>test</th><th scope=col>train</th><th scope=col>Total</th></tr></thead>\n",
       "<tbody>\n",
       "\t<tr><td>800ea34119b791a1be054aafd09fc896</td><td>3709                            </td><td>1                               </td><td>3710                            </td></tr>\n",
       "\t<tr><td>b57a0367e5aa3adf7761c4285e12637a</td><td>   6                            </td><td>0                               </td><td>   6                            </td></tr>\n",
       "\t<tr><td>61c65e886789d76be18a9bcf79369f47</td><td>   5                            </td><td>0                               </td><td>   5                            </td></tr>\n",
       "\t<tr><td>96c3f8655b50b3ee473f4efcf089efc4</td><td>   5                            </td><td>0                               </td><td>   5                            </td></tr>\n",
       "\t<tr><td>0186604b63475ef175e2f4e582dda258</td><td>   4                            </td><td>0                               </td><td>   4                            </td></tr>\n",
       "\t<tr><td>215ec163f0369ebc5204e5aa29693694</td><td>   4                            </td><td>0                               </td><td>   4                            </td></tr>\n",
       "\t<tr><td>21c54e99e4dc79b2a921f67380952181</td><td>   4                            </td><td>0                               </td><td>   4                            </td></tr>\n",
       "\t<tr><td>255cc27036b2cb4f5d5ac56f68e29d75</td><td>   4                            </td><td>0                               </td><td>   4                            </td></tr>\n",
       "\t<tr><td>2b711b98b9167c5e5ce4fc3f1d728fb1</td><td>   4                            </td><td>0                               </td><td>   4                            </td></tr>\n",
       "\t<tr><td>30a8576a60f2fb5cec18b657b9d7b2a9</td><td>   4                            </td><td>0                               </td><td>   4                            </td></tr>\n",
       "</tbody>\n",
       "</table>\n"
      ],
      "text/latex": [
       "\\begin{tabular}{r|llll}\n",
       " md5sum & test & train & Total\\\\\n",
       "\\hline\n",
       "\t 800ea34119b791a1be054aafd09fc896 & 3709                             & 1                                & 3710                            \\\\\n",
       "\t b57a0367e5aa3adf7761c4285e12637a &    6                             & 0                                &    6                            \\\\\n",
       "\t 61c65e886789d76be18a9bcf79369f47 &    5                             & 0                                &    5                            \\\\\n",
       "\t 96c3f8655b50b3ee473f4efcf089efc4 &    5                             & 0                                &    5                            \\\\\n",
       "\t 0186604b63475ef175e2f4e582dda258 &    4                             & 0                                &    4                            \\\\\n",
       "\t 215ec163f0369ebc5204e5aa29693694 &    4                             & 0                                &    4                            \\\\\n",
       "\t 21c54e99e4dc79b2a921f67380952181 &    4                             & 0                                &    4                            \\\\\n",
       "\t 255cc27036b2cb4f5d5ac56f68e29d75 &    4                             & 0                                &    4                            \\\\\n",
       "\t 2b711b98b9167c5e5ce4fc3f1d728fb1 &    4                             & 0                                &    4                            \\\\\n",
       "\t 30a8576a60f2fb5cec18b657b9d7b2a9 &    4                             & 0                                &    4                            \\\\\n",
       "\\end{tabular}\n"
      ],
      "text/markdown": [
       "\n",
       "md5sum | test | train | Total | \n",
       "|---|---|---|---|---|---|---|---|---|---|\n",
       "| 800ea34119b791a1be054aafd09fc896 | 3709                             | 1                                | 3710                             | \n",
       "| b57a0367e5aa3adf7761c4285e12637a |    6                             | 0                                |    6                             | \n",
       "| 61c65e886789d76be18a9bcf79369f47 |    5                             | 0                                |    5                             | \n",
       "| 96c3f8655b50b3ee473f4efcf089efc4 |    5                             | 0                                |    5                             | \n",
       "| 0186604b63475ef175e2f4e582dda258 |    4                             | 0                                |    4                             | \n",
       "| 215ec163f0369ebc5204e5aa29693694 |    4                             | 0                                |    4                             | \n",
       "| 21c54e99e4dc79b2a921f67380952181 |    4                             | 0                                |    4                             | \n",
       "| 255cc27036b2cb4f5d5ac56f68e29d75 |    4                             | 0                                |    4                             | \n",
       "| 2b711b98b9167c5e5ce4fc3f1d728fb1 |    4                             | 0                                |    4                             | \n",
       "| 30a8576a60f2fb5cec18b657b9d7b2a9 |    4                             | 0                                |    4                             | \n",
       "\n",
       "\n"
      ],
      "text/plain": [
       "   md5sum                           test train Total\n",
       "1  800ea34119b791a1be054aafd09fc896 3709 1     3710 \n",
       "2  b57a0367e5aa3adf7761c4285e12637a    6 0        6 \n",
       "3  61c65e886789d76be18a9bcf79369f47    5 0        5 \n",
       "4  96c3f8655b50b3ee473f4efcf089efc4    5 0        5 \n",
       "5  0186604b63475ef175e2f4e582dda258    4 0        4 \n",
       "6  215ec163f0369ebc5204e5aa29693694    4 0        4 \n",
       "7  21c54e99e4dc79b2a921f67380952181    4 0        4 \n",
       "8  255cc27036b2cb4f5d5ac56f68e29d75    4 0        4 \n",
       "9  2b711b98b9167c5e5ce4fc3f1d728fb1    4 0        4 \n",
       "10 30a8576a60f2fb5cec18b657b9d7b2a9    4 0        4 "
      ]
     },
     "metadata": {},
     "output_type": "display_data"
    }
   ],
   "source": [
    "head(duplicatesSummary, 10)"
   ]
  },
  {
   "cell_type": "code",
   "execution_count": 64,
   "metadata": {
    "collapsed": true
   },
   "outputs": [],
   "source": [
    "write.csv(duplicates,        \"duplicates-Kaggle-Speech-Recognition-Inventory.csv\", row.names=FALSE)\n",
    "write.csv(duplicatesSummary, \"duplicates-Summary.csv\")"
   ]
  },
  {
   "cell_type": "markdown",
   "metadata": {
    "collapsed": true
   },
   "source": [
    "# Amplitude Ranges\n",
    "\n",
    "The Amplitude Range is defined by the difference between the maximum and minimum amplitudes for the samples in a sound channel.\n",
    "\n",
    "Can a small amplitude range define \"silence\"?"
   ]
  },
  {
   "cell_type": "markdown",
   "metadata": {},
   "source": [
    "## Train\n",
    "\n",
    "Only one train file (train/audio/bird/3e7124ba_nohash_0.wav) has an amplitude range of 0 -- all samples in the file are 0s.\n",
    "\n",
    "27 files have an amplitude range from 4 - 10.\n",
    "\n",
    "About 200 files have an amplitude range from 11 to 100.\n",
    "\n",
    "About 1500 files have the maximum possible amplitude range for 16 bit sound:  65535"
   ]
  },
  {
   "cell_type": "code",
   "execution_count": 65,
   "metadata": {},
   "outputs": [
    {
     "data": {
      "image/png": "[encoded data removed]",
      "text/plain": [
       "Plot with title \"Train Set:  Density of Amplitude Range\""
      ]
     },
     "metadata": {},
     "output_type": "display_data"
    }
   ],
   "source": [
    "plot(density(trainInfo$range, from=min(trainInfo$range), to=max(trainInfo$range)),\n",
    "             main=\"Train Set:  Density of Amplitude Range\",\n",
    "             xlab=\"Amplitude Range\",\n",
    "             lwd=3, col=\"skyblue\")\n",
    "grid()"
   ]
  },
  {
   "cell_type": "markdown",
   "metadata": {},
   "source": [
    "# Test\n",
    "\n",
    "The spike a zero below was caused by the 3709 test files that were all zeros, and matched the \"bird\" zero file from the train set.\n",
    "\n",
    "The test set has a higher proportion of max amplitude files than the train set."
   ]
  },
  {
   "cell_type": "code",
   "execution_count": 66,
   "metadata": {},
   "outputs": [
    {
     "data": {
      "image/png": "[encoded data removed]",
      "text/plain": [
       "Plot with title \"Test Set:  Density of Amplitude Range\""
      ]
     },
     "metadata": {},
     "output_type": "display_data"
    }
   ],
   "source": [
    "plot(density(testInfo$range, from=min(testInfo$range), to=max(testInfo$range)),\n",
    "             main=\"Test Set:  Density of Amplitude Range\",\n",
    "             xlab=\"Amplitude Range\",\n",
    "             lwd=3, col=\"skyblue\")\n",
    "grid()"
   ]
  },
  {
   "cell_type": "markdown",
   "metadata": {},
   "source": [
    "# Individual Words in Train Set\n",
    "\n",
    "Let's sort the utterances for a given word by the minimum amplitude, and display the various sample quantiles for each of the utterances.\n",
    "\n",
    "Utterances with very low amplitudes (on the left in the plots below) may not be distinquishable from silence.\n",
    "\n",
    "In most cases, 80% of the amplitude range (Q0.10 to Q0.90) is fairly close to the median (close to zero).\n",
    "\n",
    "Plot do not change much by target word below."
   ]
  },
  {
   "cell_type": "code",
   "execution_count": 67,
   "metadata": {
    "collapsed": true
   },
   "outputs": [],
   "source": [
    "plotRangeQuantiles <- function(targetWord, trainInfo)\n",
    "{\n",
    "    wordSet <- trainInfo              %>% \n",
    "           filter(word == targetWord) %>%\n",
    "           arrange(desc(min))               # rank order by minimum amplitude\n",
    "    \n",
    "    plot(wordSet$min, type=\"l\",\n",
    "         main=paste0(\"Amplitude Range Quantiles for '\", targetWord, \"' Utterances\"),\n",
    "         ylab=\"Amplitude\",\n",
    "         xlab=\"File Index\",\n",
    "         col=\"green\",\n",
    "         ylim=c(min(wordSet$min), max(wordSet$max)))\n",
    "    lines(wordSet$Q10,    col=\"black\")\n",
    "    lines(wordSet$median, col=\"red\")\n",
    "    lines(wordSet$Q90,    col=\"gray\")\n",
    "    lines(wordSet$max,    col=\"blue\")\n",
    "    grid()\n",
    "    legend(\"topleft\",\n",
    "           c(\"Q1.00 (max)\", \"Q0.90\", \"Q0.50 (median)\", \"Q0.10\", \"Q0.00 (min)\"),\n",
    "           col=c(\"blue\", \"gray\", \"red\", \"black\", \"green\"),\n",
    "           bty=\"n\", lty=\"solid\", lwd=2)   \n",
    "}"
   ]
  },
  {
   "cell_type": "raw",
   "metadata": {},
   "source": [
    "words <- c('zero', 'one', 'two', 'three', 'four', 'five', 'six', 'seven', 'eight', 'nine')    \n",
    "\n",
    "words <- c('bed', 'bird', 'cat', 'dog', 'down', 'go', 'happy', 'house', 'left', 'marvin',\n",
    "           'no', 'off', 'on', 'right', 'sheila', 'stop', 'tree', 'up', 'wow', 'yes')        "
   ]
  },
  {
   "cell_type": "code",
   "execution_count": 68,
   "metadata": {
    "scrolled": false
   },
   "outputs": [
    {
     "data": {
      "image/png": "[encoded data removed]",
      "text/plain": [
       "Plot with title \"Amplitude Range Quantiles for 'one' Utterances\""
      ]
     },
     "metadata": {},
     "output_type": "display_data"
    },
    {
     "data": {
      "image/png": "[encoded data removed]",
      "text/plain": [
       "Plot with title \"Amplitude Range Quantiles for 'bird' Utterances\""
      ]
     },
     "metadata": {},
     "output_type": "display_data"
    }
   ],
   "source": [
    "words <- c('one', 'bird')    \n",
    "\n",
    "for (word in words)\n",
    "{\n",
    "  plotRangeQuantiles (word, trainInfo)\n",
    "}"
   ]
  }
 ],
 "metadata": {
  "kernelspec": {
   "display_name": "R 340",
   "language": "R",
   "name": "ir340"
  },
  "language_info": {
   "codemirror_mode": "r",
   "file_extension": ".r",
   "mimetype": "text/x-r-source",
   "name": "R",
   "pygments_lexer": "r",
   "version": "3.4.0"
  }
 },
 "nbformat": 4,
 "nbformat_minor": 2
}
