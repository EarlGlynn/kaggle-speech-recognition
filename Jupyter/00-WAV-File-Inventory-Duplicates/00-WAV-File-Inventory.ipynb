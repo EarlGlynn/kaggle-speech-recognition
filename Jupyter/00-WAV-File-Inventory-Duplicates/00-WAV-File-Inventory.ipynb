{
 "cells": [
  {
   "cell_type": "markdown",
   "metadata": {},
   "source": [
    "# Inventory of Kaggle TensorFlow Speech Recognition Files\n",
    "\n",
    "Files from [Kaggle Site](https://www.kaggle.com/c/tensorflow-speech-recognition-challenge)\n",
    "\n",
    "Verify properties of all files are as expected.\n",
    "\n",
    "Find duplicate files in the train and test sets.\n",
    "\n",
    "Earl F Glynn\n",
    "\n",
    "* 2017-12-04.  Initial version\n",
    "\n",
    "* 2017-07-07.  Updated to include wave amplitude quantiles, mean, sd, range; test inventory file.\n",
    "\n",
    "\n",
    "## Setup"
   ]
  },
  {
   "cell_type": "code",
   "execution_count": 72,
   "metadata": {},
   "outputs": [],
   "source": [
    "options(width=130)\n",
    "\n",
    "suppressWarnings( library(dplyr) )\n",
    "library(tibble)     # rownames_to_column\n",
    "library(stringr)    # word\n",
    "library(tools)      # md5sum\n",
    "library(tuneR)      # readWave\n",
    "suppressMessages( library(doParallel) )  # foreach \n",
    "\n",
    "dataDir <- \"../../input/\"   "
   ]
  },
  {
   "cell_type": "markdown",
   "metadata": {},
   "source": [
    "# Train Files\n",
    "\n",
    "## Get names of all train files\n",
    "\n",
    "Ignore _background\\_noise_ directory here.  Only ask for .wav files"
   ]
  },
  {
   "cell_type": "code",
   "execution_count": 73,
   "metadata": {},
   "outputs": [
    {
     "data": {
      "text/html": [
       "64721"
      ],
      "text/latex": [
       "64721"
      ],
      "text/markdown": [
       "64721"
      ],
      "text/plain": [
       "[1] 64721"
      ]
     },
     "metadata": {},
     "output_type": "display_data"
    },
    {
     "data": {
      "text/html": [
       "<ol class=list-inline>\n",
       "\t<li>'../../input/train/audio/bed/00176480_nohash_0.wav'</li>\n",
       "\t<li>'../../input/train/audio/bed/004ae714_nohash_0.wav'</li>\n",
       "\t<li>'../../input/train/audio/bed/004ae714_nohash_1.wav'</li>\n",
       "\t<li>'../../input/train/audio/bed/00f0204f_nohash_0.wav'</li>\n",
       "\t<li>'../../input/train/audio/bed/00f0204f_nohash_1.wav'</li>\n",
       "\t<li>'../../input/train/audio/bed/012c8314_nohash_0.wav'</li>\n",
       "</ol>\n"
      ],
      "text/latex": [
       "\\begin{enumerate*}\n",
       "\\item '../../input/train/audio/bed/00176480\\_nohash\\_0.wav'\n",
       "\\item '../../input/train/audio/bed/004ae714\\_nohash\\_0.wav'\n",
       "\\item '../../input/train/audio/bed/004ae714\\_nohash\\_1.wav'\n",
       "\\item '../../input/train/audio/bed/00f0204f\\_nohash\\_0.wav'\n",
       "\\item '../../input/train/audio/bed/00f0204f\\_nohash\\_1.wav'\n",
       "\\item '../../input/train/audio/bed/012c8314\\_nohash\\_0.wav'\n",
       "\\end{enumerate*}\n"
      ],
      "text/markdown": [
       "1. '../../input/train/audio/bed/00176480_nohash_0.wav'\n",
       "2. '../../input/train/audio/bed/004ae714_nohash_0.wav'\n",
       "3. '../../input/train/audio/bed/004ae714_nohash_1.wav'\n",
       "4. '../../input/train/audio/bed/00f0204f_nohash_0.wav'\n",
       "5. '../../input/train/audio/bed/00f0204f_nohash_1.wav'\n",
       "6. '../../input/train/audio/bed/012c8314_nohash_0.wav'\n",
       "\n",
       "\n"
      ],
      "text/plain": [
       "[1] \"../../input/train/audio/bed/00176480_nohash_0.wav\" \"../../input/train/audio/bed/004ae714_nohash_0.wav\"\n",
       "[3] \"../../input/train/audio/bed/004ae714_nohash_1.wav\" \"../../input/train/audio/bed/00f0204f_nohash_0.wav\"\n",
       "[5] \"../../input/train/audio/bed/00f0204f_nohash_1.wav\" \"../../input/train/audio/bed/012c8314_nohash_0.wav\""
      ]
     },
     "metadata": {},
     "output_type": "display_data"
    }
   ],
   "source": [
    "trainFilenames <- list.files(path=paste0(dataDir, \"train\"), \n",
    "                             pattern=\"^.*\\\\.wav$\",\n",
    "                             recursive=TRUE, full.names=TRUE)\n",
    "\n",
    "length(trainFilenames)\n",
    "head(trainFilenames )"
   ]
  },
  {
   "cell_type": "markdown",
   "metadata": {},
   "source": [
    "## Create md5sum and collect sound properties for each file\n",
    "\n",
    "Use parallel processing to speed up md5sum computations. Let's use all but 2 cores for md5sums.\n",
    "\n",
    "trainSoundInfo will be written to a file for easy selection of wav files later based on various properties."
   ]
  },
  {
   "cell_type": "code",
   "execution_count": 74,
   "metadata": {
    "collapsed": true
   },
   "outputs": [],
   "source": [
    "cluster <- makePSOCKcluster(detectCores() - 2)\n",
    "registerDoParallel(cluster)   \n",
    "\n",
    "trainSoundInfo <- foreach(i = 1:length(trainFilenames), .combine=rbind) %dopar%\n",
    "{    \n",
    "    soundWave <- tuneR::readWave(trainFilenames[i])\n",
    "    \n",
    "    q <- quantile(soundWave@left, c(0.0, 0.10, 0.25, 0.50, 0.75, 0.90, 1.0))\n",
    "    \n",
    "    data.frame(\n",
    "           filename          = trainFilenames[i],          \n",
    "           samples           = length(soundWave@left),\n",
    "           durationSeconds   = length(soundWave@left) / soundWave@samp.rate,\n",
    "           samplingRateHertz = soundWave@samp.rate,\n",
    "           channels          = ifelse(soundWave@stereo, \"Stero\", \"Mono\"),\n",
    "           pcmIntFormat      = soundWave@pcm,\n",
    "           bitsPerSample     = soundWave@bit,\n",
    "        \n",
    "           # Waveform stats\n",
    "           min               = q[1],   # Quantiles\n",
    "           Q10               = q[2],\n",
    "           Q25               = q[3],\n",
    "           median            = q[4],\n",
    "           Q75               = q[5],\n",
    "           Q90               = q[6],        \n",
    "           max               = q[7],\n",
    "        \n",
    "           range             = q[7] - q[1],\n",
    "        \n",
    "           mean              = mean(soundWave@left),\n",
    "           sd                = sd(soundWave@left),\n",
    "        \n",
    "           md5sum            = tools::md5sum(trainFilenames[i]),\n",
    "        \n",
    "           row.names         = NULL,\n",
    "           stringsAsFactors  = FALSE)\n",
    "}\n",
    "\n",
    "stopCluster(cluster)"
   ]
  },
  {
   "cell_type": "code",
   "execution_count": 75,
   "metadata": {},
   "outputs": [
    {
     "data": {
      "text/html": [
       "<ol class=list-inline>\n",
       "\t<li>64721</li>\n",
       "\t<li>18</li>\n",
       "</ol>\n"
      ],
      "text/latex": [
       "\\begin{enumerate*}\n",
       "\\item 64721\n",
       "\\item 18\n",
       "\\end{enumerate*}\n"
      ],
      "text/markdown": [
       "1. 64721\n",
       "2. 18\n",
       "\n",
       "\n"
      ],
      "text/plain": [
       "[1] 64721    18"
      ]
     },
     "metadata": {},
     "output_type": "display_data"
    }
   ],
   "source": [
    "dim(trainSoundInfo)"
   ]
  },
  {
   "cell_type": "code",
   "execution_count": 76,
   "metadata": {},
   "outputs": [
    {
     "data": {
      "text/html": [
       "<table>\n",
       "<thead><tr><th scope=col>filename</th><th scope=col>samples</th><th scope=col>durationSeconds</th><th scope=col>samplingRateHertz</th><th scope=col>channels</th><th scope=col>pcmIntFormat</th><th scope=col>bitsPerSample</th><th scope=col>min</th><th scope=col>Q10</th><th scope=col>Q25</th><th scope=col>median</th><th scope=col>Q75</th><th scope=col>Q90</th><th scope=col>max</th><th scope=col>range</th><th scope=col>mean</th><th scope=col>sd</th><th scope=col>md5sum</th></tr></thead>\n",
       "<tbody>\n",
       "\t<tr><td>../../input/train/audio/bed/00176480_nohash_0.wav</td><td>16000                                            </td><td>1.0000000                                        </td><td>16000                                            </td><td>Mono                                             </td><td>TRUE                                             </td><td>16                                               </td><td>-16039                                           </td><td>-1767.4                                          </td><td> -18                                             </td><td>   0                                             </td><td> 11                                              </td><td>337.0                                            </td><td>24735                                            </td><td>40774                                            </td><td> -1.0628750                                      </td><td>3043.4817                                        </td><td>3336677cade31ae52d0f9e6288ad679d                 </td></tr>\n",
       "\t<tr><td>../../input/train/audio/bed/004ae714_nohash_0.wav</td><td>16000                                            </td><td>1.0000000                                        </td><td>16000                                            </td><td>Mono                                             </td><td>TRUE                                             </td><td>16                                               </td><td>-11421                                           </td><td> -558.0                                          </td><td>-149                                             </td><td>-100                                             </td><td>-50                                              </td><td>285.1                                            </td><td>12740                                            </td><td>24161                                            </td><td>-95.1914375                                      </td><td>1220.9112                                        </td><td>6ea166114fb6b1466c06e6cf0d88aa8d                 </td></tr>\n",
       "\t<tr><td>../../input/train/audio/bed/004ae714_nohash_1.wav</td><td>14861                                            </td><td>0.9288125                                        </td><td>16000                                            </td><td>Mono                                             </td><td>TRUE                                             </td><td>16                                               </td><td> -5797                                           </td><td> -368.0                                          </td><td>-143                                             </td><td> -99                                             </td><td>-53                                              </td><td>136.0                                            </td><td> 7021                                            </td><td>12818                                            </td><td>-95.1184981                                      </td><td> 601.7973                                        </td><td>1f68560e13cc793a24b7534c13c1f7e9                 </td></tr>\n",
       "\t<tr><td>../../input/train/audio/bed/00f0204f_nohash_0.wav</td><td>16000                                            </td><td>1.0000000                                        </td><td>16000                                            </td><td>Mono                                             </td><td>TRUE                                             </td><td>16                                               </td><td> -2474                                           </td><td> -322.1                                          </td><td> -43                                             </td><td>  -1                                             </td><td> 34                                              </td><td>218.1                                            </td><td> 2327                                            </td><td> 4801                                            </td><td>  0.0856875                                      </td><td> 373.0592                                        </td><td>fac98e7ea4e2f6f71814410d05d717cd                 </td></tr>\n",
       "\t<tr><td>../../input/train/audio/bed/00f0204f_nohash_1.wav</td><td>16000                                            </td><td>1.0000000                                        </td><td>16000                                            </td><td>Mono                                             </td><td>TRUE                                             </td><td>16                                               </td><td> -2527                                           </td><td> -243.0                                          </td><td> -38                                             </td><td>   0                                             </td><td> 33                                              </td><td>166.1                                            </td><td> 2537                                            </td><td> 5064                                            </td><td>  0.0897500                                      </td><td> 396.6656                                        </td><td>9460317598ff20131007088e4d2d1a8f                 </td></tr>\n",
       "\t<tr><td>../../input/train/audio/bed/012c8314_nohash_0.wav</td><td>16000                                            </td><td>1.0000000                                        </td><td>16000                                            </td><td>Mono                                             </td><td>TRUE                                             </td><td>16                                               </td><td> -3268                                           </td><td>   45.0                                          </td><td> 170                                             </td><td> 249                                             </td><td>336                                              </td><td>439.0                                            </td><td> 2887                                            </td><td> 6155                                            </td><td>242.9836250                                      </td><td> 375.1439                                        </td><td>8e9b5701dafd8d2d79f6b8062b7a11d0                 </td></tr>\n",
       "</tbody>\n",
       "</table>\n"
      ],
      "text/latex": [
       "\\begin{tabular}{r|llllllllllllllllll}\n",
       " filename & samples & durationSeconds & samplingRateHertz & channels & pcmIntFormat & bitsPerSample & min & Q10 & Q25 & median & Q75 & Q90 & max & range & mean & sd & md5sum\\\\\n",
       "\\hline\n",
       "\t ../../input/train/audio/bed/00176480\\_nohash\\_0.wav & 16000                                                 & 1.0000000                                             & 16000                                                 & Mono                                                  & TRUE                                                  & 16                                                    & -16039                                                & -1767.4                                               &  -18                                                  &    0                                                  &  11                                                   & 337.0                                                 & 24735                                                 & 40774                                                 &  -1.0628750                                           & 3043.4817                                             & 3336677cade31ae52d0f9e6288ad679d                     \\\\\n",
       "\t ../../input/train/audio/bed/004ae714\\_nohash\\_0.wav & 16000                                                 & 1.0000000                                             & 16000                                                 & Mono                                                  & TRUE                                                  & 16                                                    & -11421                                                &  -558.0                                               & -149                                                  & -100                                                  & -50                                                   & 285.1                                                 & 12740                                                 & 24161                                                 & -95.1914375                                           & 1220.9112                                             & 6ea166114fb6b1466c06e6cf0d88aa8d                     \\\\\n",
       "\t ../../input/train/audio/bed/004ae714\\_nohash\\_1.wav & 14861                                                 & 0.9288125                                             & 16000                                                 & Mono                                                  & TRUE                                                  & 16                                                    &  -5797                                                &  -368.0                                               & -143                                                  &  -99                                                  & -53                                                   & 136.0                                                 &  7021                                                 & 12818                                                 & -95.1184981                                           &  601.7973                                             & 1f68560e13cc793a24b7534c13c1f7e9                     \\\\\n",
       "\t ../../input/train/audio/bed/00f0204f\\_nohash\\_0.wav & 16000                                                 & 1.0000000                                             & 16000                                                 & Mono                                                  & TRUE                                                  & 16                                                    &  -2474                                                &  -322.1                                               &  -43                                                  &   -1                                                  &  34                                                   & 218.1                                                 &  2327                                                 &  4801                                                 &   0.0856875                                           &  373.0592                                             & fac98e7ea4e2f6f71814410d05d717cd                     \\\\\n",
       "\t ../../input/train/audio/bed/00f0204f\\_nohash\\_1.wav & 16000                                                 & 1.0000000                                             & 16000                                                 & Mono                                                  & TRUE                                                  & 16                                                    &  -2527                                                &  -243.0                                               &  -38                                                  &    0                                                  &  33                                                   & 166.1                                                 &  2537                                                 &  5064                                                 &   0.0897500                                           &  396.6656                                             & 9460317598ff20131007088e4d2d1a8f                     \\\\\n",
       "\t ../../input/train/audio/bed/012c8314\\_nohash\\_0.wav & 16000                                                 & 1.0000000                                             & 16000                                                 & Mono                                                  & TRUE                                                  & 16                                                    &  -3268                                                &    45.0                                               &  170                                                  &  249                                                  & 336                                                   & 439.0                                                 &  2887                                                 &  6155                                                 & 242.9836250                                           &  375.1439                                             & 8e9b5701dafd8d2d79f6b8062b7a11d0                     \\\\\n",
       "\\end{tabular}\n"
      ],
      "text/markdown": [
       "\n",
       "filename | samples | durationSeconds | samplingRateHertz | channels | pcmIntFormat | bitsPerSample | min | Q10 | Q25 | median | Q75 | Q90 | max | range | mean | sd | md5sum | \n",
       "|---|---|---|---|---|---|\n",
       "| ../../input/train/audio/bed/00176480_nohash_0.wav | 16000                                             | 1.0000000                                         | 16000                                             | Mono                                              | TRUE                                              | 16                                                | -16039                                            | -1767.4                                           |  -18                                              |    0                                              |  11                                               | 337.0                                             | 24735                                             | 40774                                             |  -1.0628750                                       | 3043.4817                                         | 3336677cade31ae52d0f9e6288ad679d                  | \n",
       "| ../../input/train/audio/bed/004ae714_nohash_0.wav | 16000                                             | 1.0000000                                         | 16000                                             | Mono                                              | TRUE                                              | 16                                                | -11421                                            |  -558.0                                           | -149                                              | -100                                              | -50                                               | 285.1                                             | 12740                                             | 24161                                             | -95.1914375                                       | 1220.9112                                         | 6ea166114fb6b1466c06e6cf0d88aa8d                  | \n",
       "| ../../input/train/audio/bed/004ae714_nohash_1.wav | 14861                                             | 0.9288125                                         | 16000                                             | Mono                                              | TRUE                                              | 16                                                |  -5797                                            |  -368.0                                           | -143                                              |  -99                                              | -53                                               | 136.0                                             |  7021                                             | 12818                                             | -95.1184981                                       |  601.7973                                         | 1f68560e13cc793a24b7534c13c1f7e9                  | \n",
       "| ../../input/train/audio/bed/00f0204f_nohash_0.wav | 16000                                             | 1.0000000                                         | 16000                                             | Mono                                              | TRUE                                              | 16                                                |  -2474                                            |  -322.1                                           |  -43                                              |   -1                                              |  34                                               | 218.1                                             |  2327                                             |  4801                                             |   0.0856875                                       |  373.0592                                         | fac98e7ea4e2f6f71814410d05d717cd                  | \n",
       "| ../../input/train/audio/bed/00f0204f_nohash_1.wav | 16000                                             | 1.0000000                                         | 16000                                             | Mono                                              | TRUE                                              | 16                                                |  -2527                                            |  -243.0                                           |  -38                                              |    0                                              |  33                                               | 166.1                                             |  2537                                             |  5064                                             |   0.0897500                                       |  396.6656                                         | 9460317598ff20131007088e4d2d1a8f                  | \n",
       "| ../../input/train/audio/bed/012c8314_nohash_0.wav | 16000                                             | 1.0000000                                         | 16000                                             | Mono                                              | TRUE                                              | 16                                                |  -3268                                            |    45.0                                           |  170                                              |  249                                              | 336                                               | 439.0                                             |  2887                                             |  6155                                             | 242.9836250                                       |  375.1439                                         | 8e9b5701dafd8d2d79f6b8062b7a11d0                  | \n",
       "\n",
       "\n"
      ],
      "text/plain": [
       "  filename                                          samples durationSeconds samplingRateHertz channels pcmIntFormat bitsPerSample\n",
       "1 ../../input/train/audio/bed/00176480_nohash_0.wav 16000   1.0000000       16000             Mono     TRUE         16           \n",
       "2 ../../input/train/audio/bed/004ae714_nohash_0.wav 16000   1.0000000       16000             Mono     TRUE         16           \n",
       "3 ../../input/train/audio/bed/004ae714_nohash_1.wav 14861   0.9288125       16000             Mono     TRUE         16           \n",
       "4 ../../input/train/audio/bed/00f0204f_nohash_0.wav 16000   1.0000000       16000             Mono     TRUE         16           \n",
       "5 ../../input/train/audio/bed/00f0204f_nohash_1.wav 16000   1.0000000       16000             Mono     TRUE         16           \n",
       "6 ../../input/train/audio/bed/012c8314_nohash_0.wav 16000   1.0000000       16000             Mono     TRUE         16           \n",
       "  min    Q10     Q25  median Q75 Q90   max   range mean        sd        md5sum                          \n",
       "1 -16039 -1767.4  -18    0    11 337.0 24735 40774  -1.0628750 3043.4817 3336677cade31ae52d0f9e6288ad679d\n",
       "2 -11421  -558.0 -149 -100   -50 285.1 12740 24161 -95.1914375 1220.9112 6ea166114fb6b1466c06e6cf0d88aa8d\n",
       "3  -5797  -368.0 -143  -99   -53 136.0  7021 12818 -95.1184981  601.7973 1f68560e13cc793a24b7534c13c1f7e9\n",
       "4  -2474  -322.1  -43   -1    34 218.1  2327  4801   0.0856875  373.0592 fac98e7ea4e2f6f71814410d05d717cd\n",
       "5  -2527  -243.0  -38    0    33 166.1  2537  5064   0.0897500  396.6656 9460317598ff20131007088e4d2d1a8f\n",
       "6  -3268    45.0  170  249   336 439.0  2887  6155 242.9836250  375.1439 8e9b5701dafd8d2d79f6b8062b7a11d0"
      ]
     },
     "metadata": {},
     "output_type": "display_data"
    }
   ],
   "source": [
    "head(trainSoundInfo)"
   ]
  },
  {
   "cell_type": "markdown",
   "metadata": {},
   "source": [
    "## Verify sound properties common for all train files"
   ]
  },
  {
   "cell_type": "code",
   "execution_count": 77,
   "metadata": {},
   "outputs": [
    {
     "data": {
      "text/plain": [
       "\n",
       "16000 \n",
       "64721 "
      ]
     },
     "metadata": {},
     "output_type": "display_data"
    }
   ],
   "source": [
    "table(trainSoundInfo$samplingRateHertz)"
   ]
  },
  {
   "cell_type": "code",
   "execution_count": 78,
   "metadata": {},
   "outputs": [
    {
     "data": {
      "text/plain": [
       "\n",
       " Mono \n",
       "64721 "
      ]
     },
     "metadata": {},
     "output_type": "display_data"
    }
   ],
   "source": [
    "table(trainSoundInfo$channels)"
   ]
  },
  {
   "cell_type": "code",
   "execution_count": 79,
   "metadata": {},
   "outputs": [
    {
     "data": {
      "text/plain": [
       "\n",
       " TRUE \n",
       "64721 "
      ]
     },
     "metadata": {},
     "output_type": "display_data"
    }
   ],
   "source": [
    "table(trainSoundInfo$pcmIntFormat)"
   ]
  },
  {
   "cell_type": "code",
   "execution_count": 80,
   "metadata": {},
   "outputs": [
    {
     "data": {
      "text/plain": [
       "\n",
       "   16 \n",
       "64721 "
      ]
     },
     "metadata": {},
     "output_type": "display_data"
    }
   ],
   "source": [
    "table(trainSoundInfo$bitsPerSample)"
   ]
  },
  {
   "cell_type": "markdown",
   "metadata": {},
   "source": [
    "Since the above sound properties were verified to be constants, let's not bother with them.\n"
   ]
  },
  {
   "cell_type": "code",
   "execution_count": 81,
   "metadata": {},
   "outputs": [
    {
     "data": {
      "text/html": [
       "<table>\n",
       "<thead><tr><th scope=col>filename</th><th scope=col>samples</th><th scope=col>min</th><th scope=col>Q10</th><th scope=col>Q25</th><th scope=col>median</th><th scope=col>Q75</th><th scope=col>Q90</th><th scope=col>max</th><th scope=col>range</th><th scope=col>mean</th><th scope=col>sd</th><th scope=col>md5sum</th></tr></thead>\n",
       "<tbody>\n",
       "\t<tr><td>../../input/train/audio/bed/00176480_nohash_0.wav</td><td>16000                                            </td><td>-16039                                           </td><td>-1767.4                                          </td><td> -18                                             </td><td>   0                                             </td><td> 11                                              </td><td>337.0                                            </td><td>24735                                            </td><td>40774                                            </td><td> -1.0628750                                      </td><td>3043.4817                                        </td><td>3336677cade31ae52d0f9e6288ad679d                 </td></tr>\n",
       "\t<tr><td>../../input/train/audio/bed/004ae714_nohash_0.wav</td><td>16000                                            </td><td>-11421                                           </td><td> -558.0                                          </td><td>-149                                             </td><td>-100                                             </td><td>-50                                              </td><td>285.1                                            </td><td>12740                                            </td><td>24161                                            </td><td>-95.1914375                                      </td><td>1220.9112                                        </td><td>6ea166114fb6b1466c06e6cf0d88aa8d                 </td></tr>\n",
       "\t<tr><td>../../input/train/audio/bed/004ae714_nohash_1.wav</td><td>14861                                            </td><td> -5797                                           </td><td> -368.0                                          </td><td>-143                                             </td><td> -99                                             </td><td>-53                                              </td><td>136.0                                            </td><td> 7021                                            </td><td>12818                                            </td><td>-95.1184981                                      </td><td> 601.7973                                        </td><td>1f68560e13cc793a24b7534c13c1f7e9                 </td></tr>\n",
       "\t<tr><td>../../input/train/audio/bed/00f0204f_nohash_0.wav</td><td>16000                                            </td><td> -2474                                           </td><td> -322.1                                          </td><td> -43                                             </td><td>  -1                                             </td><td> 34                                              </td><td>218.1                                            </td><td> 2327                                            </td><td> 4801                                            </td><td>  0.0856875                                      </td><td> 373.0592                                        </td><td>fac98e7ea4e2f6f71814410d05d717cd                 </td></tr>\n",
       "\t<tr><td>../../input/train/audio/bed/00f0204f_nohash_1.wav</td><td>16000                                            </td><td> -2527                                           </td><td> -243.0                                          </td><td> -38                                             </td><td>   0                                             </td><td> 33                                              </td><td>166.1                                            </td><td> 2537                                            </td><td> 5064                                            </td><td>  0.0897500                                      </td><td> 396.6656                                        </td><td>9460317598ff20131007088e4d2d1a8f                 </td></tr>\n",
       "\t<tr><td>../../input/train/audio/bed/012c8314_nohash_0.wav</td><td>16000                                            </td><td> -3268                                           </td><td>   45.0                                          </td><td> 170                                             </td><td> 249                                             </td><td>336                                              </td><td>439.0                                            </td><td> 2887                                            </td><td> 6155                                            </td><td>242.9836250                                      </td><td> 375.1439                                        </td><td>8e9b5701dafd8d2d79f6b8062b7a11d0                 </td></tr>\n",
       "</tbody>\n",
       "</table>\n"
      ],
      "text/latex": [
       "\\begin{tabular}{r|lllllllllllll}\n",
       " filename & samples & min & Q10 & Q25 & median & Q75 & Q90 & max & range & mean & sd & md5sum\\\\\n",
       "\\hline\n",
       "\t ../../input/train/audio/bed/00176480\\_nohash\\_0.wav & 16000                                                 & -16039                                                & -1767.4                                               &  -18                                                  &    0                                                  &  11                                                   & 337.0                                                 & 24735                                                 & 40774                                                 &  -1.0628750                                           & 3043.4817                                             & 3336677cade31ae52d0f9e6288ad679d                     \\\\\n",
       "\t ../../input/train/audio/bed/004ae714\\_nohash\\_0.wav & 16000                                                 & -11421                                                &  -558.0                                               & -149                                                  & -100                                                  & -50                                                   & 285.1                                                 & 12740                                                 & 24161                                                 & -95.1914375                                           & 1220.9112                                             & 6ea166114fb6b1466c06e6cf0d88aa8d                     \\\\\n",
       "\t ../../input/train/audio/bed/004ae714\\_nohash\\_1.wav & 14861                                                 &  -5797                                                &  -368.0                                               & -143                                                  &  -99                                                  & -53                                                   & 136.0                                                 &  7021                                                 & 12818                                                 & -95.1184981                                           &  601.7973                                             & 1f68560e13cc793a24b7534c13c1f7e9                     \\\\\n",
       "\t ../../input/train/audio/bed/00f0204f\\_nohash\\_0.wav & 16000                                                 &  -2474                                                &  -322.1                                               &  -43                                                  &   -1                                                  &  34                                                   & 218.1                                                 &  2327                                                 &  4801                                                 &   0.0856875                                           &  373.0592                                             & fac98e7ea4e2f6f71814410d05d717cd                     \\\\\n",
       "\t ../../input/train/audio/bed/00f0204f\\_nohash\\_1.wav & 16000                                                 &  -2527                                                &  -243.0                                               &  -38                                                  &    0                                                  &  33                                                   & 166.1                                                 &  2537                                                 &  5064                                                 &   0.0897500                                           &  396.6656                                             & 9460317598ff20131007088e4d2d1a8f                     \\\\\n",
       "\t ../../input/train/audio/bed/012c8314\\_nohash\\_0.wav & 16000                                                 &  -3268                                                &    45.0                                               &  170                                                  &  249                                                  & 336                                                   & 439.0                                                 &  2887                                                 &  6155                                                 & 242.9836250                                           &  375.1439                                             & 8e9b5701dafd8d2d79f6b8062b7a11d0                     \\\\\n",
       "\\end{tabular}\n"
      ],
      "text/markdown": [
       "\n",
       "filename | samples | min | Q10 | Q25 | median | Q75 | Q90 | max | range | mean | sd | md5sum | \n",
       "|---|---|---|---|---|---|\n",
       "| ../../input/train/audio/bed/00176480_nohash_0.wav | 16000                                             | -16039                                            | -1767.4                                           |  -18                                              |    0                                              |  11                                               | 337.0                                             | 24735                                             | 40774                                             |  -1.0628750                                       | 3043.4817                                         | 3336677cade31ae52d0f9e6288ad679d                  | \n",
       "| ../../input/train/audio/bed/004ae714_nohash_0.wav | 16000                                             | -11421                                            |  -558.0                                           | -149                                              | -100                                              | -50                                               | 285.1                                             | 12740                                             | 24161                                             | -95.1914375                                       | 1220.9112                                         | 6ea166114fb6b1466c06e6cf0d88aa8d                  | \n",
       "| ../../input/train/audio/bed/004ae714_nohash_1.wav | 14861                                             |  -5797                                            |  -368.0                                           | -143                                              |  -99                                              | -53                                               | 136.0                                             |  7021                                             | 12818                                             | -95.1184981                                       |  601.7973                                         | 1f68560e13cc793a24b7534c13c1f7e9                  | \n",
       "| ../../input/train/audio/bed/00f0204f_nohash_0.wav | 16000                                             |  -2474                                            |  -322.1                                           |  -43                                              |   -1                                              |  34                                               | 218.1                                             |  2327                                             |  4801                                             |   0.0856875                                       |  373.0592                                         | fac98e7ea4e2f6f71814410d05d717cd                  | \n",
       "| ../../input/train/audio/bed/00f0204f_nohash_1.wav | 16000                                             |  -2527                                            |  -243.0                                           |  -38                                              |    0                                              |  33                                               | 166.1                                             |  2537                                             |  5064                                             |   0.0897500                                       |  396.6656                                         | 9460317598ff20131007088e4d2d1a8f                  | \n",
       "| ../../input/train/audio/bed/012c8314_nohash_0.wav | 16000                                             |  -3268                                            |    45.0                                           |  170                                              |  249                                              | 336                                               | 439.0                                             |  2887                                             |  6155                                             | 242.9836250                                       |  375.1439                                         | 8e9b5701dafd8d2d79f6b8062b7a11d0                  | \n",
       "\n",
       "\n"
      ],
      "text/plain": [
       "  filename                                          samples min    Q10     Q25  median Q75 Q90   max   range mean       \n",
       "1 ../../input/train/audio/bed/00176480_nohash_0.wav 16000   -16039 -1767.4  -18    0    11 337.0 24735 40774  -1.0628750\n",
       "2 ../../input/train/audio/bed/004ae714_nohash_0.wav 16000   -11421  -558.0 -149 -100   -50 285.1 12740 24161 -95.1914375\n",
       "3 ../../input/train/audio/bed/004ae714_nohash_1.wav 14861    -5797  -368.0 -143  -99   -53 136.0  7021 12818 -95.1184981\n",
       "4 ../../input/train/audio/bed/00f0204f_nohash_0.wav 16000    -2474  -322.1  -43   -1    34 218.1  2327  4801   0.0856875\n",
       "5 ../../input/train/audio/bed/00f0204f_nohash_1.wav 16000    -2527  -243.0  -38    0    33 166.1  2537  5064   0.0897500\n",
       "6 ../../input/train/audio/bed/012c8314_nohash_0.wav 16000    -3268    45.0  170  249   336 439.0  2887  6155 242.9836250\n",
       "  sd        md5sum                          \n",
       "1 3043.4817 3336677cade31ae52d0f9e6288ad679d\n",
       "2 1220.9112 6ea166114fb6b1466c06e6cf0d88aa8d\n",
       "3  601.7973 1f68560e13cc793a24b7534c13c1f7e9\n",
       "4  373.0592 fac98e7ea4e2f6f71814410d05d717cd\n",
       "5  396.6656 9460317598ff20131007088e4d2d1a8f\n",
       "6  375.1439 8e9b5701dafd8d2d79f6b8062b7a11d0"
      ]
     },
     "metadata": {},
     "output_type": "display_data"
    }
   ],
   "source": [
    "trainSoundInfo <- trainSoundInfo %>% select(filename, samples, \n",
    "                                            min, Q10, Q25, median, Q75, Q90, max, range,\n",
    "                                            mean, sd,\n",
    "                                            md5sum)\n",
    "head(trainSoundInfo)"
   ]
  },
  {
   "cell_type": "markdown",
   "metadata": {},
   "source": [
    "## Look at sample size differences"
   ]
  },
  {
   "cell_type": "code",
   "execution_count": 82,
   "metadata": {},
   "outputs": [
    {
     "data": {
      "text/html": [
       "<ol class=list-inline>\n",
       "\t<li>5945</li>\n",
       "\t<li>16000</li>\n",
       "\t<li>16000</li>\n",
       "\t<li>16000</li>\n",
       "\t<li>16000</li>\n",
       "</ol>\n"
      ],
      "text/latex": [
       "\\begin{enumerate*}\n",
       "\\item 5945\n",
       "\\item 16000\n",
       "\\item 16000\n",
       "\\item 16000\n",
       "\\item 16000\n",
       "\\end{enumerate*}\n"
      ],
      "text/markdown": [
       "1. 5945\n",
       "2. 16000\n",
       "3. 16000\n",
       "4. 16000\n",
       "5. 16000\n",
       "\n",
       "\n"
      ],
      "text/plain": [
       "[1]  5945 16000 16000 16000 16000"
      ]
     },
     "metadata": {},
     "output_type": "display_data"
    }
   ],
   "source": [
    "fivenum(trainSoundInfo$samples)"
   ]
  },
  {
   "cell_type": "markdown",
   "metadata": {},
   "source": [
    "Number of files with exactly 16000 samples (1 second duration):"
   ]
  },
  {
   "cell_type": "code",
   "execution_count": 83,
   "metadata": {},
   "outputs": [
    {
     "data": {
      "text/html": [
       "58252"
      ],
      "text/latex": [
       "58252"
      ],
      "text/markdown": [
       "58252"
      ],
      "text/plain": [
       "[1] 58252"
      ]
     },
     "metadata": {},
     "output_type": "display_data"
    }
   ],
   "source": [
    "sum(trainSoundInfo$samples == 16000)"
   ]
  },
  {
   "cell_type": "markdown",
   "metadata": {},
   "source": [
    "Fraction that are exactly 16000 samples (1 second):"
   ]
  },
  {
   "cell_type": "code",
   "execution_count": 84,
   "metadata": {},
   "outputs": [
    {
     "data": {
      "text/html": [
       "0.900047897900218"
      ],
      "text/latex": [
       "0.900047897900218"
      ],
      "text/markdown": [
       "0.900047897900218"
      ],
      "text/plain": [
       "[1] 0.9000479"
      ]
     },
     "metadata": {},
     "output_type": "display_data"
    }
   ],
   "source": [
    "sum(trainSoundInfo$samples == 16000) / nrow(trainSoundInfo)"
   ]
  },
  {
   "cell_type": "markdown",
   "metadata": {},
   "source": [
    "Look at variation in files with fewer than 16000 samples:"
   ]
  },
  {
   "cell_type": "code",
   "execution_count": 85,
   "metadata": {},
   "outputs": [
    {
     "data": {
      "image/png": "[encoded data removed]",
      "text/plain": [
       "Plot with title \"Training Set:  Sample Size < 16000\""
      ]
     },
     "metadata": {},
     "output_type": "display_data"
    }
   ],
   "source": [
    "notOneSecond <- trainSoundInfo$samples[trainSoundInfo$samples != 16000]\n",
    "plot(density(notOneSecond, from=min(notOneSecond), to=max(notOneSecond)),     \n",
    "    col=\"skyblue\", lwd=3,\n",
    "    main=\"Training Set:  Sample Size < 16000\")\n",
    "grid()"
   ]
  },
  {
   "cell_type": "markdown",
   "metadata": {},
   "source": [
    "As shown below, all of the test files have exactly 16000 samples.  None have fewer."
   ]
  },
  {
   "cell_type": "markdown",
   "metadata": {},
   "source": [
    "## Find size of each file"
   ]
  },
  {
   "cell_type": "code",
   "execution_count": 86,
   "metadata": {},
   "outputs": [
    {
     "data": {
      "text/html": [
       "<table>\n",
       "<thead><tr><th scope=col>filename</th><th scope=col>sizeBytes</th></tr></thead>\n",
       "<tbody>\n",
       "\t<tr><td>../../input/train/audio/bed/00176480_nohash_0.wav</td><td>32044                                            </td></tr>\n",
       "\t<tr><td>../../input/train/audio/bed/004ae714_nohash_0.wav</td><td>32044                                            </td></tr>\n",
       "\t<tr><td>../../input/train/audio/bed/004ae714_nohash_1.wav</td><td>29766                                            </td></tr>\n",
       "\t<tr><td>../../input/train/audio/bed/00f0204f_nohash_0.wav</td><td>32044                                            </td></tr>\n",
       "\t<tr><td>../../input/train/audio/bed/00f0204f_nohash_1.wav</td><td>32044                                            </td></tr>\n",
       "\t<tr><td>../../input/train/audio/bed/012c8314_nohash_0.wav</td><td>32044                                            </td></tr>\n",
       "</tbody>\n",
       "</table>\n"
      ],
      "text/latex": [
       "\\begin{tabular}{r|ll}\n",
       " filename & sizeBytes\\\\\n",
       "\\hline\n",
       "\t ../../input/train/audio/bed/00176480\\_nohash\\_0.wav & 32044                                                \\\\\n",
       "\t ../../input/train/audio/bed/004ae714\\_nohash\\_0.wav & 32044                                                \\\\\n",
       "\t ../../input/train/audio/bed/004ae714\\_nohash\\_1.wav & 29766                                                \\\\\n",
       "\t ../../input/train/audio/bed/00f0204f\\_nohash\\_0.wav & 32044                                                \\\\\n",
       "\t ../../input/train/audio/bed/00f0204f\\_nohash\\_1.wav & 32044                                                \\\\\n",
       "\t ../../input/train/audio/bed/012c8314\\_nohash\\_0.wav & 32044                                                \\\\\n",
       "\\end{tabular}\n"
      ],
      "text/markdown": [
       "\n",
       "filename | sizeBytes | \n",
       "|---|---|---|---|---|---|\n",
       "| ../../input/train/audio/bed/00176480_nohash_0.wav | 32044                                             | \n",
       "| ../../input/train/audio/bed/004ae714_nohash_0.wav | 32044                                             | \n",
       "| ../../input/train/audio/bed/004ae714_nohash_1.wav | 29766                                             | \n",
       "| ../../input/train/audio/bed/00f0204f_nohash_0.wav | 32044                                             | \n",
       "| ../../input/train/audio/bed/00f0204f_nohash_1.wav | 32044                                             | \n",
       "| ../../input/train/audio/bed/012c8314_nohash_0.wav | 32044                                             | \n",
       "\n",
       "\n"
      ],
      "text/plain": [
       "  filename                                          sizeBytes\n",
       "1 ../../input/train/audio/bed/00176480_nohash_0.wav 32044    \n",
       "2 ../../input/train/audio/bed/004ae714_nohash_0.wav 32044    \n",
       "3 ../../input/train/audio/bed/004ae714_nohash_1.wav 29766    \n",
       "4 ../../input/train/audio/bed/00f0204f_nohash_0.wav 32044    \n",
       "5 ../../input/train/audio/bed/00f0204f_nohash_1.wav 32044    \n",
       "6 ../../input/train/audio/bed/012c8314_nohash_0.wav 32044    "
      ]
     },
     "metadata": {},
     "output_type": "display_data"
    }
   ],
   "source": [
    "trainFileInfo <- file.info(trainFilenames, extra_cols=FALSE) %>%\n",
    "                 rownames_to_column(var=\"filename\")          %>%\n",
    "                 select(filename, size)                      %>%\n",
    "                 rename(sizeBytes=size)\n",
    "head(trainFileInfo)"
   ]
  },
  {
   "cell_type": "markdown",
   "metadata": {},
   "source": [
    "## Combine data.frames"
   ]
  },
  {
   "cell_type": "code",
   "execution_count": 87,
   "metadata": {
    "collapsed": true
   },
   "outputs": [],
   "source": [
    "trainInfo <- inner_join(trainFileInfo, trainSoundInfo, by=\"filename\")"
   ]
  },
  {
   "cell_type": "code",
   "execution_count": 88,
   "metadata": {},
   "outputs": [
    {
     "data": {
      "text/html": [
       "<table>\n",
       "<thead><tr><th scope=col>filename</th><th scope=col>sizeBytes</th><th scope=col>samples</th><th scope=col>min</th><th scope=col>Q10</th><th scope=col>Q25</th><th scope=col>median</th><th scope=col>Q75</th><th scope=col>Q90</th><th scope=col>max</th><th scope=col>range</th><th scope=col>mean</th><th scope=col>sd</th><th scope=col>md5sum</th></tr></thead>\n",
       "<tbody>\n",
       "\t<tr><td>../../input/train/audio/bed/00176480_nohash_0.wav</td><td>32044                                            </td><td>16000                                            </td><td>-16039                                           </td><td>-1767.4                                          </td><td> -18                                             </td><td>   0                                             </td><td> 11                                              </td><td>337.0                                            </td><td>24735                                            </td><td>40774                                            </td><td> -1.0628750                                      </td><td>3043.4817                                        </td><td>3336677cade31ae52d0f9e6288ad679d                 </td></tr>\n",
       "\t<tr><td>../../input/train/audio/bed/004ae714_nohash_0.wav</td><td>32044                                            </td><td>16000                                            </td><td>-11421                                           </td><td> -558.0                                          </td><td>-149                                             </td><td>-100                                             </td><td>-50                                              </td><td>285.1                                            </td><td>12740                                            </td><td>24161                                            </td><td>-95.1914375                                      </td><td>1220.9112                                        </td><td>6ea166114fb6b1466c06e6cf0d88aa8d                 </td></tr>\n",
       "\t<tr><td>../../input/train/audio/bed/004ae714_nohash_1.wav</td><td>29766                                            </td><td>14861                                            </td><td> -5797                                           </td><td> -368.0                                          </td><td>-143                                             </td><td> -99                                             </td><td>-53                                              </td><td>136.0                                            </td><td> 7021                                            </td><td>12818                                            </td><td>-95.1184981                                      </td><td> 601.7973                                        </td><td>1f68560e13cc793a24b7534c13c1f7e9                 </td></tr>\n",
       "\t<tr><td>../../input/train/audio/bed/00f0204f_nohash_0.wav</td><td>32044                                            </td><td>16000                                            </td><td> -2474                                           </td><td> -322.1                                          </td><td> -43                                             </td><td>  -1                                             </td><td> 34                                              </td><td>218.1                                            </td><td> 2327                                            </td><td> 4801                                            </td><td>  0.0856875                                      </td><td> 373.0592                                        </td><td>fac98e7ea4e2f6f71814410d05d717cd                 </td></tr>\n",
       "\t<tr><td>../../input/train/audio/bed/00f0204f_nohash_1.wav</td><td>32044                                            </td><td>16000                                            </td><td> -2527                                           </td><td> -243.0                                          </td><td> -38                                             </td><td>   0                                             </td><td> 33                                              </td><td>166.1                                            </td><td> 2537                                            </td><td> 5064                                            </td><td>  0.0897500                                      </td><td> 396.6656                                        </td><td>9460317598ff20131007088e4d2d1a8f                 </td></tr>\n",
       "\t<tr><td>../../input/train/audio/bed/012c8314_nohash_0.wav</td><td>32044                                            </td><td>16000                                            </td><td> -3268                                           </td><td>   45.0                                          </td><td> 170                                             </td><td> 249                                             </td><td>336                                              </td><td>439.0                                            </td><td> 2887                                            </td><td> 6155                                            </td><td>242.9836250                                      </td><td> 375.1439                                        </td><td>8e9b5701dafd8d2d79f6b8062b7a11d0                 </td></tr>\n",
       "</tbody>\n",
       "</table>\n"
      ],
      "text/latex": [
       "\\begin{tabular}{r|llllllllllllll}\n",
       " filename & sizeBytes & samples & min & Q10 & Q25 & median & Q75 & Q90 & max & range & mean & sd & md5sum\\\\\n",
       "\\hline\n",
       "\t ../../input/train/audio/bed/00176480\\_nohash\\_0.wav & 32044                                                 & 16000                                                 & -16039                                                & -1767.4                                               &  -18                                                  &    0                                                  &  11                                                   & 337.0                                                 & 24735                                                 & 40774                                                 &  -1.0628750                                           & 3043.4817                                             & 3336677cade31ae52d0f9e6288ad679d                     \\\\\n",
       "\t ../../input/train/audio/bed/004ae714\\_nohash\\_0.wav & 32044                                                 & 16000                                                 & -11421                                                &  -558.0                                               & -149                                                  & -100                                                  & -50                                                   & 285.1                                                 & 12740                                                 & 24161                                                 & -95.1914375                                           & 1220.9112                                             & 6ea166114fb6b1466c06e6cf0d88aa8d                     \\\\\n",
       "\t ../../input/train/audio/bed/004ae714\\_nohash\\_1.wav & 29766                                                 & 14861                                                 &  -5797                                                &  -368.0                                               & -143                                                  &  -99                                                  & -53                                                   & 136.0                                                 &  7021                                                 & 12818                                                 & -95.1184981                                           &  601.7973                                             & 1f68560e13cc793a24b7534c13c1f7e9                     \\\\\n",
       "\t ../../input/train/audio/bed/00f0204f\\_nohash\\_0.wav & 32044                                                 & 16000                                                 &  -2474                                                &  -322.1                                               &  -43                                                  &   -1                                                  &  34                                                   & 218.1                                                 &  2327                                                 &  4801                                                 &   0.0856875                                           &  373.0592                                             & fac98e7ea4e2f6f71814410d05d717cd                     \\\\\n",
       "\t ../../input/train/audio/bed/00f0204f\\_nohash\\_1.wav & 32044                                                 & 16000                                                 &  -2527                                                &  -243.0                                               &  -38                                                  &    0                                                  &  33                                                   & 166.1                                                 &  2537                                                 &  5064                                                 &   0.0897500                                           &  396.6656                                             & 9460317598ff20131007088e4d2d1a8f                     \\\\\n",
       "\t ../../input/train/audio/bed/012c8314\\_nohash\\_0.wav & 32044                                                 & 16000                                                 &  -3268                                                &    45.0                                               &  170                                                  &  249                                                  & 336                                                   & 439.0                                                 &  2887                                                 &  6155                                                 & 242.9836250                                           &  375.1439                                             & 8e9b5701dafd8d2d79f6b8062b7a11d0                     \\\\\n",
       "\\end{tabular}\n"
      ],
      "text/markdown": [
       "\n",
       "filename | sizeBytes | samples | min | Q10 | Q25 | median | Q75 | Q90 | max | range | mean | sd | md5sum | \n",
       "|---|---|---|---|---|---|\n",
       "| ../../input/train/audio/bed/00176480_nohash_0.wav | 32044                                             | 16000                                             | -16039                                            | -1767.4                                           |  -18                                              |    0                                              |  11                                               | 337.0                                             | 24735                                             | 40774                                             |  -1.0628750                                       | 3043.4817                                         | 3336677cade31ae52d0f9e6288ad679d                  | \n",
       "| ../../input/train/audio/bed/004ae714_nohash_0.wav | 32044                                             | 16000                                             | -11421                                            |  -558.0                                           | -149                                              | -100                                              | -50                                               | 285.1                                             | 12740                                             | 24161                                             | -95.1914375                                       | 1220.9112                                         | 6ea166114fb6b1466c06e6cf0d88aa8d                  | \n",
       "| ../../input/train/audio/bed/004ae714_nohash_1.wav | 29766                                             | 14861                                             |  -5797                                            |  -368.0                                           | -143                                              |  -99                                              | -53                                               | 136.0                                             |  7021                                             | 12818                                             | -95.1184981                                       |  601.7973                                         | 1f68560e13cc793a24b7534c13c1f7e9                  | \n",
       "| ../../input/train/audio/bed/00f0204f_nohash_0.wav | 32044                                             | 16000                                             |  -2474                                            |  -322.1                                           |  -43                                              |   -1                                              |  34                                               | 218.1                                             |  2327                                             |  4801                                             |   0.0856875                                       |  373.0592                                         | fac98e7ea4e2f6f71814410d05d717cd                  | \n",
       "| ../../input/train/audio/bed/00f0204f_nohash_1.wav | 32044                                             | 16000                                             |  -2527                                            |  -243.0                                           |  -38                                              |    0                                              |  33                                               | 166.1                                             |  2537                                             |  5064                                             |   0.0897500                                       |  396.6656                                         | 9460317598ff20131007088e4d2d1a8f                  | \n",
       "| ../../input/train/audio/bed/012c8314_nohash_0.wav | 32044                                             | 16000                                             |  -3268                                            |    45.0                                           |  170                                              |  249                                              | 336                                               | 439.0                                             |  2887                                             |  6155                                             | 242.9836250                                       |  375.1439                                         | 8e9b5701dafd8d2d79f6b8062b7a11d0                  | \n",
       "\n",
       "\n"
      ],
      "text/plain": [
       "  filename                                          sizeBytes samples min    Q10     Q25  median Q75 Q90   max   range\n",
       "1 ../../input/train/audio/bed/00176480_nohash_0.wav 32044     16000   -16039 -1767.4  -18    0    11 337.0 24735 40774\n",
       "2 ../../input/train/audio/bed/004ae714_nohash_0.wav 32044     16000   -11421  -558.0 -149 -100   -50 285.1 12740 24161\n",
       "3 ../../input/train/audio/bed/004ae714_nohash_1.wav 29766     14861    -5797  -368.0 -143  -99   -53 136.0  7021 12818\n",
       "4 ../../input/train/audio/bed/00f0204f_nohash_0.wav 32044     16000    -2474  -322.1  -43   -1    34 218.1  2327  4801\n",
       "5 ../../input/train/audio/bed/00f0204f_nohash_1.wav 32044     16000    -2527  -243.0  -38    0    33 166.1  2537  5064\n",
       "6 ../../input/train/audio/bed/012c8314_nohash_0.wav 32044     16000    -3268    45.0  170  249   336 439.0  2887  6155\n",
       "  mean        sd        md5sum                          \n",
       "1  -1.0628750 3043.4817 3336677cade31ae52d0f9e6288ad679d\n",
       "2 -95.1914375 1220.9112 6ea166114fb6b1466c06e6cf0d88aa8d\n",
       "3 -95.1184981  601.7973 1f68560e13cc793a24b7534c13c1f7e9\n",
       "4   0.0856875  373.0592 fac98e7ea4e2f6f71814410d05d717cd\n",
       "5   0.0897500  396.6656 9460317598ff20131007088e4d2d1a8f\n",
       "6 242.9836250  375.1439 8e9b5701dafd8d2d79f6b8062b7a11d0"
      ]
     },
     "metadata": {},
     "output_type": "display_data"
    }
   ],
   "source": [
    "head(trainInfo)"
   ]
  },
  {
   "cell_type": "markdown",
   "metadata": {},
   "source": [
    "Observation:  **sizeBytes = 2 bytes/sample * samples + 44 byte header**\n",
    "\n",
    "Matches [Wave PCM soundfile format](http://soundfile.sapp.org/doc/WaveFormat/) specification."
   ]
  },
  {
   "cell_type": "code",
   "execution_count": 89,
   "metadata": {
    "collapsed": true
   },
   "outputs": [],
   "source": [
    "stopifnot(trainInfo$sizeBytes == 2 * trainInfo$samples + 44)"
   ]
  },
  {
   "cell_type": "markdown",
   "metadata": {},
   "source": [
    "Drop *sizeBytes* since that could be computed from *samples*.\n",
    "\n",
    "Remove *dataDir* string from filenames."
   ]
  },
  {
   "cell_type": "code",
   "execution_count": 90,
   "metadata": {
    "collapsed": true
   },
   "outputs": [],
   "source": [
    "trainInfo$filename <- substr(trainInfo$filename, nchar(dataDir)+1, nchar(trainInfo$filename))"
   ]
  },
  {
   "cell_type": "markdown",
   "metadata": {},
   "source": [
    "## Split filenames into useful attributes\n",
    "\n",
    "So what's a simple \"tidy\" version of the following?\n",
    "\n",
    "Split filenames on any of three characters:  / _ ."
   ]
  },
  {
   "cell_type": "code",
   "execution_count": 91,
   "metadata": {},
   "outputs": [
    {
     "data": {
      "text/html": [
       "64721"
      ],
      "text/latex": [
       "64721"
      ],
      "text/markdown": [
       "64721"
      ],
      "text/plain": [
       "[1] 64721"
      ]
     },
     "metadata": {},
     "output_type": "display_data"
    }
   ],
   "source": [
    "splits <- strsplit(trainInfo$filename, \"/|_|\\\\.\")\n",
    "length(splits)"
   ]
  },
  {
   "cell_type": "markdown",
   "metadata": {},
   "source": [
    "Show example of a split filename:"
   ]
  },
  {
   "cell_type": "code",
   "execution_count": 92,
   "metadata": {},
   "outputs": [
    {
     "data": {
      "text/html": [
       "<ol class=list-inline>\n",
       "\t<li>'train'</li>\n",
       "\t<li>'audio'</li>\n",
       "\t<li>'bed'</li>\n",
       "\t<li>'00176480'</li>\n",
       "\t<li>'nohash'</li>\n",
       "\t<li>'0'</li>\n",
       "\t<li>'wav'</li>\n",
       "</ol>\n"
      ],
      "text/latex": [
       "\\begin{enumerate*}\n",
       "\\item 'train'\n",
       "\\item 'audio'\n",
       "\\item 'bed'\n",
       "\\item '00176480'\n",
       "\\item 'nohash'\n",
       "\\item '0'\n",
       "\\item 'wav'\n",
       "\\end{enumerate*}\n"
      ],
      "text/markdown": [
       "1. 'train'\n",
       "2. 'audio'\n",
       "3. 'bed'\n",
       "4. '00176480'\n",
       "5. 'nohash'\n",
       "6. '0'\n",
       "7. 'wav'\n",
       "\n",
       "\n"
      ],
      "text/plain": [
       "[1] \"train\"    \"audio\"    \"bed\"      \"00176480\" \"nohash\"   \"0\"        \"wav\"     "
      ]
     },
     "metadata": {},
     "output_type": "display_data"
    }
   ],
   "source": [
    "x = splits[[1]]\n",
    "x"
   ]
  },
  {
   "cell_type": "markdown",
   "metadata": {},
   "source": [
    "Example of data.frame to be created below:"
   ]
  },
  {
   "cell_type": "code",
   "execution_count": 93,
   "metadata": {},
   "outputs": [
    {
     "data": {
      "text/html": [
       "<table>\n",
       "<thead><tr><th scope=col>dataset</th><th scope=col>word</th><th scope=col>speakerID</th><th scope=col>utteranceIndex</th><th scope=col>extension</th></tr></thead>\n",
       "<tbody>\n",
       "\t<tr><td>train   </td><td>bed     </td><td>00176480</td><td>0       </td><td>wav     </td></tr>\n",
       "</tbody>\n",
       "</table>\n"
      ],
      "text/latex": [
       "\\begin{tabular}{r|lllll}\n",
       " dataset & word & speakerID & utteranceIndex & extension\\\\\n",
       "\\hline\n",
       "\t train    & bed      & 00176480 & 0        & wav     \\\\\n",
       "\\end{tabular}\n"
      ],
      "text/markdown": [
       "\n",
       "dataset | word | speakerID | utteranceIndex | extension | \n",
       "|---|\n",
       "| train    | bed      | 00176480 | 0        | wav      | \n",
       "\n",
       "\n"
      ],
      "text/plain": [
       "  dataset word speakerID utteranceIndex extension\n",
       "1 train   bed  00176480  0              wav      "
      ]
     },
     "metadata": {},
     "output_type": "display_data"
    }
   ],
   "source": [
    "data.frame(dataset=x[1], word=x[3], speakerID=x[4], utteranceIndex=x[6], extension=x[7], stringsAsFactors=FALSE)"
   ]
  },
  {
   "cell_type": "code",
   "execution_count": 94,
   "metadata": {},
   "outputs": [
    {
     "data": {
      "text/html": [
       "<table>\n",
       "<thead><tr><th scope=col>dataset</th><th scope=col>word</th><th scope=col>speakerID</th><th scope=col>utteranceIndex</th><th scope=col>extension</th></tr></thead>\n",
       "<tbody>\n",
       "\t<tr><td>train   </td><td>bed     </td><td>00176480</td><td>0       </td><td>wav     </td></tr>\n",
       "\t<tr><td>train   </td><td>bed     </td><td>004ae714</td><td>0       </td><td>wav     </td></tr>\n",
       "\t<tr><td>train   </td><td>bed     </td><td>004ae714</td><td>1       </td><td>wav     </td></tr>\n",
       "\t<tr><td>train   </td><td>bed     </td><td>00f0204f</td><td>0       </td><td>wav     </td></tr>\n",
       "\t<tr><td>train   </td><td>bed     </td><td>00f0204f</td><td>1       </td><td>wav     </td></tr>\n",
       "\t<tr><td>train   </td><td>bed     </td><td>012c8314</td><td>0       </td><td>wav     </td></tr>\n",
       "</tbody>\n",
       "</table>\n"
      ],
      "text/latex": [
       "\\begin{tabular}{r|lllll}\n",
       " dataset & word & speakerID & utteranceIndex & extension\\\\\n",
       "\\hline\n",
       "\t train    & bed      & 00176480 & 0        & wav     \\\\\n",
       "\t train    & bed      & 004ae714 & 0        & wav     \\\\\n",
       "\t train    & bed      & 004ae714 & 1        & wav     \\\\\n",
       "\t train    & bed      & 00f0204f & 0        & wav     \\\\\n",
       "\t train    & bed      & 00f0204f & 1        & wav     \\\\\n",
       "\t train    & bed      & 012c8314 & 0        & wav     \\\\\n",
       "\\end{tabular}\n"
      ],
      "text/markdown": [
       "\n",
       "dataset | word | speakerID | utteranceIndex | extension | \n",
       "|---|---|---|---|---|---|\n",
       "| train    | bed      | 00176480 | 0        | wav      | \n",
       "| train    | bed      | 004ae714 | 0        | wav      | \n",
       "| train    | bed      | 004ae714 | 1        | wav      | \n",
       "| train    | bed      | 00f0204f | 0        | wav      | \n",
       "| train    | bed      | 00f0204f | 1        | wav      | \n",
       "| train    | bed      | 012c8314 | 0        | wav      | \n",
       "\n",
       "\n"
      ],
      "text/plain": [
       "  dataset word speakerID utteranceIndex extension\n",
       "1 train   bed  00176480  0              wav      \n",
       "2 train   bed  004ae714  0              wav      \n",
       "3 train   bed  004ae714  1              wav      \n",
       "4 train   bed  00f0204f  0              wav      \n",
       "5 train   bed  00f0204f  1              wav      \n",
       "6 train   bed  012c8314  0              wav      "
      ]
     },
     "metadata": {},
     "output_type": "display_data"
    }
   ],
   "source": [
    "fileAttributes <- do.call(rbind, \n",
    "                          lapply(splits, function(x){\n",
    "                                 data.frame(dataset=x[1], \n",
    "                                 word=x[3], \n",
    "                                 speakerID=x[4], \n",
    "                                 utteranceIndex=x[6], \n",
    "                                 extension=x[7], \n",
    "                                 stringsAsFactors=FALSE)\n",
    "                 }))\n",
    "head(fileAttributes)"
   ]
  },
  {
   "cell_type": "markdown",
   "metadata": {},
   "source": [
    "## Final trainInfo\n",
    "\n",
    "Combine separate file attribute fields with *samples* and *md5sum*."
   ]
  },
  {
   "cell_type": "code",
   "execution_count": 95,
   "metadata": {
    "collapsed": true
   },
   "outputs": [],
   "source": [
    "trainInfo <- cbind(trainInfo, fileAttributes) %>% \n",
    "    select(filename, dataset, word, speakerID, utteranceIndex, extension, samples, \n",
    "           min, Q10, Q25, median, Q75, Q90, max, range, mean, sd,\n",
    "           md5sum)"
   ]
  },
  {
   "cell_type": "code",
   "execution_count": 96,
   "metadata": {},
   "outputs": [
    {
     "data": {
      "text/html": [
       "<ol class=list-inline>\n",
       "\t<li>64721</li>\n",
       "\t<li>18</li>\n",
       "</ol>\n"
      ],
      "text/latex": [
       "\\begin{enumerate*}\n",
       "\\item 64721\n",
       "\\item 18\n",
       "\\end{enumerate*}\n"
      ],
      "text/markdown": [
       "1. 64721\n",
       "2. 18\n",
       "\n",
       "\n"
      ],
      "text/plain": [
       "[1] 64721    18"
      ]
     },
     "metadata": {},
     "output_type": "display_data"
    }
   ],
   "source": [
    "dim(trainInfo)"
   ]
  },
  {
   "cell_type": "code",
   "execution_count": 97,
   "metadata": {},
   "outputs": [
    {
     "data": {
      "text/html": [
       "<table>\n",
       "<thead><tr><th scope=col>filename</th><th scope=col>dataset</th><th scope=col>word</th><th scope=col>speakerID</th><th scope=col>utteranceIndex</th><th scope=col>extension</th><th scope=col>samples</th><th scope=col>min</th><th scope=col>Q10</th><th scope=col>Q25</th><th scope=col>median</th><th scope=col>Q75</th><th scope=col>Q90</th><th scope=col>max</th><th scope=col>range</th><th scope=col>mean</th><th scope=col>sd</th><th scope=col>md5sum</th></tr></thead>\n",
       "<tbody>\n",
       "\t<tr><td>train/audio/bed/00176480_nohash_0.wav</td><td>train                                </td><td>bed                                  </td><td>00176480                             </td><td>0                                    </td><td>wav                                  </td><td>16000                                </td><td>-16039                               </td><td>-1767.4                              </td><td> -18                                 </td><td>   0                                 </td><td> 11                                  </td><td>337.0                                </td><td>24735                                </td><td>40774                                </td><td> -1.0628750                          </td><td>3043.4817                            </td><td>3336677cade31ae52d0f9e6288ad679d     </td></tr>\n",
       "\t<tr><td>train/audio/bed/004ae714_nohash_0.wav</td><td>train                                </td><td>bed                                  </td><td>004ae714                             </td><td>0                                    </td><td>wav                                  </td><td>16000                                </td><td>-11421                               </td><td> -558.0                              </td><td>-149                                 </td><td>-100                                 </td><td>-50                                  </td><td>285.1                                </td><td>12740                                </td><td>24161                                </td><td>-95.1914375                          </td><td>1220.9112                            </td><td>6ea166114fb6b1466c06e6cf0d88aa8d     </td></tr>\n",
       "\t<tr><td>train/audio/bed/004ae714_nohash_1.wav</td><td>train                                </td><td>bed                                  </td><td>004ae714                             </td><td>1                                    </td><td>wav                                  </td><td>14861                                </td><td> -5797                               </td><td> -368.0                              </td><td>-143                                 </td><td> -99                                 </td><td>-53                                  </td><td>136.0                                </td><td> 7021                                </td><td>12818                                </td><td>-95.1184981                          </td><td> 601.7973                            </td><td>1f68560e13cc793a24b7534c13c1f7e9     </td></tr>\n",
       "\t<tr><td>train/audio/bed/00f0204f_nohash_0.wav</td><td>train                                </td><td>bed                                  </td><td>00f0204f                             </td><td>0                                    </td><td>wav                                  </td><td>16000                                </td><td> -2474                               </td><td> -322.1                              </td><td> -43                                 </td><td>  -1                                 </td><td> 34                                  </td><td>218.1                                </td><td> 2327                                </td><td> 4801                                </td><td>  0.0856875                          </td><td> 373.0592                            </td><td>fac98e7ea4e2f6f71814410d05d717cd     </td></tr>\n",
       "\t<tr><td>train/audio/bed/00f0204f_nohash_1.wav</td><td>train                                </td><td>bed                                  </td><td>00f0204f                             </td><td>1                                    </td><td>wav                                  </td><td>16000                                </td><td> -2527                               </td><td> -243.0                              </td><td> -38                                 </td><td>   0                                 </td><td> 33                                  </td><td>166.1                                </td><td> 2537                                </td><td> 5064                                </td><td>  0.0897500                          </td><td> 396.6656                            </td><td>9460317598ff20131007088e4d2d1a8f     </td></tr>\n",
       "\t<tr><td>train/audio/bed/012c8314_nohash_0.wav</td><td>train                                </td><td>bed                                  </td><td>012c8314                             </td><td>0                                    </td><td>wav                                  </td><td>16000                                </td><td> -3268                               </td><td>   45.0                              </td><td> 170                                 </td><td> 249                                 </td><td>336                                  </td><td>439.0                                </td><td> 2887                                </td><td> 6155                                </td><td>242.9836250                          </td><td> 375.1439                            </td><td>8e9b5701dafd8d2d79f6b8062b7a11d0     </td></tr>\n",
       "</tbody>\n",
       "</table>\n"
      ],
      "text/latex": [
       "\\begin{tabular}{r|llllllllllllllllll}\n",
       " filename & dataset & word & speakerID & utteranceIndex & extension & samples & min & Q10 & Q25 & median & Q75 & Q90 & max & range & mean & sd & md5sum\\\\\n",
       "\\hline\n",
       "\t train/audio/bed/00176480\\_nohash\\_0.wav & train                                     & bed                                       & 00176480                                  & 0                                         & wav                                       & 16000                                     & -16039                                    & -1767.4                                   &  -18                                      &    0                                      &  11                                       & 337.0                                     & 24735                                     & 40774                                     &  -1.0628750                               & 3043.4817                                 & 3336677cade31ae52d0f9e6288ad679d         \\\\\n",
       "\t train/audio/bed/004ae714\\_nohash\\_0.wav & train                                     & bed                                       & 004ae714                                  & 0                                         & wav                                       & 16000                                     & -11421                                    &  -558.0                                   & -149                                      & -100                                      & -50                                       & 285.1                                     & 12740                                     & 24161                                     & -95.1914375                               & 1220.9112                                 & 6ea166114fb6b1466c06e6cf0d88aa8d         \\\\\n",
       "\t train/audio/bed/004ae714\\_nohash\\_1.wav & train                                     & bed                                       & 004ae714                                  & 1                                         & wav                                       & 14861                                     &  -5797                                    &  -368.0                                   & -143                                      &  -99                                      & -53                                       & 136.0                                     &  7021                                     & 12818                                     & -95.1184981                               &  601.7973                                 & 1f68560e13cc793a24b7534c13c1f7e9         \\\\\n",
       "\t train/audio/bed/00f0204f\\_nohash\\_0.wav & train                                     & bed                                       & 00f0204f                                  & 0                                         & wav                                       & 16000                                     &  -2474                                    &  -322.1                                   &  -43                                      &   -1                                      &  34                                       & 218.1                                     &  2327                                     &  4801                                     &   0.0856875                               &  373.0592                                 & fac98e7ea4e2f6f71814410d05d717cd         \\\\\n",
       "\t train/audio/bed/00f0204f\\_nohash\\_1.wav & train                                     & bed                                       & 00f0204f                                  & 1                                         & wav                                       & 16000                                     &  -2527                                    &  -243.0                                   &  -38                                      &    0                                      &  33                                       & 166.1                                     &  2537                                     &  5064                                     &   0.0897500                               &  396.6656                                 & 9460317598ff20131007088e4d2d1a8f         \\\\\n",
       "\t train/audio/bed/012c8314\\_nohash\\_0.wav & train                                     & bed                                       & 012c8314                                  & 0                                         & wav                                       & 16000                                     &  -3268                                    &    45.0                                   &  170                                      &  249                                      & 336                                       & 439.0                                     &  2887                                     &  6155                                     & 242.9836250                               &  375.1439                                 & 8e9b5701dafd8d2d79f6b8062b7a11d0         \\\\\n",
       "\\end{tabular}\n"
      ],
      "text/markdown": [
       "\n",
       "filename | dataset | word | speakerID | utteranceIndex | extension | samples | min | Q10 | Q25 | median | Q75 | Q90 | max | range | mean | sd | md5sum | \n",
       "|---|---|---|---|---|---|\n",
       "| train/audio/bed/00176480_nohash_0.wav | train                                 | bed                                   | 00176480                              | 0                                     | wav                                   | 16000                                 | -16039                                | -1767.4                               |  -18                                  |    0                                  |  11                                   | 337.0                                 | 24735                                 | 40774                                 |  -1.0628750                           | 3043.4817                             | 3336677cade31ae52d0f9e6288ad679d      | \n",
       "| train/audio/bed/004ae714_nohash_0.wav | train                                 | bed                                   | 004ae714                              | 0                                     | wav                                   | 16000                                 | -11421                                |  -558.0                               | -149                                  | -100                                  | -50                                   | 285.1                                 | 12740                                 | 24161                                 | -95.1914375                           | 1220.9112                             | 6ea166114fb6b1466c06e6cf0d88aa8d      | \n",
       "| train/audio/bed/004ae714_nohash_1.wav | train                                 | bed                                   | 004ae714                              | 1                                     | wav                                   | 14861                                 |  -5797                                |  -368.0                               | -143                                  |  -99                                  | -53                                   | 136.0                                 |  7021                                 | 12818                                 | -95.1184981                           |  601.7973                             | 1f68560e13cc793a24b7534c13c1f7e9      | \n",
       "| train/audio/bed/00f0204f_nohash_0.wav | train                                 | bed                                   | 00f0204f                              | 0                                     | wav                                   | 16000                                 |  -2474                                |  -322.1                               |  -43                                  |   -1                                  |  34                                   | 218.1                                 |  2327                                 |  4801                                 |   0.0856875                           |  373.0592                             | fac98e7ea4e2f6f71814410d05d717cd      | \n",
       "| train/audio/bed/00f0204f_nohash_1.wav | train                                 | bed                                   | 00f0204f                              | 1                                     | wav                                   | 16000                                 |  -2527                                |  -243.0                               |  -38                                  |    0                                  |  33                                   | 166.1                                 |  2537                                 |  5064                                 |   0.0897500                           |  396.6656                             | 9460317598ff20131007088e4d2d1a8f      | \n",
       "| train/audio/bed/012c8314_nohash_0.wav | train                                 | bed                                   | 012c8314                              | 0                                     | wav                                   | 16000                                 |  -3268                                |    45.0                               |  170                                  |  249                                  | 336                                   | 439.0                                 |  2887                                 |  6155                                 | 242.9836250                           |  375.1439                             | 8e9b5701dafd8d2d79f6b8062b7a11d0      | \n",
       "\n",
       "\n"
      ],
      "text/plain": [
       "  filename                              dataset word speakerID utteranceIndex extension samples min    Q10     Q25  median Q75\n",
       "1 train/audio/bed/00176480_nohash_0.wav train   bed  00176480  0              wav       16000   -16039 -1767.4  -18    0    11\n",
       "2 train/audio/bed/004ae714_nohash_0.wav train   bed  004ae714  0              wav       16000   -11421  -558.0 -149 -100   -50\n",
       "3 train/audio/bed/004ae714_nohash_1.wav train   bed  004ae714  1              wav       14861    -5797  -368.0 -143  -99   -53\n",
       "4 train/audio/bed/00f0204f_nohash_0.wav train   bed  00f0204f  0              wav       16000    -2474  -322.1  -43   -1    34\n",
       "5 train/audio/bed/00f0204f_nohash_1.wav train   bed  00f0204f  1              wav       16000    -2527  -243.0  -38    0    33\n",
       "6 train/audio/bed/012c8314_nohash_0.wav train   bed  012c8314  0              wav       16000    -3268    45.0  170  249   336\n",
       "  Q90   max   range mean        sd        md5sum                          \n",
       "1 337.0 24735 40774  -1.0628750 3043.4817 3336677cade31ae52d0f9e6288ad679d\n",
       "2 285.1 12740 24161 -95.1914375 1220.9112 6ea166114fb6b1466c06e6cf0d88aa8d\n",
       "3 136.0  7021 12818 -95.1184981  601.7973 1f68560e13cc793a24b7534c13c1f7e9\n",
       "4 218.1  2327  4801   0.0856875  373.0592 fac98e7ea4e2f6f71814410d05d717cd\n",
       "5 166.1  2537  5064   0.0897500  396.6656 9460317598ff20131007088e4d2d1a8f\n",
       "6 439.0  2887  6155 242.9836250  375.1439 8e9b5701dafd8d2d79f6b8062b7a11d0"
      ]
     },
     "metadata": {},
     "output_type": "display_data"
    }
   ],
   "source": [
    "head(trainInfo)"
   ]
  },
  {
   "cell_type": "code",
   "execution_count": 98,
   "metadata": {
    "collapsed": true
   },
   "outputs": [],
   "source": [
    "write.csv(trainInfo, \"train-Kaggle-Speech-Recognition-File-Inventory.csv\", row.names=FALSE)"
   ]
  },
  {
   "cell_type": "markdown",
   "metadata": {},
   "source": [
    "## Number of unique train speakers"
   ]
  },
  {
   "cell_type": "code",
   "execution_count": 99,
   "metadata": {},
   "outputs": [
    {
     "data": {
      "text/html": [
       "1881"
      ],
      "text/latex": [
       "1881"
      ],
      "text/markdown": [
       "1881"
      ],
      "text/plain": [
       "[1] 1881"
      ]
     },
     "metadata": {},
     "output_type": "display_data"
    }
   ],
   "source": [
    "length(unique(trainInfo$speakerID))"
   ]
  },
  {
   "cell_type": "markdown",
   "metadata": {},
   "source": [
    "## Number of train utterances by word\n",
    "\n",
    "(zero-based indexing here)"
   ]
  },
  {
   "cell_type": "code",
   "execution_count": 100,
   "metadata": {},
   "outputs": [
    {
     "data": {
      "text/html": [
       "<table>\n",
       "<thead><tr><th></th><th scope=col>0</th><th scope=col>1</th><th scope=col>2</th><th scope=col>3</th><th scope=col>4</th><th scope=col>5</th><th scope=col>6</th><th scope=col>7</th><th scope=col>8</th><th scope=col>9</th><th scope=col>10</th><th scope=col>11</th><th scope=col>Total</th></tr></thead>\n",
       "<tbody>\n",
       "\t<tr><th scope=row>bed</th><td>1177</td><td>411 </td><td> 99 </td><td> 21 </td><td>  4 </td><td> 1  </td><td>0   </td><td>0   </td><td>0   </td><td>0   </td><td>0   </td><td>0   </td><td>1713</td></tr>\n",
       "\t<tr><th scope=row>bird</th><td>1194</td><td>410 </td><td>109 </td><td> 17 </td><td>  1 </td><td> 0  </td><td>0   </td><td>0   </td><td>0   </td><td>0   </td><td>0   </td><td>0   </td><td>1731</td></tr>\n",
       "\t<tr><th scope=row>cat</th><td>1180</td><td>413 </td><td>111 </td><td> 27 </td><td>  2 </td><td> 0  </td><td>0   </td><td>0   </td><td>0   </td><td>0   </td><td>0   </td><td>0   </td><td>1733</td></tr>\n",
       "\t<tr><th scope=row>dog</th><td>1209</td><td>417 </td><td>101 </td><td> 15 </td><td>  4 </td><td> 0  </td><td>0   </td><td>0   </td><td>0   </td><td>0   </td><td>0   </td><td>0   </td><td>1746</td></tr>\n",
       "\t<tr><th scope=row>down</th><td>1206</td><td>567 </td><td>257 </td><td>168 </td><td>149 </td><td> 5  </td><td>3   </td><td>3   </td><td>1   </td><td>0   </td><td>0   </td><td>0   </td><td>2359</td></tr>\n",
       "\t<tr><th scope=row>eight</th><td>1179</td><td>561 </td><td>276 </td><td>173 </td><td>150 </td><td> 8  </td><td>3   </td><td>1   </td><td>1   </td><td>0   </td><td>0   </td><td>0   </td><td>2352</td></tr>\n",
       "\t<tr><th scope=row>five</th><td>1181</td><td>571 </td><td>272 </td><td>173 </td><td>149 </td><td> 6  </td><td>4   </td><td>1   </td><td>0   </td><td>0   </td><td>0   </td><td>0   </td><td>2357</td></tr>\n",
       "\t<tr><th scope=row>four</th><td>1194</td><td>586 </td><td>260 </td><td>169 </td><td>148 </td><td> 8  </td><td>3   </td><td>2   </td><td>1   </td><td>1   </td><td>0   </td><td>0   </td><td>2372</td></tr>\n",
       "\t<tr><th scope=row>go</th><td>1182</td><td>574 </td><td>271 </td><td>170 </td><td>152 </td><td>10  </td><td>7   </td><td>4   </td><td>1   </td><td>1   </td><td>0   </td><td>0   </td><td>2372</td></tr>\n",
       "\t<tr><th scope=row>happy</th><td>1178</td><td>415 </td><td>124 </td><td> 22 </td><td>  2 </td><td> 1  </td><td>0   </td><td>0   </td><td>0   </td><td>0   </td><td>0   </td><td>0   </td><td>1742</td></tr>\n",
       "\t<tr><th scope=row>house</th><td>1165</td><td>439 </td><td>111 </td><td> 29 </td><td>  6 </td><td> 0  </td><td>0   </td><td>0   </td><td>0   </td><td>0   </td><td>0   </td><td>0   </td><td>1750</td></tr>\n",
       "\t<tr><th scope=row>left</th><td>1180</td><td>557 </td><td>274 </td><td>178 </td><td>149 </td><td>10  </td><td>3   </td><td>2   </td><td>0   </td><td>0   </td><td>0   </td><td>0   </td><td>2353</td></tr>\n",
       "\t<tr><th scope=row>marvin</th><td>1191</td><td>430 </td><td>102 </td><td> 21 </td><td>  1 </td><td> 1  </td><td>0   </td><td>0   </td><td>0   </td><td>0   </td><td>0   </td><td>0   </td><td>1746</td></tr>\n",
       "\t<tr><th scope=row>nine</th><td>1182</td><td>560 </td><td>269 </td><td>178 </td><td>155 </td><td> 8  </td><td>4   </td><td>3   </td><td>3   </td><td>2   </td><td>0   </td><td>0   </td><td>2364</td></tr>\n",
       "\t<tr><th scope=row>no</th><td>1203</td><td>572 </td><td>259 </td><td>176 </td><td>150 </td><td> 8  </td><td>3   </td><td>2   </td><td>1   </td><td>1   </td><td>0   </td><td>0   </td><td>2375</td></tr>\n",
       "\t<tr><th scope=row>off</th><td>1170</td><td>565 </td><td>273 </td><td>178 </td><td>152 </td><td> 8  </td><td>5   </td><td>3   </td><td>2   </td><td>1   </td><td>0   </td><td>0   </td><td>2357</td></tr>\n",
       "\t<tr><th scope=row>on</th><td>1198</td><td>571 </td><td>259 </td><td>170 </td><td>150 </td><td> 9  </td><td>5   </td><td>3   </td><td>1   </td><td>1   </td><td>0   </td><td>0   </td><td>2367</td></tr>\n",
       "\t<tr><th scope=row>one</th><td>1179</td><td>568 </td><td>274 </td><td>183 </td><td>154 </td><td> 5  </td><td>3   </td><td>2   </td><td>1   </td><td>1   </td><td>0   </td><td>0   </td><td>2370</td></tr>\n",
       "\t<tr><th scope=row>right</th><td>1194</td><td>562 </td><td>273 </td><td>169 </td><td>150 </td><td>10  </td><td>5   </td><td>3   </td><td>1   </td><td>0   </td><td>0   </td><td>0   </td><td>2367</td></tr>\n",
       "\t<tr><th scope=row>seven</th><td>1192</td><td>583 </td><td>257 </td><td>180 </td><td>151 </td><td> 7  </td><td>4   </td><td>3   </td><td>0   </td><td>0   </td><td>0   </td><td>0   </td><td>2377</td></tr>\n",
       "\t<tr><th scope=row>sheila</th><td>1178</td><td>420 </td><td>103 </td><td> 24 </td><td>  8 </td><td> 1  </td><td>0   </td><td>0   </td><td>0   </td><td>0   </td><td>0   </td><td>0   </td><td>1734</td></tr>\n",
       "\t<tr><th scope=row>six</th><td>1197</td><td>554 </td><td>265 </td><td>180 </td><td>153 </td><td> 9  </td><td>4   </td><td>2   </td><td>2   </td><td>1   </td><td>1   </td><td>1   </td><td>2369</td></tr>\n",
       "\t<tr><th scope=row>stop</th><td>1191</td><td>577 </td><td>275 </td><td>172 </td><td>151 </td><td> 7  </td><td>4   </td><td>1   </td><td>1   </td><td>1   </td><td>0   </td><td>0   </td><td>2380</td></tr>\n",
       "\t<tr><th scope=row>three</th><td>1202</td><td>562 </td><td>260 </td><td>170 </td><td>149 </td><td> 6  </td><td>3   </td><td>2   </td><td>1   </td><td>1   </td><td>0   </td><td>0   </td><td>2356</td></tr>\n",
       "\t<tr><th scope=row>tree</th><td>1173</td><td>401 </td><td>127 </td><td> 23 </td><td>  7 </td><td> 1  </td><td>1   </td><td>0   </td><td>0   </td><td>0   </td><td>0   </td><td>0   </td><td>1733</td></tr>\n",
       "\t<tr><th scope=row>two</th><td>1175</td><td>570 </td><td>286 </td><td>176 </td><td>150 </td><td> 5  </td><td>4   </td><td>3   </td><td>2   </td><td>2   </td><td>0   </td><td>0   </td><td>2373</td></tr>\n",
       "\t<tr><th scope=row>up</th><td>1186</td><td>569 </td><td>269 </td><td>181 </td><td>153 </td><td> 8  </td><td>4   </td><td>2   </td><td>2   </td><td>1   </td><td>0   </td><td>0   </td><td>2375</td></tr>\n",
       "\t<tr><th scope=row>wow</th><td>1181</td><td>418 </td><td>110 </td><td> 33 </td><td>  3 </td><td> 0  </td><td>0   </td><td>0   </td><td>0   </td><td>0   </td><td>0   </td><td>0   </td><td>1745</td></tr>\n",
       "\t<tr><th scope=row>yes</th><td>1200</td><td>559 </td><td>264 </td><td>176 </td><td>154 </td><td> 9  </td><td>5   </td><td>5   </td><td>2   </td><td>2   </td><td>1   </td><td>0   </td><td>2377</td></tr>\n",
       "\t<tr><th scope=row>zero</th><td>1186</td><td>574 </td><td>266 </td><td>178 </td><td>155 </td><td> 9  </td><td>3   </td><td>2   </td><td>2   </td><td>1   </td><td>0   </td><td>0   </td><td>2376</td></tr>\n",
       "</tbody>\n",
       "</table>\n"
      ],
      "text/latex": [
       "\\begin{tabular}{r|lllllllllllll}\n",
       "  & 0 & 1 & 2 & 3 & 4 & 5 & 6 & 7 & 8 & 9 & 10 & 11 & Total\\\\\n",
       "\\hline\n",
       "\tbed & 1177 & 411  &  99  &  21  &   4  &  1   & 0    & 0    & 0    & 0    & 0    & 0    & 1713\\\\\n",
       "\tbird & 1194 & 410  & 109  &  17  &   1  &  0   & 0    & 0    & 0    & 0    & 0    & 0    & 1731\\\\\n",
       "\tcat & 1180 & 413  & 111  &  27  &   2  &  0   & 0    & 0    & 0    & 0    & 0    & 0    & 1733\\\\\n",
       "\tdog & 1209 & 417  & 101  &  15  &   4  &  0   & 0    & 0    & 0    & 0    & 0    & 0    & 1746\\\\\n",
       "\tdown & 1206 & 567  & 257  & 168  & 149  &  5   & 3    & 3    & 1    & 0    & 0    & 0    & 2359\\\\\n",
       "\teight & 1179 & 561  & 276  & 173  & 150  &  8   & 3    & 1    & 1    & 0    & 0    & 0    & 2352\\\\\n",
       "\tfive & 1181 & 571  & 272  & 173  & 149  &  6   & 4    & 1    & 0    & 0    & 0    & 0    & 2357\\\\\n",
       "\tfour & 1194 & 586  & 260  & 169  & 148  &  8   & 3    & 2    & 1    & 1    & 0    & 0    & 2372\\\\\n",
       "\tgo & 1182 & 574  & 271  & 170  & 152  & 10   & 7    & 4    & 1    & 1    & 0    & 0    & 2372\\\\\n",
       "\thappy & 1178 & 415  & 124  &  22  &   2  &  1   & 0    & 0    & 0    & 0    & 0    & 0    & 1742\\\\\n",
       "\thouse & 1165 & 439  & 111  &  29  &   6  &  0   & 0    & 0    & 0    & 0    & 0    & 0    & 1750\\\\\n",
       "\tleft & 1180 & 557  & 274  & 178  & 149  & 10   & 3    & 2    & 0    & 0    & 0    & 0    & 2353\\\\\n",
       "\tmarvin & 1191 & 430  & 102  &  21  &   1  &  1   & 0    & 0    & 0    & 0    & 0    & 0    & 1746\\\\\n",
       "\tnine & 1182 & 560  & 269  & 178  & 155  &  8   & 4    & 3    & 3    & 2    & 0    & 0    & 2364\\\\\n",
       "\tno & 1203 & 572  & 259  & 176  & 150  &  8   & 3    & 2    & 1    & 1    & 0    & 0    & 2375\\\\\n",
       "\toff & 1170 & 565  & 273  & 178  & 152  &  8   & 5    & 3    & 2    & 1    & 0    & 0    & 2357\\\\\n",
       "\ton & 1198 & 571  & 259  & 170  & 150  &  9   & 5    & 3    & 1    & 1    & 0    & 0    & 2367\\\\\n",
       "\tone & 1179 & 568  & 274  & 183  & 154  &  5   & 3    & 2    & 1    & 1    & 0    & 0    & 2370\\\\\n",
       "\tright & 1194 & 562  & 273  & 169  & 150  & 10   & 5    & 3    & 1    & 0    & 0    & 0    & 2367\\\\\n",
       "\tseven & 1192 & 583  & 257  & 180  & 151  &  7   & 4    & 3    & 0    & 0    & 0    & 0    & 2377\\\\\n",
       "\tsheila & 1178 & 420  & 103  &  24  &   8  &  1   & 0    & 0    & 0    & 0    & 0    & 0    & 1734\\\\\n",
       "\tsix & 1197 & 554  & 265  & 180  & 153  &  9   & 4    & 2    & 2    & 1    & 1    & 1    & 2369\\\\\n",
       "\tstop & 1191 & 577  & 275  & 172  & 151  &  7   & 4    & 1    & 1    & 1    & 0    & 0    & 2380\\\\\n",
       "\tthree & 1202 & 562  & 260  & 170  & 149  &  6   & 3    & 2    & 1    & 1    & 0    & 0    & 2356\\\\\n",
       "\ttree & 1173 & 401  & 127  &  23  &   7  &  1   & 1    & 0    & 0    & 0    & 0    & 0    & 1733\\\\\n",
       "\ttwo & 1175 & 570  & 286  & 176  & 150  &  5   & 4    & 3    & 2    & 2    & 0    & 0    & 2373\\\\\n",
       "\tup & 1186 & 569  & 269  & 181  & 153  &  8   & 4    & 2    & 2    & 1    & 0    & 0    & 2375\\\\\n",
       "\twow & 1181 & 418  & 110  &  33  &   3  &  0   & 0    & 0    & 0    & 0    & 0    & 0    & 1745\\\\\n",
       "\tyes & 1200 & 559  & 264  & 176  & 154  &  9   & 5    & 5    & 2    & 2    & 1    & 0    & 2377\\\\\n",
       "\tzero & 1186 & 574  & 266  & 178  & 155  &  9   & 3    & 2    & 2    & 1    & 0    & 0    & 2376\\\\\n",
       "\\end{tabular}\n"
      ],
      "text/markdown": [
       "\n",
       "| <!--/--> | 0 | 1 | 2 | 3 | 4 | 5 | 6 | 7 | 8 | 9 | 10 | 11 | Total | \n",
       "|---|---|---|---|---|---|---|---|---|---|---|---|---|---|---|---|---|---|---|---|---|---|---|---|---|---|---|---|---|---|\n",
       "| bed | 1177 | 411  |  99  |  21  |   4  |  1   | 0    | 0    | 0    | 0    | 0    | 0    | 1713 | \n",
       "| bird | 1194 | 410  | 109  |  17  |   1  |  0   | 0    | 0    | 0    | 0    | 0    | 0    | 1731 | \n",
       "| cat | 1180 | 413  | 111  |  27  |   2  |  0   | 0    | 0    | 0    | 0    | 0    | 0    | 1733 | \n",
       "| dog | 1209 | 417  | 101  |  15  |   4  |  0   | 0    | 0    | 0    | 0    | 0    | 0    | 1746 | \n",
       "| down | 1206 | 567  | 257  | 168  | 149  |  5   | 3    | 3    | 1    | 0    | 0    | 0    | 2359 | \n",
       "| eight | 1179 | 561  | 276  | 173  | 150  |  8   | 3    | 1    | 1    | 0    | 0    | 0    | 2352 | \n",
       "| five | 1181 | 571  | 272  | 173  | 149  |  6   | 4    | 1    | 0    | 0    | 0    | 0    | 2357 | \n",
       "| four | 1194 | 586  | 260  | 169  | 148  |  8   | 3    | 2    | 1    | 1    | 0    | 0    | 2372 | \n",
       "| go | 1182 | 574  | 271  | 170  | 152  | 10   | 7    | 4    | 1    | 1    | 0    | 0    | 2372 | \n",
       "| happy | 1178 | 415  | 124  |  22  |   2  |  1   | 0    | 0    | 0    | 0    | 0    | 0    | 1742 | \n",
       "| house | 1165 | 439  | 111  |  29  |   6  |  0   | 0    | 0    | 0    | 0    | 0    | 0    | 1750 | \n",
       "| left | 1180 | 557  | 274  | 178  | 149  | 10   | 3    | 2    | 0    | 0    | 0    | 0    | 2353 | \n",
       "| marvin | 1191 | 430  | 102  |  21  |   1  |  1   | 0    | 0    | 0    | 0    | 0    | 0    | 1746 | \n",
       "| nine | 1182 | 560  | 269  | 178  | 155  |  8   | 4    | 3    | 3    | 2    | 0    | 0    | 2364 | \n",
       "| no | 1203 | 572  | 259  | 176  | 150  |  8   | 3    | 2    | 1    | 1    | 0    | 0    | 2375 | \n",
       "| off | 1170 | 565  | 273  | 178  | 152  |  8   | 5    | 3    | 2    | 1    | 0    | 0    | 2357 | \n",
       "| on | 1198 | 571  | 259  | 170  | 150  |  9   | 5    | 3    | 1    | 1    | 0    | 0    | 2367 | \n",
       "| one | 1179 | 568  | 274  | 183  | 154  |  5   | 3    | 2    | 1    | 1    | 0    | 0    | 2370 | \n",
       "| right | 1194 | 562  | 273  | 169  | 150  | 10   | 5    | 3    | 1    | 0    | 0    | 0    | 2367 | \n",
       "| seven | 1192 | 583  | 257  | 180  | 151  |  7   | 4    | 3    | 0    | 0    | 0    | 0    | 2377 | \n",
       "| sheila | 1178 | 420  | 103  |  24  |   8  |  1   | 0    | 0    | 0    | 0    | 0    | 0    | 1734 | \n",
       "| six | 1197 | 554  | 265  | 180  | 153  |  9   | 4    | 2    | 2    | 1    | 1    | 1    | 2369 | \n",
       "| stop | 1191 | 577  | 275  | 172  | 151  |  7   | 4    | 1    | 1    | 1    | 0    | 0    | 2380 | \n",
       "| three | 1202 | 562  | 260  | 170  | 149  |  6   | 3    | 2    | 1    | 1    | 0    | 0    | 2356 | \n",
       "| tree | 1173 | 401  | 127  |  23  |   7  |  1   | 1    | 0    | 0    | 0    | 0    | 0    | 1733 | \n",
       "| two | 1175 | 570  | 286  | 176  | 150  |  5   | 4    | 3    | 2    | 2    | 0    | 0    | 2373 | \n",
       "| up | 1186 | 569  | 269  | 181  | 153  |  8   | 4    | 2    | 2    | 1    | 0    | 0    | 2375 | \n",
       "| wow | 1181 | 418  | 110  |  33  |   3  |  0   | 0    | 0    | 0    | 0    | 0    | 0    | 1745 | \n",
       "| yes | 1200 | 559  | 264  | 176  | 154  |  9   | 5    | 5    | 2    | 2    | 1    | 0    | 2377 | \n",
       "| zero | 1186 | 574  | 266  | 178  | 155  |  9   | 3    | 2    | 2    | 1    | 0    | 0    | 2376 | \n",
       "\n",
       "\n"
      ],
      "text/plain": [
       "       0    1   2   3   4   5  6 7 8 9 10 11 Total\n",
       "bed    1177 411  99  21   4  1 0 0 0 0 0  0  1713 \n",
       "bird   1194 410 109  17   1  0 0 0 0 0 0  0  1731 \n",
       "cat    1180 413 111  27   2  0 0 0 0 0 0  0  1733 \n",
       "dog    1209 417 101  15   4  0 0 0 0 0 0  0  1746 \n",
       "down   1206 567 257 168 149  5 3 3 1 0 0  0  2359 \n",
       "eight  1179 561 276 173 150  8 3 1 1 0 0  0  2352 \n",
       "five   1181 571 272 173 149  6 4 1 0 0 0  0  2357 \n",
       "four   1194 586 260 169 148  8 3 2 1 1 0  0  2372 \n",
       "go     1182 574 271 170 152 10 7 4 1 1 0  0  2372 \n",
       "happy  1178 415 124  22   2  1 0 0 0 0 0  0  1742 \n",
       "house  1165 439 111  29   6  0 0 0 0 0 0  0  1750 \n",
       "left   1180 557 274 178 149 10 3 2 0 0 0  0  2353 \n",
       "marvin 1191 430 102  21   1  1 0 0 0 0 0  0  1746 \n",
       "nine   1182 560 269 178 155  8 4 3 3 2 0  0  2364 \n",
       "no     1203 572 259 176 150  8 3 2 1 1 0  0  2375 \n",
       "off    1170 565 273 178 152  8 5 3 2 1 0  0  2357 \n",
       "on     1198 571 259 170 150  9 5 3 1 1 0  0  2367 \n",
       "one    1179 568 274 183 154  5 3 2 1 1 0  0  2370 \n",
       "right  1194 562 273 169 150 10 5 3 1 0 0  0  2367 \n",
       "seven  1192 583 257 180 151  7 4 3 0 0 0  0  2377 \n",
       "sheila 1178 420 103  24   8  1 0 0 0 0 0  0  1734 \n",
       "six    1197 554 265 180 153  9 4 2 2 1 1  1  2369 \n",
       "stop   1191 577 275 172 151  7 4 1 1 1 0  0  2380 \n",
       "three  1202 562 260 170 149  6 3 2 1 1 0  0  2356 \n",
       "tree   1173 401 127  23   7  1 1 0 0 0 0  0  1733 \n",
       "two    1175 570 286 176 150  5 4 3 2 2 0  0  2373 \n",
       "up     1186 569 269 181 153  8 4 2 2 1 0  0  2375 \n",
       "wow    1181 418 110  33   3  0 0 0 0 0 0  0  1745 \n",
       "yes    1200 559 264 176 154  9 5 5 2 2 1  0  2377 \n",
       "zero   1186 574 266 178 155  9 3 2 2 1 0  0  2376 "
      ]
     },
     "metadata": {},
     "output_type": "display_data"
    }
   ],
   "source": [
    "wordUtteranceCounts <- as.data.frame.matrix( table(trainInfo$word, as.numeric(trainInfo$utteranceIndex)) )\n",
    "wordUtteranceCounts <- cbind(wordUtteranceCounts, Total=apply(wordUtteranceCounts, 1, sum))\n",
    "wordUtteranceCounts"
   ]
  },
  {
   "cell_type": "markdown",
   "metadata": {},
   "source": [
    "# Test Files\n",
    "\n",
    "## Get names of all test files"
   ]
  },
  {
   "cell_type": "code",
   "execution_count": 101,
   "metadata": {},
   "outputs": [
    {
     "data": {
      "text/html": [
       "158538"
      ],
      "text/latex": [
       "158538"
      ],
      "text/markdown": [
       "158538"
      ],
      "text/plain": [
       "[1] 158538"
      ]
     },
     "metadata": {},
     "output_type": "display_data"
    },
    {
     "data": {
      "text/html": [
       "<ol class=list-inline>\n",
       "\t<li>'../../input/test/audio/clip_000044442.wav'</li>\n",
       "\t<li>'../../input/test/audio/clip_0000adecb.wav'</li>\n",
       "\t<li>'../../input/test/audio/clip_0000d4322.wav'</li>\n",
       "\t<li>'../../input/test/audio/clip_0000fb6fe.wav'</li>\n",
       "\t<li>'../../input/test/audio/clip_0001d1559.wav'</li>\n",
       "\t<li>'../../input/test/audio/clip_0002256ed.wav'</li>\n",
       "</ol>\n"
      ],
      "text/latex": [
       "\\begin{enumerate*}\n",
       "\\item '../../input/test/audio/clip\\_000044442.wav'\n",
       "\\item '../../input/test/audio/clip\\_0000adecb.wav'\n",
       "\\item '../../input/test/audio/clip\\_0000d4322.wav'\n",
       "\\item '../../input/test/audio/clip\\_0000fb6fe.wav'\n",
       "\\item '../../input/test/audio/clip\\_0001d1559.wav'\n",
       "\\item '../../input/test/audio/clip\\_0002256ed.wav'\n",
       "\\end{enumerate*}\n"
      ],
      "text/markdown": [
       "1. '../../input/test/audio/clip_000044442.wav'\n",
       "2. '../../input/test/audio/clip_0000adecb.wav'\n",
       "3. '../../input/test/audio/clip_0000d4322.wav'\n",
       "4. '../../input/test/audio/clip_0000fb6fe.wav'\n",
       "5. '../../input/test/audio/clip_0001d1559.wav'\n",
       "6. '../../input/test/audio/clip_0002256ed.wav'\n",
       "\n",
       "\n"
      ],
      "text/plain": [
       "[1] \"../../input/test/audio/clip_000044442.wav\" \"../../input/test/audio/clip_0000adecb.wav\"\n",
       "[3] \"../../input/test/audio/clip_0000d4322.wav\" \"../../input/test/audio/clip_0000fb6fe.wav\"\n",
       "[5] \"../../input/test/audio/clip_0001d1559.wav\" \"../../input/test/audio/clip_0002256ed.wav\""
      ]
     },
     "metadata": {},
     "output_type": "display_data"
    }
   ],
   "source": [
    "testFilenames <- list.files(path=paste0(dataDir, \"test\"), \n",
    "                            pattern=\"^.*\\\\.wav$\",\n",
    "                            recursive=TRUE, full.names=TRUE)\n",
    "\n",
    "length(testFilenames)\n",
    "head(testFilenames)"
   ]
  },
  {
   "cell_type": "markdown",
   "metadata": {},
   "source": [
    "## Create md5sum and collect sound properties for each file"
   ]
  },
  {
   "cell_type": "code",
   "execution_count": 102,
   "metadata": {
    "collapsed": true
   },
   "outputs": [],
   "source": [
    "cluster <- makePSOCKcluster(detectCores() - 2)\n",
    "registerDoParallel(cluster)   \n",
    "\n",
    "testSoundInfo <- foreach(i = 1:length(testFilenames), .combine=rbind) %dopar%\n",
    "{    \n",
    "    soundWave <- tuneR::readWave(testFilenames[i])\n",
    "    \n",
    "    q <- quantile(soundWave@left, c(0.0, 0.10, 0.25, 0.50, 0.75, 0.90, 1.0))  \n",
    "    \n",
    "    data.frame(\n",
    "           filename          = testFilenames[i],          \n",
    "           samples           = length(soundWave@left),\n",
    "           durationSeconds   = length(soundWave@left) / soundWave@samp.rate,\n",
    "           samplingRateHertz = soundWave@samp.rate,\n",
    "           channels          = ifelse(soundWave@stereo, \"Stero\", \"Mono\"),\n",
    "           pcmIntFormat      = soundWave@pcm,\n",
    "           bitsPerSample     = soundWave@bit,\n",
    "        \n",
    "           # Waveform stats\n",
    "           min               = q[1],   # Quantiles\n",
    "           Q10               = q[2],\n",
    "           Q25               = q[3],\n",
    "           median            = q[4],\n",
    "           Q75               = q[5],\n",
    "           Q90               = q[6],\n",
    "           max               = q[7],\n",
    "\n",
    "           range             = q[7] - q[1],\n",
    "\n",
    "           mean              = mean(soundWave@left),\n",
    "           sd                = sd(soundWave@left),                                                     \n",
    "        \n",
    "           md5sum            = tools::md5sum(testFilenames[i]),\n",
    "        \n",
    "           row.names         = NULL,\n",
    "           stringsAsFactors  = FALSE)\n",
    "}\n",
    "\n",
    "stopCluster(cluster)"
   ]
  },
  {
   "cell_type": "markdown",
   "metadata": {},
   "source": [
    "## Verify sound properties common for all test files"
   ]
  },
  {
   "cell_type": "code",
   "execution_count": 103,
   "metadata": {
    "scrolled": false
   },
   "outputs": [
    {
     "data": {
      "text/html": [
       "<ol class=list-inline>\n",
       "\t<li>158538</li>\n",
       "\t<li>18</li>\n",
       "</ol>\n"
      ],
      "text/latex": [
       "\\begin{enumerate*}\n",
       "\\item 158538\n",
       "\\item 18\n",
       "\\end{enumerate*}\n"
      ],
      "text/markdown": [
       "1. 158538\n",
       "2. 18\n",
       "\n",
       "\n"
      ],
      "text/plain": [
       "[1] 158538     18"
      ]
     },
     "metadata": {},
     "output_type": "display_data"
    }
   ],
   "source": [
    "dim(testSoundInfo)"
   ]
  },
  {
   "cell_type": "code",
   "execution_count": 120,
   "metadata": {},
   "outputs": [
    {
     "data": {
      "text/html": [
       "<table>\n",
       "<thead><tr><th scope=col>filename</th><th scope=col>samples</th><th scope=col>durationSeconds</th><th scope=col>min</th><th scope=col>Q10</th><th scope=col>Q25</th><th scope=col>median</th><th scope=col>Q75</th><th scope=col>Q90</th><th scope=col>max</th><th scope=col>range</th><th scope=col>mean</th><th scope=col>sd</th><th scope=col>md5sum</th></tr></thead>\n",
       "<tbody>\n",
       "\t<tr><td>test/audio/clip_000044442.wav   </td><td>16000                           </td><td>1                               </td><td>-19364                          </td><td>-1187.6                         </td><td>-113.00                         </td><td> 6                              </td><td>128                             </td><td>2612.6                          </td><td>11836                           </td><td>31200                           </td><td>-11.9253750                     </td><td>3110.6630                       </td><td>2fdd0b20ce292dd241731997644480f3</td></tr>\n",
       "\t<tr><td>test/audio/clip_0000adecb.wav   </td><td>16000                           </td><td>1                               </td><td> -7783                          </td><td> -492.1                         </td><td> -29.00                         </td><td> 0                              </td><td> 26                             </td><td> 390.0                          </td><td>11594                           </td><td>19377                           </td><td> -0.2610625                     </td><td> 885.3153                       </td><td>d950098ef59227be68c5168fb116c401</td></tr>\n",
       "\t<tr><td>test/audio/clip_0000d4322.wav   </td><td>16000                           </td><td>1                               </td><td>-10175                          </td><td>-2030.2                         </td><td>-569.25                         </td><td>-3                              </td><td>118                             </td><td>1983.2                          </td><td>14092                           </td><td>24267                           </td><td>  0.0138125                     </td><td>2052.8181                       </td><td>6df124df1eaa7f24cd76d30c80190c38</td></tr>\n",
       "\t<tr><td>test/audio/clip_0000fb6fe.wav   </td><td>16000                           </td><td>1                               </td><td> -2748                          </td><td>  -96.0                         </td><td> -45.00                         </td><td> 2                              </td><td> 46                             </td><td>  92.0                          </td><td> 2775                           </td><td> 5523                           </td><td> -0.6893750                     </td><td> 193.1339                       </td><td>dc6083b93c227585a531d2414c42cd84</td></tr>\n",
       "\t<tr><td>test/audio/clip_0001d1559.wav   </td><td>16000                           </td><td>1                               </td><td>-20120                          </td><td>-4109.2                         </td><td>-256.00                         </td><td>-1                              </td><td>217                             </td><td>4175.0                          </td><td>21861                           </td><td>41981                           </td><td> -4.1986250                     </td><td>4206.9926                       </td><td>eb966b44bf6cde8b8f31156900cb22a7</td></tr>\n",
       "\t<tr><td>test/audio/clip_0002256ed.wav   </td><td>16000                           </td><td>1                               </td><td> -5786                          </td><td>-1182.1                         </td><td> -53.00                         </td><td> 2                              </td><td>252                             </td><td>1163.1                          </td><td> 4440                           </td><td>10226                           </td><td>  2.3092500                     </td><td>1124.2620                       </td><td>3e1c2b8e9d8e9f24d26e6b1a82b8b634</td></tr>\n",
       "</tbody>\n",
       "</table>\n"
      ],
      "text/latex": [
       "\\begin{tabular}{r|llllllllllllll}\n",
       " filename & samples & durationSeconds & min & Q10 & Q25 & median & Q75 & Q90 & max & range & mean & sd & md5sum\\\\\n",
       "\\hline\n",
       "\t test/audio/clip\\_000044442.wav  & 16000                            & 1                                & -19364                           & -1187.6                          & -113.00                          &  6                               & 128                              & 2612.6                           & 11836                            & 31200                            & -11.9253750                      & 3110.6630                        & 2fdd0b20ce292dd241731997644480f3\\\\\n",
       "\t test/audio/clip\\_0000adecb.wav  & 16000                            & 1                                &  -7783                           &  -492.1                          &  -29.00                          &  0                               &  26                              &  390.0                           & 11594                            & 19377                            &  -0.2610625                      &  885.3153                        & d950098ef59227be68c5168fb116c401\\\\\n",
       "\t test/audio/clip\\_0000d4322.wav  & 16000                            & 1                                & -10175                           & -2030.2                          & -569.25                          & -3                               & 118                              & 1983.2                           & 14092                            & 24267                            &   0.0138125                      & 2052.8181                        & 6df124df1eaa7f24cd76d30c80190c38\\\\\n",
       "\t test/audio/clip\\_0000fb6fe.wav  & 16000                            & 1                                &  -2748                           &   -96.0                          &  -45.00                          &  2                               &  46                              &   92.0                           &  2775                            &  5523                            &  -0.6893750                      &  193.1339                        & dc6083b93c227585a531d2414c42cd84\\\\\n",
       "\t test/audio/clip\\_0001d1559.wav  & 16000                            & 1                                & -20120                           & -4109.2                          & -256.00                          & -1                               & 217                              & 4175.0                           & 21861                            & 41981                            &  -4.1986250                      & 4206.9926                        & eb966b44bf6cde8b8f31156900cb22a7\\\\\n",
       "\t test/audio/clip\\_0002256ed.wav  & 16000                            & 1                                &  -5786                           & -1182.1                          &  -53.00                          &  2                               & 252                              & 1163.1                           &  4440                            & 10226                            &   2.3092500                      & 1124.2620                        & 3e1c2b8e9d8e9f24d26e6b1a82b8b634\\\\\n",
       "\\end{tabular}\n"
      ],
      "text/markdown": [
       "\n",
       "filename | samples | durationSeconds | min | Q10 | Q25 | median | Q75 | Q90 | max | range | mean | sd | md5sum | \n",
       "|---|---|---|---|---|---|\n",
       "| test/audio/clip_000044442.wav    | 16000                            | 1                                | -19364                           | -1187.6                          | -113.00                          |  6                               | 128                              | 2612.6                           | 11836                            | 31200                            | -11.9253750                      | 3110.6630                        | 2fdd0b20ce292dd241731997644480f3 | \n",
       "| test/audio/clip_0000adecb.wav    | 16000                            | 1                                |  -7783                           |  -492.1                          |  -29.00                          |  0                               |  26                              |  390.0                           | 11594                            | 19377                            |  -0.2610625                      |  885.3153                        | d950098ef59227be68c5168fb116c401 | \n",
       "| test/audio/clip_0000d4322.wav    | 16000                            | 1                                | -10175                           | -2030.2                          | -569.25                          | -3                               | 118                              | 1983.2                           | 14092                            | 24267                            |   0.0138125                      | 2052.8181                        | 6df124df1eaa7f24cd76d30c80190c38 | \n",
       "| test/audio/clip_0000fb6fe.wav    | 16000                            | 1                                |  -2748                           |   -96.0                          |  -45.00                          |  2                               |  46                              |   92.0                           |  2775                            |  5523                            |  -0.6893750                      |  193.1339                        | dc6083b93c227585a531d2414c42cd84 | \n",
       "| test/audio/clip_0001d1559.wav    | 16000                            | 1                                | -20120                           | -4109.2                          | -256.00                          | -1                               | 217                              | 4175.0                           | 21861                            | 41981                            |  -4.1986250                      | 4206.9926                        | eb966b44bf6cde8b8f31156900cb22a7 | \n",
       "| test/audio/clip_0002256ed.wav    | 16000                            | 1                                |  -5786                           | -1182.1                          |  -53.00                          |  2                               | 252                              | 1163.1                           |  4440                            | 10226                            |   2.3092500                      | 1124.2620                        | 3e1c2b8e9d8e9f24d26e6b1a82b8b634 | \n",
       "\n",
       "\n"
      ],
      "text/plain": [
       "  filename                      samples durationSeconds min    Q10     Q25     median Q75 Q90    max   range mean       \n",
       "1 test/audio/clip_000044442.wav 16000   1               -19364 -1187.6 -113.00  6     128 2612.6 11836 31200 -11.9253750\n",
       "2 test/audio/clip_0000adecb.wav 16000   1                -7783  -492.1  -29.00  0      26  390.0 11594 19377  -0.2610625\n",
       "3 test/audio/clip_0000d4322.wav 16000   1               -10175 -2030.2 -569.25 -3     118 1983.2 14092 24267   0.0138125\n",
       "4 test/audio/clip_0000fb6fe.wav 16000   1                -2748   -96.0  -45.00  2      46   92.0  2775  5523  -0.6893750\n",
       "5 test/audio/clip_0001d1559.wav 16000   1               -20120 -4109.2 -256.00 -1     217 4175.0 21861 41981  -4.1986250\n",
       "6 test/audio/clip_0002256ed.wav 16000   1                -5786 -1182.1  -53.00  2     252 1163.1  4440 10226   2.3092500\n",
       "  sd        md5sum                          \n",
       "1 3110.6630 2fdd0b20ce292dd241731997644480f3\n",
       "2  885.3153 d950098ef59227be68c5168fb116c401\n",
       "3 2052.8181 6df124df1eaa7f24cd76d30c80190c38\n",
       "4  193.1339 dc6083b93c227585a531d2414c42cd84\n",
       "5 4206.9926 eb966b44bf6cde8b8f31156900cb22a7\n",
       "6 1124.2620 3e1c2b8e9d8e9f24d26e6b1a82b8b634"
      ]
     },
     "metadata": {},
     "output_type": "display_data"
    }
   ],
   "source": [
    "head(testSoundInfo)"
   ]
  },
  {
   "cell_type": "code",
   "execution_count": 121,
   "metadata": {},
   "outputs": [
    {
     "data": {
      "text/plain": [
       "< table of extent 0 >"
      ]
     },
     "metadata": {},
     "output_type": "display_data"
    }
   ],
   "source": [
    "table(testSoundInfo$samplingRateHertz)"
   ]
  },
  {
   "cell_type": "code",
   "execution_count": 122,
   "metadata": {},
   "outputs": [
    {
     "data": {
      "text/plain": [
       "< table of extent 0 >"
      ]
     },
     "metadata": {},
     "output_type": "display_data"
    }
   ],
   "source": [
    "table(testSoundInfo$channels)"
   ]
  },
  {
   "cell_type": "code",
   "execution_count": 107,
   "metadata": {},
   "outputs": [
    {
     "data": {
      "text/plain": [
       "\n",
       "  TRUE \n",
       "158538 "
      ]
     },
     "metadata": {},
     "output_type": "display_data"
    }
   ],
   "source": [
    "table(testSoundInfo$pcmIntFormat)"
   ]
  },
  {
   "cell_type": "code",
   "execution_count": 108,
   "metadata": {},
   "outputs": [
    {
     "data": {
      "text/plain": [
       "\n",
       "    16 \n",
       "158538 "
      ]
     },
     "metadata": {},
     "output_type": "display_data"
    }
   ],
   "source": [
    "table(testSoundInfo$bitsPerSample)"
   ]
  },
  {
   "cell_type": "markdown",
   "metadata": {},
   "source": [
    "Since the above sound properties are verified to be constants, let's not bother with them"
   ]
  },
  {
   "cell_type": "code",
   "execution_count": 109,
   "metadata": {
    "collapsed": true
   },
   "outputs": [],
   "source": [
    "testSoundInfo <- testSoundInfo %>% select(-samplingRateHertz, -channels, -pcmIntFormat, -bitsPerSample)"
   ]
  },
  {
   "cell_type": "code",
   "execution_count": 110,
   "metadata": {},
   "outputs": [
    {
     "data": {
      "text/html": [
       "<table>\n",
       "<thead><tr><th scope=col>filename</th><th scope=col>samples</th><th scope=col>durationSeconds</th><th scope=col>min</th><th scope=col>Q10</th><th scope=col>Q25</th><th scope=col>median</th><th scope=col>Q75</th><th scope=col>Q90</th><th scope=col>max</th><th scope=col>range</th><th scope=col>mean</th><th scope=col>sd</th><th scope=col>md5sum</th></tr></thead>\n",
       "<tbody>\n",
       "\t<tr><td>../../input/test/audio/clip_000044442.wav</td><td>16000                                    </td><td>1                                        </td><td>-19364                                   </td><td>-1187.6                                  </td><td>-113.00                                  </td><td> 6                                       </td><td>128                                      </td><td>2612.6                                   </td><td>11836                                    </td><td>31200                                    </td><td>-11.9253750                              </td><td>3110.6630                                </td><td>2fdd0b20ce292dd241731997644480f3         </td></tr>\n",
       "\t<tr><td>../../input/test/audio/clip_0000adecb.wav</td><td>16000                                    </td><td>1                                        </td><td> -7783                                   </td><td> -492.1                                  </td><td> -29.00                                  </td><td> 0                                       </td><td> 26                                      </td><td> 390.0                                   </td><td>11594                                    </td><td>19377                                    </td><td> -0.2610625                              </td><td> 885.3153                                </td><td>d950098ef59227be68c5168fb116c401         </td></tr>\n",
       "\t<tr><td>../../input/test/audio/clip_0000d4322.wav</td><td>16000                                    </td><td>1                                        </td><td>-10175                                   </td><td>-2030.2                                  </td><td>-569.25                                  </td><td>-3                                       </td><td>118                                      </td><td>1983.2                                   </td><td>14092                                    </td><td>24267                                    </td><td>  0.0138125                              </td><td>2052.8181                                </td><td>6df124df1eaa7f24cd76d30c80190c38         </td></tr>\n",
       "\t<tr><td>../../input/test/audio/clip_0000fb6fe.wav</td><td>16000                                    </td><td>1                                        </td><td> -2748                                   </td><td>  -96.0                                  </td><td> -45.00                                  </td><td> 2                                       </td><td> 46                                      </td><td>  92.0                                   </td><td> 2775                                    </td><td> 5523                                    </td><td> -0.6893750                              </td><td> 193.1339                                </td><td>dc6083b93c227585a531d2414c42cd84         </td></tr>\n",
       "\t<tr><td>../../input/test/audio/clip_0001d1559.wav</td><td>16000                                    </td><td>1                                        </td><td>-20120                                   </td><td>-4109.2                                  </td><td>-256.00                                  </td><td>-1                                       </td><td>217                                      </td><td>4175.0                                   </td><td>21861                                    </td><td>41981                                    </td><td> -4.1986250                              </td><td>4206.9926                                </td><td>eb966b44bf6cde8b8f31156900cb22a7         </td></tr>\n",
       "\t<tr><td>../../input/test/audio/clip_0002256ed.wav</td><td>16000                                    </td><td>1                                        </td><td> -5786                                   </td><td>-1182.1                                  </td><td> -53.00                                  </td><td> 2                                       </td><td>252                                      </td><td>1163.1                                   </td><td> 4440                                    </td><td>10226                                    </td><td>  2.3092500                              </td><td>1124.2620                                </td><td>3e1c2b8e9d8e9f24d26e6b1a82b8b634         </td></tr>\n",
       "</tbody>\n",
       "</table>\n"
      ],
      "text/latex": [
       "\\begin{tabular}{r|llllllllllllll}\n",
       " filename & samples & durationSeconds & min & Q10 & Q25 & median & Q75 & Q90 & max & range & mean & sd & md5sum\\\\\n",
       "\\hline\n",
       "\t ../../input/test/audio/clip\\_000044442.wav & 16000                                       & 1                                           & -19364                                      & -1187.6                                     & -113.00                                     &  6                                          & 128                                         & 2612.6                                      & 11836                                       & 31200                                       & -11.9253750                                 & 3110.6630                                   & 2fdd0b20ce292dd241731997644480f3           \\\\\n",
       "\t ../../input/test/audio/clip\\_0000adecb.wav & 16000                                       & 1                                           &  -7783                                      &  -492.1                                     &  -29.00                                     &  0                                          &  26                                         &  390.0                                      & 11594                                       & 19377                                       &  -0.2610625                                 &  885.3153                                   & d950098ef59227be68c5168fb116c401           \\\\\n",
       "\t ../../input/test/audio/clip\\_0000d4322.wav & 16000                                       & 1                                           & -10175                                      & -2030.2                                     & -569.25                                     & -3                                          & 118                                         & 1983.2                                      & 14092                                       & 24267                                       &   0.0138125                                 & 2052.8181                                   & 6df124df1eaa7f24cd76d30c80190c38           \\\\\n",
       "\t ../../input/test/audio/clip\\_0000fb6fe.wav & 16000                                       & 1                                           &  -2748                                      &   -96.0                                     &  -45.00                                     &  2                                          &  46                                         &   92.0                                      &  2775                                       &  5523                                       &  -0.6893750                                 &  193.1339                                   & dc6083b93c227585a531d2414c42cd84           \\\\\n",
       "\t ../../input/test/audio/clip\\_0001d1559.wav & 16000                                       & 1                                           & -20120                                      & -4109.2                                     & -256.00                                     & -1                                          & 217                                         & 4175.0                                      & 21861                                       & 41981                                       &  -4.1986250                                 & 4206.9926                                   & eb966b44bf6cde8b8f31156900cb22a7           \\\\\n",
       "\t ../../input/test/audio/clip\\_0002256ed.wav & 16000                                       & 1                                           &  -5786                                      & -1182.1                                     &  -53.00                                     &  2                                          & 252                                         & 1163.1                                      &  4440                                       & 10226                                       &   2.3092500                                 & 1124.2620                                   & 3e1c2b8e9d8e9f24d26e6b1a82b8b634           \\\\\n",
       "\\end{tabular}\n"
      ],
      "text/markdown": [
       "\n",
       "filename | samples | durationSeconds | min | Q10 | Q25 | median | Q75 | Q90 | max | range | mean | sd | md5sum | \n",
       "|---|---|---|---|---|---|\n",
       "| ../../input/test/audio/clip_000044442.wav | 16000                                     | 1                                         | -19364                                    | -1187.6                                   | -113.00                                   |  6                                        | 128                                       | 2612.6                                    | 11836                                     | 31200                                     | -11.9253750                               | 3110.6630                                 | 2fdd0b20ce292dd241731997644480f3          | \n",
       "| ../../input/test/audio/clip_0000adecb.wav | 16000                                     | 1                                         |  -7783                                    |  -492.1                                   |  -29.00                                   |  0                                        |  26                                       |  390.0                                    | 11594                                     | 19377                                     |  -0.2610625                               |  885.3153                                 | d950098ef59227be68c5168fb116c401          | \n",
       "| ../../input/test/audio/clip_0000d4322.wav | 16000                                     | 1                                         | -10175                                    | -2030.2                                   | -569.25                                   | -3                                        | 118                                       | 1983.2                                    | 14092                                     | 24267                                     |   0.0138125                               | 2052.8181                                 | 6df124df1eaa7f24cd76d30c80190c38          | \n",
       "| ../../input/test/audio/clip_0000fb6fe.wav | 16000                                     | 1                                         |  -2748                                    |   -96.0                                   |  -45.00                                   |  2                                        |  46                                       |   92.0                                    |  2775                                     |  5523                                     |  -0.6893750                               |  193.1339                                 | dc6083b93c227585a531d2414c42cd84          | \n",
       "| ../../input/test/audio/clip_0001d1559.wav | 16000                                     | 1                                         | -20120                                    | -4109.2                                   | -256.00                                   | -1                                        | 217                                       | 4175.0                                    | 21861                                     | 41981                                     |  -4.1986250                               | 4206.9926                                 | eb966b44bf6cde8b8f31156900cb22a7          | \n",
       "| ../../input/test/audio/clip_0002256ed.wav | 16000                                     | 1                                         |  -5786                                    | -1182.1                                   |  -53.00                                   |  2                                        | 252                                       | 1163.1                                    |  4440                                     | 10226                                     |   2.3092500                               | 1124.2620                                 | 3e1c2b8e9d8e9f24d26e6b1a82b8b634          | \n",
       "\n",
       "\n"
      ],
      "text/plain": [
       "  filename                                  samples durationSeconds min    Q10     Q25     median Q75 Q90    max   range\n",
       "1 ../../input/test/audio/clip_000044442.wav 16000   1               -19364 -1187.6 -113.00  6     128 2612.6 11836 31200\n",
       "2 ../../input/test/audio/clip_0000adecb.wav 16000   1                -7783  -492.1  -29.00  0      26  390.0 11594 19377\n",
       "3 ../../input/test/audio/clip_0000d4322.wav 16000   1               -10175 -2030.2 -569.25 -3     118 1983.2 14092 24267\n",
       "4 ../../input/test/audio/clip_0000fb6fe.wav 16000   1                -2748   -96.0  -45.00  2      46   92.0  2775  5523\n",
       "5 ../../input/test/audio/clip_0001d1559.wav 16000   1               -20120 -4109.2 -256.00 -1     217 4175.0 21861 41981\n",
       "6 ../../input/test/audio/clip_0002256ed.wav 16000   1                -5786 -1182.1  -53.00  2     252 1163.1  4440 10226\n",
       "  mean        sd        md5sum                          \n",
       "1 -11.9253750 3110.6630 2fdd0b20ce292dd241731997644480f3\n",
       "2  -0.2610625  885.3153 d950098ef59227be68c5168fb116c401\n",
       "3   0.0138125 2052.8181 6df124df1eaa7f24cd76d30c80190c38\n",
       "4  -0.6893750  193.1339 dc6083b93c227585a531d2414c42cd84\n",
       "5  -4.1986250 4206.9926 eb966b44bf6cde8b8f31156900cb22a7\n",
       "6   2.3092500 1124.2620 3e1c2b8e9d8e9f24d26e6b1a82b8b634"
      ]
     },
     "metadata": {},
     "output_type": "display_data"
    }
   ],
   "source": [
    "head(testSoundInfo)"
   ]
  },
  {
   "cell_type": "markdown",
   "metadata": {},
   "source": [
    "## Look at sample size differences\n",
    "\n",
    "All test files are exactly 16000 samples (1 sec), and 32044 bytes."
   ]
  },
  {
   "cell_type": "code",
   "execution_count": 111,
   "metadata": {},
   "outputs": [
    {
     "data": {
      "text/html": [
       "<ol class=list-inline>\n",
       "\t<li>16000</li>\n",
       "\t<li>16000</li>\n",
       "\t<li>16000</li>\n",
       "\t<li>16000</li>\n",
       "\t<li>16000</li>\n",
       "</ol>\n"
      ],
      "text/latex": [
       "\\begin{enumerate*}\n",
       "\\item 16000\n",
       "\\item 16000\n",
       "\\item 16000\n",
       "\\item 16000\n",
       "\\item 16000\n",
       "\\end{enumerate*}\n"
      ],
      "text/markdown": [
       "1. 16000\n",
       "2. 16000\n",
       "3. 16000\n",
       "4. 16000\n",
       "5. 16000\n",
       "\n",
       "\n"
      ],
      "text/plain": [
       "[1] 16000 16000 16000 16000 16000"
      ]
     },
     "metadata": {},
     "output_type": "display_data"
    },
    {
     "data": {
      "text/plain": [
       "\n",
       " 16000 \n",
       "158538 "
      ]
     },
     "metadata": {},
     "output_type": "display_data"
    }
   ],
   "source": [
    "fivenum(testSoundInfo$samples)\n",
    "table(testSoundInfo$samples)"
   ]
  },
  {
   "cell_type": "markdown",
   "metadata": {},
   "source": [
    "Verify all test file sizes are the same"
   ]
  },
  {
   "cell_type": "code",
   "execution_count": 112,
   "metadata": {},
   "outputs": [
    {
     "data": {
      "text/html": [
       "<table>\n",
       "<thead><tr><th scope=col>filename</th><th scope=col>sizeBytes</th></tr></thead>\n",
       "<tbody>\n",
       "\t<tr><td>../../input/test/audio/clip_000044442.wav</td><td>32044                                    </td></tr>\n",
       "\t<tr><td>../../input/test/audio/clip_0000adecb.wav</td><td>32044                                    </td></tr>\n",
       "\t<tr><td>../../input/test/audio/clip_0000d4322.wav</td><td>32044                                    </td></tr>\n",
       "\t<tr><td>../../input/test/audio/clip_0000fb6fe.wav</td><td>32044                                    </td></tr>\n",
       "\t<tr><td>../../input/test/audio/clip_0001d1559.wav</td><td>32044                                    </td></tr>\n",
       "\t<tr><td>../../input/test/audio/clip_0002256ed.wav</td><td>32044                                    </td></tr>\n",
       "</tbody>\n",
       "</table>\n"
      ],
      "text/latex": [
       "\\begin{tabular}{r|ll}\n",
       " filename & sizeBytes\\\\\n",
       "\\hline\n",
       "\t ../../input/test/audio/clip\\_000044442.wav & 32044                                      \\\\\n",
       "\t ../../input/test/audio/clip\\_0000adecb.wav & 32044                                      \\\\\n",
       "\t ../../input/test/audio/clip\\_0000d4322.wav & 32044                                      \\\\\n",
       "\t ../../input/test/audio/clip\\_0000fb6fe.wav & 32044                                      \\\\\n",
       "\t ../../input/test/audio/clip\\_0001d1559.wav & 32044                                      \\\\\n",
       "\t ../../input/test/audio/clip\\_0002256ed.wav & 32044                                      \\\\\n",
       "\\end{tabular}\n"
      ],
      "text/markdown": [
       "\n",
       "filename | sizeBytes | \n",
       "|---|---|---|---|---|---|\n",
       "| ../../input/test/audio/clip_000044442.wav | 32044                                     | \n",
       "| ../../input/test/audio/clip_0000adecb.wav | 32044                                     | \n",
       "| ../../input/test/audio/clip_0000d4322.wav | 32044                                     | \n",
       "| ../../input/test/audio/clip_0000fb6fe.wav | 32044                                     | \n",
       "| ../../input/test/audio/clip_0001d1559.wav | 32044                                     | \n",
       "| ../../input/test/audio/clip_0002256ed.wav | 32044                                     | \n",
       "\n",
       "\n"
      ],
      "text/plain": [
       "  filename                                  sizeBytes\n",
       "1 ../../input/test/audio/clip_000044442.wav 32044    \n",
       "2 ../../input/test/audio/clip_0000adecb.wav 32044    \n",
       "3 ../../input/test/audio/clip_0000d4322.wav 32044    \n",
       "4 ../../input/test/audio/clip_0000fb6fe.wav 32044    \n",
       "5 ../../input/test/audio/clip_0001d1559.wav 32044    \n",
       "6 ../../input/test/audio/clip_0002256ed.wav 32044    "
      ]
     },
     "metadata": {},
     "output_type": "display_data"
    }
   ],
   "source": [
    "testFileInfo <- file.info(testFilenames, extra_cols=FALSE)     %>%\n",
    "                          rownames_to_column(var=\"filename\")   %>%\n",
    "                          select(filename, size)               %>%\n",
    "                          rename(sizeBytes=size)\n",
    "head(testFileInfo)"
   ]
  },
  {
   "cell_type": "code",
   "execution_count": 113,
   "metadata": {
    "collapsed": true
   },
   "outputs": [],
   "source": [
    "stopifnot( all(testFileInfo$sizeBytes == 32044) ) "
   ]
  },
  {
   "cell_type": "markdown",
   "metadata": {},
   "source": [
    "Remove *dataDir* string from filenames."
   ]
  },
  {
   "cell_type": "code",
   "execution_count": 114,
   "metadata": {
    "collapsed": true
   },
   "outputs": [],
   "source": [
    "testSoundInfo$filename <- substr(testSoundInfo$filename, nchar(dataDir)+1, nchar(testSoundInfo$filename))"
   ]
  },
  {
   "cell_type": "markdown",
   "metadata": {},
   "source": [
    "## Split filenames into useful attributes"
   ]
  },
  {
   "cell_type": "code",
   "execution_count": 115,
   "metadata": {},
   "outputs": [
    {
     "data": {
      "text/html": [
       "158538"
      ],
      "text/latex": [
       "158538"
      ],
      "text/markdown": [
       "158538"
      ],
      "text/plain": [
       "[1] 158538"
      ]
     },
     "metadata": {},
     "output_type": "display_data"
    }
   ],
   "source": [
    "splits <- strsplit(testSoundInfo$filename, \"/|_|\\\\.\")\n",
    "length(splits)"
   ]
  },
  {
   "cell_type": "code",
   "execution_count": 116,
   "metadata": {},
   "outputs": [
    {
     "data": {
      "text/html": [
       "<ol class=list-inline>\n",
       "\t<li>'test'</li>\n",
       "\t<li>'audio'</li>\n",
       "\t<li>'clip'</li>\n",
       "\t<li>'000044442'</li>\n",
       "\t<li>'wav'</li>\n",
       "</ol>\n"
      ],
      "text/latex": [
       "\\begin{enumerate*}\n",
       "\\item 'test'\n",
       "\\item 'audio'\n",
       "\\item 'clip'\n",
       "\\item '000044442'\n",
       "\\item 'wav'\n",
       "\\end{enumerate*}\n"
      ],
      "text/markdown": [
       "1. 'test'\n",
       "2. 'audio'\n",
       "3. 'clip'\n",
       "4. '000044442'\n",
       "5. 'wav'\n",
       "\n",
       "\n"
      ],
      "text/plain": [
       "[1] \"test\"      \"audio\"     \"clip\"      \"000044442\" \"wav\"      "
      ]
     },
     "metadata": {},
     "output_type": "display_data"
    }
   ],
   "source": [
    "splits[[1]]"
   ]
  },
  {
   "cell_type": "code",
   "execution_count": 123,
   "metadata": {},
   "outputs": [
    {
     "data": {
      "text/html": [
       "<table>\n",
       "<thead><tr><th scope=col>dataset</th><th scope=col>speakerID</th><th scope=col>extension</th></tr></thead>\n",
       "<tbody>\n",
       "\t<tr><td>test     </td><td>000044442</td><td>wav      </td></tr>\n",
       "\t<tr><td>test     </td><td>0000adecb</td><td>wav      </td></tr>\n",
       "\t<tr><td>test     </td><td>0000d4322</td><td>wav      </td></tr>\n",
       "\t<tr><td>test     </td><td>0000fb6fe</td><td>wav      </td></tr>\n",
       "\t<tr><td>test     </td><td>0001d1559</td><td>wav      </td></tr>\n",
       "\t<tr><td>test     </td><td>0002256ed</td><td>wav      </td></tr>\n",
       "</tbody>\n",
       "</table>\n"
      ],
      "text/latex": [
       "\\begin{tabular}{r|lll}\n",
       " dataset & speakerID & extension\\\\\n",
       "\\hline\n",
       "\t test      & 000044442 & wav      \\\\\n",
       "\t test      & 0000adecb & wav      \\\\\n",
       "\t test      & 0000d4322 & wav      \\\\\n",
       "\t test      & 0000fb6fe & wav      \\\\\n",
       "\t test      & 0001d1559 & wav      \\\\\n",
       "\t test      & 0002256ed & wav      \\\\\n",
       "\\end{tabular}\n"
      ],
      "text/markdown": [
       "\n",
       "dataset | speakerID | extension | \n",
       "|---|---|---|---|---|---|\n",
       "| test      | 000044442 | wav       | \n",
       "| test      | 0000adecb | wav       | \n",
       "| test      | 0000d4322 | wav       | \n",
       "| test      | 0000fb6fe | wav       | \n",
       "| test      | 0001d1559 | wav       | \n",
       "| test      | 0002256ed | wav       | \n",
       "\n",
       "\n"
      ],
      "text/plain": [
       "  dataset speakerID extension\n",
       "1 test    000044442 wav      \n",
       "2 test    0000adecb wav      \n",
       "3 test    0000d4322 wav      \n",
       "4 test    0000fb6fe wav      \n",
       "5 test    0001d1559 wav      \n",
       "6 test    0002256ed wav      "
      ]
     },
     "metadata": {},
     "output_type": "display_data"
    }
   ],
   "source": [
    "fileAttributes <- do.call(rbind, \n",
    "                          lapply(splits, function(x){\n",
    "                                 data.frame(dataset=x[1], \n",
    "                                 speakerID=x[4], \n",
    "                                 extension=x[5], \n",
    "                                 stringsAsFactors=FALSE)\n",
    "                 }))\n",
    "head(fileAttributes)"
   ]
  },
  {
   "cell_type": "markdown",
   "metadata": {},
   "source": [
    "## Final testInfo"
   ]
  },
  {
   "cell_type": "code",
   "execution_count": 124,
   "metadata": {
    "collapsed": true
   },
   "outputs": [],
   "source": [
    "testInfo <- cbind(testSoundInfo, fileAttributes) %>%\n",
    "            select(filename, dataset, speakerID, extension, samples, \n",
    "                   min, Q10, Q25, median, Q75, Q90, max, range, mean, sd,\n",
    "                   md5sum)"
   ]
  },
  {
   "cell_type": "code",
   "execution_count": 125,
   "metadata": {},
   "outputs": [
    {
     "data": {
      "text/html": [
       "<ol class=list-inline>\n",
       "\t<li>158538</li>\n",
       "\t<li>16</li>\n",
       "</ol>\n"
      ],
      "text/latex": [
       "\\begin{enumerate*}\n",
       "\\item 158538\n",
       "\\item 16\n",
       "\\end{enumerate*}\n"
      ],
      "text/markdown": [
       "1. 158538\n",
       "2. 16\n",
       "\n",
       "\n"
      ],
      "text/plain": [
       "[1] 158538     16"
      ]
     },
     "metadata": {},
     "output_type": "display_data"
    }
   ],
   "source": [
    "dim(testInfo)"
   ]
  },
  {
   "cell_type": "code",
   "execution_count": 140,
   "metadata": {},
   "outputs": [
    {
     "data": {
      "text/html": [
       "<table>\n",
       "<thead><tr><th scope=col>filename</th><th scope=col>dataset</th><th scope=col>speakerID</th><th scope=col>extension</th><th scope=col>samples</th><th scope=col>min</th><th scope=col>Q10</th><th scope=col>Q25</th><th scope=col>median</th><th scope=col>Q75</th><th scope=col>Q90</th><th scope=col>max</th><th scope=col>range</th><th scope=col>mean</th><th scope=col>sd</th><th scope=col>md5sum</th><th scope=col>word</th><th scope=col>utteranceIndex</th></tr></thead>\n",
       "<tbody>\n",
       "\t<tr><td>test/audio/clip_000044442.wav   </td><td>test                            </td><td>000044442                       </td><td>wav                             </td><td>16000                           </td><td>-19364                          </td><td>-1187.6                         </td><td>-113.00                         </td><td> 6                              </td><td>128                             </td><td>2612.6                          </td><td>11836                           </td><td>31200                           </td><td>-11.9253750                     </td><td>3110.6630                       </td><td>2fdd0b20ce292dd241731997644480f3</td><td>                                </td><td>0                               </td></tr>\n",
       "\t<tr><td>test/audio/clip_0000adecb.wav   </td><td>test                            </td><td>0000adecb                       </td><td>wav                             </td><td>16000                           </td><td> -7783                          </td><td> -492.1                         </td><td> -29.00                         </td><td> 0                              </td><td> 26                             </td><td> 390.0                          </td><td>11594                           </td><td>19377                           </td><td> -0.2610625                     </td><td> 885.3153                       </td><td>d950098ef59227be68c5168fb116c401</td><td>                                </td><td>0                               </td></tr>\n",
       "\t<tr><td>test/audio/clip_0000d4322.wav   </td><td>test                            </td><td>0000d4322                       </td><td>wav                             </td><td>16000                           </td><td>-10175                          </td><td>-2030.2                         </td><td>-569.25                         </td><td>-3                              </td><td>118                             </td><td>1983.2                          </td><td>14092                           </td><td>24267                           </td><td>  0.0138125                     </td><td>2052.8181                       </td><td>6df124df1eaa7f24cd76d30c80190c38</td><td>                                </td><td>0                               </td></tr>\n",
       "\t<tr><td>test/audio/clip_0000fb6fe.wav   </td><td>test                            </td><td>0000fb6fe                       </td><td>wav                             </td><td>16000                           </td><td> -2748                          </td><td>  -96.0                         </td><td> -45.00                         </td><td> 2                              </td><td> 46                             </td><td>  92.0                          </td><td> 2775                           </td><td> 5523                           </td><td> -0.6893750                     </td><td> 193.1339                       </td><td>dc6083b93c227585a531d2414c42cd84</td><td>                                </td><td>0                               </td></tr>\n",
       "\t<tr><td>test/audio/clip_0001d1559.wav   </td><td>test                            </td><td>0001d1559                       </td><td>wav                             </td><td>16000                           </td><td>-20120                          </td><td>-4109.2                         </td><td>-256.00                         </td><td>-1                              </td><td>217                             </td><td>4175.0                          </td><td>21861                           </td><td>41981                           </td><td> -4.1986250                     </td><td>4206.9926                       </td><td>eb966b44bf6cde8b8f31156900cb22a7</td><td>                                </td><td>0                               </td></tr>\n",
       "\t<tr><td>test/audio/clip_0002256ed.wav   </td><td>test                            </td><td>0002256ed                       </td><td>wav                             </td><td>16000                           </td><td> -5786                          </td><td>-1182.1                         </td><td> -53.00                         </td><td> 2                              </td><td>252                             </td><td>1163.1                          </td><td> 4440                           </td><td>10226                           </td><td>  2.3092500                     </td><td>1124.2620                       </td><td>3e1c2b8e9d8e9f24d26e6b1a82b8b634</td><td>                                </td><td>0                               </td></tr>\n",
       "</tbody>\n",
       "</table>\n"
      ],
      "text/latex": [
       "\\begin{tabular}{r|llllllllllllllllll}\n",
       " filename & dataset & speakerID & extension & samples & min & Q10 & Q25 & median & Q75 & Q90 & max & range & mean & sd & md5sum & word & utteranceIndex\\\\\n",
       "\\hline\n",
       "\t test/audio/clip\\_000044442.wav  & test                             & 000044442                        & wav                              & 16000                            & -19364                           & -1187.6                          & -113.00                          &  6                               & 128                              & 2612.6                           & 11836                            & 31200                            & -11.9253750                      & 3110.6630                        & 2fdd0b20ce292dd241731997644480f3 &                                  & 0                               \\\\\n",
       "\t test/audio/clip\\_0000adecb.wav  & test                             & 0000adecb                        & wav                              & 16000                            &  -7783                           &  -492.1                          &  -29.00                          &  0                               &  26                              &  390.0                           & 11594                            & 19377                            &  -0.2610625                      &  885.3153                        & d950098ef59227be68c5168fb116c401 &                                  & 0                               \\\\\n",
       "\t test/audio/clip\\_0000d4322.wav  & test                             & 0000d4322                        & wav                              & 16000                            & -10175                           & -2030.2                          & -569.25                          & -3                               & 118                              & 1983.2                           & 14092                            & 24267                            &   0.0138125                      & 2052.8181                        & 6df124df1eaa7f24cd76d30c80190c38 &                                  & 0                               \\\\\n",
       "\t test/audio/clip\\_0000fb6fe.wav  & test                             & 0000fb6fe                        & wav                              & 16000                            &  -2748                           &   -96.0                          &  -45.00                          &  2                               &  46                              &   92.0                           &  2775                            &  5523                            &  -0.6893750                      &  193.1339                        & dc6083b93c227585a531d2414c42cd84 &                                  & 0                               \\\\\n",
       "\t test/audio/clip\\_0001d1559.wav  & test                             & 0001d1559                        & wav                              & 16000                            & -20120                           & -4109.2                          & -256.00                          & -1                               & 217                              & 4175.0                           & 21861                            & 41981                            &  -4.1986250                      & 4206.9926                        & eb966b44bf6cde8b8f31156900cb22a7 &                                  & 0                               \\\\\n",
       "\t test/audio/clip\\_0002256ed.wav  & test                             & 0002256ed                        & wav                              & 16000                            &  -5786                           & -1182.1                          &  -53.00                          &  2                               & 252                              & 1163.1                           &  4440                            & 10226                            &   2.3092500                      & 1124.2620                        & 3e1c2b8e9d8e9f24d26e6b1a82b8b634 &                                  & 0                               \\\\\n",
       "\\end{tabular}\n"
      ],
      "text/markdown": [
       "\n",
       "filename | dataset | speakerID | extension | samples | min | Q10 | Q25 | median | Q75 | Q90 | max | range | mean | sd | md5sum | word | utteranceIndex | \n",
       "|---|---|---|---|---|---|\n",
       "| test/audio/clip_000044442.wav    | test                             | 000044442                        | wav                              | 16000                            | -19364                           | -1187.6                          | -113.00                          |  6                               | 128                              | 2612.6                           | 11836                            | 31200                            | -11.9253750                      | 3110.6630                        | 2fdd0b20ce292dd241731997644480f3 |                                  | 0                                | \n",
       "| test/audio/clip_0000adecb.wav    | test                             | 0000adecb                        | wav                              | 16000                            |  -7783                           |  -492.1                          |  -29.00                          |  0                               |  26                              |  390.0                           | 11594                            | 19377                            |  -0.2610625                      |  885.3153                        | d950098ef59227be68c5168fb116c401 |                                  | 0                                | \n",
       "| test/audio/clip_0000d4322.wav    | test                             | 0000d4322                        | wav                              | 16000                            | -10175                           | -2030.2                          | -569.25                          | -3                               | 118                              | 1983.2                           | 14092                            | 24267                            |   0.0138125                      | 2052.8181                        | 6df124df1eaa7f24cd76d30c80190c38 |                                  | 0                                | \n",
       "| test/audio/clip_0000fb6fe.wav    | test                             | 0000fb6fe                        | wav                              | 16000                            |  -2748                           |   -96.0                          |  -45.00                          |  2                               |  46                              |   92.0                           |  2775                            |  5523                            |  -0.6893750                      |  193.1339                        | dc6083b93c227585a531d2414c42cd84 |                                  | 0                                | \n",
       "| test/audio/clip_0001d1559.wav    | test                             | 0001d1559                        | wav                              | 16000                            | -20120                           | -4109.2                          | -256.00                          | -1                               | 217                              | 4175.0                           | 21861                            | 41981                            |  -4.1986250                      | 4206.9926                        | eb966b44bf6cde8b8f31156900cb22a7 |                                  | 0                                | \n",
       "| test/audio/clip_0002256ed.wav    | test                             | 0002256ed                        | wav                              | 16000                            |  -5786                           | -1182.1                          |  -53.00                          |  2                               | 252                              | 1163.1                           |  4440                            | 10226                            |   2.3092500                      | 1124.2620                        | 3e1c2b8e9d8e9f24d26e6b1a82b8b634 |                                  | 0                                | \n",
       "\n",
       "\n"
      ],
      "text/plain": [
       "  filename                      dataset speakerID extension samples min    Q10     Q25     median Q75 Q90    max   range\n",
       "1 test/audio/clip_000044442.wav test    000044442 wav       16000   -19364 -1187.6 -113.00  6     128 2612.6 11836 31200\n",
       "2 test/audio/clip_0000adecb.wav test    0000adecb wav       16000    -7783  -492.1  -29.00  0      26  390.0 11594 19377\n",
       "3 test/audio/clip_0000d4322.wav test    0000d4322 wav       16000   -10175 -2030.2 -569.25 -3     118 1983.2 14092 24267\n",
       "4 test/audio/clip_0000fb6fe.wav test    0000fb6fe wav       16000    -2748   -96.0  -45.00  2      46   92.0  2775  5523\n",
       "5 test/audio/clip_0001d1559.wav test    0001d1559 wav       16000   -20120 -4109.2 -256.00 -1     217 4175.0 21861 41981\n",
       "6 test/audio/clip_0002256ed.wav test    0002256ed wav       16000    -5786 -1182.1  -53.00  2     252 1163.1  4440 10226\n",
       "  mean        sd        md5sum                           word utteranceIndex\n",
       "1 -11.9253750 3110.6630 2fdd0b20ce292dd241731997644480f3      0             \n",
       "2  -0.2610625  885.3153 d950098ef59227be68c5168fb116c401      0             \n",
       "3   0.0138125 2052.8181 6df124df1eaa7f24cd76d30c80190c38      0             \n",
       "4  -0.6893750  193.1339 dc6083b93c227585a531d2414c42cd84      0             \n",
       "5  -4.1986250 4206.9926 eb966b44bf6cde8b8f31156900cb22a7      0             \n",
       "6   2.3092500 1124.2620 3e1c2b8e9d8e9f24d26e6b1a82b8b634      0             "
      ]
     },
     "metadata": {},
     "output_type": "display_data"
    }
   ],
   "source": [
    "head(testInfo)"
   ]
  },
  {
   "cell_type": "code",
   "execution_count": 141,
   "metadata": {
    "collapsed": true
   },
   "outputs": [],
   "source": [
    "testInfo <- testInfo                       %>% \n",
    "            select(-word, -utteranceIndex) %>%\n",
    "            arrange(filename)"
   ]
  },
  {
   "cell_type": "code",
   "execution_count": 142,
   "metadata": {
    "collapsed": true
   },
   "outputs": [],
   "source": [
    "write.csv(testInfo, \"test-Kaggle-Speech-Recognition-File-Inventory.csv\", row.names=FALSE)"
   ]
  },
  {
   "cell_type": "markdown",
   "metadata": {},
   "source": [
    "## Number of unique test speakers\n",
    "\n",
    "All test speakerIDs are unique"
   ]
  },
  {
   "cell_type": "code",
   "execution_count": 127,
   "metadata": {},
   "outputs": [
    {
     "data": {
      "text/html": [
       "158538"
      ],
      "text/latex": [
       "158538"
      ],
      "text/markdown": [
       "158538"
      ],
      "text/plain": [
       "[1] 158538"
      ]
     },
     "metadata": {},
     "output_type": "display_data"
    }
   ],
   "source": [
    "length(unique(testInfo$speakerID))"
   ]
  },
  {
   "cell_type": "markdown",
   "metadata": {},
   "source": [
    "# Duplicate Files"
   ]
  },
  {
   "cell_type": "code",
   "execution_count": 128,
   "metadata": {
    "collapsed": true
   },
   "outputs": [],
   "source": [
    "testInfo$word <- \"\"\n",
    "testInfo$utteranceIndex <- 0\n",
    "allInfo <- rbind(trainInfo, testInfo)"
   ]
  },
  {
   "cell_type": "code",
   "execution_count": 129,
   "metadata": {},
   "outputs": [
    {
     "data": {
      "text/html": [
       "<ol class=list-inline>\n",
       "\t<li>223259</li>\n",
       "\t<li>18</li>\n",
       "</ol>\n"
      ],
      "text/latex": [
       "\\begin{enumerate*}\n",
       "\\item 223259\n",
       "\\item 18\n",
       "\\end{enumerate*}\n"
      ],
      "text/markdown": [
       "1. 223259\n",
       "2. 18\n",
       "\n",
       "\n"
      ],
      "text/plain": [
       "[1] 223259     18"
      ]
     },
     "metadata": {},
     "output_type": "display_data"
    }
   ],
   "source": [
    "dim(allInfo)"
   ]
  },
  {
   "cell_type": "code",
   "execution_count": 130,
   "metadata": {
    "collapsed": true
   },
   "outputs": [],
   "source": [
    "counts <- table(md5sum=allInfo$md5sum)          %>% \n",
    "          as.data.frame(stringsAsFactors=FALSE)"
   ]
  },
  {
   "cell_type": "code",
   "execution_count": 131,
   "metadata": {},
   "outputs": [
    {
     "data": {
      "text/plain": [
       "\n",
       "     1      2      3      4      5      6   3710 \n",
       "215795   1557    172     27      2      1      1 "
      ]
     },
     "metadata": {},
     "output_type": "display_data"
    }
   ],
   "source": [
    "table(counts$Freq)"
   ]
  },
  {
   "cell_type": "code",
   "execution_count": 132,
   "metadata": {},
   "outputs": [
    {
     "name": "stderr",
     "output_type": "stream",
     "text": [
      "Warning message:\n",
      "\"package 'bindrcpp' was built under R version 3.4.1\""
     ]
    }
   ],
   "source": [
    "duplicates <- counts            %>% \n",
    "              filter(Freq > 1)  %>%\n",
    "              arrange(desc(Freq))"
   ]
  },
  {
   "cell_type": "code",
   "execution_count": 133,
   "metadata": {},
   "outputs": [
    {
     "data": {
      "text/html": [
       "<table>\n",
       "<thead><tr><th scope=col>md5sum</th><th scope=col>Freq</th></tr></thead>\n",
       "<tbody>\n",
       "\t<tr><td>800ea34119b791a1be054aafd09fc896</td><td>3710                            </td></tr>\n",
       "\t<tr><td>b57a0367e5aa3adf7761c4285e12637a</td><td>   6                            </td></tr>\n",
       "\t<tr><td>61c65e886789d76be18a9bcf79369f47</td><td>   5                            </td></tr>\n",
       "\t<tr><td>96c3f8655b50b3ee473f4efcf089efc4</td><td>   5                            </td></tr>\n",
       "\t<tr><td>0186604b63475ef175e2f4e582dda258</td><td>   4                            </td></tr>\n",
       "\t<tr><td>215ec163f0369ebc5204e5aa29693694</td><td>   4                            </td></tr>\n",
       "</tbody>\n",
       "</table>\n"
      ],
      "text/latex": [
       "\\begin{tabular}{r|ll}\n",
       " md5sum & Freq\\\\\n",
       "\\hline\n",
       "\t 800ea34119b791a1be054aafd09fc896 & 3710                            \\\\\n",
       "\t b57a0367e5aa3adf7761c4285e12637a &    6                            \\\\\n",
       "\t 61c65e886789d76be18a9bcf79369f47 &    5                            \\\\\n",
       "\t 96c3f8655b50b3ee473f4efcf089efc4 &    5                            \\\\\n",
       "\t 0186604b63475ef175e2f4e582dda258 &    4                            \\\\\n",
       "\t 215ec163f0369ebc5204e5aa29693694 &    4                            \\\\\n",
       "\\end{tabular}\n"
      ],
      "text/markdown": [
       "\n",
       "md5sum | Freq | \n",
       "|---|---|---|---|---|---|\n",
       "| 800ea34119b791a1be054aafd09fc896 | 3710                             | \n",
       "| b57a0367e5aa3adf7761c4285e12637a |    6                             | \n",
       "| 61c65e886789d76be18a9bcf79369f47 |    5                             | \n",
       "| 96c3f8655b50b3ee473f4efcf089efc4 |    5                             | \n",
       "| 0186604b63475ef175e2f4e582dda258 |    4                             | \n",
       "| 215ec163f0369ebc5204e5aa29693694 |    4                             | \n",
       "\n",
       "\n"
      ],
      "text/plain": [
       "  md5sum                           Freq\n",
       "1 800ea34119b791a1be054aafd09fc896 3710\n",
       "2 b57a0367e5aa3adf7761c4285e12637a    6\n",
       "3 61c65e886789d76be18a9bcf79369f47    5\n",
       "4 96c3f8655b50b3ee473f4efcf089efc4    5\n",
       "5 0186604b63475ef175e2f4e582dda258    4\n",
       "6 215ec163f0369ebc5204e5aa29693694    4"
      ]
     },
     "metadata": {},
     "output_type": "display_data"
    }
   ],
   "source": [
    "head(duplicates)"
   ]
  },
  {
   "cell_type": "code",
   "execution_count": 134,
   "metadata": {
    "collapsed": true
   },
   "outputs": [],
   "source": [
    "duplicateIds <- sort(unique(duplicates$md5sum))"
   ]
  },
  {
   "cell_type": "code",
   "execution_count": 135,
   "metadata": {},
   "outputs": [
    {
     "data": {
      "text/html": [
       "<ol class=list-inline>\n",
       "\t<li>7464</li>\n",
       "\t<li>18</li>\n",
       "</ol>\n"
      ],
      "text/latex": [
       "\\begin{enumerate*}\n",
       "\\item 7464\n",
       "\\item 18\n",
       "\\end{enumerate*}\n"
      ],
      "text/markdown": [
       "1. 7464\n",
       "2. 18\n",
       "\n",
       "\n"
      ],
      "text/plain": [
       "[1] 7464   18"
      ]
     },
     "metadata": {},
     "output_type": "display_data"
    }
   ],
   "source": [
    "select <- allInfo$md5sum %in% duplicateIds\n",
    "duplicates <- allInfo[select,] %>% arrange(md5sum)\n",
    "row.names(duplicates) <- NULL\n",
    "dim(duplicates)"
   ]
  },
  {
   "cell_type": "code",
   "execution_count": 136,
   "metadata": {},
   "outputs": [
    {
     "data": {
      "text/html": [
       "<table>\n",
       "<thead><tr><th scope=col>filename</th><th scope=col>dataset</th><th scope=col>word</th><th scope=col>speakerID</th><th scope=col>utteranceIndex</th><th scope=col>extension</th><th scope=col>samples</th><th scope=col>min</th><th scope=col>Q10</th><th scope=col>Q25</th><th scope=col>median</th><th scope=col>Q75</th><th scope=col>Q90</th><th scope=col>max</th><th scope=col>range</th><th scope=col>mean</th><th scope=col>sd</th><th scope=col>md5sum</th></tr></thead>\n",
       "<tbody>\n",
       "\t<tr><td>test/audio/clip_91cd9ccfc.wav       </td><td>test                                </td><td>                                    </td><td>91cd9ccfc                           </td><td>0                                   </td><td>wav                                 </td><td>16000                               </td><td> -2938                              </td><td> -195.0                             </td><td> -6.00                              </td><td> 1                                  </td><td> 9                                  </td><td> 245.0                              </td><td> 2318                               </td><td> 5256                               </td><td>-0.343875                           </td><td> 348.0375                           </td><td>001d47276ac8f75c8bb4dd0c3923c976    </td></tr>\n",
       "\t<tr><td>test/audio/clip_f29207b90.wav       </td><td>test                                </td><td>                                    </td><td>f29207b90                           </td><td>0                                   </td><td>wav                                 </td><td>16000                               </td><td> -2938                              </td><td> -195.0                             </td><td> -6.00                              </td><td> 1                                  </td><td> 9                                  </td><td> 245.0                              </td><td> 2318                               </td><td> 5256                               </td><td>-0.343875                           </td><td> 348.0375                           </td><td>001d47276ac8f75c8bb4dd0c3923c976    </td></tr>\n",
       "\t<tr><td>train/audio/no/cb8f8307_nohash_3.wav</td><td>train                               </td><td>no                                  </td><td>cb8f8307                            </td><td>3                                   </td><td>wav                                 </td><td>16000                               </td><td>-15248                              </td><td>-1400.0                             </td><td>-14.00                              </td><td> 0                                  </td><td>16                                  </td><td>1395.2                              </td><td>13291                               </td><td>28539                               </td><td> 2.388750                           </td><td>1901.1607                           </td><td>00f40d14e950f82ce35618e9912e7c23    </td></tr>\n",
       "\t<tr><td>train/audio/no/cb8f8307_nohash_5.wav</td><td>train                               </td><td>no                                  </td><td>cb8f8307                            </td><td>5                                   </td><td>wav                                 </td><td>16000                               </td><td>-15248                              </td><td>-1400.0                             </td><td>-14.00                              </td><td> 0                                  </td><td>16                                  </td><td>1395.2                              </td><td>13291                               </td><td>28539                               </td><td> 2.388750                           </td><td>1901.1607                           </td><td>00f40d14e950f82ce35618e9912e7c23    </td></tr>\n",
       "\t<tr><td>test/audio/clip_622472139.wav       </td><td>test                                </td><td>                                    </td><td>622472139                           </td><td>0                                   </td><td>wav                                 </td><td>16000                               </td><td> -9117                              </td><td>-1586.1                             </td><td>-60.25                              </td><td>-2                                  </td><td>21                                  </td><td>1457.1                              </td><td>11446                               </td><td>20563                               </td><td>-3.391188                           </td><td>1837.1585                           </td><td>0100a5817d788c73e3abea746ef82f7a    </td></tr>\n",
       "\t<tr><td>test/audio/clip_c89b44152.wav       </td><td>test                                </td><td>                                    </td><td>c89b44152                           </td><td>0                                   </td><td>wav                                 </td><td>16000                               </td><td> -9117                              </td><td>-1586.1                             </td><td>-60.25                              </td><td>-2                                  </td><td>21                                  </td><td>1457.1                              </td><td>11446                               </td><td>20563                               </td><td>-3.391188                           </td><td>1837.1585                           </td><td>0100a5817d788c73e3abea746ef82f7a    </td></tr>\n",
       "</tbody>\n",
       "</table>\n"
      ],
      "text/latex": [
       "\\begin{tabular}{r|llllllllllllllllll}\n",
       " filename & dataset & word & speakerID & utteranceIndex & extension & samples & min & Q10 & Q25 & median & Q75 & Q90 & max & range & mean & sd & md5sum\\\\\n",
       "\\hline\n",
       "\t test/audio/clip\\_91cd9ccfc.wav        & test                                   &                                        & 91cd9ccfc                              & 0                                      & wav                                    & 16000                                  &  -2938                                 &  -195.0                                &  -6.00                                 &  1                                     &  9                                     &  245.0                                 &  2318                                  &  5256                                  & -0.343875                              &  348.0375                              & 001d47276ac8f75c8bb4dd0c3923c976      \\\\\n",
       "\t test/audio/clip\\_f29207b90.wav        & test                                   &                                        & f29207b90                              & 0                                      & wav                                    & 16000                                  &  -2938                                 &  -195.0                                &  -6.00                                 &  1                                     &  9                                     &  245.0                                 &  2318                                  &  5256                                  & -0.343875                              &  348.0375                              & 001d47276ac8f75c8bb4dd0c3923c976      \\\\\n",
       "\t train/audio/no/cb8f8307\\_nohash\\_3.wav & train                                    & no                                       & cb8f8307                                 & 3                                        & wav                                      & 16000                                    & -15248                                   & -1400.0                                  & -14.00                                   &  0                                       & 16                                       & 1395.2                                   & 13291                                    & 28539                                    &  2.388750                                & 1901.1607                                & 00f40d14e950f82ce35618e9912e7c23        \\\\\n",
       "\t train/audio/no/cb8f8307\\_nohash\\_5.wav & train                                    & no                                       & cb8f8307                                 & 5                                        & wav                                      & 16000                                    & -15248                                   & -1400.0                                  & -14.00                                   &  0                                       & 16                                       & 1395.2                                   & 13291                                    & 28539                                    &  2.388750                                & 1901.1607                                & 00f40d14e950f82ce35618e9912e7c23        \\\\\n",
       "\t test/audio/clip\\_622472139.wav        & test                                   &                                        & 622472139                              & 0                                      & wav                                    & 16000                                  &  -9117                                 & -1586.1                                & -60.25                                 & -2                                     & 21                                     & 1457.1                                 & 11446                                  & 20563                                  & -3.391188                              & 1837.1585                              & 0100a5817d788c73e3abea746ef82f7a      \\\\\n",
       "\t test/audio/clip\\_c89b44152.wav        & test                                   &                                        & c89b44152                              & 0                                      & wav                                    & 16000                                  &  -9117                                 & -1586.1                                & -60.25                                 & -2                                     & 21                                     & 1457.1                                 & 11446                                  & 20563                                  & -3.391188                              & 1837.1585                              & 0100a5817d788c73e3abea746ef82f7a      \\\\\n",
       "\\end{tabular}\n"
      ],
      "text/markdown": [
       "\n",
       "filename | dataset | word | speakerID | utteranceIndex | extension | samples | min | Q10 | Q25 | median | Q75 | Q90 | max | range | mean | sd | md5sum | \n",
       "|---|---|---|---|---|---|\n",
       "| test/audio/clip_91cd9ccfc.wav        | test                                 |                                      | 91cd9ccfc                            | 0                                    | wav                                  | 16000                                |  -2938                               |  -195.0                              |  -6.00                               |  1                                   |  9                                   |  245.0                               |  2318                                |  5256                                | -0.343875                            |  348.0375                            | 001d47276ac8f75c8bb4dd0c3923c976     | \n",
       "| test/audio/clip_f29207b90.wav        | test                                 |                                      | f29207b90                            | 0                                    | wav                                  | 16000                                |  -2938                               |  -195.0                              |  -6.00                               |  1                                   |  9                                   |  245.0                               |  2318                                |  5256                                | -0.343875                            |  348.0375                            | 001d47276ac8f75c8bb4dd0c3923c976     | \n",
       "| train/audio/no/cb8f8307_nohash_3.wav | train                                | no                                   | cb8f8307                             | 3                                    | wav                                  | 16000                                | -15248                               | -1400.0                              | -14.00                               |  0                                   | 16                                   | 1395.2                               | 13291                                | 28539                                |  2.388750                            | 1901.1607                            | 00f40d14e950f82ce35618e9912e7c23     | \n",
       "| train/audio/no/cb8f8307_nohash_5.wav | train                                | no                                   | cb8f8307                             | 5                                    | wav                                  | 16000                                | -15248                               | -1400.0                              | -14.00                               |  0                                   | 16                                   | 1395.2                               | 13291                                | 28539                                |  2.388750                            | 1901.1607                            | 00f40d14e950f82ce35618e9912e7c23     | \n",
       "| test/audio/clip_622472139.wav        | test                                 |                                      | 622472139                            | 0                                    | wav                                  | 16000                                |  -9117                               | -1586.1                              | -60.25                               | -2                                   | 21                                   | 1457.1                               | 11446                                | 20563                                | -3.391188                            | 1837.1585                            | 0100a5817d788c73e3abea746ef82f7a     | \n",
       "| test/audio/clip_c89b44152.wav        | test                                 |                                      | c89b44152                            | 0                                    | wav                                  | 16000                                |  -9117                               | -1586.1                              | -60.25                               | -2                                   | 21                                   | 1457.1                               | 11446                                | 20563                                | -3.391188                            | 1837.1585                            | 0100a5817d788c73e3abea746ef82f7a     | \n",
       "\n",
       "\n"
      ],
      "text/plain": [
       "  filename                             dataset word speakerID utteranceIndex extension samples min    Q10     Q25    median Q75\n",
       "1 test/audio/clip_91cd9ccfc.wav        test         91cd9ccfc 0              wav       16000    -2938  -195.0  -6.00  1      9 \n",
       "2 test/audio/clip_f29207b90.wav        test         f29207b90 0              wav       16000    -2938  -195.0  -6.00  1      9 \n",
       "3 train/audio/no/cb8f8307_nohash_3.wav train   no   cb8f8307  3              wav       16000   -15248 -1400.0 -14.00  0     16 \n",
       "4 train/audio/no/cb8f8307_nohash_5.wav train   no   cb8f8307  5              wav       16000   -15248 -1400.0 -14.00  0     16 \n",
       "5 test/audio/clip_622472139.wav        test         622472139 0              wav       16000    -9117 -1586.1 -60.25 -2     21 \n",
       "6 test/audio/clip_c89b44152.wav        test         c89b44152 0              wav       16000    -9117 -1586.1 -60.25 -2     21 \n",
       "  Q90    max   range mean      sd        md5sum                          \n",
       "1  245.0  2318  5256 -0.343875  348.0375 001d47276ac8f75c8bb4dd0c3923c976\n",
       "2  245.0  2318  5256 -0.343875  348.0375 001d47276ac8f75c8bb4dd0c3923c976\n",
       "3 1395.2 13291 28539  2.388750 1901.1607 00f40d14e950f82ce35618e9912e7c23\n",
       "4 1395.2 13291 28539  2.388750 1901.1607 00f40d14e950f82ce35618e9912e7c23\n",
       "5 1457.1 11446 20563 -3.391188 1837.1585 0100a5817d788c73e3abea746ef82f7a\n",
       "6 1457.1 11446 20563 -3.391188 1837.1585 0100a5817d788c73e3abea746ef82f7a"
      ]
     },
     "metadata": {},
     "output_type": "display_data"
    }
   ],
   "source": [
    "head(duplicates)"
   ]
  },
  {
   "cell_type": "code",
   "execution_count": 137,
   "metadata": {},
   "outputs": [
    {
     "data": {
      "text/plain": [
       "                                  \n",
       "                                   test train\n",
       "  001d47276ac8f75c8bb4dd0c3923c976    2     0\n",
       "  00f40d14e950f82ce35618e9912e7c23    0     2\n",
       "  0100a5817d788c73e3abea746ef82f7a    2     0\n",
       "  0103b53d1187d4ed368dcde3de51480a    2     0\n",
       "  010f29432bb090847709a13019612d68    0     2\n",
       "  011562a2b2413670b9a3f925064d8b68    2     0\n",
       "  01209921541626c71412aaebb7a36808    0     2\n",
       "  01477edd8dd2f3a003b4cb8c5a8b2f7d    2     0\n",
       "  0186604b63475ef175e2f4e582dda258    4     0\n",
       "  018db8f781099ae79e7d3fe04f478fb0    2     0\n",
       "  01d81b632f2da9b6cf776c126f657170    0     2\n",
       "  01e5e64829eac9a95277fba8db77e6b8    2     0\n",
       "  023af5bde5e94287795b5e6cd9035454    2     0\n",
       "  027e1117f37ec381941680bc83ede2b2    2     0\n",
       "  0327503658bcc9fac6f0162693f8e83c    2     0\n",
       "  03397df7b85dbbbfa92551a5f733256f    0     2\n",
       "  0359d7d245cbd618adc449974da29e03    0     2\n",
       "  03c1a951b3dcd1c84aa5ab04ebb12696    2     0\n",
       "  03c4bc26787f6e32b21cedd547d943cd    2     0\n",
       "  046e00ec6f7b0cf1b7af08716c4aba0a    3     0\n",
       "  0491496d702de19c470d37e68ce09a12    2     0\n",
       "  04964a7f403655952e9c91c78901051e    3     0\n",
       "  04b31df084b257d0ff95edf9499476df    2     0\n",
       "  04bc1343d46afc3b95c3857f1016ff7f    2     0\n",
       "  04c39af389a140dd1b1dd73665a4a502    0     2\n",
       "  0504c07b74c2aa7fee4f8e2d745ef14b    2     0\n",
       "  050a91d897f2ddcfe21c21625d1b87a3    2     0\n",
       "  051ef015280fedb6484e1233d348c870    0     2\n",
       "  05b42d314d80416d396289cc2e4b8d19    2     0\n",
       "  05cf7dbee78a46224312ed758869e9d7    2     0\n",
       "  05f29c805f7b98b30469acf1fe075588    2     0\n",
       "  060b7bbe73183c403bf41caece24e9f1    2     0\n",
       "  0654fa35765cfc52acc836ec291d789d    0     2\n",
       "  066631cf21f574408f3d70cc4ff97089    0     2\n",
       "  067fc65b36cc9404ccf2c0a82109eade    2     0\n",
       "  068bac65bee3131286d75d6225e15cac    1     1\n",
       "  06a20ad94ccd2b8d325cb48b2cd9ebef    2     0\n",
       "  06b0a990e1db56e24e00bb0334bebf35    2     0\n",
       "  06d0ee293e8430522774ab92a024e9b2    2     0\n",
       "  06fc099f3e4d0e96c4d1be83bc4cc5f2    2     0\n",
       "  070eb47b9cabd386f6362712f856aa65    2     0\n",
       "  07431a17d6a0bf519a7cf7846b45c3b5    2     0\n",
       "  078c767d7500115031075de1a24cd08f    2     0\n",
       "  07da9074d30a98af277d06123a215cc5    0     2\n",
       "  07f96dfaf15773b131b540609931b262    2     0\n",
       "  0830b8795fd405cd029d1b38cc5bee9a    2     0\n",
       "  0834a8796f3e41136b65892efafdcb70    3     0\n",
       "  083b08993ba8beffaecbaba9ab8d6a20    2     0\n",
       "  08442c9c3f3087aee4ced96f4c018841    3     0\n",
       "  08897637987aba6e6c4d5152e7c60ce8    0     2\n",
       "  090af66b48e61413c0a5a530d9c60e83    2     0\n",
       "  09246f10224a4dd0ff1b990c9727b4a2    2     0\n",
       "  09598c0a682c5635018063cf4f1ab16f    0     3\n",
       "  098eccd42e11b76341c829a2c214f34f    2     0\n",
       "  09a157d4386e97f8ece78f18e3718549    2     0\n",
       "  09f5625d831b16de5f0c848ce65a1032    2     0\n",
       "  0a0c0b46f6bf29f52cb8ef126bf448f2    2     0\n",
       "  0a40fc5d515d8a9865a21d4cbbfa911e    0     2\n",
       "  0a604f7e882db3677542de5251e510f7    2     0\n",
       "  0a8bef1df54604a891f3f209a5ec26db    2     0\n",
       "  0a971bc30cc2d4b32810e588c4250b0b    0     2\n",
       "  0aa2d9f205665491e7cad78df4f309e6    0     2\n",
       "  0ae7eff2be9b2b894059ffa065b7fd9e    2     0\n",
       "  0af483fc26e6c25f4a06efd13ca927bb    2     0\n",
       "  0b2dac5f9df1fd92995aef95bf5dd576    3     0\n",
       "  0b9db110b7c5961e181f450e769060ea    2     0\n",
       "  0bbd44db58771e2602e9781a112199a1    2     0\n",
       "  0c0e1ed7cca2a416043f86d6d7ed8221    2     0\n",
       "  0c248f7ecea02c926ad37605ff94643d    2     0\n",
       "  0c6176d02304deebd4ebd919eb504efb    2     0\n",
       "  0c755088e049b1ac185cc46a1a52a95d    3     0\n",
       "  0c923c3e42bbd9c74b3a382329afaeda    0     2\n",
       "  0c9a44c34e20241b843b7ce799294f29    2     0\n",
       "  0ca7003239f346217d913a5270af1880    3     0\n",
       "  0cbc3592453ab2092fe6d2bfd83a0d7b    2     0\n",
       "  0ce295ba0aa155f56db010164300051b    2     0\n",
       "  0cf38efb77ade56e9a4bf0285338c6b5    2     0\n",
       "  0d256d0d648025cc09b37691b6d436e9    2     0\n",
       "  0d471c71a404f8d6c8a3b77faac69244    2     0\n",
       "  0d5340d81ff2e18f84c7e46dde8da356    2     0\n",
       "  0d634472c715bff2fa068caca5a3bb17    0     2\n",
       "  0d78a7118c2fa7766cac2418287788f9    2     0\n",
       "  0d9460681fed7ad651f7bd0f15a9e56f    3     0\n",
       "  0dc30ae59cb658e2b24733486577dfd7    2     0\n",
       "  0e13ef224fbbff2f19785c874ffca32c    1     1\n",
       "  0e224b418ee931fb377c3f915e6695a2    2     0\n",
       "  0e753984789d9107662921b9f1d3a5d2    2     0\n",
       "  0e7e5375cd99a8204ebd974eba7b330a    2     0\n",
       "  0ed8d7ee506d8987d366743374dfc017    2     0\n",
       "  0f11190896f2c9460e93b8a84820b8f6    0     2\n",
       "  0f2bac7a6cad96e7d164831ad14233ed    2     0\n",
       "  0f5cedf772340dea60279d65c7899c17    3     0\n",
       "  0f7a09c1e38ec72fe344e133f11a6be1    0     2\n",
       "  0fec7f6b7acfacf426e54baeb9e8b637    2     0\n",
       "  1007070d758b52af61c55ff936bbcda9    0     2\n",
       "  100a9a68e3c3c04da2aec6518adfc1f3    2     0\n",
       "  103dbe008abdd0f57612bdcf313bfd03    2     0\n",
       "  1048e526e35fcb28520b82ddc70982f5    0     3\n",
       "  107dc3a878ae057c730ead7540dae9d5    2     0\n",
       "  1094addce6a9e9216e8955a62b611492    0     3\n",
       "  10960d634f17e5a8af1645f3ecbe83cd    0     2\n",
       "  109efb7b6eddb3abd0b93a77c538cb09    2     0\n",
       "  10e4065ebfcfdc672ad8e50c2ba98638    2     0\n",
       "  10ee55ba42efbebb29707ff490d55784    2     0\n",
       "  10faa5ea4d32f021c5c6b1eaae25dabc    2     0\n",
       "  110df0359f9f0d31f4fdb263ea155bf5    2     0\n",
       "  111fc039ced50f5773d0109794c016c7    2     0\n",
       "  113482bdd49c4f0a6dd14e90b044b1e6    2     0\n",
       "  1170859dba6ce9acef64232c2458fe9a    3     0\n",
       "  1171616a2003221d4d8e2ea23f62e268    2     0\n",
       "  11b5231d5993d6b22f308b7c8eb9cb35    2     0\n",
       "  11cabf882ac2188a315cb38efa842546    2     0\n",
       "  11eb83bbf2c95f0fcd425b628ccb797f    2     0\n",
       "  1223adae3328323cb881f2c051acccd7    3     0\n",
       "  1247c88f783ffeca00572e1091a266da    2     0\n",
       "  1254842e61e4d3f1751b3f6b82541e55    0     2\n",
       "  1277dc69cecdeda74f565f0595c86af4    2     0\n",
       "  127b49be64f6101682aa266a4092da05    0     2\n",
       "  129acba4587ba7e853fd3973ae610051    3     0\n",
       "  12db87926666f60e8305abaea665b7bd    2     0\n",
       "  1306ed1582be7fd0dc332a709c41b9fc    0     2\n",
       "  13102ccb02444a3861df45d3dad38009    2     0\n",
       "  13230a27784aceb13d22273caa97af9f    2     0\n",
       "  13238ad8f4b19ace4c714e92870c784b    0     2\n",
       "  13422dcf575d9410cd78598848760b6e    2     0\n",
       "  13488fce3ce18f7f29e1e5be6483a9d1    0     2\n",
       "  136ca3b066eeb2e482e721182aa03ee2    3     0\n",
       "  13a9e0f9c8940bd5928974e25bb86ea4    2     0\n",
       "  13ccdc5a8ce885176b7fbb22a8f682ab    2     0\n",
       "  13da281520c22390801fb1bb7bc03846    2     0\n",
       "  13e1f06a2277076cae98a08c8324efd2    2     0\n",
       "  13f7b8371d32bcf4249056b2f3dc76c3    2     0\n",
       "  1413b56e73cdbf753cae1ee54d49f13a    2     0\n",
       "  144c07c1deb8fc2d08c35f62759df99a    2     0\n",
       "  145a92e06190557b5741b431e52c1337    2     0\n",
       "  146297d068969d404c1bd8c95698311b    2     0\n",
       "  14724816a16729d5af9e6853514c17d8    0     2\n",
       "  14fa3562cd3cc6ffae4c7e721d40d480    2     0\n",
       "  1539c2387bdd7a4c98409fc5649cdece    2     0\n",
       "  15686a12511e481d4d9ed0f57815eec2    2     0\n",
       "  158152b518b27cf8ab761884d3d74dbc    0     3\n",
       "  159a819bd7c5b643fefd1e61b208f865    2     0\n",
       "  15ae2574336c87a5730c4b62f4e48a84    1     1\n",
       "  15ba53beee01b7efe6a2dc51e8d1c8bb    2     0\n",
       "  15ce7a96bc6522a99a1e1bc1600210d8    0     2\n",
       "  15e9a1e236f4e258817ce86ae9fa6c08    2     0\n",
       "  160b81ad46e6691a55722f2548399050    2     0\n",
       "  1611f5b766e2077f4498fab43b4ca0b2    2     0\n",
       "  162d6002a50b1457beb9bf0a4927123d    1     1\n",
       "  162f15d7bbcc2ae5e79223189765ed8c    2     0\n",
       "  166874392fd5dacdbd690d8538e5df67    0     2\n",
       "  1695d56f9773ac31465a022aaa80dad0    2     0\n",
       "  17390e5ded3699d1f7f0d96e0629005a    2     0\n",
       "  175b51388db564e43b4726f09f2e4554    2     0\n",
       "  176705975e60aedce1d7e44c196ac1e8    2     0\n",
       "  177a687ccd2c2d83571e259048c41093    1     1\n",
       "  17e9d69e89da03a53032dedf8802e456    0     2\n",
       "  18039bcdb04ebc3ee8d228cee936c06a    2     0\n",
       "  181725de7becca661f065cdcf013251e    2     0\n",
       "  181f6ac24d8a713606e7ff51a1e0773f    2     0\n",
       "  185750ec91fd1e4aaf8e877fd3fe522d    0     2\n",
       "  1892ccba9e22519eb67363163865a1ee    2     0\n",
       "  18dbb3bb60c812f56c05bd8d0250a448    2     0\n",
       "  18f954f202b1aab8becaac60ced5d5b2    2     0\n",
       "  19113d94d761a376ca59d7853dfee172    2     0\n",
       "  1920236ed28372fed62df813e1f9e0e3    2     0\n",
       "  1932386dc70411984d1b6cd293765ace    0     3\n",
       "  1951e5c11be68947254990452ccd14c0    2     0\n",
       "  197758441c8bbdf4aef7a8f66764e357    2     0\n",
       "  19a50b942a7c00f42cd297a24478a6fd    2     0\n",
       "  19b156929f59e25a1695ddd490fa4f29    2     0\n",
       "  19b44dfaf60f0ac72b8578432f6c7226    2     0\n",
       "  19c72802b43639bc0783a51d32a7ad25    2     0\n",
       "  19d46247ea07f06ee5ba6b9aa80e7169    2     0\n",
       "  19e0864f54a85e8593432dc7f17a3c38    2     0\n",
       "  1a0491288b7a0d40f3e9fe78ab4ce2f5    2     0\n",
       "  1a0760d39f83ba5e55eeb05108906670    2     0\n",
       "  1a444678559fd3bfe5a17540ab40d62f    0     2\n",
       "  1a611571e8ac14f29339b6463ff11f2f    0     2\n",
       "  1a745acd58b736c77135f5f0215b3ad1    2     0\n",
       "  1a86f2ca2bb4a0600e00b9bc45dd9180    2     0\n",
       "  1acbb0063e85ea545c581d7c382aa009    0     2\n",
       "  1afd836fa814418521a767b197344eb1    2     0\n",
       "  1affa9acb22c176233c982885d86b519    3     0\n",
       "  1b0f5df97e764daa9707f1a578d252ac    2     0\n",
       "  1b11b998a8a74a81f45d1dc8e52003b4    2     0\n",
       "  1b38818fb32853d9ba913e20c873a5fb    2     0\n",
       "  1b49d5caa83b915a9d61b5809f20a234    2     0\n",
       "  1b6ec4eab5e3deb283a8a57ab581a353    2     0\n",
       "  1b96a62e394102b2e777ac4878bad430    0     2\n",
       "  1ba5284da167160e737e98f50b633625    1     1\n",
       "  1bb10ced719cc7358613a0d657d32783    2     0\n",
       "  1be9e46cdffbbcd0c2c973afc6cf453f    2     0\n",
       "  1c171df1016eafd5a8845c93cababb35    2     0\n",
       "  1c2bc7430945becad415770bc4c46938    2     0\n",
       "  1c5dc759ff565af0deb066191ff9e693    2     0\n",
       "  1c618548bdaa4e4245e5cc2805608fce    2     0\n",
       "  1c6404be25a9cd5c8b12339118d8c056    2     0\n",
       "  1c6e849795fda26df8040622a9f15983    2     0\n",
       "  1c7d92311f7eaa4cc267e4d44ea73ad0    2     0\n",
       "  1ca88c07369c7cc47bd9e5594e85c71f    2     0\n",
       "  1cc618d6a6cee581d6482170f50ac1ea    0     2\n",
       "  1d23f6082120a6a3ad6044ea4964fb4c    3     0\n",
       "  1d57dd4db0b2472bb7cbf362305e030e    0     2\n",
       "  1d7a68743e1a8e78bb22c8bd8deef69b    2     0\n",
       "  1d8551cc1c100e39ede7ac16b97587cb    2     0\n",
       "  1db38a25209cdf14a4f51e8dea5c904c    2     0\n",
       "  1e3b636c79f379617dce57f3ffece4d4    2     0\n",
       "  1e5ead080839aaa326d4a6cb7cef2212    0     2\n",
       "  1e7f5ce0e6fcc17f19c695ebd8a6365c    2     0\n",
       "  1e831c55bac50371c3a641976a63a887    2     0\n",
       "  1ec57e292044c64adbf026adf1874e0e    2     0\n",
       "  1ed599ac252bb500f9108c05b4b235ec    2     0\n",
       "  1ef7e27ec564e3ff22d90cccf963488b    0     2\n",
       "  1efedf86abff95d472388e53c92b3cd9    2     0\n",
       "  1f1d83216116fdee9f5ad85082e39028    0     2\n",
       "  1f209baec1f9a3b26e0812760b924113    2     0\n",
       "  1f34a3ab928760fc06c93117ec95e652    0     2\n",
       "  1f39594f5c7eafe5edc27b5112a68adb    0     2\n",
       "  1f43739fde0581dc2ddc6d7826ddb4f4    3     0\n",
       "  1f5bdb383e730d6d2fe7f646b1d93a76    2     0\n",
       "  1f8c4c93717e9cacc56a36651d66e7c4    2     0\n",
       "  201f88fb5a8b3c13704d0cc565605804    2     0\n",
       "  20206262998d4903fee35d1b05cd5e63    2     0\n",
       "  2023bdcb67e6b11fa645bbe2a75b8f1c    0     2\n",
       "  2028faac9f52dc7726da9d601b60a3b3    2     0\n",
       "  20366e39215e6fd0b5dc68617784f7e6    2     0\n",
       "  2046dcf1417f8b7201abda25cf422dc6    3     0\n",
       "  207b5f395e760dd00478e73b59b0bbb5    2     0\n",
       "  207ed6eea18ab2d864862827588e7e9c    0     2\n",
       "  2084c8b59ba33e6087d5ef100d8894d6    2     0\n",
       "  20ab8609119a89e5c15d86e885e470d0    3     0\n",
       "  20b0d1eededd31c8aaffdc6acf33b978    2     0\n",
       "  20b3f3184353ab6cf6ab8e4a030b56d1    2     0\n",
       "  20c342c4727505dfdd17273058c28571    2     0\n",
       "  20d8bf7cda4980826b0628983d34dc34    1     1\n",
       "  21175f052465e632cd30c4ab167a48bc    2     0\n",
       "  211e9987093e60c9e5cd0de4a934323b    2     0\n",
       "  215ec163f0369ebc5204e5aa29693694    4     0\n",
       "  21c1ba7d4118b5a2e0e856b7a697461d    2     0\n",
       "  21c54e99e4dc79b2a921f67380952181    4     0\n",
       "  21dd107abab39a8b0da7596086ed4d22    2     0\n",
       "  21e2d5142b4dd63eadd9c160de222618    3     0\n",
       "  22469e8f069ef85be8424fdcdd2b72ab    2     0\n",
       "  224f77288a41514bf6ca2571bd7e9e03    2     0\n",
       "  225f610546b3ef5f471b468aef608baa    3     0\n",
       "  22d08e41a8411d116bb8eb057c4c3e96    2     0\n",
       "  22e8a83c2bb7e7fd1e32969d2de8ddf1    2     0\n",
       "  230f00ae61e377c9ffcc1b3fd8c19632    0     3\n",
       "  231f83603836801a236903a9a81c0f3a    3     0\n",
       "  2321f331936cf06f6c362b88e76b1ef3    0     2\n",
       "  238e5f10d7cf4ddf754736f788eabadc    3     0\n",
       "  2390718b8a5bf3a29a7a081192da4431    2     0\n",
       "  23b4b4cecf636d620faa354e1bd0bc95    2     0\n",
       "  240cc03b0ed6159bafed4929818461a8    2     0\n",
       "  240ef697de261f6434162e3f2acd5e10    2     0\n",
       "  241d48457c998e905c7fb2786d9f5695    0     2\n",
       "  2430ed9c0e07b695552e1c16f876aa74    2     0\n",
       "  243ec2e1f43390826ba5d6b63b4795f5    2     0\n",
       "  24457f10e210f75b56a4ecf509657d9c    1     1\n",
       "  2476e278886d844c095eca469702372f    0     2\n",
       "  247f633a119f440e76d04c6e25f31e2c    2     0\n",
       "  24a3a79bd8666e3c97f1b2080bfc744a    2     0\n",
       "  2536e83109d295e6e451249d3df287d2    0     2\n",
       "  25446015e329225fc045f4d2b3ed6b05    2     0\n",
       "  255633705fdd6502c88eef374c011e75    2     0\n",
       "  255cc27036b2cb4f5d5ac56f68e29d75    4     0\n",
       "  255d949476c6b1ff81843898944914e3    0     2\n",
       "  256f3c4a212a09a6f533189b8221052c    2     0\n",
       "  257ce946f8822b806184d3d56099c76f    2     0\n",
       "  2591ca2ff29d2469515f9d677948777b    0     2\n",
       "  259726e85d8d71a3b49b4d835d18bd4d    0     2\n",
       "  25ba3176c8951b0c1f060937aa723da1    3     0\n",
       "  25e55a83a0cb1af93bb215dc2f92ca6e    2     0\n",
       "  25f1deffe307d3f55a03aa70cb74cf10    0     2\n",
       "  25f6e944b07b772189388b4e7392d597    0     2\n",
       "  2623a66453c778a82bc56e9b86f35527    2     0\n",
       "  268af1beab0be902a239d34f81cca1be    2     0\n",
       "  26905cea5af5dae925e532ec10142989    2     0\n",
       "  26a3e28ffa5dfdba4471e6544be42163    0     2\n",
       "  26e056108af5fe2a14278e78b5f5ee15    0     2\n",
       "  27069fc7c92e326c8ecbaf853ba75b3d    1     1\n",
       "  27852cd07b28901d7a1128fd37eeb580    0     2\n",
       "  2788a16c7a0e694fefe368736ed0ad01    2     0\n",
       "  27997b50e314a1a141a788984446f2bc    2     0\n",
       "  27a256fe44885775167e889454531684    2     0\n",
       "  27a9855b2a88ccf73a9902e7dd481d30    0     2\n",
       "  27b4ab7894c176139282bddf0205efba    2     0\n",
       "  27ed7a97d75595f6cff9a77a7589fbcb    0     2\n",
       "  28066c1aea33a37271b0addba6592e2b    2     0\n",
       "  2807ca87936f9fe2bf4bb24db433ba43    0     2\n",
       "  2817b320dfdc94046991f452c10ad8ba    2     0\n",
       "  2859381dad2ec544b2190056813a481e    2     0\n",
       "  285fd885bcecf6436bb87aa67565a2be    0     2\n",
       "  28722da2ff409005966e4a1b7f525a88    0     2\n",
       "  288c54914884f855d6a32a346b705763    2     0\n",
       "  28ad4894461209aea076e10f2304cd79    0     3\n",
       "  28bd69df8e5f4643fcdd1a1b5fa358e5    2     0\n",
       "  28dd86fd6dbb35e6ae29fbd76d2f6527    2     0\n",
       "  28fb04cec773e9c8b4ac5f07a08f83d8    2     0\n",
       "  2900efce52f74f7cde0f27f75164ccdd    0     2\n",
       "  290ddea264f5e888ed6bd81fa4b25d76    0     2\n",
       "  2919512e5598530f6c3edca509645d44    0     3\n",
       "  297799f8c96fb8a6fc1a889208cde6a9    3     0\n",
       "  29849e559f0aa7d29bf1d4f2898d264d    2     0\n",
       "  29a32d92ce87dc6c9d2173210850f75b    3     0\n",
       "  29a47eb9b51ea5afbe15cd2f61af4f04    2     0\n",
       "  29ab789ae800f984d616d101a077ccc4    2     0\n",
       "  29b3ac6240681be6c540c9b2c2f22eb0    2     0\n",
       "  29f3cde5acf2751b987dbcf61594bf55    2     0\n",
       "  2a1a0389c39f6c90d0fd2987d603a8f8    3     0\n",
       "  2a47e745f997ae7a7e987b0a06ae38e7    2     0\n",
       "  2a7737850b35dedfc73ec52626f73004    2     0\n",
       "  2aa7e4d263363938853902d618ad48af    2     0\n",
       "  2ae69e3a96434effbb2ca17e5aa719f9    2     0\n",
       "  2b2a645ea8f659abeeddc93251922e04    2     0\n",
       "  2b5241598be80a40db62b9edec65c2c8    2     0\n",
       "  2b711b98b9167c5e5ce4fc3f1d728fb1    4     0\n",
       "  2b7c40627e65cb42f6c08346b07d9feb    2     0\n",
       "  2b870918382bfdd873f73f7aada27fbd    0     2\n",
       "  2b9e5f0e7c7583ec6e32b78b1204621c    2     0\n",
       "  2bc05105d1305022f5dc1329a45fa217    0     3\n",
       "  2bcbf4525efaf7c2cf6cf0e7a3be943f    2     0\n",
       "  2bddf4d7d1830eb144dd5a3819d29128    1     1\n",
       "  2c0574583d823f96bc0a69ddf9056dc4    0     2\n",
       "  2c4693fbd0dbddaeec568aafe39cb619    2     0\n",
       "  2c4957a55cf1cde0a2356f1fd56bf77f    2     0\n",
       "  2c4c1ef3408dbef8b7a3e9c30a0024e4    0     2\n",
       "  2cdfe62852cd56c46314237cbc193922    2     0\n",
       "  2d3ea2948fb5fae11693643d56193c5f    0     2\n",
       "  2d5b387fabdb10adf60e34a07fc1862d    2     0\n",
       "  2d5d345ba40ff0fa062f78a8f4b2928e    0     2\n",
       "  2d678437bd4bf125406ac68c54dfce2c    2     0\n",
       "  2d92b6481b7b5b71bff221a80447234b    2     0\n",
       "  2dc1a3dd78f122aa31650cf19b3ab41b    2     0\n",
       "  2dcc9f3f016521a3f978a8afb3de79ad    1     1\n",
       "  2dfaa2cc237170dc889e963cb45d6fb3    2     0\n",
       "  2dfc18230b6e96866f14402d4a4286e8    3     0\n",
       "  2e3a36a7d9414d92e44aef577875d722    0     2\n",
       "  2e4f1b54915477bd80cba592a6777bd0    0     2\n",
       "  2ea3b29fcd362d778d3a07690ccf285e    1     1\n",
       "  2ebbf34e6fe4f3af46bd7cb7bf4d07db    3     0\n",
       "  2ef63c84d1c210364e928bb924b37d5d    0     2\n",
       "  2f4bdcc303bbea3e3fa85b456d4025af    2     0\n",
       "  2f5557501bf28b4b70a71029472393b0    2     0\n",
       "  2f9f57e9d95fc595dafa9c24d32404ad    2     0\n",
       "  3030e1fe8d5575974fd252fd914b7e1f    2     0\n",
       "  303a67b944296f21b55b24b0047f9a1f    2     0\n",
       "  3063e3bb1d6a8239662655c8f6fc8212    2     0\n",
       "  30a8576a60f2fb5cec18b657b9d7b2a9    4     0\n",
       "  30d36b38861a805d7ba204027002b0b6    0     2\n",
       "  30d922344037e8ac81f51cb99d88cf2d    2     0\n",
       "  30f3acc040e4cdfe38b66bbc42c703b4    0     2\n",
       "  3100306065607201e7521d272a4553ff    2     0\n",
       "  318b5ac98b347410f3cc276cfe2e802e    0     2\n",
       "  31d043fce8425f04e534a3084ccb5921    3     0\n",
       "  327614d0c26999f52b3cbd2d0cc0fd71    2     0\n",
       "  33131a14a9bb1e6fb82d2604ee14d4d8    2     0\n",
       "  3324f752082842d653e451745fc38061    2     0\n",
       "  33628db460225a44ff18140161f0f3d0    0     2\n",
       "  3399626bf1343f67f640aeef6b4bd94a    2     0\n",
       "  33c0a51bd8b38309a5159015021a4892    2     0\n",
       "  33f801c4eb4cae9c092a699810d6289e    0     2\n",
       "  348861919ebc3967c43f5be78b425903    0     2\n",
       "  34b3bc589171234bd564ec86e68c5e65    2     0\n",
       "  34dfd1dd0aa553595ee65de676a49f45    2     0\n",
       "  34ea23461834830fdb2d61c9dabb99c3    0     2\n",
       "  34f54aa9ce9e5b1b3407ca88ad5e741c    0     3\n",
       "  34f769493ff0370d691d6eb4a44429f9    2     0\n",
       "  355c068e57b2248ec5737c6a09e6db59    2     0\n",
       "  357455cf98f1178196a113a27fe28f13    2     0\n",
       "  357ce8794b705701288864f0ad7fe5d4    2     0\n",
       "  3596d9558e34678a9806d9e02cb0054b    2     0\n",
       "  35a54bf8bde911f0bd7d2642c97d6eaf    2     0\n",
       "  35b07973e125525afca0db52e6af3bc4    2     0\n",
       "  35cc0f357763c90cb49ee7aa3155e859    3     0\n",
       "  35dc77a165ed0ba4c5e9019e8d53a965    2     0\n",
       "  35e39f83d66c0a7b4616926ed23b59ec    2     0\n",
       "  3638e6041ed54827356db4e243bd3e18    2     0\n",
       "  363d69aa44dcf4170ad7ebd5e599f9c4    2     0\n",
       "  364dabca1f5446a2403727d70c977439    2     0\n",
       "  36823f4d60b58fc59a228e5aa4354b10    2     0\n",
       "  36bbbb2373933a4d13f5d377b6be8164    0     2\n",
       "  36d877981ce60b511fda0d0713031281    2     0\n",
       "  36e3f6e3ea67d4e8d61ca53219b2209e    2     0\n",
       "  36fae4c27819a9fc74671577ab44849f    2     0\n",
       "  37462ed64ee8e9d58e92b372f045013a    2     0\n",
       "  378ab98adc29c4fcd5a6e2b5b8ddb477    0     2\n",
       "  378c987ee83c944e8c22c54b02ecb299    2     0\n",
       "  378d5c8fd0e6840820b795cf5ec19835    0     2\n",
       "  379984bdf46016869b35bdc84ccdd3f2    2     0\n",
       "  37b8e57648bd3c77853ec74042673606    2     0\n",
       "  37c11230699203ec3106cec5a2af0030    1     1\n",
       "  37fc9b9986d7c7449ee9a637e395ddfa    0     2\n",
       "  3847afebeced218082426ccfda58accc    3     0\n",
       "  386ec0f7defe8e8d879b9df111b3a061    0     2\n",
       "  387aa1d8b5248813a30f0fe0610107e0    2     0\n",
       "  3885b97952f9a1258cf662b185e75644    0     2\n",
       "  389a1a93bf079d69258b68de60927ae6    0     2\n",
       "  38c277fc4db1c184e47778d23b069d65    3     0\n",
       "  3928135e5209b38bc9a099d7e27435f8    2     0\n",
       "  393db5a2193cb994712198bdc5a96d7f    2     0\n",
       "  397540cfdd7d0d6fe629ad2304a22bd9    2     0\n",
       "  3980502854241c5b00d910963de4d077    0     2\n",
       "  39b4d2dc9308ef0eb3b0b5e4fcc31b15    2     0\n",
       "  3a04923d04f889ee30029188e4b0a9d8    2     0\n",
       "  3a2efba2645f1dee499252971964c200    2     0\n",
       "  3a318235cc70495105fd34b2f501f188    1     1\n",
       "  3a44284f2fc434081ec44de8249169e7    3     0\n",
       "  3a5598330a4c87ceae492bde5ba3366f    2     0\n",
       "  3a6ed5687a58744214ab6affb4709c9c    2     0\n",
       "  3ab2eb37730aa034319ac3ebfedde120    2     0\n",
       "  3add382a58a063ba09e2793487720d68    2     0\n",
       "  3ae5b264b6ea8c937237d217625536e6    2     0\n",
       "  3af7b315abe2ffc2210c11b40cc74ad8    0     2\n",
       "  3b2b4475274749037b0c4e4739b50bf4    2     0\n",
       "  3b319029b8830b4d696a20865d409cd2    0     2\n",
       "  3b338ae0aec38c86b4cc8ee6403ad15d    2     0\n",
       "  3b39bc6617b44895576d875fc148eed5    2     0\n",
       "  3bbdb6b9f4a6a5a21354219557f4de7f    0     2\n",
       "  3bcac1d07373e05c5aa4f095ae59445d    2     0\n",
       "  3bcd23154d9e5059c6e10249930503ed    0     2\n",
       "  3bdcc3e2b5f44faef4ec099b4e0ca6f7    0     2\n",
       "  3be6c0b078f7ffd6a937e818035ecd5c    0     3\n",
       "  3c0014ef6a34fe5af82f4801c56f787e    0     2\n",
       "  3c0a2ab1543759a9c4981f9e59b853e0    2     0\n",
       "  3c159abc4a85f6ec9b38d101a293d2c6    2     0\n",
       "  3c1ffdda1ca334b6aaecd13887599eb4    3     0\n",
       "  3c202bc3af01d902c37485d373eba7f6    0     2\n",
       "  3c38eb7da62f813f85ab917ebc283599    2     0\n",
       "  3c77aeb86e2b39a74683410f530fbf8a    2     0\n",
       "  3c8bff01a5400ca169fd4e27dad552a6    2     0\n",
       "  3c9a24729ba81654d9ac2f0dcccbed1b    0     2\n",
       "  3cac07e86c144bed3cf2450506d1831a    2     0\n",
       "  3cc0828daae700d63c93b77b3d096b43    0     3\n",
       "  3ccb8e075ab6669d1aff4496ed6f0132    2     0\n",
       "  3ce8e51c6b5e3edb6f4cadbc95a5cd7b    2     0\n",
       "  3d0838f82c99b918d49f67059cd1fe94    2     0\n",
       "  3d6280180b1b754c8111493cebc401bc    3     0\n",
       "  3dce72e35c49cd32dc332eacab9aef9d    2     0\n",
       "  3dcec1be5c8fd95d283513759fa89893    2     0\n",
       "  3e171c00fe037ce5dae6f49d94fc722b    0     2\n",
       "  3e23c3b511fa6441172b78c708d7a689    2     0\n",
       "  3e26bdb441138920c5148c9ddf7ce166    0     2\n",
       "  3e49304aedbe815feb6783e781835afa    2     0\n",
       "  3e6dcd8615addd1451b59a953e6151de    2     0\n",
       "  3e88a5918122995eecf52d6945154721    0     2\n",
       "  3eac5be9309c8d23386c3868bec093b6    2     0\n",
       "  3eb804691f1d60225812b6830caea003    2     0\n",
       "  3eecc19353fc315fce03c2870a7747e3    2     0\n",
       "  3ef76523a9d33fed1eb040bc1b6010b1    2     0\n",
       "  3f1fffacc9b353aeaccf046ab7afd20b    2     0\n",
       "  3f540e151e5fccc4988504e28b02bfbd    2     0\n",
       "  3f7eb81901531964521588777820fe45    2     0\n",
       "  3f836adb30e5dde66c8f13b5e1695ea6    0     2\n",
       "  3f966247de926b23ec1e4fce10a94af0    3     0\n",
       "  3f9b27288b1b09ac9e1bcecf952b68c8    0     2\n",
       "  3fa47a980b8d320bdd2573d9c38ee1ac    0     2\n",
       "  400fc7f67f8440c03c34be1c5a032974    2     0\n",
       "  4036683c98b5262599e4eb92a8fa6cff    2     0\n",
       "  40f14a6b5718b87b4bb94710b1e9b0b4    2     0\n",
       "  4124cd97b9bcbeabf33e330ab4354a4d    2     0\n",
       "  41581ca49e7d67340378b8297a33e455    2     0\n",
       "  41a0eed9ecb00ce434f57a04500ed819    2     0\n",
       "  41a3d4a04b6ae07d49a7b27f843a269b    4     0\n",
       "  41b777b3bfc4fe1272f14b3843a43693    0     2\n",
       "  420376a0840a3f9b052a90177bc78e9e    2     0\n",
       "  425c2c39d5a5e6921922731efa9941cd    2     0\n",
       "  4265565512e54ff669e05ea662f0bcdd    2     0\n",
       "  426835a093e178895772dbeab1c67db0    0     2\n",
       "  42ae00ba49ec7fb442847eda0ec041d7    2     0\n",
       "  42d7e1c544a50f342a6ce712228f2108    2     0\n",
       "  43182cb1aeb81ce5228eda6cdb89a517    1     1\n",
       "  434b51418593ae8c69a416e36f01f680    2     0\n",
       "  439f12bdbeeb7be8c78221db75d17081    2     0\n",
       "  43b5c6bd5b45aac56107f26852eb73bb    2     0\n",
       "  43cb9d745367dc17c35f72bf907fe45b    0     2\n",
       "  43d0e5224b1f1433269b325ce5bf5d82    2     0\n",
       "  43da0b3a1d1d5a300559ac14ba382ca6    2     0\n",
       "  43f2d290f2c3c49ed225b71fcf534acc    2     0\n",
       "  4400638acaf7efbdb4424f6db5eeb0e7    2     0\n",
       "  4406d825e5441d748586c1263760ea84    2     0\n",
       "  44403d57a7fb25ec8ead6d3d0c0c222b    2     0\n",
       "  44948037e11c71f14690e3de820c16f7    1     1\n",
       "  4495378e868051ebbcc84943bb15a55c    2     0\n",
       "  44a13c8d0632abc68c51c22c783c14a7    2     0\n",
       "  44b9506246050cb60cf34527b1c3689f    4     0\n",
       "  450fb51c24bb22f7a2460e6a1d32b6c8    2     0\n",
       "  4540b9b491ee96331b7abebb1397c32e    0     2\n",
       "  46368d85507edaf8943a13d413e8c9f4    2     0\n",
       "  466b2935ebd56c548deffade6436fd25    0     2\n",
       "  468be9ef01ac70198695e56c6d60ed6b    0     2\n",
       "  468c3799a5b010072c64ceda028cfa5a    2     0\n",
       "  46ba56889f304882e1128f888c46a2cf    2     0\n",
       "  4711ae7d2af3036a89a9ac7e8a1ec562    0     2\n",
       "  471bc66e601aa87f3f5f2377cb160904    2     0\n",
       "  4728d07f0bf1215665fe83fd6102f4a7    2     0\n",
       "  473477edab10cb4c6441aad8e49b4dcc    2     0\n",
       "  4781d3f12218aecb96fe52bbb0e8560b    2     0\n",
       "  478518e629e9a4b1e221fa212abd4e9b    3     0\n",
       "  47c982898593046a2f99f525a8cb6041    2     0\n",
       "  47e7e993bc929d75e145e5b71ddcf92a    2     0\n",
       "  47ef76560105b4b71e7e6d020ff48753    2     0\n",
       "  480c541cd4e572870b962e8092b8a8c8    2     0\n",
       "  480dc5d0d3bd99b6a479e345822cb6d8    2     0\n",
       "  481391e92409fa45a235fab649f0e142    0     2\n",
       "  4822f4c81894d9e2d7626d7cd2bf2c00    2     0\n",
       "  482eb807b41c639eec864b21935fb258    2     0\n",
       "  487970fa46b61472454b8350c45034e8    2     0\n",
       "  48a14aa859cdd5fc89f19f3585d04f31    3     0\n",
       "  48f39ad6430b02870136941ff48675db    2     0\n",
       "  4903e7cf7c1d979f8fff21c9028ae4d1    2     0\n",
       "  4916b197f5ab374d6ee3e61caa2e3ec2    2     0\n",
       "  4919cea428efcd742d949ac0a4b43ce8    2     0\n",
       "  491d8a950b32361c48594cd0cfbe9676    2     0\n",
       "  491e32f987fb14cc1aa70d2a0bdb882f    0     2\n",
       "  4929f846998679421b7fcc61376f093e    2     0\n",
       "  4993afd88b9fbff644d84e442b1bb644    0     2\n",
       "  49e7bc427a9a4b3c8addc73e8fb889f6    2     0\n",
       "  4a1af1d7c7490f73ca0a6833e82340c0    0     2\n",
       "  4a3c9d626a24df89aa5857566e5560f5    2     0\n",
       "  4ae7b29c92c5737384bff43f1e7c3f40    2     0\n",
       "  4b78a688943444047f7791d1ac42caac    2     0\n",
       "  4b81eb572017fba491e6e9c71298c890    2     0\n",
       "  4b8506a113f6b7f21bbbc5cfa09b6f42    2     0\n",
       "  4ba7f1c0eefd0e0a23d4996e6ebe1f06    0     2\n",
       "  4baa02f2767e9ac3e491b48cf0148759    2     0\n",
       "  4bd82fb852c370e1debfdda6cfe3f432    2     0\n",
       "  4c32b559cff2dd69b5ab6fd3dcb600ce    2     0\n",
       "  4c52fdd0256b1938276baabf83fb781c    2     0\n",
       "  4c7ce478bfa052e9dac0fac87e647546    1     1\n",
       "  4ca3494b3781d3cbd829528fddf3db72    0     2\n",
       "  4ce5bf52be55a7065b2983c5be85c5cb    1     1\n",
       "  4cfb2353cdc70686155ef0e7e9a81578    2     0\n",
       "  4d1ca50400b14e625df3d867d6b996aa    3     0\n",
       "  4d1f20ae8648f1fb5fa6ff60233904b1    2     0\n",
       "  4d37c222ac396eb6afcd59e40893b7ea    2     0\n",
       "  4d41d8631defc306d00d4dab4208e8c1    2     0\n",
       "  4da7259ce3ff8b73c97b587e452e918b    2     0\n",
       "  4db38296043bbc36d0ccb545ae81ebb6    2     0\n",
       "  4de0fa9d6bf9bf0a70fef6bfe3341e84    2     0\n",
       "  4e19730276f032c201bfcc793f12508b    0     2\n",
       "  4e3200a5217421d3e0bbe0aa18821159    2     0\n",
       "  4e470fa00d77bc73ba236e9972ee7d7b    0     2\n",
       "  4e52aab93c4fef094226e20445e876c7    2     0\n",
       "  4e6cd499ceeb6f280eb6ba16554d9864    3     0\n",
       "  4e854886e64a334a950a403052c7dcdf    2     0\n",
       "  4e968a25fe15aa03654eb7e9e7e27253    0     2\n",
       "  4ed7845d1737c01b98ad0613e72d5713    2     0\n",
       "  4efc19673e20255244cd8ad48df29c6e    2     0\n",
       "  4f4175a1ae06c829399418b9adfc7510    2     0\n",
       "  4f7cb9490467ef6ad35c751d6ea621c4    3     0\n",
       "  4fe173fa812e092de2bf54f7da63b2f0    2     0\n",
       "  5006f6eccf085257ef53a31751a4cdf7    2     0\n",
       "  50312e1399961461b35994be5cc963e1    2     0\n",
       "  503ae4457ab01b8042fae83c97fcbfef    2     0\n",
       "  50662d6efb8cb69c2b9a1e7d0165eca3    2     0\n",
       "  50717275ace2d966ad95f9fa2ad72f39    2     0\n",
       "  50c42f7c9152403e4ed3cf830071606c    2     0\n",
       "  50c72b582101add44b1b5921860783ce    1     1\n",
       "  50cea6f6e48a96ecd5b40467cb691da0    2     0\n",
       "  50d1dd6a7ffab7cb7f4ed8c31925370b    2     0\n",
       "  50d68bd6530d480e85ed737f747215d5    2     0\n",
       "  5141525eb9ee23ecc5c741a0463fc1b5    2     0\n",
       "  516cfcb00078e562783fb64c0d5eb343    2     0\n",
       "  51919598d709b730b0faf0543a59e758    2     0\n",
       "  5195e56a3d2c90e1d72463f5aa670c9f    1     1\n",
       "  51ad39b0aa42dd735006744351abaa37    2     0\n",
       "  51d8e760c88a34dbdf6291b63ff5cf56    2     0\n",
       "  5210453654e49c25f8fdb9ddaafc9fdd    2     0\n",
       "  52a14d9fc2935b75728c88249e0edab9    2     0\n",
       "  52db9de387b8cae9d675aa00dc0faa77    0     2\n",
       "  52ddc94b7fd66b69ff90e789ed86b15d    2     0\n",
       "  5327c58fb1205bf3817cdf476226b7dd    3     0\n",
       "  532fce01e9756362796e57dc34e41ef1    3     0\n",
       "  535b83c284c53f8d285dbae385c86ab8    2     0\n",
       "  53648aa4a72abdf6548fb902e51159b1    2     0\n",
       "  53ae1e42906c46eb01b73ddf3c67a9cb    2     0\n",
       "  53bff220336a6dcb8cb18b6e6ef3d5c8    2     0\n",
       "  53c504609e24f811c994f1956bd2e79d    2     0\n",
       "  545a3dceed86cce1db5f29a7f3ba6906    2     0\n",
       "  54716a708b3f246ae0a32f100d967ed8    2     0\n",
       "  548e3b35b865e211a2c6191186261673    2     0\n",
       "  549504719ec5664d034b3120707b7414    2     0\n",
       "  54b23005b3c051971f699b9bbe25f15b    3     0\n",
       "  54b3c4a022e0ba7df3fbd4e40367baf5    2     0\n",
       "  54f654b1489532773b48afa942f7e23e    2     0\n",
       "  5502afb872f9a75c06ebc3a0cea1ca53    0     2\n",
       "  550905327370ce3c6cce183ed63e27b7    0     2\n",
       "  551eac3becbf1b56802f4b4d76ffb954    0     2\n",
       "  5531a9bbe92b59dc8fa4cff4989b5a4f    2     0\n",
       "  55a3b3de0eb8e680c5110033618ccf31    2     0\n",
       "  55aeb552145e3bc79e08165ca6d9c528    2     0\n",
       "  55d7cdfedaebb4bb264b90a8032f0ebf    0     2\n",
       "  55e818260655b492ee71b88280a51ab4    2     0\n",
       "  561f048328c68fdf54a3d0730f9bfe65    2     0\n",
       "  56384b22dc8add2fe1d56edb6b2c0887    3     0\n",
       "  5644f3c559687f7c9007b017666c9173    0     2\n",
       "  565d8afacfc4677f81aaba2a766b7bcb    2     0\n",
       "  56ab458ff58fa31ea06840ba03cd0cbe    0     2\n",
       "  56b44a89dd88805c372e0fec45f8b3ef    2     0\n",
       "  56d83def9f091ecbfe180240326494ec    2     0\n",
       "  56e4b2f82e1c0cc3fd3906e312075433    2     0\n",
       "  570a06901da6cfb343098fb1440b8a64    2     0\n",
       "  574a735d24c411ceb1edf9e3be2a8431    0     2\n",
       "  5761ba948af5734b0fa25022f4deea0a    0     2\n",
       "  57899a7d3d0635fd605878767f0bb5df    2     0\n",
       "  5789d4f55d5865fbfaa024892ff67bd5    2     0\n",
       "  578f0db0de93e27c1f625e88ced67518    2     0\n",
       "  579a3cd62affcef123fde3d2e19f671b    3     0\n",
       "  57a30de1e43c32cb4becfa38077ea209    2     0\n",
       "  57bfc5f3b1cce155deafe9dc84f4d7c9    2     0\n",
       "  57cb346fbf8b0049a642486a95639ea8    0     2\n",
       "  57e9733dbe2ef7c98d23410b13f69ad8    2     0\n",
       "  582d3918efc1121d1e0bc543f50f1a68    2     0\n",
       "  5863e4713e8ef5bbab17474f032b8cf1    2     0\n",
       "  5898e0560efe93d15f99ff57c281dc60    0     2\n",
       "  58aa8046f6fd268b3e2a486d95f221e6    2     0\n",
       "  58d3f2a1707b33e596e6848893a14b45    2     0\n",
       "  5993ba01e932c598fae327af429f8473    2     0\n",
       "  5a494f152ca220d93c804725838e8c1d    2     0\n",
       "  5a4a8093dfa8d3572c32212cc3bf9e94    2     0\n",
       "  5a63895b3b40c7eb48a75436ffb71d7f    2     0\n",
       "  5a838083a664606f0a06a3aec1e58779    2     0\n",
       "  5ab85192d9127f50f80ab3f50f2fe164    2     0\n",
       "  5abfab8c6bbd46f3d825ba5c58e7e2ac    2     0\n",
       "  5b02ef237ec727661db97a5a1a9a0437    0     2\n",
       "  5b0c9aec75499769a158523fa85ebfc6    3     0\n",
       "  5b235c6a5468f31bd02ed7a3c8221528    2     0\n",
       "  5b955900f0bc92731163aeebb9530db1    2     0\n",
       "  5babf8e7b8c4e7ccde987fb2e5ff935c    2     0\n",
       "  5bc8db892e7d9f58fb69f4088f5fb7dd    2     0\n",
       "  5bcfe46c163c0c7fd652b126d55c2a96    2     0\n",
       "  5bef747354b56b8901679636096c7c91    0     2\n",
       "  5bf4d09d04e04386b86b2906d356298f    2     0\n",
       "  5c1186f9dad5dde47b73ae6f3f94f713    2     0\n",
       "  5c38856b81f04f3b29b0cabe1a428d0a    2     0\n",
       "  5c4711d44939622d0468c532b3ab3bf7    2     0\n",
       "  5c604dc4303c7476238dfabe90621062    2     0\n",
       "  5c6da455cef24cb30a9f9610ac9dd2ca    2     0\n",
       "  5c755f96fdf0630d78da60d0e2561cd2    2     0\n",
       "  5c7b7d271ad8322a8f97e26589c2e39f    0     2\n",
       "  5c8332dfe9cbbdf9107176065707763c    0     2\n",
       "  5c964f938d9fc064fd92af9a7eefb9d6    3     0\n",
       "  5c9d30197311551feb0e7803173d4bab    2     0\n",
       "  5cbb45d970930d2e2fb2fca7a8c1dfe5    2     0\n",
       "  5cd32e423666f3d269df7eafb15cd3a7    2     0\n",
       "  5cfe028d4d87c17c1304da8c604971d3    0     2\n",
       "  5d52e9989013d9df1f5d2712a95b2baf    2     0\n",
       "  5d6fea2f29011e5636fb06b00c453cdc    0     2\n",
       "  5d803bfc3454606a75e0430152c9edb2    2     0\n",
       "  5d8eb160da35c0eead75b0367f61c769    2     0\n",
       "  5dd07512d2dea490832322d5d5835e88    2     0\n",
       "  5de5a48bfe8f7088b8f31871687057de    0     2\n",
       "  5dec60d1fe27f2b7dcae2d95566fabd6    0     2\n",
       "  5e0b8e642dc3b97589496c6aef90b655    2     0\n",
       "  5e3a200e348051820441b5e205315241    3     0\n",
       "  5e5351eafb5ad03fc2526ad3c760d5b1    2     0\n",
       "  5e849f73ef0cc716cc20cf76f1f85662    2     0\n",
       "  5ed859ac1a4c454ba30f279bd8a722da    2     0\n",
       "  5f3151cc510933b8c3787a2f66f7b435    0     2\n",
       "  5fb199fd19acf8b59e058b58095f4163    0     2\n",
       "  5ffbe00592055325a60114c36245ac47    2     0\n",
       "  6010b86203fb8ae7fab8fe1d8c8927e2    2     0\n",
       "  603a775779221865914950202adbddda    2     0\n",
       "  604fd4009ac0c778a50c300dfc2b14ca    2     0\n",
       "  605c491a536d39907fefbb7df311e5f8    2     0\n",
       "  607898757b5521c1e84b28cdb4d19734    2     0\n",
       "  608478f6934701f9bbee9410892e2023    2     0\n",
       "  60a3b2101033dcb7ad72a0faaa0eed61    2     0\n",
       "  60a712a8553ed9aba647c56746444e26    1     1\n",
       "  6123d0906094ce69057d9a3a32789ba8    3     0\n",
       "  613933f41afcad2aa4d1189792e4c7f7    2     0\n",
       "  61773d5554b86539fc59b3850d7446be    2     0\n",
       "  617ccaab74dc4e54211cf9dc4244681a    2     0\n",
       "  618bf1b52c74b1746bdfca9fd6f0999c    0     2\n",
       "  61a904c2c88251d7044cb40f6cd20277    3     0\n",
       "  61aed2a293469da7264b97bead85e055    2     0\n",
       "  61c65e886789d76be18a9bcf79369f47    5     0\n",
       "  61e8b6d9fdeb33a051ffd6dc0735602b    3     0\n",
       "  61ff0e8dc865f6c033aee102b167c59c    2     0\n",
       "  6222fb83568417b5636d60505092ee33    3     0\n",
       "  625e353acc7e84a12ce8a0639c9b851e    1     1\n",
       "  62866b9c26d5dc4b0755026cb02b8722    0     2\n",
       "  628f38e74c1d0305f0453e179e6f8396    2     0\n",
       "  6293753423de2d73d48f76cc9704b24d    2     0\n",
       "  62b417dd7f8f789422255cfb2b60582d    4     0\n",
       "  62c5cc4b198f545309b4eb3accd1cb28    2     0\n",
       "  62dbaf31145c710826d57b6a16ff0897    2     0\n",
       "  62edcdc61e14e53be780ddcc8aaac437    2     0\n",
       "  6303457767e5117f5cce8fe6bb58efc9    2     0\n",
       "  630fae1b4308b3d659b2781cbf6ee742    2     0\n",
       "  6320ba7122df6ee79f1a59ed5d8427a4    0     3\n",
       "  632645ed53f92fd2ba7117203ce66cb5    0     2\n",
       "  633b059334e04470821a26059fc4ac12    2     0\n",
       "  637b7cf121f1ebda32c313bc1dc08f19    2     0\n",
       "  63afbfc51f11cf6ef7d25190671194a1    2     0\n",
       "  63c61a911d9d00679ae925c91c6d860d    2     0\n",
       "  641ff7cd2b8859594fce73466c24ebb6    2     0\n",
       "  64302eaadaf889941daa4febc7b902b9    1     1\n",
       "  6443b599549c8e98511a5776f328b647    0     2\n",
       "  648f02ee9f81802feadc14a7db0a0530    0     2\n",
       "  650df78dea5104c5d2f12ab3acfb864f    2     0\n",
       "  652a4c8d89931b6fecbda651338d864e    2     0\n",
       "  6585e8bad434be956ebed2d866f6cfe4    3     0\n",
       "  659d82870f6af5098130973f6f819cad    2     0\n",
       "  65fdf1ee8ded9d938a3caf4ee32dec1f    2     0\n",
       "  6625076cef84e3e4328ce8c3f045bc7a    2     0\n",
       "  663a36db2b05fbd31a9d61dfe7a1f1e6    2     0\n",
       "  66aa1a97b6ef57f5b8e5d1743ed07d6c    2     0\n",
       "  66c4c1cfaad06eff5de03afc24eb5acb    2     0\n",
       "  66e5d91d101b7e6489fad36425a05d7a    3     0\n",
       "  671cc6599c13b85c1dd849bb5dc6fb9d    2     0\n",
       "  67c44244bf0d9173c2127596d1386103    0     2\n",
       "  67cfe6abe8a432538ba64c3eccbd7e7d    2     0\n",
       "  67e765da2a6624fd72a3c781b6026146    2     0\n",
       "  6808f7bc18804c29e75f4c33b25feb41    2     0\n",
       "  683c154d36611bf9f8675fca78c0408c    2     0\n",
       "  684474b14e71ef01e6267e13a78d4e0d    2     0\n",
       "  686a7654950ac71411b4926aa955f1f6    2     0\n",
       "  689e40d293ec54877bd91afcf3e6a7eb    0     2\n",
       "  68a77ed469e3632d2cf560fd8d8d2ded    2     0\n",
       "  68e2897e2cabc4ec288c0e9b96f7c564    2     0\n",
       "  68ffad374e56123a98d42da79dd5cdd8    2     0\n",
       "  690930cb31497f8e3d0d2905eceb49fa    3     0\n",
       "  6981aef9dd56d2f5f8bf3a4251cdabfd    2     0\n",
       "  69acf83682acaf7c8def1609cdd82963    2     0\n",
       "  69b0a98bc90b2d1db3a4fbbafd414350    2     0\n",
       "  69b14fca711df9529fd16a702d58c4d5    2     0\n",
       "  69bcf9d90c34064bfd31c4fbd1dc51fe    0     2\n",
       "  69cdcc774fd1f9773009c17db54bd623    2     0\n",
       "  6a169086fa1074927d72450e9e8c65e7    2     0\n",
       "  6a4d7ccae70b1001f7382187fcd7f7fe    2     0\n",
       "  6a80419fc11e595980dc4ef6537b8384    2     0\n",
       "  6a82e961b03de2aad76a5076384ac468    2     0\n",
       "  6b53a90621c4f1e0e3a38c66b6eedfbc    2     0\n",
       "  6b6eb22e21034aa735c7e14d9a2b9085    0     3\n",
       "  6b8921c937a1c2216a87de53094d7592    1     1\n",
       "  6bc038c0ed7199f7d84c5106f21b8a05    2     0\n",
       "  6bfc38d9fe3cd76719d0482b16d3f411    0     2\n",
       "  6c465e66df29e31ad1c81b81789766d9    0     2\n",
       "  6c6e01ec36c93efd7ca4690e71c975ab    3     0\n",
       "  6c7d8d0152cb63fa72f6f5cd3985d759    2     0\n",
       "  6c7fe6d2b3ca9ba2dbd576c5833dae7b    2     0\n",
       "  6ca5372cbd8be57cc8671ad89a032d8f    2     0\n",
       "  6cb5639babd9b554076bbcebfa0d5764    0     2\n",
       "  6cbae355f48e0f57843fab706ca1efc1    2     0\n",
       "  6cc79cd6e8357140bf81e8efcef5e1a4    0     2\n",
       "  6d126e48531a395dc8380366c177e53a    2     0\n",
       "  6d5b55b9dabd3927a5a8d900d4795fb8    3     0\n",
       "  6d70f28e1f8166ab87e237e73cf76570    2     0\n",
       "  6d81094d26f848fc1f16dfb73712c936    2     0\n",
       "  6d9c6c70dc766c0bf8a7840c0ab623bf    2     0\n",
       "  6dba865236026ba427b4cc4ada85b87d    2     0\n",
       "  6dd44f371f82f29bd7c9f6568aefa0f1    3     0\n",
       "  6dfc60580971eb53dd4886719a5471a9    3     0\n",
       "  6e14e58de1fc567f5dbc10a9d354bb45    2     0\n",
       "  6e172025bbe9a9beedb8544a39bc653a    3     0\n",
       "  6e54aa1c59132f4feeb370694bcbda4c    2     0\n",
       "  6e66b163c6c875e4bcb3deeead2e70aa    2     0\n",
       "  6e70a97517aaf5474f2a563565441ad7    2     0\n",
       "  6e9aae489948a97040d9f439e8b317a4    2     0\n",
       "  6eb544ec968af0e0f918f5643027e55b    0     2\n",
       "  6f0b1a311a2288a5f906a7f25fe2b335    3     0\n",
       "  6f0edb38a7485bf646db0c389f2a61f0    1     1\n",
       "  6f17633efd946355f5f77e02bfd05e6e    0     2\n",
       "  6f24b1a44b37bf8c175e94c2610214de    2     0\n",
       "  6f5e6c82c56a039397faaeecb7c82420    2     0\n",
       "  6f726527fdefac71925b5c915a8fdef9    2     0\n",
       "  6fabb2e564fb1fb12245e3a4b209d741    2     0\n",
       "  6faca09ba2cd20dae3609f1e155b3704    2     0\n",
       "  7040d8bb8972aa017a3bf4f0ef100c61    0     2\n",
       "  7043e61370a5066d08728af10f566713    0     2\n",
       "  70b7670dc33c4fda720d3ebe9edf2111    2     0\n",
       "  70ccd639c11955d0262bf733dffffedc    2     0\n",
       "  70eb4c2704b213eca06b95f53363b7e0    2     0\n",
       "  70f7dc68103873e4528856ce1faff7ff    2     0\n",
       "  71088b450369a651bef280aa1f913a6c    0     2\n",
       "  711a12045f3b3859fbbc42b5cdc8b250    2     0\n",
       "  7154c2d2ec4b957b6274bde75d7c42a8    2     0\n",
       "  715f186b14fbb822e31f4898759dc9c2    2     0\n",
       "  717b89bdae294cc311ab69af6407b55d    2     0\n",
       "  719b9c666ea1ed7841582ab1d086cabf    2     0\n",
       "  71ccb1e40f1a39a55d46ffa511f79b29    2     0\n",
       "  71e39c93797fc6d74c63cc82902e545d    2     0\n",
       "  7210934fb50c1e102128bebd4af7ea60    2     0\n",
       "  721dfa3003723d44c8e7ef6c7111ce37    2     0\n",
       "  72259816170e84b71db42fe6566568b6    1     1\n",
       "  7231cc2848f5e4e75fa919bdb080b214    2     0\n",
       "  7266316b783dbda941ced7a7cb4e072b    0     2\n",
       "  729e7376b22cde58b7e1a7bbb41c6523    0     2\n",
       "  72e23131c72c2e255cc72b31d1b8490e    2     0\n",
       "  7303fd84ca55e6aafbd44b1a4dc08be7    2     0\n",
       "  73319687f459fd8b62259509e152188e    2     0\n",
       "  73d0b0a14375180f803018396a99c38e    3     0\n",
       "  73e433c1c5e7b5d7ccfd3253c46502e6    2     0\n",
       "  740a36da753679acadcb693c74897937    2     0\n",
       "  741e979a859986ac04501cb9d4475077    0     2\n",
       "  74343131106e3d11ef2d252c710a4b07    0     3\n",
       "  74cb70ac6f7971e2f8253f8333e38018    2     0\n",
       "  74f3effacce4d1e9fe86843f6a8d1214    2     0\n",
       "  7505a91bffafc09bd24da288420a787a    0     2\n",
       "  7520d6d8eb249f2e7f3cf38fb2d0c863    2     0\n",
       "  75382a9396a8cbe170371fca92ef28ce    2     0\n",
       "  753ec752267afb91cd1da9f8659f5002    0     2\n",
       "  7545dbf80263d452da389efb575e5251    2     0\n",
       "  756cff21dd42d3738ef5259db3eed30f    1     1\n",
       "  756da048cd7525ebe5790c9221fc7062    2     0\n",
       "  757b1fff60f1990eeed914e0bf006b6b    2     0\n",
       "  75df302c02d64eaf42f71a196c0bfdd8    4     0\n",
       "  761d905ae66a7fcda075d8f64438c279    1     1\n",
       "  7632eddded6addaac562efae85552604    1     1\n",
       "  765b6a1a1b83fd42ab0edd3ac8dbed4f    2     0\n",
       "  76894c5c8a1d8b15bb149f999a0ea465    2     0\n",
       "  76b87358129a8e9732172b6c016167bc    2     0\n",
       "  7704123dd3b7c2eef6ff49719ec302c0    2     0\n",
       "  77048718660b2838cc45505944bc3d48    2     0\n",
       "  7724913f491b0f3b6496480b3f3571b0    2     0\n",
       "  77251af5f15b82320bb6fc5a20fb5bcb    2     0\n",
       "  7726da988d8db3e677f6fb7cc84f4d21    0     2\n",
       "  772eb291cfb540067ac2a5fb02289406    0     2\n",
       "  7734a41a1a5709a1d1e3920d4a15dae0    2     0\n",
       "  776b09a18441c6ea8b41540bb5d6d64a    1     1\n",
       "  778ade3c35070619666e4c0b5c809674    0     2\n",
       "  77c20a24c134e310542b5f46784ec854    0     3\n",
       "  77cef33480afc8aec2fa1102a66742e9    1     1\n",
       "  77df353f97c2522a7eab30cb5e0dec71    0     2\n",
       "  783cffff2843924a8057125b4338bc12    3     0\n",
       "  784b169e2c6d1fa5b10a4445cb5032f2    2     0\n",
       "  784c62399956ab58cbc9e327bbbf30df    2     0\n",
       "  788f54a1ff035983400e14dd0b740ac5    3     0\n",
       "  7893ce7841b7ad7c92f16ec5e525dac0    2     0\n",
       "  78b382e5ea569fa6158d72af688983cc    2     0\n",
       "  7904a96a06c351b0136be7e194a97fab    2     0\n",
       "  794725286105a649f16d63a3554c54c6    2     0\n",
       "  79957c3c918e9c198dfc93c560868c7a    2     0\n",
       "  79f0f0131353acdf0d1258ef7abd9eed    2     0\n",
       "  7a40684e4122a0b26c4c5e5368d63134    2     0\n",
       "  7a5cf81a70693cfb0d5cd0febd0a6df6    3     0\n",
       "  7a6742c6f72e92e0c941bc9217125ae0    2     0\n",
       "  7a7b3c74e3846424c30c026e03141fcc    2     0\n",
       "  7a8e96c2f28d19d14144b516ddb9a42c    2     0\n",
       "  7a9e80f05a374596cfceba37d73e6c91    3     0\n",
       "  7aaa4979099a8d663601fa2e73d3fc26    2     0\n",
       "  7abab96f255958c59484908ea50a619d    0     2\n",
       "  7af257a44f97c94e66fa877e6d71e276    3     0\n",
       "  7b0bc4349576b961afa0512c71da068f    2     0\n",
       "  7b143e005220eedeb4c9b54c62e73bfe    2     0\n",
       "  7b4ab94a695479b287c0ac2ae251d70a    2     0\n",
       "  7b5cb224d147724249ca230108025dc0    2     0\n",
       "  7be83a86cf095573107cb8228daf8cbe    0     2\n",
       "  7bfc82942a9ef6e617aa8b8cfb7a75b4    2     0\n",
       "  7c0582693f77573f65324d08ab144a5a    2     0\n",
       "  7c119c308b30cefb259508edc561e20a    2     0\n",
       "  7c653047514b3ac284df4b09d596926b    2     0\n",
       "  7c66a0e5cdda0f19e3a700972bf49ed8    2     0\n",
       "  7c718cfa72a4cc082f85a984e3ef5b4b    0     2\n",
       "  7c84ba8512d490258a93e3da87d3a2c5    2     0\n",
       "  7cb4a295dc781fd9b383944e05004388    2     0\n",
       "  7cb5623a6c5fa57da23e6e238825b87b    2     0\n",
       "  7cb84567a1b862f90e6c7a8fa8ce391f    4     0\n",
       "  7cc6fea9179c5f78b976b812f8d74ed5    2     0\n",
       "  7cc8706329ba862bf7366f5e35f00a94    0     2\n",
       "  7ce9222bea0503faa83f96a6f819aaef    2     0\n",
       "  7d0228f49b204b712bcfe75596834d75    2     0\n",
       "  7d0a4d20855e6eb8dad08c4ae67da20b    2     0\n",
       "  7d2a45a9a47bc665c26170ba1fd4f758    0     2\n",
       "  7d5c6b98856a67a23b376db40d7a0367    0     2\n",
       "  7d698a5ae73ac60a2ee6260c7b626ba3    2     0\n",
       "  7db716b0b6266fe2ab5d987b8d8633b9    2     0\n",
       "  7dbd1c83b8c4a53dce2ced8e74d99760    2     0\n",
       "  7dbea780e6f0a4968648883e1d3a220a    2     0\n",
       "  7dd436fb679d583937033b269838df40    2     0\n",
       "  7de1aa288cf4553d9fa53141e471e873    2     0\n",
       "  7dea2d9c1de0bf7f67bb76ebe3d12b80    0     2\n",
       "  7df67214139c8d96a5b6de752654ca71    2     0\n",
       "  7dfcba24a39c4f5321061cb2a6827ae6    2     0\n",
       "  7e2da1f2d20d64f41b9f149fd1189772    0     3\n",
       "  7e52ed50c273da4a568290539d3d6263    3     0\n",
       "  7e567f6b171b8fba360bdd6221ebea73    2     0\n",
       "  7e65de40e611900bb045f9966a6c20b7    2     0\n",
       "  7e73111c8a2a331a5e1e42ffac80a318    0     2\n",
       "  7e87b6dd70850c5540df848e75c6aa0d    3     0\n",
       "  7e9c181fc4b52288bf30fb90a21a0789    0     2\n",
       "  7e9fadc3d1a0db26fbf9f2fa93858ca1    2     0\n",
       "  7ed5d5477ae481c2a8c7c21712e96c9c    2     0\n",
       "  7ee95fc4ee34555164d5b311c11c0964    1     1\n",
       "  7f15bd5692c4372f3ce5fb988e31908c    0     2\n",
       "  7f3c71a2a516d422c91b4e0a06040d43    2     0\n",
       "  7f7b8830fc55f8eb8e22bc10e3920a7f    2     0\n",
       "  7f9848fce1d202790a36fd8fe9ff8744    0     2\n",
       "  7fb0335920997b76658784a4d4dd0fb9    3     0\n",
       "  7fb5afd79b871d5edd513b8b5af3b1d1    3     0\n",
       "  7fb6e00889d9c9d0614400c8151bebb4    2     0\n",
       "  7fd3b905922fdc886e85a247aba4ee30    0     2\n",
       "  7ffbff74c75b3a3b14dc48d5ca19e0e3    1     1\n",
       "  8008f567c0e47dd98242777475b2dbee    3     0\n",
       "  800ea34119b791a1be054aafd09fc896 3709     1\n",
       "  807858cd9f427adaf9943f73cc2f6aed    2     0\n",
       "  808d3b34380ac6e12cc3a0e773725597    2     0\n",
       "  808f30a23c84404100bdd2b5d4ee2f7f    1     1\n",
       "  80b128c9761d96586fc1e7957324d0bb    2     0\n",
       "  80c516acb557c863ccca186df058f10f    2     0\n",
       "  80cdfc8847e2dc322d504aa116b36be8    2     0\n",
       "  80dd362e4b4b89e01179983231d3bbcb    2     0\n",
       "  80e07631f43b01f349718235cbda5530    0     2\n",
       "  811d2c2a92b6467e7d4ad664193219d6    2     0\n",
       "  8147914370bec9fcea880582b5f81c90    0     2\n",
       "  81669e9ea1c1c689f4db3305bd20217f    0     2\n",
       "  8181b88e62213b70d22d16b4a6955ca8    0     2\n",
       "  819bf201a256091f676516bc7e509f9a    2     0\n",
       "  81ff618ef13e532328b727dfb996a1d1    2     0\n",
       "  822116d573142294318e974ee66b9b43    0     2\n",
       "  82362cf455241d3a7e3fe5490e070427    2     0\n",
       "  823f43440d36c22ba0e7e1ba2c2c66a4    2     0\n",
       "  82522e8b1e3c1fa7cb3fd042cf16d357    0     2\n",
       "  8258587d9004db87473c35d81d048913    0     2\n",
       "  82766f3c4834422d1ca0a1a32cce77b7    2     0\n",
       "  82b93f351b9ec70ecf0b188ee638618b    2     0\n",
       "  82bcd9f7cd5f052bc388a6333af58ec2    0     2\n",
       "  82f29a3b7a22566a6ef67aa48e4ddb3f    3     0\n",
       "  82f54ef953e5c3b3031bd8cde9610cd2    2     0\n",
       "  8330c617f2ca91b6c06e676aabc07866    2     0\n",
       "  8338ed11a3ecca4bd78167986d80f5ba    3     0\n",
       "  8340ff16c6537b4c9649df049f546d8c    0     2\n",
       "  83423ca67b0c5ce5bcf90a079f60049f    2     0\n",
       "  83481bea7246f107865db1d8275121da    2     0\n",
       "  835b37245b360a374b30a1004a1c2977    0     2\n",
       "  836dd4172ae77dfc775e8631cfe4f419    0     2\n",
       "  837cd83d2a1c3f17dc559b12c59569d4    3     0\n",
       "  83841fc1ad5462ac298f3e05232718e4    2     0\n",
       "  8388aed4c591e2a38e5ed3a554dd8763    3     0\n",
       "  83b925c3bfa03c2fef00751494b92aeb    2     0\n",
       "  83e8159287d4390e161c50341f53d192    2     0\n",
       "  84172575848a68cf02fc21de43a688df    0     2\n",
       "  84214ffabf7ee567c9da3f73054c6f22    2     0\n",
       "  8430812099441aea1fbe56ae4b5c4ec1    3     0\n",
       "  845c7e258575ac5c52ab72a0b3477d3e    2     0\n",
       "  846034ed305c0b3c197769906d5b1115    0     2\n",
       "  847ae8e48441a15b56e2d856f7961e77    2     0\n",
       "  8481f0046637f404292aed270b0d7a20    2     0\n",
       "  849fd1ea0ebc7f786f97bb87e9948702    2     0\n",
       "  84c7ba05c045ae2828f60d04eb09e0ae    2     0\n",
       "  84ed4bb878df28e634ee8c7fb74ee332    2     0\n",
       "  852bc2d7caeb67a698f8ebbea765ca73    2     0\n",
       "  8556d5c4b47c46a8b83a54a82dbfdd68    2     0\n",
       "  85709cc79d18aa88870a52ba53af9eda    2     0\n",
       "  85f6cc1d9a631afb583d91b9afa1f8ed    1     1\n",
       "  8607dec04102cdbf3a6551b79a0b9c2f    0     2\n",
       "  86194e72f2fa49e23976645d1201fe87    0     2\n",
       "  862bf27d730d6e732f80d4e4bae8e26d    2     0\n",
       "  863214b0f745a73f4f56f2fc885346e8    2     0\n",
       "  863d61d97494b2eb7f760ed0c14873c2    2     0\n",
       "  86d8e8463a9b21fefa056d74b1f436c5    2     0\n",
       "  87628b3c798539a31133289444639cdd    0     2\n",
       "  8774a7cda1a8f4b4c469d2f97c0b0782    2     0\n",
       "  87908f4b77ce3197f27e70a135bdeb7b    2     0\n",
       "  87a5fabdeec3a03463d8afd0a15ff64f    2     0\n",
       "  882e8f1aa9bc1af28eff442926077208    0     2\n",
       "  88538c82f01389324d0e2a57085825bf    2     0\n",
       "  885c8c2ce328e05bef645662e9d10a53    2     0\n",
       "  8898c1a94e59df2ce7548da76eb2c991    3     0\n",
       "  8915eb173f91f7155081c7940dadcc08    2     0\n",
       "  89576ca4637fa470598b36a91f6aa21f    2     0\n",
       "  896497177177f641de2f6f40e5d2820a    2     0\n",
       "  89b8b0616c06e4c272978c9198f87729    2     0\n",
       "  89cd82163a364743053cb7cef35f59bf    2     0\n",
       "  8a32311d9524476eb1cd997fcaa07c5c    2     0\n",
       "  8acec0a85846e56389f08ea7d45ce7fa    2     0\n",
       "  8b16acbbfa997211af5dc1d7c76baf77    0     2\n",
       "  8b72354660a428ff6bec61daa922cfa5    3     0\n",
       "  8bc92203db1cda4c16f5784844a0dc5b    4     0\n",
       "  8be5335272ce3ce6f3803830c1f89df7    0     2\n",
       "  8bfef0bbc4cadee19ad75ffd8754b49d    0     2\n",
       "  8c1ae0fb01c67a3b0f5d51bdee66696a    2     0\n",
       "  8c38f51c646e812980c1e76914aad60d    2     0\n",
       "  8c4d3835dcaff9a0027cb320cc93237c    2     0\n",
       "  8c998ae599ec861930ff089fd527d0a1    2     0\n",
       "  8d5f46255aef266af9e05b1a8debc07b    3     0\n",
       "  8d9326124fd84f6ba6165411b3375bf7    0     2\n",
       "  8db5033bbd0ca6bae10e4758d22dbaf7    2     0\n",
       "  8e14a0dcf161183a221e0552d3a9558e    0     2\n",
       "  8e2e46277ef385a1a1f2b94f8bbb28bc    3     0\n",
       "  8e62fb11fb734b60f3a859f136c61e47    2     0\n",
       "  8e7a8339ed67fd72d1906a831c19ddc0    0     2\n",
       "  8e858e217106cf96f2b73af32cb7cda3    2     0\n",
       "  8ebd76fa2fc25d588ea2dd12d8c45d94    0     2\n",
       "  8ef2f45518be0a4979e86d594deb1947    2     0\n",
       "  8eff1cbdacd6ba4b44fc4c88e2caff54    2     0\n",
       "  8f4585cd623cd3d4e1638f8124731b8d    2     0\n",
       "  8f556c55a9494a37ebf0868cfa9206a4    2     0\n",
       "  8f72b25294057acde172040b1be13221    3     0\n",
       "  8f95a67b1bca2b0f6cb848077c7aa519    2     0\n",
       "  8f96ab531836b6689c23f68d53529eb5    2     0\n",
       "  8fb397a96b91879bdb4ada856bb11b10    2     0\n",
       "  8fb817ce1b389eb74687cfe5584bc671    0     2\n",
       "  8fd7bf3dca70e492910d5876cf595de7    2     0\n",
       "  900d67a10cd37e8e54f782400333c3f0    2     0\n",
       "  9017a8829fe9d1d0a0328398819a50e2    2     0\n",
       "  901ecf31dc5160d27b888c62fc696ee5    2     0\n",
       "  903bb8f95d4ddf72160ebe70ac13ff2c    0     2\n",
       "  904426dafc7dd5da86812442d11ef4cd    2     0\n",
       "  90798cd4494f7df9cddadb3e0cf40bc0    2     0\n",
       "  90a6e495138246c06257f7bc4efc3670    3     0\n",
       "  90cca4c9ef789421cb30233f72b9d6e2    2     0\n",
       "  90f93defacaef742fde273d71c388d26    2     0\n",
       "  91f2a30fd0de83f6e0b520b53442e099    2     0\n",
       "  92307e462bfddac52869e52ee917cb72    2     0\n",
       "  925a8786f18a864c24a3ec1707273c2b    3     0\n",
       "  9274e29f6d2312991a41f212fb6a6ca5    2     0\n",
       "  92b3f7de10ccfaed2fec2d239b5ed1b1    0     2\n",
       "  92e29727b903ceec0f61833b5a869148    0     2\n",
       "  930cde9dee0ee9b28eb81d76aa135c66    2     0\n",
       "  937c19c83f4cbde1efa5782ca2645362    2     0\n",
       "  93819f5bafffefd42c05dae5252b2c49    2     0\n",
       "  939b65651d6420a0f79f0380897dd02a    2     0\n",
       "  93c2b2fe1867ed0f20c8a1c789b5e24a    0     2\n",
       "  93c383ffc93ca152f000fd12e76fb10e    0     2\n",
       "  93d5301e62420c4603acf51cdea56580    2     0\n",
       "  93d6900894249b238474c7d72d2431b4    2     0\n",
       "  93e86fa4716d5bb603304b6f22ea9fca    0     2\n",
       "  93e8b7afc3e8b178564c502fd5f46f8e    2     0\n",
       "  93f5258874999443e84449a3b9fd1daa    2     0\n",
       "  9404058770b8107248971058e14e9b40    2     0\n",
       "  940b61be43abd5b05a10e4bd5b364ecb    3     0\n",
       "  9439617ac3640a595c2e90e23da02ae0    1     1\n",
       "  9487075ede28be8c8577fe0f56d4b72f    2     0\n",
       "  94d1cfe58129b0997f503063c898822f    2     0\n",
       "  94dda982a42e82f5f1dfb7f148f449c9    2     0\n",
       "  951b38efe567e64fd6cee04f201b4bb3    2     0\n",
       "  95864380b81c1b69ecb1a6db05229db2    2     0\n",
       "  958d9225d651c8de45151da913970479    2     0\n",
       "  95cc9c50b789f940c38e36feb4df6a6c    1     1\n",
       "  95d0c8261ebdcd77f7611331267fc679    2     0\n",
       "  95dbb67bceec1b72622b6450e8e523f2    2     0\n",
       "  95ddbfc9f7673f28636e92ae08fbc1ae    2     0\n",
       "  964087782287b03b22812ba5754d023e    3     0\n",
       "  96c3f8655b50b3ee473f4efcf089efc4    5     0\n",
       "  96ddcffd8adb7a0d7a3b9361f5a76f6c    2     0\n",
       "  976b79262a8c95db728de33beb5be15c    0     2\n",
       "  97b75110150d57ac7cda062acdf7ec22    2     0\n",
       "  97dcd2cb5e53c50d8f3714819c9c90b9    2     0\n",
       "  9814bbf1ecc379282f72539f5721495a    3     0\n",
       "  982f5ce5a9435384063938f12eabec6f    0     2\n",
       "  9839c8d31747b4736139f6f5ab2b8b30    2     0\n",
       "  984933174b3311f9eaf498fc3161a0b7    2     0\n",
       "  9859638e598196ab470da2120c13ad52    3     0\n",
       "  9889ff973047e5f0fcbd965c3bf1d76b    2     0\n",
       "  98b184ecc74d2511cb5130e2bc9c8ac3    3     0\n",
       "  98becd15a743eae99a7ff70363e4257c    2     0\n",
       "  98d71821cd73e68b8aefdd8f801fc182    2     0\n",
       "  98e27b97cafaeb74ee0fc4fa6e03b5fd    2     0\n",
       "  9901dfa877d9a2c7fdaf47c57540dfa3    0     2\n",
       "  9904c77a8c3ebca22d361ac3b8c69a0d    2     0\n",
       "  991079bfefadfd8cbdab0e03a7b82230    3     0\n",
       "  99147b4ebc83694d8feb60e073af7da4    2     0\n",
       "  994372bff3d1edff87425e49b771c258    2     0\n",
       "  99492e457858d5820334c25f48f5b28a    2     0\n",
       "  99937189e51eb2b40d0ea706cd93f419    2     0\n",
       "  99a99882a07dd9e545cfda30003631af    2     0\n",
       "  99d5a26ef1df105027e4b05f139e35f8    0     2\n",
       "  99ef074db5e76a865de39f436152efe5    2     0\n",
       "  99f276af6ef6ebf9b5e1d2869f2d23ba    0     2\n",
       "  99f7860d75b724715f7a213b248b8514    0     2\n",
       "  99fda39c8a0fd6100e5a0f1944b4c52a    1     1\n",
       "  9a7373bdb64c828b820553fce2587028    0     2\n",
       "  9a7b079093f766c14125ffdd7c732775    2     0\n",
       "  9a9143c2db0c19b6ae6d2eeade844061    2     0\n",
       "  9aa1274f4a13ae6bd96649cc71b207c3    2     0\n",
       "  9ab547f857ee6d3d00fda828c3f9bd46    0     2\n",
       "  9ae378568d1b45572b16c29f3b45cba8    2     0\n",
       "  9aeb49a5abfc61d667bb606c9904a0e5    2     0\n",
       "  9b614b347c8558f0ba4ea559d52eac68    3     0\n",
       "  9bb3c7e9d75aaa8296f866355645684b    0     2\n",
       "  9bc5474fbd29378d81360140a801cb3b    3     0\n",
       "  9bd2e8c5ce86a8b71b722347ce3c7e08    2     0\n",
       "  9bda2062e8e7cbf0092a7973a0c6e059    0     2\n",
       "  9bdc950ce4beec630e98f73bbc0e8d35    2     0\n",
       "  9be610d8206c6cd554bc2ce4786f5efa    0     3\n",
       "  9c18516845a4233c65234397ca238fc3    2     0\n",
       "  9c58edfbd216863cc34c3120c4516439    4     0\n",
       "  9c78ea91f7981446a26b47e0511518c2    2     0\n",
       "  9cc1750689a5f3dffcd91ba34ed47f5a    0     2\n",
       "  9cc689f98df8483219a30c11ff6d752c    2     0\n",
       "  9cc88a077d0e23c179322e5bf4102b69    2     0\n",
       "  9ce1d3914340c71ea5eb906c99a7ad75    2     0\n",
       "  9ce3afc81c9c1de74c1a148db7782921    2     0\n",
       "  9d1be14aa88408e1e639f99b97064ef9    2     0\n",
       "  9d66f8c46fb7522589782eb28974d8eb    2     0\n",
       "  9d8691f36835f2a94ca40ea5cd9ae54f    2     0\n",
       "  9d886120aaa5c99cc227a70841281e61    2     0\n",
       "  9dd8c4005153bbee8e375f6748758915    0     3\n",
       "  9df89b3e0b2d907418fee795eb1cb5cc    0     2\n",
       "  9e0ba1bdc566c6bbd104f96c043814d1    2     0\n",
       "  9e177434287ec185535c7efeb71b64fe    2     0\n",
       "  9e73e885543dc654ff08523788615f74    2     0\n",
       "  9eb1142efddc05a804d10214b32e131d    2     0\n",
       "  9ec9d00da39eb3590d956b8bedb43f46    2     0\n",
       "  9ecf28ebe0361cf4cd36ca989c8d227d    2     0\n",
       "  9ee18c67213894ec0beddbd0968ed270    2     0\n",
       "  9f1c866805561d467accf506e999ee90    2     0\n",
       "  9f37fc2193be7c86ef73ccc6463649c9    2     0\n",
       "  9f5813eb2823bb7d91c11b4d8a1b2e24    3     0\n",
       "  9f72e6893a89e081efb6e00f2093b6d2    2     0\n",
       "  9f8d30eabad84d0b754505d94b8b3000    2     0\n",
       "  9fb050c3f567f3b6c2eb2185143efce5    2     0\n",
       "  9fcf64e09f802662916d93799668a676    2     0\n",
       "  9fd54f9239910f3520b774ec2ea12b3f    0     2\n",
       "  9fd85d38a0667ac829a01821915ebbbd    2     0\n",
       "  9ffa6c3372084df6d0f0801650cf72f3    2     0\n",
       "  a01ee6d5611f3a4fcdcd7c739425d50b    2     0\n",
       "  a04f7871e399405143cdd3f703fc7822    2     0\n",
       "  a0a2e8f9f91dac3425d1ed8fe11e1475    2     0\n",
       "  a0b23f24e8f7e6afdd7a0f0c96e36e8f    0     2\n",
       "  a0b9ca2064df13473562fa209a9e6f0e    2     0\n",
       "  a0ba73e0129da2b66b87f1db2a27976e    0     2\n",
       "  a0f8d79c573eb7e920fd00375f6c6ac5    2     0\n",
       "  a0fbef5fd65d9b7122fee7853609827c    2     0\n",
       "  a11ce906c54f0b4d1f5a38be7e0ff4df    2     0\n",
       "  a13aede180a8af191b93f05f809dbabf    2     0\n",
       "  a13b30887ca7c65aa1747d10e0682763    0     2\n",
       "  a143b834ea9a7bf844bfb74bbcf2cac1    3     0\n",
       "  a14e613a18703c490c6317e87b6d321b    0     2\n",
       "  a194a09a206c582697c171850ee414c2    4     0\n",
       "  a1ad1e423539aed04083d300c6c63002    4     0\n",
       "  a221c328516cba170bfee82c7f435292    0     2\n",
       "  a2397fd463a3e2b50070222f161c5ab8    3     0\n",
       "  a25f61886506cde53b932185b494c741    2     0\n",
       "  a27fe094ccf13de14e6b267f721f51dd    3     0\n",
       "  a2e41376baf6fc2120a22be485f6df7b    1     1\n",
       "  a30cf7431df4ba4a67d791d12b4521a4    2     0\n",
       "  a32bbb5fb986ca3751e99095ad6f7b54    0     2\n",
       "  a330e22042b44e4ebc00cc5839be4e5a    3     0\n",
       "  a3437b700a39a8d0625bb3ca3a46d929    2     0\n",
       "  a35744bef851243069198ce99069b021    2     0\n",
       "  a371924b18921f6502ebb81a41470112    2     0\n",
       "  a38995d751bdf1e81dc3314458793b7d    2     0\n",
       "  a3ecaef7dab742d3d56524b7ded7b7a5    2     0\n",
       "  a43778144411dccea10c604c4e7e3c4e    2     0\n",
       "  a4784c7be54a8c231348f5b4a796cc40    2     0\n",
       "  a492cdb6062f13a47620854e343a43ec    3     0\n",
       "  a497a9923ca6eb98b0d565a9c777aa01    0     2\n",
       "  a4a2e13ab2c18b298ac340e8d75f67a1    2     0\n",
       "  a4fd0e48b895c43c9e116105c17f7af6    2     0\n",
       "  a53e8ae435358a83a156528d403677cc    2     0\n",
       "  a56470a79d9352bc271b9dc65a49507b    2     0\n",
       "  a57b52956c40d8bbfbbe4b9b2e1b781c    2     0\n",
       "  a5970d5e84a5d5c8c46d3055145902b2    2     0\n",
       "  a59cefdf8198a6efb78e7ef74debe32b    3     0\n",
       "  a5b58221de98c9a8e836a0682553862f    0     2\n",
       "  a5bb2612a734f5fa9ec6eadb64a10c58    2     0\n",
       "  a64714285f8e687a90b9a98554ff90a6    2     0\n",
       "  a693cc2e32c2aa9b2de10811137740a4    2     0\n",
       "  a6de6088a502416086b2e81285df3319    2     0\n",
       "  a70a8e5ffc7cc66d65a4aabcaff90688    2     0\n",
       "  a741144fe3f5a73fc416505bcbe6755b    2     0\n",
       "  a7467b2af72df050375e93d41dff69d8    2     0\n",
       "  a748626e7799220df9531dea04d93eea    4     0\n",
       "  a7725e4f1c04f9e882279c3115d1e575    2     0\n",
       "  a7734c06174cc39b84b78b4ea99c74fe    2     0\n",
       "  a7a64103ba07e59605cac7abb6700b12    2     0\n",
       "  a7acbbefaf47e122d093a57c178c94c0    2     0\n",
       "  a7d81728da159af893e2e977ae11f5f4    2     0\n",
       "  a7f273c57a8d3249bbaeeb38cce88dcf    2     0\n",
       "  a8019ac68e583fffd05f097d7194d062    2     0\n",
       "  a812bf037078a814517abb456a0c1880    0     2\n",
       "  a8292e993a8f3c7af6341fd3f8a2c759    2     0\n",
       "  a8775cf9979a8e254ae9e56c4f27e915    2     0\n",
       "  a8942fc4d27d3c9df809e3ef9794384b    2     0\n",
       "  a8a5d2686d0fc96fde34a46980703ac9    2     0\n",
       "  a8af4855a708591bd6606d1051c549e9    2     0\n",
       "  a8d4f6b0613afc76b25151406dfba31e    0     2\n",
       "  a90682ad85cf0b86af411e5a4b69b03e    2     0\n",
       "  a911e3e1b215b7ecf485a19553ddbac8    2     0\n",
       "  a93da29285ee4755d9436500eb46f37f    2     0\n",
       "  a94ba735e0d4947ec31cb846bfb58c3e    2     0\n",
       "  a9699d9e067bec9f65991930450c20a3    2     0\n",
       "  a9842efe5fbbaa5536e374d6706dd0fd    1     1\n",
       "  a9f6967f0704411f43b3e740dee3dc6b    0     2\n",
       "  aa25e98272826e87897f1913cb91f786    2     0\n",
       "  aa3a5814417600367d38dc3cb84a75af    2     0\n",
       "  aa7a4e4df67f028e34fc13d510c5cff1    3     0\n",
       "  aab874fcdb4d7ffcfff6aef4889da688    2     0\n",
       "  aad555d0530fc86bc6df716186641f2a    0     2\n",
       "  aaf6ca69f40f0f7cba52c062e8764c6b    0     2\n",
       "  ab50f74896559821e59e70e739e8fc39    0     2\n",
       "  aba451177a1a678db2a59dcb1ebd1bc3    2     0\n",
       "  abaf6bfb1ad4ce143e2283135aad8b9c    3     0\n",
       "  abb0248b0177bd651ad6febaed0adf5a    2     0\n",
       "  abcca4a0d58fa9f733bea8887c7f878f    1     1\n",
       "  abf23a52cda00e20943895ab7a96728a    2     0\n",
       "  abf3fbc3bfaad86f419d4bd69d9b93e3    0     3\n",
       "  ac0aaa4c91fafc96ccefdf42407cacc5    2     0\n",
       "  ac421ac3a5ae7739cba910efb1754e86    2     0\n",
       "  acbcc99a4239f43da3d46d2606daea4c    0     2\n",
       "  acbee9c73092aa5ad37424a4ddedb5d4    2     0\n",
       "  acd62eb076628e9c488f138ede30630f    0     2\n",
       "  ace5c8e5fb04aa76b4d182162a8a119e    3     0\n",
       "  acefca85824258ffdb4dbe145415c2e9    2     0\n",
       "  ad1b59407f0456fa28f6837fe28fd4a8    2     0\n",
       "  ad3717f66df96c74297eafd2990b12da    2     0\n",
       "  ad6373bb80a6dce82e9204ff1ebc5980    2     0\n",
       "  ad8fca24f6dfee58dc8de42890babb0e    2     0\n",
       "  ad97eb87039bb7e8cbd67b3e4b3d18e4    2     0\n",
       "  ad989138d218fe89afed3d6f203810fb    2     0\n",
       "  ada4d3e7be8c2a06cf97d53928636dc2    3     0\n",
       "  ade0ee5b933ea7ddfd5a0ecd003cbc01    2     0\n",
       "  adf6b8a5ed0eec30e14f38ce5d2cf561    2     0\n",
       "  af1ed83b126c65750592d9ad21468485    3     0\n",
       "  af4165633d7a28c8d0c30bccd9c6d82c    3     0\n",
       "  afb34cf66234a46ea7f3b037524e9f6a    3     0\n",
       "  afd7ffd2ceff06c33cf1a00a83c3aedd    2     0\n",
       "  b00e6c5cfbb6a7cd2c0e46be1d1c7985    2     0\n",
       "  b01906c2d4747ed2a12d06d70042003b    0     2\n",
       "  b040dc4a5235f0f4b498d5bdaf520d8c    2     0\n",
       "  b05840960c6f6220568c5e842e5ebb63    2     0\n",
       "  b064533c32255f3a4a2cd1b83ce0cd29    0     2\n",
       "  b0c3e2b6840d8029c336d3e8a806ffaa    2     0\n",
       "  b0cfc6f65610f09e03fa590b4a736af8    2     0\n",
       "  b15f09fee6f58a8c508b9989d05673d8    2     0\n",
       "  b1989421f5de08a09f2aed3cb7343d5d    2     0\n",
       "  b1df134f2f9c78ff5f1a59f1997a126a    2     0\n",
       "  b1ec29eba94d9cd5ab8a335a4b7b9040    0     2\n",
       "  b20ac34aef50ecd362d1eb58ceffd011    0     2\n",
       "  b2b75aba0a37801404abe5255280bc21    2     0\n",
       "  b2cf9a64266b86b1c5e4dd3ac55c3f65    0     3\n",
       "  b2de117b6a6d461f4aeef65111a2badf    2     0\n",
       "  b2ff731ed47c4836b87d9b42a898b917    3     0\n",
       "  b34556761280770d519ed827893d275e    0     3\n",
       "  b3724cd23325b8adf524d0006adc0e68    2     0\n",
       "  b39347c952c7ff7dbaba6c810746b83f    1     1\n",
       "  b3d8221805996b91b0f01eb2ce15ba9e    2     0\n",
       "  b3df2222296bf0cb1d9a5df85a1e4903    2     0\n",
       "  b44b884c778869a598a00bd29297cab0    2     0\n",
       "  b4b2ed986177c1dc19697c4616b0e813    2     0\n",
       "  b4d23e8f3a7d77671040e6c8e3188a4e    2     0\n",
       "  b4df1e15c698dcd7d9dff2605876c9c8    2     0\n",
       "  b4fd08463fba3e2f4c43a56ec4275f90    2     0\n",
       "  b52af339b4f425d4c744abcd634bc2a8    0     2\n",
       "  b53dd872ae70e7d10f2fba1c147e652c    2     0\n",
       "  b551e868c826982097865ed6a04755fe    0     2\n",
       "  b5577fff1d3850599873d86862f771ea    3     0\n",
       "  b56b90c50711d0b820d115065bf36151    2     0\n",
       "  b5729a2ce907b3d4d04822378d4a7730    2     0\n",
       "  b57a0367e5aa3adf7761c4285e12637a    6     0\n",
       "  b581f726904026852935ab20f8bdf2b8    2     0\n",
       "  b5aca8372cd59cd0baa0b893e135572c    2     0\n",
       "  b5cc25f3c65eb50dd8a79340bcd706cf    2     0\n",
       "  b5ea214a8b28e325102066223807db7e    0     2\n",
       "  b5f89da21ea23668a2375004e90602a7    0     2\n",
       "  b605511a407f2c3df4d4703bd5329488    2     0\n",
       "  b63f66be669f18332e680241d86920b2    0     2\n",
       "  b6a4348adc599c90d88dcd3fcc5f2444    2     0\n",
       "  b6a501af8ef7280595e97711d657e2bf    2     0\n",
       "  b6cc40a58f1d8427916a8bcb19e4f38f    2     0\n",
       "  b6e410eaad5d4662fe06464a7f7c9c76    3     0\n",
       "  b74677cc92816871a6ae3f0c26195102    2     0\n",
       "  b7b97cae8f3a03f152a1091844418195    2     0\n",
       "  b817ae7d80068f89fa1403ea1778ca1d    2     0\n",
       "  b82cf5c6cc96133f808951455ae543d8    2     0\n",
       "  b84a80fe598afe45159dc584ccf913ae    2     0\n",
       "  b85381dd1c9e9f8c3e19fcf6f190778e    2     0\n",
       "  b87bab4a2ff7e513977641322910c0c7    2     0\n",
       "  b87f3e8db11fb235c73b4d85f50e78ae    2     0\n",
       "  b89e0cc5f0bf2867a68d8cf8ecf0ae10    2     0\n",
       "  b9292304c9d79e5933fdac1292936e6e    0     2\n",
       "  b92dd8cd31c73caa944367f8cc505c52    0     2\n",
       "  b96c1394d4f00f9db0c0b30aa697ceb9    0     2\n",
       "  b976ae1a1411569369fe7eb9eb581703    3     0\n",
       "  b988d59efe6ceaa351cba82b80229731    0     3\n",
       "  b99d1e62b47f983b91f94b978d70a263    2     0\n",
       "  b9ca53bfdc52d250b1b37636b9a616e1    2     0\n",
       "  b9f682caa2ded16c78682941a2e77bdb    2     0\n",
       "  ba1ae5c60602f02130a488b15f0c77b5    0     2\n",
       "  ba4f4b7338fc6725303a6bb0b50cfce7    2     0\n",
       "  ba58ab64536cee0ffd6bf8db7022650e    2     0\n",
       "  ba83f46ac9f541863a388318e6ac3557    1     1\n",
       "  baacb65662706ba77a0604b2a691d6e8    0     2\n",
       "  bab44e69da079dd822cf9a0c67e682f7    2     0\n",
       "  baebc5cc09de1f783e3f7620b74d42c0    2     0\n",
       "  bb082baa5934cee7848779ebb0b95493    2     0\n",
       "  bb38bdd9c301b36cdbfb1455d19de921    0     2\n",
       "  bb5d6661415ae63e248cdb81386b0a01    2     0\n",
       "  bb98158b5eda8bf92130cd7e1c470a6c    2     0\n",
       "  bbb7841d5468e80349e6dc14195f9407    4     0\n",
       "  bc288390317c17a4a6d77efc68f58bd8    2     0\n",
       "  bc76fbb4754a11fa75530b769fee5a9e    2     0\n",
       "  bc8dab76e48aef8df9c123407fbc2ded    2     0\n",
       "  bcc3ee578b05b144458f893461d1464c    2     0\n",
       "  bd021da758382147dda3f02f9ddb6255    2     0\n",
       "  bd3bc59c029962319ea1637c46689786    2     0\n",
       "  bd557ebd177992fb26160d23e524016a    2     0\n",
       "  bd55dc37d7f13549ff531f7df9ee24fe    2     0\n",
       "  bd8f535c1baec411f25634f0aacfe201    2     0\n",
       "  bdaee1411bcd63d57c559e3ae258b165    3     0\n",
       "  bdbed92ef43cf8066af782a09b83e5bc    2     0\n",
       "  be01ca9d7e19c7ac3789520e6854b5b5    4     0\n",
       "  be11fe454a04fbb698404a3834e2ecd9    2     0\n",
       "  be5c2fd2f27e7bd29ee636bcb69d2997    2     0\n",
       "  be83d4a8d46717fb3b43990bd8efaa44    0     2\n",
       "  be85a451d760e7e26fcb94cdb889b368    2     0\n",
       "  be8936b20aaf6a77c4057e40fdd8747b    2     0\n",
       "  beadcec015b5a73be83e5af672b98d75    0     2\n",
       "  bec6f0767f1e5d3615d21a8923d4afe3    2     0\n",
       "  bed0d434efa822ae4acce2f4c043fa2f    2     0\n",
       "  beedba7ae277600df08341e66841f349    2     0\n",
       "  beee7176efe10f019a4ab68a823ed10c    0     3\n",
       "  bf1f0214fd12562fb68e05b3a63baab0    0     2\n",
       "  bf2f65f83dd61aeb902ed9c5987975ae    2     0\n",
       "  bf30e06d5db35e9e1d01f2603df31005    2     0\n",
       "  bf313f337d1348f66f0a5637c2648257    2     0\n",
       "  bf3f524560955dad40c488397af5a7a2    4     0\n",
       "  bf5b3e6a82f6b44b05abc321a91484e5    2     0\n",
       "  bf7084bdfb6f46a6ed66b7ce88777949    2     0\n",
       "  bf91060f7e4f1c1dd19a4743ed377751    0     2\n",
       "  bfb8634e3722efdc3b88aa82bc97b475    2     0\n",
       "  c0146cfe88a3c9f21a887e9fc5e5f553    2     0\n",
       "  c0167ff8daddef936bc0c04652261b17    2     0\n",
       "  c0535c33a1291cc6de6139fee64d1b59    2     0\n",
       "  c05df74e4af2c477335371dd1e912d85    2     0\n",
       "  c0bca98fb7f3d161fb11e95cedd4d5a0    3     0\n",
       "  c0e976d1c415748229cc396e50e26984    0     2\n",
       "  c0f6e869f21f3796350845e8a5ae96c0    2     0\n",
       "  c0ff6d32a3cbfa1ef6dd4cddd5982ab6    0     2\n",
       "  c12d2474d69adcf1a5b3448b15a1d1d0    3     0\n",
       "  c13494f134a356dcba350c99710b3fd8    4     0\n",
       "  c208888b16bc9d592841473e160081d3    2     0\n",
       "  c21b37b1033702ee599cf8e03fe7d026    2     0\n",
       "  c226d8c4311c3d53e845fb6071e60619    2     0\n",
       "  c22f7b2229519d94c946c3f212c5a7f2    1     1\n",
       "  c236e8381830830e169c462de9def285    0     2\n",
       "  c24d89e3c3c534e2d75695c5a160ae1f    2     0\n",
       "  c27e10ecc00290eacc117f23b5ed5150    2     0\n",
       "  c2f546190c924ff0328964e8da6dd812    2     0\n",
       "  c388d53a3b8bfbf29b7721bc4b718708    2     0\n",
       "  c39d02d7b6a52ae6dbae8727e558c287    0     2\n",
       "  c3a160a3ac5db447d396b423c40e7a43    0     2\n",
       "  c3ace745a2b3e5ec6221314fd7bcbefc    1     1\n",
       "  c3af2d6e8b1ebd7b3fab04f2716dcb8a    2     0\n",
       "  c3c1bd08b282213b11af360c87bad5f8    2     0\n",
       "  c3d3c8a47249d5e048e8c29c786bf6fb    0     2\n",
       "  c3e629746ea4ba6a0dd27d2f0b5fd228    3     0\n",
       "  c41e9e7576bde340b1f7ad8901324c0f    0     2\n",
       "  c430539ac0a83fff636c6572b2f26e86    2     0\n",
       "  c4543f9c0b74f975a8d4703e98361014    2     0\n",
       "  c4ffeada06486310e8f88f34caa1c5c3    0     2\n",
       "  c502a9a98fe2badb20bace363ce7b06e    2     0\n",
       "  c5315549b700c2c40512652a2f729561    2     0\n",
       "  c54c31fa780bfdad00c8fe3e1fef7d07    2     0\n",
       "  c56eba466b64ee56bee91b366df8f84c    2     0\n",
       "  c57a1de42e97852c84ac7d3a5625fcdb    2     0\n",
       "  c5b0149921d740c1e2506fec39d008ad    0     2\n",
       "  c5b7d2f035dfc22f49509b61fadd65b7    2     0\n",
       "  c5bcd5abf7ada1424d1f6eeafac00a88    0     2\n",
       "  c5e3f0c171040001905486b1975c753d    2     0\n",
       "  c5f70ec50423c4030d9f6d22d32d6038    2     0\n",
       "  c60b0733a23daa76d9bd0c7e3fa4ee79    2     0\n",
       "  c628bf9536da258790b9a49049d73010    2     0\n",
       "  c6764e911bdaede4a24dbf248c424d7f    2     0\n",
       "  c67a9ad0afcf46f9b517f3b94965fe37    3     0\n",
       "  c6aca95467137bb4c56f3f3915bfabba    2     0\n",
       "  c6aee12f8de0bd89a49791158969beb6    2     0\n",
       "  c715f0ec267d64c454ec4112ccf3661f    0     2\n",
       "  c73eac80f9732ecb8516a8c7d034dbd5    0     2\n",
       "  c760a948b4ed8374bb2891a048d329ac    0     2\n",
       "  c790b7a2b7e237da0920042f81c18b79    2     0\n",
       "  c79b64dd9c313f3a1c3e2aeffa3d13a4    1     1\n",
       "  c79f376769297992479643cd096fbf93    2     0\n",
       "  c7c112f6a83179e6de00355b838b978a    2     0\n",
       "  c7d63b3c28c3456a85b0df3a7b910c58    0     3\n",
       "  c7dc98eaecd131f5a07d7df5fa562246    2     0\n",
       "  c7f5a9e85239d37b2d92a965698a7976    0     2\n",
       "  c7f671f816423fbfa34f6bcdabc21da7    2     0\n",
       "  c82242fe50b1221ea8e6abb56022ab4c    0     2\n",
       "  c852629b704b2557a4650784f7a7f726    2     0\n",
       "  c88de0f0528c94feaf7e66dd9bc31072    2     0\n",
       "  c8b84fbfc503536efa04dec0aed50ebb    2     0\n",
       "  c8faf5d22260659d52f040203e847cbf    0     3\n",
       "  c91f873e193d4651bc4ead020f748f0b    0     3\n",
       "  c92a5a8716600a81808722cce6d5abb4    2     0\n",
       "  c953a5f9b7796eac8c626883d1d1998e    0     2\n",
       "  c9855a5390d13826b59a8ddbe65d1a2a    3     0\n",
       "  ca0f467b64bfacc6612d35f3b34f8ba6    2     0\n",
       "  ca2811f9c10cc7c6c442338b60b44820    2     0\n",
       "  ca4b5e2cb9c97f6e5445433aa33e732b    2     0\n",
       "  ca7fee8cc4f9b64b3d27782b3b84597d    2     0\n",
       "  ca832099656c328ab33b60cc7ee6c6b2    0     2\n",
       "  cabb4dc25b300035640a7e58e39f8a57    2     0\n",
       "  cacc1df80a68c6f3ef2e10a976e0bf0c    2     0\n",
       "  cad91a00a964c514492f43074b2a0d81    2     0\n",
       "  caeab2ec5926afdcde9ea4d8a7a671a2    0     2\n",
       "  caf5445ec2eaeb656f79c20145fae393    2     0\n",
       "  cb5b6ece0959aa9ae4d0747aded9a412    0     2\n",
       "  cb6a18c12ed4ac47be13e7fc70ff0b0f    0     2\n",
       "  cb8597dfe0e5f0513263202ca0266a27    2     0\n",
       "  cba8d84eb53514f7e3c757c1b2f99fbd    0     2\n",
       "  cbaf53ba2db6d0536e14383bad6e6669    0     2\n",
       "  cbb7d67a9da02ef419410d59e5e71336    2     0\n",
       "  cbb7ecc61a91afd7a379c9096aed29fa    1     1\n",
       "  cc00e1fe6d0af653feae5a60eb09ddc1    2     0\n",
       "  cc36a32a733ac72bd34819e71ee79438    0     2\n",
       "  cc46f01d7628769195439e300402415e    4     0\n",
       "  cc7ccf11eee76a3f59bf3ce4eec34d8e    2     0\n",
       "  cc8d867a0a9f9d3f9fc2b30e34458cd3    0     2\n",
       "  ccade2b1548b940b3a6397570b47abaf    2     0\n",
       "  ccdffff14d0234cd23bf0831bb0bdd31    2     0\n",
       "  cd0e5317d7aebbec4d22d245ccc06f1a    2     0\n",
       "  cd255cdfa00525ac840bbf574e62bc22    2     0\n",
       "  cd5169370597e1f97252ec1a2baa1b2a    0     2\n",
       "  cdc3aab2e7c741d456d327d0a2f9d02a    2     0\n",
       "  cdd6bd03356fb6fca573e39bdc2ae6b2    2     0\n",
       "  cdf2eed8cd45e61d1dad4b3cef629e59    2     0\n",
       "  ce4e021892b9bd565b5a48db6dee1c98    0     2\n",
       "  ce58894277270d0a4a3961017388df69    2     0\n",
       "  ce5d8ec733336ae904800bd0c897f2a7    2     0\n",
       "  ceb584a96dcf6650683d9c2a1dd43d96    2     0\n",
       "  cebf8a52168a0dd7e01afee53cee36a5    0     2\n",
       "  cec5e7a02ecbf8c57a7328843e1ec506    2     0\n",
       "  ceca543e2e4a20dcdea73801d4520551    2     0\n",
       "  ceda917f7ea3b330354d9f8bdef1d832    0     2\n",
       "  ceddc564e0f1434c73a9979481ee0e2f    2     0\n",
       "  cee76eff4a0662bf57b71712b3d1291c    2     0\n",
       "  ceea6532f1cbdb2b4e29413d52061660    2     0\n",
       "  cf014d6a81a25473c5809cab58a10208    3     0\n",
       "  cf01acda100593a98780d65cf90c07bb    2     0\n",
       "  cf707c823c945817116fb50582377bde    2     0\n",
       "  d01f4e5aaa3d8ebb99bc4c0413283d41    0     3\n",
       "  d032611a1b5663c68f17ac501ddba78f    2     0\n",
       "  d0a356200dfa9e523ebbdbcf2dabe8ae    0     2\n",
       "  d0a8ed7d6417b98b4ae190fb54523b79    2     0\n",
       "  d0a901a61d967beaa8f776afd6c065c1    2     0\n",
       "  d0e5c996905963b13bdb58c6c4a3391e    2     0\n",
       "  d17e0c0044604c253ae6bdb07fcf9bd1    2     0\n",
       "  d1946a9c7743696cbc5c35b2d42f6c3b    0     3\n",
       "  d1e38c32cb422b185372f699dc2ec0ff    3     0\n",
       "  d2bf6c8b1a853686fefe51671f42619d    2     0\n",
       "  d2f3c954ff4ee6424146e1866ad0e010    2     0\n",
       "  d3141c971211a7744c1220cab66cffe1    0     2\n",
       "  d31d169576d49b5dae5c079b76ab47b6    2     0\n",
       "  d35cb2bf754af08ba7518e7f21d4ea5c    2     0\n",
       "  d37bc4d57f68894e8b847e196751b478    0     2\n",
       "  d38dc125cf3753b23f9d078b993182be    2     0\n",
       "  d3fa0b723507ddb391dd1aeba602923b    0     2\n",
       "  d4040ce07f1c049e9fd31a32976e7f14    0     2\n",
       "  d41031d940f37f4356f3de28750e7d0a    0     2\n",
       "  d42da13d14975e049f46676d073d44a6    2     0\n",
       "  d42f40d07f16415ff021b81bb5e98f27    0     2\n",
       "  d44bfd7c301bc30c52adf7f62e566ed4    0     3\n",
       "  d45b3e6c5744bfccae28301edc87457e    2     0\n",
       "  d45d8d32e2cd28039e3424ce145f2f8a    3     0\n",
       "  d4816a31f52c4b0ba74c6cb51eddb3aa    2     0\n",
       "  d4a8e2a208c413e451d9544b74d946ad    2     0\n",
       "  d4c46260676bef6fd47ab1b7449e5f3e    3     0\n",
       "  d4fcd1d64f0cb38b884d184590f3a6a0    2     0\n",
       "  d503a0da54e672997c0074cd91bcee95    2     0\n",
       "  d516f8fa8875b29468e9ce8f765a6d5d    2     0\n",
       "  d5314812ca3f95cc7257df2ea41e2279    0     2\n",
       "  d55c48d160156874fc22f426e7d642d0    2     0\n",
       "  d563074f06e2fbb19a78a8da3be4039b    2     0\n",
       "  d5ae124ea658e7fb5030baa561bba26f    2     0\n",
       "  d5c07413bac3c50639d0dd20f4d56349    2     0\n",
       "  d5e35bdaed7985e061b2b1e0f0d315f7    2     0\n",
       "  d5fc6d884cfdc50109c23e469614f07d    2     0\n",
       "  d6488e9414ad56831c0c09c75d1b4c53    2     0\n",
       "  d67158358ccf7ae24638d26d47d32ad7    2     0\n",
       "  d6729c57c093ce3c89a2d64fba335166    2     0\n",
       "  d672b348c488c50fe2de35c5762a9ca6    0     2\n",
       "  d6841e7d480579c195c79697d20bf46f    3     0\n",
       "  d68d8721ce3e99fa41a33bf68302a2d3    0     2\n",
       "  d68e098b7d8c74e9b85b5f6bc6722c4a    2     0\n",
       "  d6a0a9d51c0cc42cb5ebc648eb7fb09c    2     0\n",
       "  d6a95cfb9ea793f91cec70d4aba2dad7    2     0\n",
       "  d6aeb94ecf4267c82d2033929eb61b11    2     0\n",
       "  d6e35b653bde1e7aa4a8ecf184500c48    3     0\n",
       "  d72a6dabaa1707e4afb0d043e796f4f4    0     2\n",
       "  d741fb761137858f12da383fb48d57b8    2     0\n",
       "  d7a319cdb6ade02a176ebb7454d20301    2     0\n",
       "  d7a8486e6500e0b67de534430741fc44    3     0\n",
       "  d7bde429044ac213f76d69fa27c3e752    2     0\n",
       "  d7be0077f26f22278933c089ad75cb9c    2     0\n",
       "  d7c84b72c7badaceaca65d5d459ad63a    2     0\n",
       "  d8092bd270f86b22de5c011a1a5b25b5    2     0\n",
       "  d8445f7e3529c3963a416bc6a0e7570e    0     3\n",
       "  d870384b1d0d08cdc37f9035e0150122    2     0\n",
       "  d87dd1dc678639fa4710a58a1be75190    2     0\n",
       "  d886329e34ada4ba73d67f6880046b2e    3     0\n",
       "  d88d2aec26de27123e3ae96b7c3e2ebc    3     0\n",
       "  d8949a0b1ac5bb015ccd6cd3ef48df53    0     3\n",
       "  d8ba28d3bdddb21778fc29d47d9fac0c    2     0\n",
       "  d9739b310a176e1700288bb89e345147    0     2\n",
       "  d980069c691bb4825cd4096d816781a7    0     2\n",
       "  d9b0a8d1eee1802aafac175d2e1f6b4f    2     0\n",
       "  d9d7797252935ee983d4ed91df928cec    2     0\n",
       "  da06fa013850642c517f9ee51835d723    0     2\n",
       "  da801e583daacd3dd3162c01db92e81a    2     0\n",
       "  da81e7717128d4e59f3fbc9bcf53e018    2     0\n",
       "  daede3b2eb7ea7f05f6b5113f91a99d3    2     0\n",
       "  db2c85eca7f7d14c12a3d4395f660599    0     2\n",
       "  db4ac8b46282a2624b6d65d2b9bfe28a    2     0\n",
       "  db5b7da0eb87cf4acb42a2144c2ca92a    2     0\n",
       "  db6cfa90c80929b03e303e976ad6e967    0     2\n",
       "  dbbfef58bc87fdecbb538ad47dd4e69a    0     2\n",
       "  dbdcf7263ca87f94a709175809dbb9aa    2     0\n",
       "  dc05bbac94414eb291b1ec1e3171de2a    2     0\n",
       "  dc161e83eaa49233efa56202ea871e5b    2     0\n",
       "  dc2566d6562e76d41357bd5943683b41    2     0\n",
       "  dc4dd624d958045c187e80614508a22b    2     0\n",
       "  dc5b0f5c01d268b76609af3f8c6b1965    2     0\n",
       "  dc69072586738f206edd792db5da189d    2     0\n",
       "  dcb0cfa07874072af76b69334acddc32    2     0\n",
       "  dd011bb5470736598d407234dc7520e7    2     0\n",
       "  dd201884836371f8dfce8731eaf9d9c6    2     0\n",
       "  dd6147f3e43e0ea783601758890bb218    2     0\n",
       "  dd75faa0537018b965fe1355c684317c    0     2\n",
       "  dd9d98ced2a8328494f4904da5eebac5    2     0\n",
       "  ddbcbd07a380ba1d26989769d97f7a72    1     1\n",
       "  de057d51072af4d43fe5efe21eb7a2f0    2     0\n",
       "  de32dedc445fc08ba51d90a3304a77c6    2     0\n",
       "  de38e6fa28a6444d23fdcf378b716bb8    2     0\n",
       "  de3b07cc65d9eefb79d38e0ab278df45    2     0\n",
       "  de3e667ff2b1b8ebfb3ec58dc7e94d6c    2     0\n",
       "  de878fa80dbc24bab76f4d882b8f0909    2     0\n",
       "  deb71e782acc6ac33622fbc76e415394    2     0\n",
       "  deb815c228ec33707008b0a627c6c900    2     0\n",
       "  dec4bf16e3689aa5d84458c0060c6e9f    2     0\n",
       "  ded0ecabcca9b590541c72930eecd273    3     0\n",
       "  dee14bd425d2d8e6c18e44c385b9b809    0     2\n",
       "  df181b9ce2aa9854e838db78ca2391f3    2     0\n",
       "  df2cbff89ddd073469385d8da8afbe93    0     2\n",
       "  df2e6957794f785c91224227eeec7fd0    2     0\n",
       "  df49d7b0605e046b63ef74c983960c2a    2     0\n",
       "  df8cbaa8ada51f67d581382361121043    0     2\n",
       "  dfae4d79c44fe40a0f9f4494e0c355f7    2     0\n",
       "  dfd70bd5be2370145bd269a7e48948df    2     0\n",
       "  dfe79debe5735224ccf48a6f61a43717    3     0\n",
       "  e03317591613385885e8bc4ed14e0893    2     0\n",
       "  e0481cd01fb4e34c979b24221331bd18    2     0\n",
       "  e075adbea38d12adc79a28d46713d20c    2     0\n",
       "  e0aad8e57d626dc4232a124061f38a67    0     2\n",
       "  e0ff0c7fda9bcf231583bff4d4becc69    2     0\n",
       "  e109840fe8eb9933fd43834359cbc03b    0     2\n",
       "  e11a7e7ec82b10a0b387a972dd06f11b    2     0\n",
       "  e1797718619430ea288d24e95123c15f    2     0\n",
       "  e1a4b3c87b2f8fbb51018fbb667e0667    3     0\n",
       "  e1a675d25760f5579de5f0018c805713    0     2\n",
       "  e1ac129030f547f550f457676889b316    2     0\n",
       "  e1b1c258b63d7e73fa7cd9985c1a3c5c    2     0\n",
       "  e1b3cbb9900e66f33e8811e21f19c838    4     0\n",
       "  e27aa564cb3c16ea30175ca161b5f7ad    2     0\n",
       "  e2999742a805dfcd114ed6169e2400fd    1     1\n",
       "  e2cbc0d9d6a4979436af58b441929438    2     0\n",
       "  e2e2b0fc9258d12d7d34d89f6ed75056    2     0\n",
       "  e38652d6f4ebea52b674f7cb44110d41    1     1\n",
       "  e39fa98576ba68a465dd785a3fa8fc86    2     0\n",
       "  e3dbe04921bac2db8f3701887bc719b4    2     0\n",
       "  e3dd9bb3f1f1c2df7677af97ccbb134a    3     0\n",
       "  e40accb6322da6ec590ad3c658194a2b    3     0\n",
       "  e4121cefe8ff732e8f576af11216d81a    4     0\n",
       "  e42faefc9e6ed84bd1a1bcde833b4bfe    2     0\n",
       "  e4848ad6b6740c3acb329d8ba8f33831    2     0\n",
       "  e4a60b1fe8aad96bcae32a446e17d437    2     0\n",
       "  e4a90f58faa9541031fb6011dd2c6242    0     2\n",
       "  e4e673749b1d9ba644b14a225d396905    2     0\n",
       "  e4ea25c5cb8b6e96c6cace2d330dd6ff    2     0\n",
       "  e523b0b3c5d9b9860585e9d184ce494c    2     0\n",
       "  e53139a1c41ddd4de9a08c9d5d57ecdc    2     0\n",
       "  e553b041ce03545d17fba8b97e6d19b9    2     0\n",
       "  e563fcdf078123c7674f361cc7c05932    2     0\n",
       "  e566a6bd519b208a9112e3efeb05f775    2     0\n",
       "  e5cec67eeabb009bbb6a719b5e334ad8    0     3\n",
       "  e5ddf413b5e7316aee3ec6e6b1347b6a    0     2\n",
       "  e5f37119097f9ae507b3d884b84e172c    2     0\n",
       "  e5fb5d5cd691cb347a9b6bd6aaa3326b    2     0\n",
       "  e6220d5e59917804dd04f6185ee70e3e    2     0\n",
       "  e63c870c2c782f7e499632b460ce7521    0     2\n",
       "  e67bf7fe2f12bdc9acd7ddc6761b1098    0     2\n",
       "  e6de7914050fd48a80368c531a6cb917    2     0\n",
       "  e71af142d873842434e3dfc27ca5b974    0     2\n",
       "  e781a2af1dd8caa5861044f703533131    0     2\n",
       "  e79aec0010b7f31eb7ea531c1bff9344    0     2\n",
       "  e7c9e13df609720c01579cbcc184d464    2     0\n",
       "  e7e3b66d7dc1cbb9efafad396359eb42    0     2\n",
       "  e7fd0e034c7b9370f7f89fc1bcb5edfe    3     0\n",
       "  e819d65f6933a0e7a820a36a82bc1ed4    0     2\n",
       "  e81cca6499e492b549595ba75377cbce    0     2\n",
       "  e84b6204d449bb68564acc05c2b81797    2     0\n",
       "  e84f4e1c1a7c9f36b7b7b694da7da556    0     2\n",
       "  e898d4eca5c659acd1972841c5729a3d    3     0\n",
       "  e8ac3003106a513f57d2332dd9c70220    2     0\n",
       "  e8c35ce9e4d43213da779183c0a536a2    2     0\n",
       "  e8c3e66c26679abc7de6ac4418885bc5    2     0\n",
       "  e8eaa6efa8779e949477188795c2c1e1    2     0\n",
       "  e91339b5f36cd35feaa3d0974821be31    2     0\n",
       "  e91629fca7416b2c6bde5d56046bc7d5    2     0\n",
       "  e96cb8eed632aea0f6ec2092a8ee74d2    2     0\n",
       "  e9c45794803dcaecd7b443cb48c6c72d    2     0\n",
       "  e9eb1a6cf714cfb0b755e44b56578350    0     2\n",
       "  e9f81314d61450348c60617e283061e1    2     0\n",
       "  e9f9400e2c09bf20290d1ca514414be5    2     0\n",
       "  ea1c5f76d4fd49be8343d1105011d2bb    2     0\n",
       "  ea5fca7e462b24a7ffe3cb11a4533c24    2     0\n",
       "  eaaf38991156bda3a9e2beebfd1e3733    0     2\n",
       "  ead1f4a4be2b5075d8582d865fce08b0    2     0\n",
       "  eae2d8eea6c9992ada36aa238ba399fd    2     0\n",
       "  eae692d6ca602fc3255980c12ddb5609    2     0\n",
       "  eaeb4b37ea0f0853c388216121541d02    2     0\n",
       "  eb00a476e3270a4a6bd76109e2c66f27    2     0\n",
       "  eb06dbdbd508b7a5af8eb21de7a31a91    0     2\n",
       "  eb3c3646f56c60e27af9998879b45856    0     2\n",
       "  eb9cfd379b8a8d05c4dbc62da0a816e6    0     2\n",
       "  ebe23eb006f7e6ca75e7de7266c0fc4c    0     2\n",
       "  ec3ac3065fd20eaa086b7d5f762c9803    2     0\n",
       "  ec53ab0f8b443d9e267031e162d0c0ff    2     0\n",
       "  ec5903fd3084074b6d731f3325441a76    2     0\n",
       "  ec7ca8ac238fd62a6b303e3ddeff4656    2     0\n",
       "  ec9ec7c572f67e368a736be554886a50    2     0\n",
       "  ecb29d4937a56967373836b7fcec3dd0    2     0\n",
       "  ecb810161f912f862e47c44334f79f0a    2     0\n",
       "  eccc4558ca249f718d7460672a94aecc    2     0\n",
       "  ecf17fdb6a3e42992507684f994a3d96    2     0\n",
       "  ecfa0b9b7d42599be8323b6c2e5eab04    2     0\n",
       "  ed0a9e5788e716fb1a084982f14af9b8    1     1\n",
       "  ed243d769f8bbd58f60e39127f844357    2     0\n",
       "  ed34a61612166d9a774559a7afd2906b    0     2\n",
       "  ed47b2d7ef25e6c4e3a85049f3756cd0    2     0\n",
       "  ed5840b720127e73ef0d906796a37d90    0     2\n",
       "  ed91c3bfa0f8996f61a6ae40b0087804    0     2\n",
       "  ee2cbe40809dafb21fa649fdee660052    4     0\n",
       "  ee3a23d0a055d287a1785602a42df28f    2     0\n",
       "  ee4c13a53f84e8655e8e5497da6a1d7a    2     0\n",
       "  eef1540dffefb36b46c0309980e8b188    0     3\n",
       "  ef656e19f6a783f7366f4f248d948be4    2     0\n",
       "  ef7a16d70942636f6badb3a1947a4a04    0     2\n",
       "  ef7b8da75f4e24b47ed2bbf5eaace014    2     0\n",
       "  ef7d8a211e5a96ca7ec8f748a169ff14    2     0\n",
       "  ef7f7030209bf71b906ce4174e891803    2     0\n",
       "  ef9a57164c308625bbd1f2e3403cf83c    0     2\n",
       "  efbfa7166fda54790ef0b4385e372c4a    0     2\n",
       "  efdf395472458d34a627fc1fbf8b03b5    2     0\n",
       "  efe254567b25bc01e9aac7dd1aeb17c5    2     0\n",
       "  effc72a2939cb877aad3c0b5d158c6f0    2     0\n",
       "  f026a9893460afffdec900f2730da859    2     0\n",
       "  f033b6b92644ad10fc435030bf4d44a3    2     0\n",
       "  f093953a9bfb2b148187d9a231b79baf    4     0\n",
       "  f094fa886be800d3c0cce971b17468ce    2     0\n",
       "  f11cb84362e2d4dca1fe14aeb45c91a5    2     0\n",
       "  f12f5cd62810e92d69bc4c1e62f1221d    1     1\n",
       "  f13c6a8f0d6d62595d06eed4a1482f11    2     0\n",
       "  f1413a76f4b5b8e714607ab18603e52f    0     2\n",
       "  f14426a268defe6a17be6d5e50de21fd    2     0\n",
       "  f14c5b617ea7e0feb5a6d9addd5134c2    2     0\n",
       "  f19cbbebc1586267357c4f390ab8bfb1    2     0\n",
       "  f1d271bec9065ec8616370ad02060e3c    1     1\n",
       "  f1d2eb7255650f033f3c001be59ee720    2     0\n",
       "  f1e114762d7ef66cafbef48c32e37416    2     0\n",
       "  f21ab7fe680679d24c0fc3b2ee860738    2     0\n",
       "  f2297582abe4dbb8ae1d405c862ff409    3     0\n",
       "  f229f3aedc296646fc2653d39cffebbd    3     0\n",
       "  f29fdb2d4f541d73a08abd400ce52f4c    2     0\n",
       "  f2a65b2c4813912d361e42a3908cc67b    0     2\n",
       "  f2a7a308a71053602de61f6daad96551    2     0\n",
       "  f2aa36f0b1b104e8d1144df72dd58b50    2     0\n",
       "  f2ba37660ccc9787ecf68ed653910d7f    0     2\n",
       "  f2bcd555f1d99a9f804843319621e8da    2     0\n",
       "  f2c40784fa54784b85febd7d5980f1ea    2     0\n",
       "  f2ca55122963240dd36ae3ea58cfdef0    0     2\n",
       "  f2cd5ca5931256488af4f2dae408bed8    2     0\n",
       "  f2e8b9d16b61c81e14091db53f477f73    0     2\n",
       "  f30799fd76b3873a2993fa392a10ed5e    2     0\n",
       "  f3448a5efc611aa9f9b5c835c567331b    0     2\n",
       "  f34d0169e809084c8424164ec4d1c3c6    2     0\n",
       "  f39e96cae9a08952222e6f95a530be19    2     0\n",
       "  f3e3a3c2d2406d3a0a96e550df25fda9    2     0\n",
       "  f40b1176cad3417ed17e4195bb32e7e3    2     0\n",
       "  f42b951c74121cec6439270f8be67207    2     0\n",
       "  f44e5b5ef9d94b4bc4942f588e1703e8    2     0\n",
       "  f45cdec52c9986951154c4136c6a4f51    2     0\n",
       "  f4a168cff567276fe937c60e7f571330    4     0\n",
       "  f4b53e11236e6621e968f0c855ea4458    2     0\n",
       "  f4cc731178e19ec2a6b6c37eb43e0fc0    2     0\n",
       "  f518025f1fdc9a3dc86ade79d4e713c1    0     2\n",
       "  f530998c7a5e925e4104be60167b8de9    2     0\n",
       "  f541b66959fd73d99f0c0f26dda7092c    2     0\n",
       "  f565110f8a30576ce4d009f0ffff7023    2     0\n",
       "  f56fed64be3f8d8eb369524b76f3c2c5    2     0\n",
       "  f57d906f9a91d8a87384667162ee400d    2     0\n",
       "  f597bacfe43930105f5ae1ef22ff35cf    0     2\n",
       "  f617173301667ca579b49bf10f05c189    2     0\n",
       "  f6562d1d361b4efbebe8155874464dd2    2     0\n",
       "  f66f0eddb5f68259f46087bb071367b8    2     0\n",
       "  f66f19a1d88f07cd40569e060327912f    2     0\n",
       "  f6c1cdca5d197786753217c53ad15f9b    2     0\n",
       "  f6fa678e989b57e71f28c0542ccbaafa    2     0\n",
       "  f756701813f34a7598c0a556992d59b4    2     0\n",
       "  f75bc0cc4cb0e3b4d3bdb641953cc515    2     0\n",
       "  f763ea61581ce4959a505ab2fdd33c7e    2     0\n",
       "  f78ab84d5207a8cdaa3a4661e28d95d8    2     0\n",
       "  f7cad6cd7e9d44bbd89a2fcb0562f2bb    2     0\n",
       "  f7e98b83db425f3fd2438f10dca384d8    2     0\n",
       "  f803c8411af360ca38ea2ff62972b0a9    0     2\n",
       "  f80582f5ff9cdda9d5bb8b3f91359328    1     1\n",
       "  f83771128ade2c1087eb514d8fc08e6f    0     2\n",
       "  f853311a791c3f4e9e85874cb296d5f0    2     0\n",
       "  f85bc66cdf8eb981d0fa8e161fa4311c    1     1\n",
       "  f86d83fe6f8547d24cd6e0c7ad017c37    2     0\n",
       "  f888ddd10ab2c4d91245787c9c86c2b4    2     0\n",
       "  f895a0cd78dea1e46468ffdb9a103aff    1     1\n",
       "  f8970ae5a896923b9ca96c858580579d    2     0\n",
       "  f89b48502420880a0962d07896ff7e74    2     0\n",
       "  f8eadfe347aa87f90ab3bfa9429bd8d9    0     2\n",
       "  f90d7dc970cf65fb60c15ceb480207d1    0     2\n",
       "  f91691432284a8f1886e42d91af9b23b    2     0\n",
       "  f928bfd091c2338a84d7ca9c5da6c85a    2     0\n",
       "  f996959bc94b3954b5cbab5d72cfecf2    2     0\n",
       "  f99f9d152a34fb46c548dac5430146eb    0     2\n",
       "  f9fe4a2bd43b8c7b48a6ee219303e17f    2     0\n",
       "  fa167aa1f1edc6a8faefb74b9165486c    3     0\n",
       "  fa4f105af92dde8f1d3116ef5ed11018    2     0\n",
       "  fa6698048b5a3bfa318e452573188d2d    0     2\n",
       "  fa71d45b502f2fd6dc2c18e8efcebb06    2     0\n",
       "  fa7a4564144f2ad799e58eca59278974    2     0\n",
       "  fac6525b6a9584e5e7b6042e0a88e418    0     2\n",
       "  faca07d3ec99189792c3003eefa1875c    4     0\n",
       "  fb1b3de2e8651aaa43176d1fc84b7093    2     0\n",
       "  fb57e6b118a137e2436a8db9eff01d8d    2     0\n",
       "  fb590ba6cd4fb38cad1ab26ae47f6947    2     0\n",
       "  fb80693322d8f70f04de8ebe68600386    2     0\n",
       "  fb9e28944fe7140f1d1d6b0b004119cc    0     2\n",
       "  fbbc93182ebbdfe9fbf00e7965b90c7a    2     0\n",
       "  fbbf9bd47f75f0c04b8d53d8a1f2957c    2     0\n",
       "  fc25a6c964f465329805d487610b0383    2     0\n",
       "  fc66ac12bc9ee18f372f9655d1a4c38b    2     0\n",
       "  fc7add74f7e1103066022040ab89fc33    2     0\n",
       "  fc7c0c72801ae0271a1ea9840fcc5714    0     2\n",
       "  fc90e41cc8be2319566a438695efe366    0     2\n",
       "  fc96971a683d9829c8bc87cd185d5d81    2     0\n",
       "  fcae86171f2d8a89d7797ec1ab1aa370    2     0\n",
       "  fce57df53a357988a0beeb9d1b7c2c09    2     0\n",
       "  fd14e0c9f5added5d6292af4839c2cb8    2     0\n",
       "  fd3b2bf47e5d5305b1ad6a5337d81987    2     0\n",
       "  fd5beee9497abb188ecb72e941624d04    0     2\n",
       "  fd6af63bf892e4019694eae29a94d6a3    2     0\n",
       "  fd9fdb01267d9be94bc728c424593298    2     0\n",
       "  fdc17215b2196edc4cc2856b6f150831    2     0\n",
       "  fe0a26779d50c40405d7cd758ce8b643    2     0\n",
       "  fe1cd4186a7d99bc56856396d0a293fb    3     0\n",
       "  fe1da52f0b56c0b8f58d87af9f4dfce7    2     0\n",
       "  fe4077e08ddc9e4f95c31070c44ba274    2     0\n",
       "  fe531a3960dbda02fd2e30d7a9ec3d74    0     2\n",
       "  fe5a103cc7fa3f20c8463e407aca3fc9    2     0\n",
       "  fe855703d555e5692c5a29502e8f88a2    0     3\n",
       "  fe9bbd408624ac4350baad164226121b    2     0\n",
       "  fead2157419a185f34c69f336f03b7d0    2     0\n",
       "  fec2d89c59671486f87d2131f80f776f    2     0\n",
       "  ff99501e9204831ce27a9a285d27b14e    2     0\n",
       "  ffa40f81ce75b21915fa7da7fd0c3774    2     0\n",
       "  ffbd1ba9559b3c32a53aee05cd76fcb3    0     2\n",
       "  ffbfa559c52613c0e24640e4dc9686a9    2     0\n",
       "  ffc37aff16d11bba5bf199fc64d805f1    2     0\n",
       "  ffc3a3916d34419edcb84d0f44abf38f    0     2"
      ]
     },
     "metadata": {},
     "output_type": "display_data"
    }
   ],
   "source": [
    "duplicatesSummary <- table(duplicates$md5sum, duplicates$dataset)\n",
    "duplicatesSummary"
   ]
  },
  {
   "cell_type": "code",
   "execution_count": 138,
   "metadata": {
    "collapsed": true
   },
   "outputs": [],
   "source": [
    "write.csv(duplicates,        \"duplicates-Kaggle-Speech-Recognition-Inventory.csv\", row.names=FALSE)\n",
    "write.csv(duplicatesSummary, \"duplicates-Summary.csv\")"
   ]
  },
  {
   "cell_type": "code",
   "execution_count": null,
   "metadata": {
    "collapsed": true
   },
   "outputs": [],
   "source": []
  }
 ],
 "metadata": {
  "kernelspec": {
   "display_name": "R 340",
   "language": "R",
   "name": "ir340"
  },
  "language_info": {
   "codemirror_mode": "r",
   "file_extension": ".r",
   "mimetype": "text/x-r-source",
   "name": "R",
   "pygments_lexer": "r",
   "version": "3.4.0"
  }
 },
 "nbformat": 4,
 "nbformat_minor": 2
}
