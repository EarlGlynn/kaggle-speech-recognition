{
 "cells": [
  {
   "cell_type": "markdown",
   "metadata": {},
   "source": [
    "Adapted from [Silence is Golden](https://www.kaggle.com/inversion/silence-is-golden) by *inversion*."
   ]
  },
  {
   "cell_type": "code",
   "execution_count": 1,
   "metadata": {
    "collapsed": true
   },
   "outputs": [],
   "source": [
    "baseDir = \"../../input\"\n",
    "\n",
    "import os\n",
    "from pathlib import Path\n",
    "import IPython.display as ipd"
   ]
  },
  {
   "cell_type": "code",
   "execution_count": 2,
   "metadata": {
    "collapsed": true
   },
   "outputs": [],
   "source": [
    "import numpy  as np  # linear algebra|\n",
    "import pandas as pd  # data processing, CSV file I/O (e.g. pd.read_csv)"
   ]
  },
  {
   "cell_type": "code",
   "execution_count": 3,
   "metadata": {},
   "outputs": [
    {
     "name": "stdout",
     "output_type": "stream",
     "text": [
      "_background_noise_\n",
      "sample_submission.7z\n",
      "sample_submission.csv\n",
      "test\n",
      "test.7z\n",
      "train\n",
      "train.7z\n",
      "\n"
     ]
    }
   ],
   "source": [
    "from subprocess import check_output\n",
    "print(check_output([\"ls\", baseDir]).decode(\"utf8\"))"
   ]
  },
  {
   "cell_type": "code",
   "execution_count": 4,
   "metadata": {},
   "outputs": [
    {
     "name": "stdout",
     "output_type": "stream",
     "text": [
      "LICENSE\n",
      "README.md\n",
      "audio\n",
      "testing_list.txt\n",
      "validation_list.txt\n",
      "\n"
     ]
    }
   ],
   "source": [
    "print(check_output([\"ls\", baseDir + \"/train\"]).decode(\"utf8\"))"
   ]
  },
  {
   "cell_type": "code",
   "execution_count": 5,
   "metadata": {},
   "outputs": [
    {
     "name": "stdout",
     "output_type": "stream",
     "text": [
      "['bed', 'bird', 'cat', 'dog', 'down', 'eight', 'five', 'four', 'go', 'happy', 'house', 'left', 'marvin', 'nine', 'no', 'off', 'on', 'one', 'right', 'seven', 'sheila', 'six', 'stop', 'three', 'tree', 'two', 'up', 'wow', 'yes', 'zero']\n"
     ]
    }
   ],
   "source": [
    "folders = os.listdir(path=baseDir + '/train/audio')\n",
    "print(folders)"
   ]
  },
  {
   "cell_type": "code",
   "execution_count": 6,
   "metadata": {},
   "outputs": [
    {
     "name": "stdout",
     "output_type": "stream",
     "text": [
      "Number of labels: 30\n",
      "(64721, 2)\n",
      "Wall time: 1.16 s\n"
     ]
    }
   ],
   "source": [
    "%%time\n",
    "train_audio_path = baseDir + '/train/audio'\n",
    "\n",
    "train_labels = os.listdir(train_audio_path)\n",
    "# train_labels.remove('_background_noise_')\n",
    "print(f'Number of labels: {len(train_labels)}')\n",
    "\n",
    "labels_to_keep = ['yes', 'no', 'up', 'down', 'left',\n",
    "                  'right', 'on', 'off', 'stop', 'go', 'silence']\n",
    "\n",
    "train_file_labels = dict()\n",
    "for label in train_labels:\n",
    "    files = os.listdir(train_audio_path + '/' + label)\n",
    "    for f in files:\n",
    "        train_file_labels[label + '/' + f] = label\n",
    "\n",
    "train = pd.DataFrame.from_dict(train_file_labels, orient='index')\n",
    "train = train.reset_index(drop=False)\n",
    "train = train.rename(columns={'index': 'file', 0: 'folder'})\n",
    "train = train[['folder', 'file']]\n",
    "train = train.sort_values('file')\n",
    "train = train.reset_index(drop=True)\n",
    "print(train.shape)\n",
    "\n",
    "def remove_label_from_file(label, fname):\n",
    "    return fname[len(label)+1:]\n",
    "\n",
    "train['file'] = train.apply(lambda x: remove_label_from_file(*x), axis=1)\n",
    "train['label'] = train['folder'].apply(lambda x: x if x in labels_to_keep else 'unknown')\n"
   ]
  },
  {
   "cell_type": "code",
   "execution_count": 7,
   "metadata": {},
   "outputs": [
    {
     "data": {
      "text/html": [
       "<div>\n",
       "<style>\n",
       "    .dataframe thead tr:only-child th {\n",
       "        text-align: right;\n",
       "    }\n",
       "\n",
       "    .dataframe thead th {\n",
       "        text-align: left;\n",
       "    }\n",
       "\n",
       "    .dataframe tbody tr th {\n",
       "        vertical-align: top;\n",
       "    }\n",
       "</style>\n",
       "<table border=\"1\" class=\"dataframe\">\n",
       "  <thead>\n",
       "    <tr style=\"text-align: right;\">\n",
       "      <th></th>\n",
       "      <th>folder</th>\n",
       "      <th>file</th>\n",
       "      <th>label</th>\n",
       "    </tr>\n",
       "  </thead>\n",
       "  <tbody>\n",
       "    <tr>\n",
       "      <th>61271</th>\n",
       "      <td>yes</td>\n",
       "      <td>918a2473_nohash_0.wav</td>\n",
       "      <td>yes</td>\n",
       "    </tr>\n",
       "    <tr>\n",
       "      <th>53774</th>\n",
       "      <td>two</td>\n",
       "      <td>24694eb6_nohash_1.wav</td>\n",
       "      <td>unknown</td>\n",
       "    </tr>\n",
       "    <tr>\n",
       "      <th>24500</th>\n",
       "      <td>left</td>\n",
       "      <td>f7b43563_nohash_3.wav</td>\n",
       "      <td>left</td>\n",
       "    </tr>\n",
       "    <tr>\n",
       "      <th>43936</th>\n",
       "      <td>sheila</td>\n",
       "      <td>9ab86dd0_nohash_0.wav</td>\n",
       "      <td>unknown</td>\n",
       "    </tr>\n",
       "    <tr>\n",
       "      <th>62419</th>\n",
       "      <td>zero</td>\n",
       "      <td>0b56bcfe_nohash_1.wav</td>\n",
       "      <td>unknown</td>\n",
       "    </tr>\n",
       "  </tbody>\n",
       "</table>\n",
       "</div>"
      ],
      "text/plain": [
       "       folder                   file    label\n",
       "61271     yes  918a2473_nohash_0.wav      yes\n",
       "53774     two  24694eb6_nohash_1.wav  unknown\n",
       "24500    left  f7b43563_nohash_3.wav     left\n",
       "43936  sheila  9ab86dd0_nohash_0.wav  unknown\n",
       "62419    zero  0b56bcfe_nohash_1.wav  unknown"
      ]
     },
     "execution_count": 7,
     "metadata": {},
     "output_type": "execute_result"
    }
   ],
   "source": [
    "train.sample(5)"
   ]
  },
  {
   "cell_type": "code",
   "execution_count": 8,
   "metadata": {},
   "outputs": [
    {
     "data": {
      "text/plain": [
       "'../../input/train/audio/house/61e50f62_nohash_1.wav'"
      ]
     },
     "execution_count": 8,
     "metadata": {},
     "output_type": "execute_result"
    }
   ],
   "source": [
    "train_audio_path + '/house/61e50f62_nohash_1.wav'"
   ]
  },
  {
   "cell_type": "code",
   "execution_count": 9,
   "metadata": {},
   "outputs": [
    {
     "data": {
      "text/html": [
       "\n",
       "                <audio controls=\"controls\" >\n",
       "                    <source src=\"data:audio/wav;base64,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\" type=\"audio/wav\" />\n",
       "                    Your browser does not support the audio element.\n",
       "                </audio>\n",
       "              "
      ],
      "text/plain": [
       "<IPython.lib.display.Audio object>"
      ]
     },
     "execution_count": 9,
     "metadata": {},
     "output_type": "execute_result"
    }
   ],
   "source": [
    "ipd.Audio('D:/Kaggle/2017/Speech-Recognition/input/train/audio/house/61e50f62_nohash_1.wav')"
   ]
  },
  {
   "cell_type": "code",
   "execution_count": 10,
   "metadata": {},
   "outputs": [],
   "source": [
    "sample_submission = pd.read_csv(baseDir + '/sample_submission.csv', index_col='fname')\n",
    "sample_submission['label'] = 'silence'\n",
    "sample_submission.to_csv('silence_is_golden.csv')"
   ]
  },
  {
   "cell_type": "code",
   "execution_count": 11,
   "metadata": {},
   "outputs": [
    {
     "data": {
      "text/html": [
       "<div>\n",
       "<style>\n",
       "    .dataframe thead tr:only-child th {\n",
       "        text-align: right;\n",
       "    }\n",
       "\n",
       "    .dataframe thead th {\n",
       "        text-align: left;\n",
       "    }\n",
       "\n",
       "    .dataframe tbody tr th {\n",
       "        vertical-align: top;\n",
       "    }\n",
       "</style>\n",
       "<table border=\"1\" class=\"dataframe\">\n",
       "  <thead>\n",
       "    <tr style=\"text-align: right;\">\n",
       "      <th></th>\n",
       "      <th>label</th>\n",
       "    </tr>\n",
       "    <tr>\n",
       "      <th>fname</th>\n",
       "      <th></th>\n",
       "    </tr>\n",
       "  </thead>\n",
       "  <tbody>\n",
       "    <tr>\n",
       "      <th>clip_000044442.wav</th>\n",
       "      <td>silence</td>\n",
       "    </tr>\n",
       "    <tr>\n",
       "      <th>clip_0000adecb.wav</th>\n",
       "      <td>silence</td>\n",
       "    </tr>\n",
       "    <tr>\n",
       "      <th>clip_0000d4322.wav</th>\n",
       "      <td>silence</td>\n",
       "    </tr>\n",
       "    <tr>\n",
       "      <th>clip_0000fb6fe.wav</th>\n",
       "      <td>silence</td>\n",
       "    </tr>\n",
       "    <tr>\n",
       "      <th>clip_0001d1559.wav</th>\n",
       "      <td>silence</td>\n",
       "    </tr>\n",
       "  </tbody>\n",
       "</table>\n",
       "</div>"
      ],
      "text/plain": [
       "                      label\n",
       "fname                      \n",
       "clip_000044442.wav  silence\n",
       "clip_0000adecb.wav  silence\n",
       "clip_0000d4322.wav  silence\n",
       "clip_0000fb6fe.wav  silence\n",
       "clip_0001d1559.wav  silence"
      ]
     },
     "execution_count": 11,
     "metadata": {},
     "output_type": "execute_result"
    }
   ],
   "source": [
    "sample_submission.head()"
   ]
  }
 ],
 "metadata": {
  "kernelspec": {
   "display_name": "Python [conda env:python3]",
   "language": "python",
   "name": "conda-env-python3-py"
  },
  "language_info": {
   "codemirror_mode": {
    "name": "ipython",
    "version": 3
   },
   "file_extension": ".py",
   "mimetype": "text/x-python",
   "name": "python",
   "nbconvert_exporter": "python",
   "pygments_lexer": "ipython3",
   "version": "3.6.3"
  }
 },
 "nbformat": 4,
 "nbformat_minor": 2
}
